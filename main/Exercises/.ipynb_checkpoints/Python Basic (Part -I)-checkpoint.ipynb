{
 "cells": [
  {
   "cell_type": "raw",
   "metadata": {},
   "source": [
    "1. Write a Python program to print the following string in a specific format (see the output). Go to the editor\n",
    "Sample String : \"Twinkle, twinkle, little star, How I wonder what you are! Up above the world so high, Like a diamond in the sky. Twinkle, twinkle, little star, How I wonder what you are\" Output :\n",
    "\n",
    "Twinkle, twinkle, little star,\n",
    "\tHow I wonder what you are! \n",
    "\t\tUp above the world so high,   \t\t\n",
    "\t\tLike a diamond in the sky. \n",
    "Twinkle, twinkle, little star, \n",
    "\tHow I wonder what you are"
   ]
  },
  {
   "cell_type": "code",
   "execution_count": 2,
   "metadata": {},
   "outputs": [
    {
     "name": "stdout",
     "output_type": "stream",
     "text": [
      "Twinkle, twinkle, little star,\n",
      "\tHow I wonder what you are!\n",
      "\t\tUp above the world so high,\n",
      "\t\tLike a diamond in the sky.\n",
      "Twinkle, twinkle, little star,\n",
      "\tHow I wonder what you are\n"
     ]
    }
   ],
   "source": [
    "print(\"Twinkle, twinkle, little star,\\n\\tHow I wonder what you are!\\n\\t\\tUp above the world so high,\\n\\t\\tLike a diamond in the sky.\\nTwinkle, twinkle, little star,\\n\\tHow I wonder what you are\")"
   ]
  },
  {
   "cell_type": "raw",
   "metadata": {},
   "source": [
    "2. Write a Python program to get the Python version you are using."
   ]
  },
  {
   "cell_type": "code",
   "execution_count": 3,
   "metadata": {},
   "outputs": [
    {
     "name": "stdout",
     "output_type": "stream",
     "text": [
      "Python 3.8.5\n"
     ]
    }
   ],
   "source": [
    "!python --version"
   ]
  },
  {
   "cell_type": "raw",
   "metadata": {},
   "source": [
    "3. Write a Python program to display the current date and time.\n",
    "Sample Output :\n",
    "Current date and time :\n",
    "2014-07-05 14:34:14"
   ]
  },
  {
   "cell_type": "code",
   "execution_count": 29,
   "metadata": {},
   "outputs": [
    {
     "name": "stdout",
     "output_type": "stream",
     "text": [
      "Current date and time :\n",
      "2021-02-16 08:51:22\n"
     ]
    }
   ],
   "source": [
    "import datetime as dt\n",
    "now = dt.datetime.now()\n",
    "print(\"Current date and time :\")\n",
    "print(now.strftime('%Y-%m-%d %H:%M:%S'))"
   ]
  },
  {
   "cell_type": "raw",
   "metadata": {},
   "source": [
    "4. Write a Python program which accepts the radius of a circle from the user and compute the area. Go to the editor\n",
    "Sample Output :\n",
    "r = 1.1\n",
    "Area = 3.8013271108436504"
   ]
  },
  {
   "cell_type": "code",
   "execution_count": 33,
   "metadata": {},
   "outputs": [
    {
     "name": "stdout",
     "output_type": "stream",
     "text": [
      "r = 1.1\n",
      "Area = 3.8013271108436504\n"
     ]
    }
   ],
   "source": [
    "import math\n",
    "def circle_area(radius):\n",
    "    return math.pi * radius ** 2\n",
    "r = 1.1\n",
    "print(f\"r = {r}\")\n",
    "print(f\"Area = {circle_area(r)}\")"
   ]
  },
  {
   "cell_type": "raw",
   "metadata": {},
   "source": [
    "5. Write a Python program which accepts the user's first and last name and print them in reverse order with a space between them."
   ]
  },
  {
   "cell_type": "code",
   "execution_count": 3,
   "metadata": {},
   "outputs": [
    {
     "name": "stdout",
     "output_type": "stream",
     "text": [
      "First Name : Ameen\n",
      "Last Name : Hashir\n",
      "Hashir Ameen\n"
     ]
    }
   ],
   "source": [
    "first_name = input(\"First Name : \")\n",
    "last_name = input(\"Last Name : \")\n",
    "print(last_name+' '+first_name)"
   ]
  },
  {
   "cell_type": "raw",
   "metadata": {},
   "source": [
    "6. Write a Python program which accepts a sequence of comma-separated numbers from user and generate a list and a tuple with those numbers. Go to the editor\n",
    "Sample data : 3, 5, 7, 23\n",
    "Output :\n",
    "List : ['3', ' 5', ' 7', ' 23']\n",
    "Tuple : ('3', ' 5', ' 7', ' 23')"
   ]
  },
  {
   "cell_type": "code",
   "execution_count": 5,
   "metadata": {},
   "outputs": [
    {
     "name": "stdout",
     "output_type": "stream",
     "text": [
      "Enter Numbers separated by Commas : 2,3,2,6,7,4,5\n",
      "List :  ['2', '3', '2', '6', '7', '4', '5']\n",
      "Tuple :  ('2', '3', '2', '6', '7', '4', '5')\n"
     ]
    }
   ],
   "source": [
    "num = input(\"Enter Numbers separated by Commas : \")\n",
    "num_list = list(num.split(\",\"))\n",
    "num_tuple = tuple(num.split(\",\"))\n",
    "print('List : ',num_list)\n",
    "print('Tuple : ',num_tuple)"
   ]
  },
  {
   "cell_type": "raw",
   "metadata": {},
   "source": [
    "7. Write a Python program to accept a filename from the user and print the extension of that. Go to the editor\n",
    "Sample filename : abc.java\n",
    "Output : java"
   ]
  },
  {
   "cell_type": "code",
   "execution_count": 10,
   "metadata": {},
   "outputs": [
    {
     "name": "stdout",
     "output_type": "stream",
     "text": [
      "Enter File name with extension : abc.java\n",
      "Output :  'java'\n",
      "Output : 'java'\n",
      "Output : java\n"
     ]
    }
   ],
   "source": [
    "filename = input(\"Enter File name with extension : \")\n",
    "extn = filename.split(\".\")[-1]\n",
    "print('Output : ',repr(extn))\n",
    "print('Output : %r' %extn)\n",
    "print('Output : %s' %extn)"
   ]
  },
  {
   "cell_type": "markdown",
   "metadata": {},
   "source": [
    "#### Python, repr() returns a string that holds a printable representation of an object."
   ]
  },
  {
   "cell_type": "raw",
   "metadata": {},
   "source": [
    "8. Write a Python program to display the first and last colors from the following list. Go to the editor\n",
    "color_list = [\"Red\",\"Green\",\"White\" ,\"Black\"]"
   ]
  },
  {
   "cell_type": "code",
   "execution_count": 12,
   "metadata": {},
   "outputs": [
    {
     "name": "stdout",
     "output_type": "stream",
     "text": [
      "Red\n",
      "Black\n"
     ]
    }
   ],
   "source": [
    "color_list = [\"Red\",\"Green\",\"White\" ,\"Black\"]\n",
    "print(color_list[0])\n",
    "print(color_list[-1])"
   ]
  },
  {
   "cell_type": "raw",
   "metadata": {},
   "source": [
    "9. Write a Python program to display the examination schedule. (extract the date from exam_st_date). Go to the editor\n",
    "exam_st_date = (11, 12, 2014)\n",
    "Sample Output : The examination will start from : 11 / 12 / 2014"
   ]
  },
  {
   "cell_type": "code",
   "execution_count": 25,
   "metadata": {},
   "outputs": [
    {
     "name": "stdout",
     "output_type": "stream",
     "text": [
      "The examination will start from : 11/12/2014\n"
     ]
    }
   ],
   "source": [
    "import datetime as dt\n",
    "exam_st_date = (11, 12, 2014)\n",
    "print('The examination will start from : %i/%i/%i' %exam_st_date)"
   ]
  },
  {
   "cell_type": "raw",
   "metadata": {},
   "source": [
    "10. Write a Python program that accepts an integer (n) and computes the value of n+nn+nnn. Go to the editor\n",
    "Sample value of n is 5\n",
    "Expected Result : 615"
   ]
  },
  {
   "cell_type": "code",
   "execution_count": 32,
   "metadata": {},
   "outputs": [
    {
     "name": "stdout",
     "output_type": "stream",
     "text": [
      "value of n is 5\n",
      "Result :  615\n"
     ]
    }
   ],
   "source": [
    "n = input(\"value of n is \")\n",
    "val = int(n)+int(n + n)+int(n + n + n)\n",
    "print('Result : ',val)"
   ]
  },
  {
   "cell_type": "code",
   "execution_count": 33,
   "metadata": {},
   "outputs": [
    {
     "name": "stdout",
     "output_type": "stream",
     "text": [
      "Input an integer : 5\n",
      "615\n"
     ]
    }
   ],
   "source": [
    "a = int(input(\"Input an integer : \"))\n",
    "n1 = int( \"%s\" % a )\n",
    "n2 = int( \"%s%s\" % (a,a) )\n",
    "n3 = int( \"%s%s%s\" % (a,a,a) )\n",
    "print (n1+n2+n3)"
   ]
  },
  {
   "cell_type": "raw",
   "metadata": {},
   "source": [
    "11. Write a Python program to print the documents (syntax, description etc.) of Python built-in function(s).\n",
    "Sample function : abs()\n",
    "Expected Result :\n",
    "abs(number) -> number\n",
    "Return the absolute value of the argument."
   ]
  },
  {
   "cell_type": "code",
   "execution_count": 38,
   "metadata": {},
   "outputs": [
    {
     "name": "stdout",
     "output_type": "stream",
     "text": [
      "Return the absolute value of the argument.\n"
     ]
    }
   ],
   "source": [
    "print(abs.__doc__)"
   ]
  },
  {
   "cell_type": "raw",
   "metadata": {},
   "source": [
    "12. Write a Python program to print the calendar of a given month and year.\n",
    "Note : Use 'calendar' module."
   ]
  },
  {
   "cell_type": "code",
   "execution_count": 48,
   "metadata": {},
   "outputs": [
    {
     "name": "stdout",
     "output_type": "stream",
     "text": [
      "Enter Year : 2015\n",
      "Enter month(mm) : 1\n",
      "    January 2015\n",
      "Mo Tu We Th Fr Sa Su\n",
      "          1  2  3  4\n",
      " 5  6  7  8  9 10 11\n",
      "12 13 14 15 16 17 18\n",
      "19 20 21 22 23 24 25\n",
      "26 27 28 29 30 31\n",
      "\n"
     ]
    }
   ],
   "source": [
    "import calendar as c\n",
    "year = int(input('Enter Year : '))\n",
    "month = int(input('Enter month(mm) : '))\n",
    "print(c.month(year,month))"
   ]
  },
  {
   "cell_type": "raw",
   "metadata": {},
   "source": [
    "13. Write a Python program to print the following here document.\n",
    "Sample string :\n",
    "a string that you \"don't\" have to escape\n",
    "This\n",
    "is a ....... multi-line\n",
    "heredoc string --------> example"
   ]
  },
  {
   "cell_type": "code",
   "execution_count": 50,
   "metadata": {},
   "outputs": [
    {
     "name": "stdout",
     "output_type": "stream",
     "text": [
      "a string that you \"don't\" have to escape\n",
      "This\n",
      "is a ....... multi-line\n",
      "heredoc string --------> example\n"
     ]
    }
   ],
   "source": [
    "print(\"\"\"a string that you \"don't\" have to escape\n",
    "This\n",
    "is a ....... multi-line\n",
    "heredoc string --------> example\"\"\")"
   ]
  },
  {
   "cell_type": "raw",
   "metadata": {},
   "source": [
    "14. Write a Python program to calculate number of days between two dates.\n",
    "Sample dates : (2014, 7, 2), (2014, 7, 11)\n",
    "Expected output : 9 days"
   ]
  },
  {
   "cell_type": "code",
   "execution_count": 57,
   "metadata": {},
   "outputs": [
    {
     "name": "stdout",
     "output_type": "stream",
     "text": [
      "9\n"
     ]
    }
   ],
   "source": [
    "import datetime as dt\n",
    "dates = [(2014, 7, 2), (2014, 7, 11)]\n",
    "diff = dt.date(dates[1][0],dates[1][1],dates[1][2]) - dt.date(dates[0][0],dates[0][1],dates[0][2])\n",
    "print(diff.days)"
   ]
  },
  {
   "cell_type": "raw",
   "metadata": {},
   "source": [
    "15. Write a Python program to get the volume of a sphere with radius 6."
   ]
  },
  {
   "cell_type": "code",
   "execution_count": 59,
   "metadata": {},
   "outputs": [
    {
     "name": "stdout",
     "output_type": "stream",
     "text": [
      "904.7786842338603\n"
     ]
    }
   ],
   "source": [
    "import math\n",
    "r = 6\n",
    "v= (4/3) * math.pi * r **3\n",
    "print(v)"
   ]
  },
  {
   "cell_type": "raw",
   "metadata": {},
   "source": [
    "16. Write a Python program to get the difference between a given number and 17, if the number is greater than 17 return double the absolute difference."
   ]
  },
  {
   "cell_type": "code",
   "execution_count": 63,
   "metadata": {},
   "outputs": [
    {
     "name": "stdout",
     "output_type": "stream",
     "text": [
      "Enter a number : 30\n",
      "26\n"
     ]
    }
   ],
   "source": [
    "number = int(input(\"Enter a number : \"))\n",
    "diff = number - 17\n",
    "if diff > 0 :\n",
    "    print(diff * 2)\n",
    "else:\n",
    "     print(abs(diff))"
   ]
  },
  {
   "cell_type": "raw",
   "metadata": {},
   "source": [
    "17. Write a Python program to test whether a number is within 100 of 1000 or 2000."
   ]
  },
  {
   "cell_type": "code",
   "execution_count": 66,
   "metadata": {},
   "outputs": [
    {
     "name": "stdout",
     "output_type": "stream",
     "text": [
      "Enter a number : 200\n"
     ]
    },
    {
     "data": {
      "text/plain": [
       "False"
      ]
     },
     "execution_count": 66,
     "metadata": {},
     "output_type": "execute_result"
    }
   ],
   "source": [
    "def number_with_in_100(number):\n",
    "    return abs(number-1000) <= 100 or abs(number-2000) <= 100\n",
    "\n",
    "number = int(input(\"Enter a number : \"))\n",
    "number_with_in_100(number)\n",
    "    "
   ]
  },
  {
   "cell_type": "raw",
   "metadata": {},
   "source": [
    "18. Write a Python program to calculate the sum of three given numbers, if the values are equal then return three times of their sum."
   ]
  },
  {
   "cell_type": "code",
   "execution_count": 67,
   "metadata": {},
   "outputs": [
    {
     "name": "stdout",
     "output_type": "stream",
     "text": [
      "16\n"
     ]
    }
   ],
   "source": [
    "a = 2\n",
    "b = 4\n",
    "c = 10\n",
    "if a==b==c:\n",
    "    print(a*3*3**2)\n",
    "else:\n",
    "    print(a+b+c)"
   ]
  },
  {
   "cell_type": "code",
   "execution_count": 69,
   "metadata": {},
   "outputs": [
    {
     "name": "stdout",
     "output_type": "stream",
     "text": [
      "36\n"
     ]
    }
   ],
   "source": [
    "a = 4\n",
    "b = 4\n",
    "c = 4\n",
    "if a==b==c:\n",
    "    print(a*3**2)\n",
    "else:\n",
    "    print(a+b+c)"
   ]
  },
  {
   "cell_type": "raw",
   "metadata": {},
   "source": [
    "19. Write a Python program to get a new string from a given string where \"Is\" has been added to the front. If the given string already begins with \"Is\" then return the string unchanged."
   ]
  },
  {
   "cell_type": "code",
   "execution_count": 75,
   "metadata": {},
   "outputs": [
    {
     "name": "stdout",
     "output_type": "stream",
     "text": [
      "Isindia\n",
      "isindia\n",
      "is\n"
     ]
    }
   ],
   "source": [
    "def prefix_is(text):\n",
    "    if text[:2].upper() == 'IS' and len(text) > 1:\n",
    "        return text\n",
    "    return 'Is' + text\n",
    "\n",
    "text = 'india'\n",
    "print(prefix_is(text))\n",
    "text = 'isindia'\n",
    "print(prefix_is(text))\n",
    "text = 'is'\n",
    "print(prefix_is(text))"
   ]
  },
  {
   "cell_type": "raw",
   "metadata": {},
   "source": [
    "21. Write a Python program to find whether a given number (accept from the user) is even or odd, print out an appropriate message to the user."
   ]
  },
  {
   "cell_type": "code",
   "execution_count": 77,
   "metadata": {},
   "outputs": [
    {
     "name": "stdout",
     "output_type": "stream",
     "text": [
      "Enter number :19\n",
      "Odd\n"
     ]
    }
   ],
   "source": [
    "def is_even(num):\n",
    "    return num%2==0\n",
    "\n",
    "num = int(input(\"Enter number :\"))\n",
    "if is_even(num):\n",
    "    print(\"Even\")\n",
    "else:\n",
    "    print('Odd')"
   ]
  },
  {
   "cell_type": "raw",
   "metadata": {},
   "source": [
    "22. Write a Python program to count the number 4 in a given list."
   ]
  },
  {
   "cell_type": "code",
   "execution_count": 80,
   "metadata": {},
   "outputs": [
    {
     "name": "stdout",
     "output_type": "stream",
     "text": [
      "2\n",
      "0\n"
     ]
    }
   ],
   "source": [
    "def count4(lst):\n",
    "    return lst.count(4)\n",
    "\n",
    "lst = [1,2,4,5,6,4]\n",
    "print(count4(lst))\n",
    "lst = [1,2,42,5,6,42]\n",
    "print(count4(lst))"
   ]
  },
  {
   "cell_type": "raw",
   "metadata": {},
   "source": [
    "23. Write a Python program to get the n (non-negative integer) copies of the first 2 characters of a given string. Return the n copies of the whole string if the length is less than 2."
   ]
  },
  {
   "cell_type": "code",
   "execution_count": 84,
   "metadata": {},
   "outputs": [
    {
     "name": "stdout",
     "output_type": "stream",
     "text": [
      "abab\n"
     ]
    }
   ],
   "source": [
    "def str_copies(st,n):\n",
    "    if len(st) < 3:\n",
    "        return st\n",
    "    else:\n",
    "        return st[:2]* n\n",
    "\n",
    "st = 'abcd'\n",
    "n=2\n",
    "print(str_copies(st,n))"
   ]
  },
  {
   "cell_type": "raw",
   "metadata": {},
   "source": [
    "24. Write a Python program to test whether a passed letter is a vowel or not."
   ]
  },
  {
   "cell_type": "code",
   "execution_count": 85,
   "metadata": {},
   "outputs": [
    {
     "name": "stdout",
     "output_type": "stream",
     "text": [
      "Enter a letter : i\n",
      "True\n"
     ]
    }
   ],
   "source": [
    "def check_vowel(st):\n",
    "    vowel=['a','e','i','o','u']\n",
    "    return st in vowel\n",
    "\n",
    "st = input('Enter a letter : ')\n",
    "print(check_vowel(st))"
   ]
  },
  {
   "cell_type": "code",
   "execution_count": 86,
   "metadata": {},
   "outputs": [
    {
     "name": "stdout",
     "output_type": "stream",
     "text": [
      "Enter a letter : i\n",
      "True\n"
     ]
    }
   ],
   "source": [
    "def check_vowel(st):\n",
    "    vowel='aeiou'\n",
    "    return st in vowel\n",
    "\n",
    "st = input('Enter a letter : ')\n",
    "print(check_vowel(st))"
   ]
  },
  {
   "cell_type": "raw",
   "metadata": {},
   "source": [
    "25. Write a Python program to check whether a specified value is contained in a group of values. Go to the editor\n",
    "Test Data :\n",
    "3 -> [1, 5, 8, 3] : True\n",
    "-1 -> [1, 5, 8, 3] : False"
   ]
  },
  {
   "cell_type": "code",
   "execution_count": 89,
   "metadata": {},
   "outputs": [
    {
     "name": "stdout",
     "output_type": "stream",
     "text": [
      "True\n",
      "False\n"
     ]
    }
   ],
   "source": [
    "l = [1, 5, 8, 3]\n",
    "v = 3\n",
    "print(v in l)\n",
    "v = -1\n",
    "print(v in l)"
   ]
  },
  {
   "cell_type": "raw",
   "metadata": {},
   "source": [
    "26. Write a Python program to create a histogram from a given list of integers."
   ]
  },
  {
   "cell_type": "code",
   "execution_count": 92,
   "metadata": {},
   "outputs": [
    {
     "name": "stdout",
     "output_type": "stream",
     "text": [
      "@@@\n",
      "@@@@@\n",
      "@@@@\n",
      "@\n",
      "@@@@@@@\n"
     ]
    }
   ],
   "source": [
    "def histogram(lst):\n",
    "    for i in lst:\n",
    "        print('@' * i)\n",
    "\n",
    "lst = [3,5,4,1,7]\n",
    "histogram(lst)"
   ]
  },
  {
   "cell_type": "raw",
   "metadata": {},
   "source": [
    "27. Write a Python program to concatenate all elements in a list into a string and return it."
   ]
  },
  {
   "cell_type": "code",
   "execution_count": 98,
   "metadata": {},
   "outputs": [
    {
     "name": "stdout",
     "output_type": "stream",
     "text": [
      "35417\n"
     ]
    }
   ],
   "source": [
    "def concat(lst):\n",
    "    st=''\n",
    "    for l in lst:\n",
    "        st += str(l)\n",
    "    return st\n",
    "\n",
    "lst = [3,5,4,1,7]\n",
    "print(concat(lst))"
   ]
  },
  {
   "cell_type": "code",
   "execution_count": 106,
   "metadata": {},
   "outputs": [
    {
     "name": "stdout",
     "output_type": "stream",
     "text": [
      "35417\n"
     ]
    }
   ],
   "source": [
    "lst = [3,5,4,1,7]\n",
    "print(\"%s\" %\"\".join(map(str,lst)))"
   ]
  },
  {
   "cell_type": "raw",
   "metadata": {},
   "source": [
    "28. Write a Python program to print all even numbers from a given numbers list in the same order and stop the printing if any numbers that come after 237 in the sequence. Go to the editor\n",
    "Sample numbers list :\n",
    "\n",
    "numbers = [    \n",
    "    386, 462, 47, 418, 907, 344, 236, 375, 823, 566, 597, 978, 328, 615, 953, 345, \n",
    "    399, 162, 758, 219, 918, 237, 412, 566, 826, 248, 866, 950, 626, 949, 687, 217, \n",
    "    815, 67, 104, 58, 512, 24, 892, 894, 767, 553, 81, 379, 843, 831, 445, 742, 717, \n",
    "    958,743, 527\n",
    "    ]"
   ]
  },
  {
   "cell_type": "code",
   "execution_count": 109,
   "metadata": {},
   "outputs": [
    {
     "name": "stdout",
     "output_type": "stream",
     "text": [
      "[386, 462, 418, 344, 236, 566, 978, 328, 162, 758, 918]\n"
     ]
    }
   ],
   "source": [
    "def print_even(numbers):\n",
    "    new_list = []\n",
    "    for num in numbers:\n",
    "        if num%2==0:\n",
    "            new_list.append(num)\n",
    "        if num == 237:\n",
    "            break\n",
    "    return new_list\n",
    "\n",
    "numbers = [    \n",
    "    386, 462, 47, 418, 907, 344, 236, 375, 823, 566, 597, 978, 328, 615, 953, 345, \n",
    "    399, 162, 758, 219, 918, 237, 412, 566, 826, 248, 866, 950, 626, 949, 687, 217, \n",
    "    815, 67, 104, 58, 512, 24, 892, 894, 767, 553, 81, 379, 843, 831, 445, 742, 717, \n",
    "    958,743, 527\n",
    "    ]\n",
    "\n",
    "print(print_even(numbers))"
   ]
  },
  {
   "cell_type": "raw",
   "metadata": {},
   "source": [
    "29. Write a Python program to print out a set containing all the colors from color_list_1 which are not present in color_list_2. Go to the editor\n",
    "Test Data :\n",
    "color_list_1 = set([\"White\", \"Black\", \"Red\"])\n",
    "color_list_2 = set([\"Red\", \"Green\"])\n",
    "Expected Output :\n",
    "{'Black', 'White'}"
   ]
  },
  {
   "cell_type": "code",
   "execution_count": 115,
   "metadata": {},
   "outputs": [
    {
     "data": {
      "text/plain": [
       "{'Black', 'White'}"
      ]
     },
     "execution_count": 115,
     "metadata": {},
     "output_type": "execute_result"
    }
   ],
   "source": [
    "color_list_1 = set([\"White\", \"Black\", \"Red\"])\n",
    "color_list_2 = set([\"Red\", \"Green\"])\n",
    "color_list_1.difference(color_list_2)"
   ]
  },
  {
   "cell_type": "raw",
   "metadata": {},
   "source": [
    "30. Write a Python program that will accept the base and height of a triangle and compute the area"
   ]
  },
  {
   "cell_type": "code",
   "execution_count": 116,
   "metadata": {},
   "outputs": [
    {
     "name": "stdout",
     "output_type": "stream",
     "text": [
      "300.0\n"
     ]
    }
   ],
   "source": [
    "base = 20\n",
    "height = 30\n",
    "area = .5 * base * height\n",
    "print(area)"
   ]
  },
  {
   "cell_type": "raw",
   "metadata": {},
   "source": [
    "31. Write a Python program to compute the greatest common divisor (GCD) of two positive integers."
   ]
  },
  {
   "cell_type": "code",
   "execution_count": 133,
   "metadata": {},
   "outputs": [
    {
     "name": "stdout",
     "output_type": "stream",
     "text": [
      "10\n",
      "1\n",
      "2\n"
     ]
    }
   ],
   "source": [
    "def gcd(num1,num2):\n",
    "    if num2 > num1 :\n",
    "        num1,num2 = num2,num1\n",
    "    if num1%num2 == 0:\n",
    "        return num2\n",
    "    for k in range(num2//2,0,-1):\n",
    "        if num1 % k == 0 and num2 % k ==0:\n",
    "            return k\n",
    "    return None\n",
    "\n",
    "num1 = 10\n",
    "num2 = 20\n",
    "print(gcd(num1,num2))\n",
    "print(gcd(12, 17))\n",
    "print(gcd(4, 6))"
   ]
  },
  {
   "cell_type": "code",
   "execution_count": 132,
   "metadata": {},
   "outputs": [
    {
     "data": {
      "text/plain": [
       "[0]"
      ]
     },
     "execution_count": 132,
     "metadata": {},
     "output_type": "execute_result"
    }
   ],
   "source": [
    "[x for x in range(num1//num2,0,-1)]"
   ]
  },
  {
   "cell_type": "raw",
   "metadata": {},
   "source": [
    "32. Write a Python program to get the least common multiple (LCM) of two positive integers."
   ]
  },
  {
   "cell_type": "code",
   "execution_count": 126,
   "metadata": {},
   "outputs": [
    {
     "name": "stdout",
     "output_type": "stream",
     "text": [
      "20\n",
      "12\n",
      "255\n"
     ]
    }
   ],
   "source": [
    "def lcm(num1,num2):\n",
    "    if num2 > num1 :\n",
    "        num1,num2 = num2,num1\n",
    "    z = num1\n",
    "    while True:\n",
    "        if z % num1 == 0 and z % num2 ==0:\n",
    "            return z\n",
    "        z += 1\n",
    "num1 = 10\n",
    "num2 = 20\n",
    "print(lcm(num1,num2))        \n",
    "print(lcm(4, 6))\n",
    "print(lcm(15, 17))"
   ]
  },
  {
   "cell_type": "raw",
   "metadata": {},
   "source": [
    "33. Write a Python program to sum of three given integers. However, if two values are equal sum will be zero"
   ]
  },
  {
   "cell_type": "code",
   "execution_count": 135,
   "metadata": {},
   "outputs": [
    {
     "name": "stdout",
     "output_type": "stream",
     "text": [
      "6\n",
      "0\n"
     ]
    }
   ],
   "source": [
    "def sum_3(lst):\n",
    "    if lst[0] == lst[1] or lst[0] == lst[2] or lst[1] == lst[2]:\n",
    "        return 0\n",
    "    return sum(lst)\n",
    "\n",
    "lst = [1,2,3]\n",
    "print(sum_3(lst))\n",
    "lst = [2,2,2]\n",
    "print(sum_3(lst))"
   ]
  },
  {
   "cell_type": "raw",
   "metadata": {},
   "source": [
    "34. Write a Python program to sum of two given integers. However, if the sum is between 15 to 20 it will return 20."
   ]
  },
  {
   "cell_type": "code",
   "execution_count": 136,
   "metadata": {},
   "outputs": [
    {
     "name": "stdout",
     "output_type": "stream",
     "text": [
      "20\n"
     ]
    }
   ],
   "source": [
    "def sum(a,b):\n",
    "    s = a+b\n",
    "    if s>=15 and s <=20:\n",
    "        return 20\n",
    "    else:\n",
    "        return s\n",
    "    \n",
    "a = 10\n",
    "b = 5\n",
    "print(sum(a,b))"
   ]
  },
  {
   "cell_type": "raw",
   "metadata": {},
   "source": [
    "35. Write a Python program that will return true if the two given integer values are equal or their sum or difference is 5. "
   ]
  },
  {
   "cell_type": "code",
   "execution_count": 139,
   "metadata": {},
   "outputs": [
    {
     "name": "stdout",
     "output_type": "stream",
     "text": [
      "False\n",
      "True\n",
      "True\n"
     ]
    }
   ],
   "source": [
    "def func(a,b):\n",
    "    return a == b or a + b == 5 or abs(a-b) == 5\n",
    "print(func(10,29))\n",
    "print(func(10,10))\n",
    "print(func(10,15))"
   ]
  },
  {
   "cell_type": "raw",
   "metadata": {},
   "source": [
    "36. Write a Python program to add two objects if both objects are an integer type."
   ]
  },
  {
   "cell_type": "code",
   "execution_count": 143,
   "metadata": {},
   "outputs": [
    {
     "name": "stdout",
     "output_type": "stream",
     "text": [
      "None\n"
     ]
    }
   ],
   "source": [
    "def add(a,b):\n",
    "    if isinstance(a,int) and isinstance(b,int):\n",
    "        return a+b\n",
    "\n",
    "a = 1\n",
    "b = '2'\n",
    "print(add(a,b))\n"
   ]
  },
  {
   "cell_type": "raw",
   "metadata": {},
   "source": [
    "37. Write a Python program to display your details like name, age, address in three different lines."
   ]
  },
  {
   "cell_type": "code",
   "execution_count": 144,
   "metadata": {},
   "outputs": [
    {
     "name": "stdout",
     "output_type": "stream",
     "text": [
      "Name : Ameen\n",
      "Age : 12\n",
      "Address : Samari residence\n"
     ]
    }
   ],
   "source": [
    "name = 'Ameen'\n",
    "age = 12\n",
    "address = 'Samari residence'\n",
    "print(f\"Name : {name}\\nAge : {age}\\nAddress : {address}\")"
   ]
  },
  {
   "cell_type": "raw",
   "metadata": {},
   "source": [
    "38. Write a Python program to solve (x + y) * (x + y). Go to the editor\n",
    "Test Data : x = 4, y = 3\n",
    "Expected Output : (4 + 3) ^ 2) = 49"
   ]
  },
  {
   "cell_type": "code",
   "execution_count": 145,
   "metadata": {},
   "outputs": [
    {
     "name": "stdout",
     "output_type": "stream",
     "text": [
      "((4 + 3) ^ 2) = 49\n"
     ]
    }
   ],
   "source": [
    "x = 4\n",
    "y = 3\n",
    "print(\"(({} + {}) ^ 2) = {}\".format(x,y,(x+y)**2))"
   ]
  },
  {
   "cell_type": "raw",
   "metadata": {},
   "source": [
    "39. Write a Python program to compute the future value of a specified principal amount, rate of interest, and a number of years. Go to the editor\n",
    "Test Data : amt = 10000, int = 3.5, years = 7\n",
    "Expected Output : 12722.79"
   ]
  },
  {
   "cell_type": "code",
   "execution_count": 147,
   "metadata": {},
   "outputs": [
    {
     "name": "stdout",
     "output_type": "stream",
     "text": [
      "12722.792627665736\n"
     ]
    }
   ],
   "source": [
    "def future_value(amount,interest,years):\n",
    "    for i in range(1,years+1):\n",
    "         amount = amount + (amount * interest / 100) \n",
    "    return amount\n",
    "\n",
    "amt = 10000\n",
    "interest = 3.5\n",
    "years = 7\n",
    "print(future_value(amt,interest,years))   "
   ]
  },
  {
   "cell_type": "code",
   "execution_count": 148,
   "metadata": {},
   "outputs": [
    {
     "name": "stdout",
     "output_type": "stream",
     "text": [
      "12722.79\n"
     ]
    }
   ],
   "source": [
    "amt = 10000\n",
    "int = 3.5\n",
    "years = 7\n",
    "future_value  = amt*((1+(0.01*int)) ** years)\n",
    "print(round(future_value,2))"
   ]
  },
  {
   "cell_type": "raw",
   "metadata": {},
   "source": [
    "40. Write a Python program to compute the distance between the points (x1, y1) and (x2, y2)."
   ]
  },
  {
   "cell_type": "code",
   "execution_count": 153,
   "metadata": {},
   "outputs": [
    {
     "name": "stdout",
     "output_type": "stream",
     "text": [
      "6.324555320336759\n"
     ]
    }
   ],
   "source": [
    "point1 = [4, 0]\n",
    "point2 = [6, 6]\n",
    "xA = point1[0]\n",
    "xB = point2[0]\n",
    "yA = point1[1]\n",
    "yB = point2[1]\n",
    "c = ((xA - xB)**2 + (yA - yB)**2) ** .5\n",
    "print(c)"
   ]
  },
  {
   "cell_type": "raw",
   "metadata": {},
   "source": [
    "41. Write a Python program to check whether a file exists."
   ]
  },
  {
   "cell_type": "code",
   "execution_count": 154,
   "metadata": {},
   "outputs": [
    {
     "name": "stdout",
     "output_type": "stream",
     "text": [
      "False\n"
     ]
    }
   ],
   "source": [
    "import os\n",
    "print(os.path.isfile(\"abc.txt\"))"
   ]
  },
  {
   "cell_type": "code",
   "execution_count": 155,
   "metadata": {},
   "outputs": [
    {
     "name": "stdout",
     "output_type": "stream",
     "text": [
      "Writing abc.txt\n"
     ]
    }
   ],
   "source": [
    "%%writefile abc.txt\n",
    "test file"
   ]
  },
  {
   "cell_type": "code",
   "execution_count": 156,
   "metadata": {},
   "outputs": [
    {
     "name": "stdout",
     "output_type": "stream",
     "text": [
      "True\n"
     ]
    }
   ],
   "source": [
    "import os\n",
    "print(os.path.isfile(\"abc.txt\"))"
   ]
  },
  {
   "cell_type": "raw",
   "metadata": {},
   "source": [
    "42. Write a Python program to determine if a Python shell is executing in 32bit or 64bit mode on OS."
   ]
  },
  {
   "cell_type": "code",
   "execution_count": 159,
   "metadata": {},
   "outputs": [
    {
     "data": {
      "text/plain": [
       "64"
      ]
     },
     "execution_count": 159,
     "metadata": {},
     "output_type": "execute_result"
    }
   ],
   "source": [
    "import struct\n",
    "struct.calcsize(\"P\") * 8"
   ]
  },
  {
   "cell_type": "raw",
   "metadata": {},
   "source": [
    "43. Write a Python program to get OS name, platform and release information."
   ]
  },
  {
   "cell_type": "code",
   "execution_count": 162,
   "metadata": {},
   "outputs": [
    {
     "name": "stdout",
     "output_type": "stream",
     "text": [
      "nt\n",
      "Windows\n",
      "10\n"
     ]
    }
   ],
   "source": [
    "import os\n",
    "import platform\n",
    "print(os.name)\n",
    "print(platform.system())\n",
    "print(platform.release())"
   ]
  },
  {
   "cell_type": "raw",
   "metadata": {},
   "source": [
    "44. Write a Python program to locate Python site-packages."
   ]
  },
  {
   "cell_type": "markdown",
   "metadata": {},
   "source": [
    "site-packages is the target directory of manually built Python packages. When you build and install Python packages from source (using distutils, probably by executing python setup.py install), you will find the installed modules in site-packages by default.\n",
    "\n",
    "There are standard locations:\n",
    "\n",
    "Unix (pure)1: prefix/lib/pythonX.Y/site-packages\n",
    "Unix (non-pure): exec-prefix/lib/pythonX.Y/site-packages\n",
    "Windows: prefix\\Lib\\site-packages\n",
    "1 Pure means that the module uses only Python code. Non-pure can contain C/C++ code as well.\n",
    "\n",
    "site-packages is by default part of the Python search path, so modules installed there can be imported easily afterwards."
   ]
  },
  {
   "cell_type": "code",
   "execution_count": 164,
   "metadata": {},
   "outputs": [
    {
     "name": "stdout",
     "output_type": "stream",
     "text": [
      "['C:\\\\ProgramData\\\\Anaconda3', 'C:\\\\ProgramData\\\\Anaconda3\\\\lib\\\\site-packages']\n"
     ]
    }
   ],
   "source": [
    "import site\n",
    "print(site.getsitepackages())"
   ]
  },
  {
   "cell_type": "raw",
   "metadata": {},
   "source": [
    "45. Write a python program to call an external command in Python."
   ]
  },
  {
   "cell_type": "code",
   "execution_count": 168,
   "metadata": {},
   "outputs": [
    {
     "name": "stdout",
     "output_type": "stream",
     "text": [
      "Help on built-in function system in module nt:\n",
      "\n",
      "system(command)\n",
      "    Execute the command in a subshell.\n",
      "\n"
     ]
    }
   ],
   "source": [
    "import os\n",
    "help(os.system)"
   ]
  },
  {
   "cell_type": "code",
   "execution_count": 170,
   "metadata": {},
   "outputs": [
    {
     "data": {
      "text/plain": [
       "0"
      ]
     },
     "execution_count": 170,
     "metadata": {},
     "output_type": "execute_result"
    }
   ],
   "source": [
    "os.system('dir')"
   ]
  },
  {
   "cell_type": "code",
   "execution_count": 174,
   "metadata": {},
   "outputs": [
    {
     "data": {
      "text/plain": [
       "1"
      ]
     },
     "execution_count": 174,
     "metadata": {},
     "output_type": "execute_result"
    }
   ],
   "source": [
    "# Python program to explain os.system() method  \n",
    "      \n",
    "# importing os module  \n",
    "import os  \n",
    "  \n",
    "# Command to execute \n",
    "# Using Windows OS command \n",
    "cmd = 'pwd'\n",
    "  \n",
    "# Using os.system() method \n",
    "os.system(cmd) "
   ]
  },
  {
   "cell_type": "raw",
   "metadata": {},
   "source": [
    "46. Write a python program to get the path and name of the file that is currently executing. "
   ]
  },
  {
   "cell_type": "code",
   "execution_count": 179,
   "metadata": {},
   "outputs": [
    {
     "ename": "NameError",
     "evalue": "name '__file__' is not defined",
     "output_type": "error",
     "traceback": [
      "\u001b[1;31m---------------------------------------------------------------------------\u001b[0m",
      "\u001b[1;31mNameError\u001b[0m                                 Traceback (most recent call last)",
      "\u001b[1;32m<ipython-input-179-76e7fb529489>\u001b[0m in \u001b[0;36m<module>\u001b[1;34m\u001b[0m\n\u001b[0;32m      1\u001b[0m \u001b[1;32mimport\u001b[0m \u001b[0mos\u001b[0m\u001b[1;33m\u001b[0m\u001b[1;33m\u001b[0m\u001b[0m\n\u001b[1;32m----> 2\u001b[1;33m \u001b[0mprint\u001b[0m\u001b[1;33m(\u001b[0m\u001b[1;34m\"Current File Name : \"\u001b[0m\u001b[1;33m,\u001b[0m\u001b[0mos\u001b[0m\u001b[1;33m.\u001b[0m\u001b[0mpath\u001b[0m\u001b[1;33m.\u001b[0m\u001b[0mrealpath\u001b[0m\u001b[1;33m(\u001b[0m\u001b[0m__file__\u001b[0m\u001b[1;33m)\u001b[0m\u001b[1;33m)\u001b[0m\u001b[1;33m\u001b[0m\u001b[1;33m\u001b[0m\u001b[0m\n\u001b[0m",
      "\u001b[1;31mNameError\u001b[0m: name '__file__' is not defined"
     ]
    }
   ],
   "source": [
    "import os\n",
    "print(\"Current File Name : \",os.path.realpath(__file__))"
   ]
  },
  {
   "cell_type": "raw",
   "metadata": {},
   "source": [
    "47. Write a Python program to find out the number of CPUs using."
   ]
  },
  {
   "cell_type": "code",
   "execution_count": 182,
   "metadata": {},
   "outputs": [
    {
     "data": {
      "text/plain": [
       "4"
      ]
     },
     "execution_count": 182,
     "metadata": {},
     "output_type": "execute_result"
    }
   ],
   "source": [
    "import multiprocessing\n",
    "multiprocessing.cpu_count()"
   ]
  },
  {
   "cell_type": "raw",
   "metadata": {},
   "source": [
    "48. Write a Python program to parse a string to Float or Integer."
   ]
  },
  {
   "cell_type": "code",
   "execution_count": 191,
   "metadata": {},
   "outputs": [
    {
     "name": "stdout",
     "output_type": "stream",
     "text": [
      "246.2458\n"
     ]
    },
    {
     "data": {
      "text/plain": [
       "246"
      ]
     },
     "execution_count": 191,
     "metadata": {},
     "output_type": "execute_result"
    }
   ],
   "source": [
    "n = \"246.2458\"\n",
    "print(float(n))\n",
    "round(float(n))"
   ]
  },
  {
   "cell_type": "raw",
   "metadata": {},
   "source": [
    "49. Write a Python program to list all files in a directory in Python."
   ]
  },
  {
   "cell_type": "code",
   "execution_count": 197,
   "metadata": {},
   "outputs": [
    {
     "name": "stdout",
     "output_type": "stream",
     "text": [
      "desktop.ini\n",
      "EXTENDED_FILES.csv\n",
      "New Text Document.txt\n",
      "python_work.zip\n",
      "test.xlsx\n"
     ]
    }
   ],
   "source": [
    "from os import listdir\n",
    "from os.path import isfile\n",
    "for file in listdir('D:\\Emaratech'):\n",
    "    if isfile('D:\\\\Emaratech\\\\' + file):\n",
    "        print(file)\n"
   ]
  },
  {
   "cell_type": "raw",
   "metadata": {},
   "source": [
    "50. Write a Python program to print without newline or space. "
   ]
  },
  {
   "cell_type": "code",
   "execution_count": 198,
   "metadata": {},
   "outputs": [
    {
     "name": "stdout",
     "output_type": "stream",
     "text": [
      "Help on built-in function print in module builtins:\n",
      "\n",
      "print(...)\n",
      "    print(value, ..., sep=' ', end='\\n', file=sys.stdout, flush=False)\n",
      "    \n",
      "    Prints the values to a stream, or to sys.stdout by default.\n",
      "    Optional keyword arguments:\n",
      "    file:  a file-like object (stream); defaults to the current sys.stdout.\n",
      "    sep:   string inserted between values, default a space.\n",
      "    end:   string appended after the last value, default a newline.\n",
      "    flush: whether to forcibly flush the stream.\n",
      "\n"
     ]
    }
   ],
   "source": [
    "help(print)"
   ]
  },
  {
   "cell_type": "code",
   "execution_count": 200,
   "metadata": {},
   "outputs": [
    {
     "name": "stdout",
     "output_type": "stream",
     "text": [
      "**********"
     ]
    }
   ],
   "source": [
    "for i in range(10):\n",
    "    print('*',end=\"\")"
   ]
  },
  {
   "cell_type": "raw",
   "metadata": {},
   "source": [
    "51. Write a Python program to determine profiling of Python programs.\n",
    "Note: A profile is a set of statistics that describes how often and for how long various parts of the program executed. These statistics can be formatted into reports via the pstats module."
   ]
  },
  {
   "cell_type": "code",
   "execution_count": 3,
   "metadata": {},
   "outputs": [],
   "source": [
    "def factorial(n):\n",
    "    if n ==1:\n",
    "        return 1\n",
    "    return n * factorial(n-1)"
   ]
  },
  {
   "cell_type": "code",
   "execution_count": 4,
   "metadata": {},
   "outputs": [
    {
     "name": "stdout",
     "output_type": "stream",
     "text": [
      "         1003 function calls (4 primitive calls) in 0.003 seconds\n",
      "\n",
      "   Ordered by: standard name\n",
      "\n",
      "   ncalls  tottime  percall  cumtime  percall filename:lineno(function)\n",
      "   1000/1    0.003    0.000    0.003    0.003 <ipython-input-3-51125e89bbfa>:1(factorial)\n",
      "        1    0.000    0.000    0.003    0.003 <string>:1(<module>)\n",
      "        1    0.000    0.000    0.003    0.003 {built-in method builtins.exec}\n",
      "        1    0.000    0.000    0.000    0.000 {method 'disable' of '_lsprof.Profiler' objects}\n",
      "\n",
      "\n"
     ]
    }
   ],
   "source": [
    "import cProfile\n",
    "cProfile.run('factorial(1000)')"
   ]
  },
  {
   "cell_type": "raw",
   "metadata": {},
   "source": [
    "52. Write a Python program to print to stderr. "
   ]
  },
  {
   "cell_type": "raw",
   "metadata": {},
   "source": [
    "In normal C programs, there are three \"files\" open by default: stdin, stdout, and stderr. When you do input and output in C, by default they come from stdin and stdout. But, you can also use them where code expects files, or reassign them to be new files.\n",
    "\n",
    "Python seeks to \"mimic\" this behavior of C. When you print() in Python, your text is written to Python's sys.stdout. When you do input(), it comes from sys.stdin. Exceptions are written to sys.stderr.\n",
    "\n",
    "You can reassign these variables in order to redirect the output of your code to a file other than stdout. This is very similar to shell redirection, if you're familiar with that. The reason you might do something like this is to keep a log of your program's output or make code \"shut up\", i.e. not send output to stdout. So, in your example example:\n",
    "\n",
    "stdout = sys.stdout\n",
    "\n",
    "try:\n",
    "    sys.stdout = open('file.txt', 'w')\n",
    "    print('blah')\n",
    "    # etc\n",
    "finally:\n",
    "    sys.stdout.close()  # close file.txt\n",
    "    sys.stdout = stdout\n",
    "    sys.stderr = stderr\n",
    "This code wouldn't print anything to the console, but it would write \"blah\" to a text file named file.txt. To make this sort of thing less error-prone, Python provides sys.__stdin__ and sys.__stdout__, which always hold the original values of sys.stdin and sys.stdout. The above code could be made simpler using this:\n",
    "\n",
    "try:\n",
    "    sys.stdout = open('file.txt', 'w')\n",
    "    print('blah')\n",
    "    # etc\n",
    "finally:\n",
    "    sys.stdout.close()  # close file.txt\n",
    "    sys.stdout = sys.__stdout__\n",
    "The reason Python has both stdout and __stdout__ is mainly for convenience, so you don't have to make a variable to back up stdout.\n",
    "\n",
    "However, I have to recommend that you don't make a habit out of reassigning stdout. It's pretty easy to mess things up that way! If you want to save your code's output, you can use shell redirection. If you want to have the ability to keep a log of what your program is doing, see Python's logging module. If you want your code to be quieter, give your functions a quiet=False parameter so you can shut them up when you want! There is rarely a \"genuine\" need to do reassign stdout, etc. Python allows you to do it, because Python gives programmers a lot of control, and expects them to be responsible. You could do something like this, if you really wanted to:\n",
    "\n",
    ">>> import random\n",
    ">>> random.random = lambda: 1\n",
    ">>> random.random()\n",
    "1\n",
    ">>> random.random()\n",
    "1"
   ]
  },
  {
   "cell_type": "code",
   "execution_count": 5,
   "metadata": {},
   "outputs": [
    {
     "name": "stdout",
     "output_type": "stream",
     "text": [
      "Help on built-in function print in module builtins:\n",
      "\n",
      "print(...)\n",
      "    print(value, ..., sep=' ', end='\\n', file=sys.stdout, flush=False)\n",
      "    \n",
      "    Prints the values to a stream, or to sys.stdout by default.\n",
      "    Optional keyword arguments:\n",
      "    file:  a file-like object (stream); defaults to the current sys.stdout.\n",
      "    sep:   string inserted between values, default a space.\n",
      "    end:   string appended after the last value, default a newline.\n",
      "    flush: whether to forcibly flush the stream.\n",
      "\n"
     ]
    }
   ],
   "source": [
    "help(print)"
   ]
  },
  {
   "cell_type": "code",
   "execution_count": 17,
   "metadata": {},
   "outputs": [
    {
     "name": "stderr",
     "output_type": "stream",
     "text": [
      "abc--def--ghi\n"
     ]
    }
   ],
   "source": [
    "import sys\n",
    "print(\"abc\",\"def\",\"ghi\",file=sys.stderr,sep=\"--\")"
   ]
  },
  {
   "cell_type": "raw",
   "metadata": {},
   "source": [
    "53. Write a python program to access environment variables. "
   ]
  },
  {
   "cell_type": "code",
   "execution_count": 5,
   "metadata": {},
   "outputs": [
    {
     "data": {
      "text/plain": [
       "'C:\\\\ProgramData\\\\Anaconda3;C:\\\\ProgramData\\\\Anaconda3\\\\Library\\\\mingw-w64\\\\bin;C:\\\\ProgramData\\\\Anaconda3\\\\Library\\\\usr\\\\bin;C:\\\\ProgramData\\\\Anaconda3\\\\Library\\\\bin;C:\\\\ProgramData\\\\Anaconda3\\\\Scripts;C:\\\\app\\\\ameen.nazar\\\\product\\\\11.2.0\\\\client_2;C:\\\\app\\\\ameen.nazar\\\\product\\\\11.2.0\\\\client_1;C:\\\\Windows\\\\system32;C:\\\\Windows;C:\\\\Windows\\\\System32\\\\Wbem;C:\\\\Windows\\\\System32\\\\WindowsPowerShell\\\\v1.0\\\\;C:\\\\Windows\\\\System32\\\\OpenSSH\\\\;C:\\\\Program Files\\\\TortoiseGit\\\\bin;C:\\\\Program Files\\\\Git\\\\cmd;C:\\\\Android;C:\\\\Windows\\\\System32;C:\\\\Program Files (x86)\\\\Microsoft SQL Server\\\\150\\\\DTS\\\\Binn\\\\;C:\\\\Program Files\\\\Azure Data Studio\\\\bin;E:\\\\Data Science\\\\Azure\\\\TerraForm;C:\\\\Program Files (x86)\\\\PuTTY\\\\;C:\\\\Program Files (x86)\\\\Intel\\\\Intel(R) Management Engine Components\\\\DAL;C:\\\\Program Files\\\\Intel\\\\Intel(R) Management Engine Components\\\\DAL;C:\\\\Program Files\\\\Docker\\\\Docker\\\\resources\\\\bin;C:\\\\ProgramData\\\\DockerDesktop\\\\version-bin;C:\\\\Users\\\\ameen.nazar\\\\AppData\\\\Local\\\\Microsoft\\\\WindowsApps;C:\\\\Users\\\\ameen.nazar\\\\AppData\\\\Local\\\\Programs\\\\Microsoft VS Code\\\\bin;C:\\\\Program Files\\\\Azure Data Studio\\\\bin;C:\\\\Program Files\\\\JetBrains\\\\PyCharm Community Edition 2020.3.3\\\\bin;;E:\\\\Data Science\\\\Superset\\\\cmder\\\\bin;'"
      ]
     },
     "execution_count": 5,
     "metadata": {},
     "output_type": "execute_result"
    }
   ],
   "source": [
    "import os\n",
    "os.environ['PATH']"
   ]
  },
  {
   "cell_type": "raw",
   "metadata": {},
   "source": [
    "54. Write a Python program to get the current username"
   ]
  },
  {
   "cell_type": "code",
   "execution_count": 7,
   "metadata": {},
   "outputs": [
    {
     "data": {
      "text/plain": [
       "'Ameen.Nazar'"
      ]
     },
     "execution_count": 7,
     "metadata": {},
     "output_type": "execute_result"
    }
   ],
   "source": [
    "import getpass\n",
    "getpass.getuser()"
   ]
  },
  {
   "cell_type": "raw",
   "metadata": {},
   "source": [
    "55. Write a Python to find local IP addresses using Python's stdlib"
   ]
  },
  {
   "cell_type": "code",
   "execution_count": 8,
   "metadata": {},
   "outputs": [
    {
     "name": "stdout",
     "output_type": "stream",
     "text": [
      "172.26.64.1\n"
     ]
    }
   ],
   "source": [
    "import socket\n",
    "print([l for l in ([ip for ip in socket.gethostbyname_ex(socket.gethostname())[2] \n",
    "if not ip.startswith(\"127.\")][:1], [[(s.connect(('8.8.8.8', 53)), \n",
    "s.getsockname()[0], s.close()) for s in [socket.socket(socket.AF_INET, \n",
    "socket.SOCK_DGRAM)]][0][1]]) if l][0][0])"
   ]
  },
  {
   "cell_type": "raw",
   "metadata": {},
   "source": [
    "56. Write a Python program to get height and width of the console window. "
   ]
  },
  {
   "cell_type": "code",
   "execution_count": 9,
   "metadata": {},
   "outputs": [
    {
     "ename": "ModuleNotFoundError",
     "evalue": "No module named 'fcntl'",
     "output_type": "error",
     "traceback": [
      "\u001b[1;31m---------------------------------------------------------------------------\u001b[0m",
      "\u001b[1;31mModuleNotFoundError\u001b[0m                       Traceback (most recent call last)",
      "\u001b[1;32m<ipython-input-9-940ca9246741>\u001b[0m in \u001b[0;36m<module>\u001b[1;34m\u001b[0m\n\u001b[0;32m      6\u001b[0m     \u001b[1;32mreturn\u001b[0m \u001b[0mtw\u001b[0m\u001b[1;33m,\u001b[0m \u001b[0mth\u001b[0m\u001b[1;33m\u001b[0m\u001b[1;33m\u001b[0m\u001b[0m\n\u001b[0;32m      7\u001b[0m \u001b[1;33m\u001b[0m\u001b[0m\n\u001b[1;32m----> 8\u001b[1;33m \u001b[0mprint\u001b[0m\u001b[1;33m(\u001b[0m\u001b[1;34m'Number of columns and Rows: '\u001b[0m\u001b[1;33m,\u001b[0m\u001b[0mterminal_size\u001b[0m\u001b[1;33m(\u001b[0m\u001b[1;33m)\u001b[0m\u001b[1;33m)\u001b[0m\u001b[1;33m\u001b[0m\u001b[1;33m\u001b[0m\u001b[0m\n\u001b[0m",
      "\u001b[1;32m<ipython-input-9-940ca9246741>\u001b[0m in \u001b[0;36mterminal_size\u001b[1;34m()\u001b[0m\n\u001b[0;32m      1\u001b[0m \u001b[1;32mdef\u001b[0m \u001b[0mterminal_size\u001b[0m\u001b[1;33m(\u001b[0m\u001b[1;33m)\u001b[0m\u001b[1;33m:\u001b[0m\u001b[1;33m\u001b[0m\u001b[1;33m\u001b[0m\u001b[0m\n\u001b[1;32m----> 2\u001b[1;33m     \u001b[1;32mimport\u001b[0m \u001b[0mfcntl\u001b[0m\u001b[1;33m,\u001b[0m \u001b[0mtermios\u001b[0m\u001b[1;33m,\u001b[0m \u001b[0mstruct\u001b[0m\u001b[1;33m\u001b[0m\u001b[1;33m\u001b[0m\u001b[0m\n\u001b[0m\u001b[0;32m      3\u001b[0m     th, tw, hp, wp = struct.unpack('HHHH',\n\u001b[0;32m      4\u001b[0m         fcntl.ioctl(0, termios.TIOCGWINSZ,\n\u001b[0;32m      5\u001b[0m         struct.pack('HHHH', 0, 0, 0, 0)))\n",
      "\u001b[1;31mModuleNotFoundError\u001b[0m: No module named 'fcntl'"
     ]
    }
   ],
   "source": [
    "def terminal_size():\n",
    "    import fcntl, termios, struct\n",
    "    th, tw, hp, wp = struct.unpack('HHHH',\n",
    "        fcntl.ioctl(0, termios.TIOCGWINSZ,\n",
    "        struct.pack('HHHH', 0, 0, 0, 0)))\n",
    "    return tw, th\n",
    "\n",
    "print('Number of columns and Rows: ',terminal_size())"
   ]
  },
  {
   "cell_type": "code",
   "execution_count": 10,
   "metadata": {},
   "outputs": [
    {
     "name": "stderr",
     "output_type": "stream",
     "text": [
      "ERROR: Could not find a version that satisfies the requirement fcntl (from versions: none)\n",
      "ERROR: No matching distribution found for fcntl\n"
     ]
    }
   ],
   "source": [
    "!pip install fcntl"
   ]
  },
  {
   "cell_type": "raw",
   "metadata": {},
   "source": [
    "57. Write a program to get execution time for a Python method."
   ]
  },
  {
   "cell_type": "code",
   "execution_count": 22,
   "metadata": {},
   "outputs": [
    {
     "name": "stdout",
     "output_type": "stream",
     "text": [
      "500000500000\n",
      "Execution Time : 87.0 ms\n"
     ]
    }
   ],
   "source": [
    "import time\n",
    "def sumn(n):\n",
    "    s = 0\n",
    "    for i in range(1,n+1):\n",
    "        s+=i\n",
    "    return s\n",
    "\n",
    "t1 = time.time()\n",
    "print(sumn(1000000))\n",
    "t2 = time.time()\n",
    "print('Execution Time : {} ms'.format(round((t2-t1)*1000,2)))"
   ]
  },
  {
   "cell_type": "raw",
   "metadata": {},
   "source": [
    "58. Write a python program to find the sum of the first n positive integers."
   ]
  },
  {
   "cell_type": "code",
   "execution_count": 26,
   "metadata": {},
   "outputs": [
    {
     "name": "stdout",
     "output_type": "stream",
     "text": [
      "500000500000.0\n"
     ]
    }
   ],
   "source": [
    "def sumn(n):\n",
    "    return (n * (n+1)/2)\n",
    "\n",
    "print(sumn(1000000))"
   ]
  },
  {
   "cell_type": "raw",
   "metadata": {},
   "source": [
    "59. Write a Python program to convert height (in feet and inches) to centimeters."
   ]
  },
  {
   "cell_type": "raw",
   "metadata": {},
   "source": [
    "60. Write a Python program to calculate the hypotenuse of a right angled triangle.\n",
    "eq : c = sqrt(a^2 + b^2)"
   ]
  },
  {
   "cell_type": "raw",
   "metadata": {},
   "source": [
    "61. Write a Python program to convert the distance (in feet) to inches, yards, and miles"
   ]
  },
  {
   "cell_type": "raw",
   "metadata": {},
   "source": [
    "62. Write a Python program to convert all units of time into seconds. "
   ]
  },
  {
   "cell_type": "code",
   "execution_count": 29,
   "metadata": {},
   "outputs": [
    {
     "name": "stdout",
     "output_type": "stream",
     "text": [
      "Days : 01\n",
      "Hours : 2\n",
      "Minutes : 3\n",
      "Seconds : 2\n",
      "Total Seconds :  93782 secs\n"
     ]
    }
   ],
   "source": [
    "day_in_sec = int(input(\"Days : \")) * 24 * 60 * 60\n",
    "hr_in_sec = int(input(\"Hours : \")) * 60 * 60\n",
    "min_in_sec = int(input(\"Minutes : \")) * 60\n",
    "sec = int(input(\"Seconds : \"))\n",
    "total_secs = day_in_sec + hr_in_sec + min_in_sec + sec\n",
    "print('Total Seconds : ',total_secs,'secs')"
   ]
  },
  {
   "cell_type": "raw",
   "metadata": {},
   "source": [
    "63. Write a Python program to get an absolute file path."
   ]
  },
  {
   "cell_type": "code",
   "execution_count": 30,
   "metadata": {},
   "outputs": [
    {
     "data": {
      "text/plain": [
       "'E:\\\\Data Science\\\\Python Learning\\\\MyPython2021\\\\DataStructuresPython\\\\main\\\\Exercises\\\\text.txt'"
      ]
     },
     "execution_count": 30,
     "metadata": {},
     "output_type": "execute_result"
    }
   ],
   "source": [
    "import os\n",
    "os.path.abspath('text.txt')"
   ]
  },
  {
   "cell_type": "raw",
   "metadata": {},
   "source": [
    "64. Write a Python program to get file creation and modification date/times."
   ]
  },
  {
   "cell_type": "code",
   "execution_count": 40,
   "metadata": {},
   "outputs": [
    {
     "name": "stdout",
     "output_type": "stream",
     "text": [
      "Last modified: Mon Jun 29 11:20:12 2015\n",
      "Created: Mon Nov  9 09:27:30 2020\n"
     ]
    }
   ],
   "source": [
    "import os.path, time\n",
    "print(\"Last modified: %s\" % time.ctime(os.path.getmtime(\"D:\\Knowledge.sql\")))\n",
    "print(\"Created: %s\" % time.ctime(os.path.getctime(\"D:\\Knowledge.sql\")))"
   ]
  },
  {
   "cell_type": "raw",
   "metadata": {},
   "source": [
    "65. Write a Python program to convert seconds to day, hour, minutes and seconds"
   ]
  },
  {
   "cell_type": "raw",
   "metadata": {},
   "source": [
    "66. Write a Python program to calculate body mass index.\n",
    "Body Mass Index is a simple calculation using a person's height and weight. The formula is BMI = kg/m2 where kg is a person's weight in kilograms and m2 is their height in metres squared."
   ]
  },
  {
   "cell_type": "code",
   "execution_count": 50,
   "metadata": {},
   "outputs": [
    {
     "name": "stdout",
     "output_type": "stream",
     "text": [
      "BMI :  24.221453287197235\n"
     ]
    }
   ],
   "source": [
    "height = (170 / 100)\n",
    "weight = 70\n",
    "print('BMI : ',weight/(height ** 2))"
   ]
  },
  {
   "cell_type": "raw",
   "metadata": {},
   "source": [
    "67. Write a Python program to convert pressure in kilopascals to pounds per square inch, a millimeter of mercury (mmHg) and atmosphere pressure. "
   ]
  },
  {
   "cell_type": "raw",
   "metadata": {},
   "source": [
    "68. Write a Python program to calculate the sum of the digits in an integer."
   ]
  },
  {
   "cell_type": "code",
   "execution_count": 53,
   "metadata": {},
   "outputs": [
    {
     "name": "stdout",
     "output_type": "stream",
     "text": [
      "6\n"
     ]
    }
   ],
   "source": [
    "def sumofdigits(n):\n",
    "    s = 0\n",
    "    while n > 0:\n",
    "        s = s + (n%10)\n",
    "        n = n//10\n",
    "    return s\n",
    "\n",
    "n = 123\n",
    "print(sumofdigits(n))"
   ]
  },
  {
   "cell_type": "raw",
   "metadata": {},
   "source": [
    "69. Write a Python program to sort three integers without using conditional statements and loops."
   ]
  },
  {
   "cell_type": "code",
   "execution_count": 54,
   "metadata": {},
   "outputs": [
    {
     "data": {
      "text/plain": [
       "[3, 4, 6]"
      ]
     },
     "execution_count": 54,
     "metadata": {},
     "output_type": "execute_result"
    }
   ],
   "source": [
    "l = [4,3,6]\n",
    "l.sort()\n",
    "l"
   ]
  },
  {
   "cell_type": "raw",
   "metadata": {},
   "source": [
    "70. Write a Python program to sort files by date.\n",
    "The glob module is used to retrieve files/pathnames matching a specified pattern."
   ]
  },
  {
   "cell_type": "code",
   "execution_count": 65,
   "metadata": {},
   "outputs": [
    {
     "name": "stdout",
     "output_type": "stream",
     "text": [
      "D:\\Emaratech\\Work\\schemas.txt\n",
      "D:\\Emaratech\\Work\\Validity.txt\n",
      "D:\\Emaratech\\Work\\application_user.txt\n",
      "D:\\Emaratech\\Work\\Egate with Default DOB.txt\n",
      "D:\\Emaratech\\Work\\IM53004 Undo Last Travel (2).txt\n",
      "D:\\Emaratech\\Work\\Permit Closure-validity update.txt\n",
      "D:\\Emaratech\\Work\\PermitClosureBatch6DataFix.txt\n",
      "D:\\Emaratech\\Work\\Query - Travel Summary (Exit) grouped on nationality visa type and port type.sql - Copy.txt\n",
      "D:\\Emaratech\\Work\\Query - Travel Summary (Entry)  grouped on nationality visa type and port type.sql.txt\n",
      "D:\\Emaratech\\Work\\IM54868_new.txt\n",
      "D:\\Emaratech\\Work\\Vision_Events_30_05_2016.txt\n",
      "D:\\Emaratech\\Work\\vio_flat_file.txt\n",
      "D:\\Emaratech\\Work\\temp.txt\n",
      "D:\\Emaratech\\Work\\Script - permit validity update.txt\n",
      "D:\\Emaratech\\Work\\Script - vision_intg@eform.txt\n",
      "D:\\Emaratech\\Work\\Script - HC privilege.txt\n",
      "D:\\Emaratech\\Work\\Script-Eform Repick application.txt\n",
      "D:\\Emaratech\\Work\\Script - Dummy violation payment.txt\n",
      "D:\\Emaratech\\Work\\Script - Eform replication closed file.txt\n",
      "D:\\Emaratech\\Work\\Script - .Permit  - Entry  - Multiple travels  - Undo Previous Travel.txt\n",
      "D:\\Emaratech\\Work\\Permit Validity Update.txt\n",
      "D:\\Emaratech\\Work\\Residence Expiry Update.txt\n",
      "D:\\Emaratech\\Work\\Script - Unmerge.txt\n",
      "D:\\Emaratech\\Work\\passport_query.txt\n",
      "D:\\Emaratech\\Work\\Script - Pre-clearance Privilege.txt\n",
      "D:\\Emaratech\\Work\\Script - Pre-clearance Privilege- v2.txt\n",
      "D:\\Emaratech\\Work\\Script - Remove duplicate payment.txt\n",
      "D:\\Emaratech\\Work\\payment_text.txt\n",
      "D:\\Emaratech\\Work\\Unmerge Case  Script.txt\n",
      "D:\\Emaratech\\Work\\Script - Labout Card junk.txt\n",
      "D:\\Emaratech\\Work\\Error_Action.txt\n",
      "D:\\Emaratech\\Work\\error_vision_app.txt\n",
      "D:\\Emaratech\\Work\\Script - ETL repick.txt\n",
      "D:\\Emaratech\\Work\\Script - Change permit Status.txt\n",
      "D:\\Emaratech\\Work\\HC_DataFixScript.txt\n",
      "D:\\Emaratech\\Work\\Script - Permit closure restart.txt\n",
      "D:\\Emaratech\\Work\\HC_datafixScript (2).txt\n",
      "D:\\Emaratech\\Work\\Script - Pre-clearance Privilege_all.txt\n",
      "D:\\Emaratech\\Work\\Script - undo previous travel.txt\n",
      "D:\\Emaratech\\Work\\Script-.txt\n",
      "D:\\Emaratech\\Work\\Script - Lift permit closure.txt\n",
      "D:\\Emaratech\\Work\\Script - payment user update.txt\n",
      "D:\\Emaratech\\Work\\Script - Error log.txt\n",
      "D:\\Emaratech\\Work\\Script - Value Mapping Eform.txt\n",
      "D:\\Emaratech\\Work\\Script - .txt\n",
      "D:\\Emaratech\\Work\\Script-ApplicationResetFlag.txt\n",
      "D:\\Emaratech\\Work\\Script - Job closure job.txt\n",
      "D:\\Emaratech\\Work\\Script - seq and travel_override rule BL.txt\n",
      "D:\\Emaratech\\Work\\Script-ETL Log Update Success.txt\n",
      "D:\\Emaratech\\Work\\Script - Permit2 closure.txt\n",
      "D:\\Emaratech\\Work\\Script - undo travel + Permit1 closure.txt\n",
      "D:\\Emaratech\\Work\\Script - Correct Permit profile.txt\n",
      "D:\\Emaratech\\Work\\Script-Permit status change to issued.txt\n",
      "D:\\Emaratech\\Work\\Script - undo Travel - 2142716242909.txt\n",
      "D:\\Emaratech\\Work\\Script - permit closure.txt\n",
      "D:\\Emaratech\\Work\\Script - permit closure-1571115008441.txt\n",
      "D:\\Emaratech\\Work\\Script - permit closure-1571115011992.txt\n",
      "D:\\Emaratech\\Work\\Script - permit closure-old onarrival permits.txt\n",
      "D:\\Emaratech\\Work\\Script-Assign Privilege for user.txt\n",
      "D:\\Emaratech\\Work\\test data_staging.txt\n",
      "D:\\Emaratech\\Work\\Script - Revert privilege.txt\n",
      "D:\\Emaratech\\Work\\Script-Application Resubmission.txt\n",
      "D:\\Emaratech\\Work\\Script- Revoke T2 pre-clearance privilege.txt\n",
      "D:\\Emaratech\\Work\\Script_201620103398598 repick in ETL.txt\n",
      "D:\\Emaratech\\Work\\Script - Change Permit Status - Schengen.txt\n",
      "D:\\Emaratech\\Work\\Script - Clear ETL Log Failure.txt\n",
      "D:\\Emaratech\\Work\\Script - T2 pre-clearance privileges.txt\n",
      "D:\\Emaratech\\Work\\Script - Lift Permit Closure MOI visas.txt\n",
      "D:\\Emaratech\\Work\\Script - Undo Last entry.txt\n",
      "D:\\Emaratech\\Work\\Script - Resend Application from IQC to Echannel.txt\n",
      "D:\\Emaratech\\Work\\Script - Repick application in ETL.txt\n",
      "D:\\Emaratech\\Work\\Script-Duplicate sponsor record in iqcs.txt\n",
      "D:\\Emaratech\\Work\\Script - Permit status Issued and Person inside country.txt\n",
      "D:\\Emaratech\\Work\\Script -  unmerge Profile.txt\n",
      "D:\\Emaratech\\Work\\Script- Undo violation payment - Outpass- 01.txt\n",
      "D:\\Emaratech\\Work\\Script- Undo violation and Outpass payment - Residence - 02.txt\n",
      "D:\\Emaratech\\Work\\Script - Individual Sponsor Active.txt\n",
      "D:\\Emaratech\\Work\\Assin users to departments.txt\n",
      "D:\\Emaratech\\Work\\Lift Closure.txt\n",
      "D:\\Emaratech\\Work\\Datafix - Undo Travel + Permit Closure.txt\n",
      "D:\\Emaratech\\Work\\Script - Profession ETL mapping.txt\n",
      "D:\\Emaratech\\Work\\Script - Profession ETL mapping_1.txt\n",
      "D:\\Emaratech\\Work\\HC_COMMITTEE_ISSUE_DELETE_SCRIPT.TXT\n",
      "D:\\Emaratech\\Work\\Script - Delete duplicate sponsor from IQC.txt\n",
      "D:\\Emaratech\\Work\\IM62937_Delete_Travel_Details.txt\n",
      "D:\\Emaratech\\Work\\script - Reset application pick flag - ednrd appln - visa type 49 - app_type 1.txt\n",
      "D:\\Emaratech\\Work\\Script - Permit deletion.txt\n",
      "D:\\Emaratech\\Work\\Script - Remove individual address Duplication.txt\n",
      "D:\\Emaratech\\Work\\Script - Eform Repick Application.txt\n",
      "D:\\Emaratech\\Work\\Script - IQC duplicate sponsor.txt\n",
      "D:\\Emaratech\\Work\\Script - Residence Closure.txt\n",
      "D:\\Emaratech\\Work\\ETL_value_mapping_error.txt\n",
      "D:\\Emaratech\\Work\\Script - Permit Closure - 2144916146712.txt\n",
      "D:\\Emaratech\\Work\\Script - Residence validity update.txt\n",
      "D:\\Emaratech\\Work\\01 Script - Lift Residence Closure.txt\n",
      "D:\\Emaratech\\Work\\02 Script - Undo Last Exit.txt\n",
      "D:\\Emaratech\\Work\\Script - User allowed Emirate.txt\n",
      "D:\\Emaratech\\Work\\02 Script - Undo travel on residence.txt\n",
      "D:\\Emaratech\\Work\\Script - Undo violation and outpass payment.txt\n",
      "D:\\Emaratech\\Work\\Script - ETL Value mapping missing.txt\n",
      "D:\\Emaratech\\Work\\Script - Individual_sponsor_no Insert.txt\n",
      "D:\\Emaratech\\Work\\Script - Delete in process application.txt\n",
      "D:\\Emaratech\\Work\\01-Datafix - Permit Closure - 2081113677624.txt\n",
      "D:\\Emaratech\\Work\\Datafix - Permit Closure - 2081113677624.txt\n",
      "D:\\Emaratech\\Work\\Assin user role to users based on another role.txt\n",
      "D:\\Emaratech\\Work\\FIS Officers - Assin users to Channel.txt\n",
      "D:\\Emaratech\\Work\\Assign Privileges for users based on another user privileges.txt\n",
      "D:\\Emaratech\\Work\\Script - delete Permit.txt\n",
      "D:\\Emaratech\\Work\\Script - ETL Value mapping missing - 1.txt\n",
      "D:\\Emaratech\\Work\\Script - activity update.txt\n",
      "D:\\Emaratech\\Work\\Script - individual person no.txt\n",
      "D:\\Emaratech\\Work\\Script - update residence validity.txt\n",
      "D:\\Emaratech\\Work\\Script - Repick application in ETL1.txt\n",
      "D:\\Emaratech\\Work\\Script - ETL issue_new.txt\n",
      "D:\\Emaratech\\Work\\Assign Privileges for user ML1924 based on another user ML1815  privileges.txt\n",
      "D:\\Emaratech\\Work\\Script - IQC Rejected Application status post to vision.txt\n",
      "D:\\Emaratech\\Work\\Script  - Permit Visa Type update.txt\n",
      "D:\\Emaratech\\Work\\Script - Residence res type and visa type update.txt\n",
      "D:\\Emaratech\\Work\\Undo Tavel only accompany.txt\n",
      "D:\\Emaratech\\Work\\Script - Permit closure 2010714904232.txt\n",
      "D:\\Emaratech\\Work\\vatican travel.txt\n",
      "D:\\Emaratech\\Work\\Script - Passport Nat update.txt\n",
      "D:\\Emaratech\\Work\\Individual_sponsor_no Insert.txt\n",
      "D:\\Emaratech\\Work\\Script - Delete outpass violation and payment.txt\n",
      "D:\\Emaratech\\Work\\Script - update person type.txt\n",
      "D:\\Emaratech\\Work\\Script Day1 - Schengen Permit closure.txt\n",
      "D:\\Emaratech\\Work\\Script Day2 - Schengen Permit closure.txt\n",
      "D:\\Emaratech\\Work\\Script Day4 - Schengen Permit closure.txt\n",
      "D:\\Emaratech\\Work\\Script Day3 - Schengen Permit closure.txt\n",
      "D:\\Emaratech\\Work\\Script Day9 - Schengen Permit closure.txt\n",
      "D:\\Emaratech\\Work\\Script Day8 - Schengen Permit closure.txt\n",
      "D:\\Emaratech\\Work\\Script Day7 - Schengen Permit closure.txt\n",
      "D:\\Emaratech\\Work\\Script Day6 - Schengen Permit closure.txt\n",
      "D:\\Emaratech\\Work\\Script Day5 - Schengen Permit closure.txt\n",
      "D:\\Emaratech\\Work\\Script - Lift Residence Cancellation.txt\n",
      "D:\\Emaratech\\Work\\PermitsClosed_10Oct2016.txt\n",
      "D:\\Emaratech\\Work\\Script - Restore Residence Renewal.txt\n",
      "D:\\Emaratech\\Work\\Script - remove user role & user id update.txt\n",
      "D:\\Emaratech\\Work\\Script - Delete duplicate travel.txt\n",
      "D:\\Emaratech\\Work\\Script - remove duplicate violation payment - new.txt\n",
      "D:\\Emaratech\\Work\\Script - Permit closure Bulk.txt\n",
      "D:\\Emaratech\\Work\\Script Day10 - Schengen Permit closure.txt\n",
      "D:\\Emaratech\\Work\\Script - Activiti Deletion.txt\n",
      "D:\\Emaratech\\Work\\Script - udpate.txt\n",
      "D:\\Emaratech\\Work\\Script -Residence  MOL Cancellation Application udpate.txt\n",
      "D:\\Emaratech\\Work\\Script - Permit  MOL Cancellation Application udpate.txt\n",
      "D:\\Emaratech\\Work\\script - delete duplicate pps mapping in iqcs.txt\n",
      "D:\\Emaratech\\Work\\Script - violation_payement ETL status reset.txt\n",
      "D:\\Emaratech\\Work\\Script - permit status cancel after entry.txt\n",
      "D:\\Emaratech\\Work\\Script 2.txt\n",
      "D:\\Emaratech\\Work\\Script - Lift Residence Closure - 40120143009861.txt\n",
      "D:\\Emaratech\\Work\\Script - Lift Residence Closure - 40120143009860 .txt\n",
      "D:\\Emaratech\\Work\\Script - violation payment.txt\n",
      "D:\\Emaratech\\Work\\Script - update application status.txt\n",
      "D:\\Emaratech\\Work\\Script - establishment trans.txt\n",
      "D:\\Emaratech\\Work\\Script - Rerun Eform application in ETL.txt\n",
      "D:\\Emaratech\\Work\\Script - ESB undo travel errors.txt\n",
      "D:\\Emaratech\\Work\\Script1 - Lift Residence Closure - 30120133016625.txt\n",
      "D:\\Emaratech\\Work\\Script2- Undo residence Travel.txt\n",
      "D:\\Emaratech\\Work\\Script2 - Lift Residence Closure - 2142716848975.txt\n",
      "D:\\Emaratech\\Work\\Datafix - Correct profile picture.txt\n",
      "D:\\Emaratech\\Work\\Scirpt - Delete violation.txt\n",
      "D:\\Emaratech\\Work\\Script - Residence Closure - outpass closed.txt\n",
      "D:\\Emaratech\\Work\\Script - Permit Closure - outpass closed.txt\n",
      "D:\\Emaratech\\Work\\smartgate objects.txt\n",
      "D:\\Emaratech\\Work\\Permits.txt\n",
      "D:\\Emaratech\\Work\\Residences.txt\n",
      "D:\\Emaratech\\Work\\Script - update status.txt\n",
      "D:\\Emaratech\\Work\\Script - Residence passport update.txt\n",
      "D:\\Emaratech\\Work\\Script - Residence passport update_REVERT(EXECUTE ONLY ON REQUEST).txt\n",
      "D:\\Emaratech\\Work\\HOTFIX RELEASES.txt\n",
      "D:\\Emaratech\\Work\\Script - Delete Acitivty.txt\n",
      "D:\\Emaratech\\Work\\Script - undo travel Residence.txt\n",
      "D:\\Emaratech\\Work\\Permit status used but last travel is exit.txt\n",
      "D:\\Emaratech\\Work\\Script - pps_merge.txt\n",
      "D:\\Emaratech\\Work\\Script - Residence Validity Update 20120083131776.txt\n",
      "D:\\Emaratech\\Work\\Script - update estab status.txt\n",
      "D:\\Emaratech\\Work\\On arrival permits - Used status - last travel exit.txt\n",
      "D:\\Emaratech\\Work\\query.txt\n",
      "D:\\Emaratech\\Work\\Script - Reset Flag to update validity for violation payment.txt\n",
      "D:\\Emaratech\\Work\\Script - Lift permit closure - Schenegn.txt\n",
      "D:\\Emaratech\\Work\\Script vio payment flag reset.txt\n",
      "D:\\Emaratech\\Work\\Script - On Arrival status change.txt\n",
      "D:\\Emaratech\\Work\\Script - Lift Residence Closure - 20120143212421.txt\n",
      "D:\\Emaratech\\Work\\Script - Lift Residence Closure - 20120133078426.txt\n",
      "D:\\Emaratech\\Work\\Script - Passport No Caps update 22325196.txt\n",
      "D:\\Emaratech\\Work\\Script - Passport Nat update 17429265.txt\n",
      "D:\\Emaratech\\Work\\Script - outpass closure_201620100090099.txt\n",
      "D:\\Emaratech\\Work\\Script - outpass closure_201620100090100.txt\n",
      "D:\\Emaratech\\Work\\Script-settle pemit log.txt\n",
      "D:\\Emaratech\\Work\\Permit Validity Update - 3017716158678.txt\n",
      "D:\\Emaratech\\Work\\Script - Revoke privilege.txt\n",
      "D:\\Emaratech\\Work\\Change pps_id for permit.txt\n",
      "D:\\Emaratech\\Work\\Permit closure - 2161116103309.txt\n",
      "D:\\Emaratech\\Work\\Script - undo travel residence (3).txt\n",
      "D:\\Emaratech\\Work\\Script - Lift permit closure - 1520216020625.txt\n",
      "D:\\Emaratech\\Work\\Script - undo travel permit_1.txt\n",
      "D:\\Emaratech\\Work\\Script (2).txt\n",
      "D:\\Emaratech\\Work\\Script (2)_update.txt\n",
      "D:\\Emaratech\\Work\\Script - Re-submit application.txt\n",
      "D:\\Emaratech\\Work\\Script - MOI Permit validity Correction.txt\n",
      "D:\\Emaratech\\Work\\Script 2- validity and data correction.txt\n",
      "D:\\Emaratech\\Work\\Script - ednrd ETL document missing.txt\n",
      "D:\\Emaratech\\Work\\Script- Application status change to approve.txt\n",
      "D:\\Emaratech\\Work\\Script_03.txt\n",
      "D:\\Emaratech\\Work\\Script - MOL Permit Header Establishment Code.txt\n",
      "D:\\Emaratech\\Work\\Undo Outpass violation and payment.txt\n",
      "D:\\Emaratech\\Work\\Script2- Reject application.txt\n",
      "D:\\Emaratech\\Work\\Script_1.txt\n",
      "D:\\Emaratech\\Work\\Permit closure - 1041116159426.txt\n",
      "D:\\Emaratech\\Work\\Script_2.txt\n",
      "D:\\Emaratech\\Work\\Script - undo travel permit.txt\n",
      "D:\\Emaratech\\Work\\Script - update travel.txt\n",
      "D:\\Emaratech\\Work\\Script1 - Residence Accompany.txt\n",
      "D:\\Emaratech\\Work\\Script3-Work permit update.txt\n",
      "D:\\Emaratech\\Work\\Script2-Undo Travel on outpass.txt\n",
      "D:\\Emaratech\\Work\\Script - undo Travel - permit -(1).txt\n",
      "D:\\Emaratech\\Work\\Script - undo Travel - permit.txt\n",
      "D:\\Emaratech\\Work\\Script1 - Change Sponsor.txt\n",
      "D:\\Emaratech\\Work\\Script3 - Change Sponsor.txt\n",
      "D:\\Emaratech\\Work\\Script2 - Change Sponsor (2).txt\n",
      "D:\\Emaratech\\Work\\Script3 - DropTemp Table.txt\n",
      "D:\\Emaratech\\Work\\Script1 - Create Temp Table.txt\n",
      "D:\\Emaratech\\Work\\Script2 - Correct Unknown Profession - Bulk Fix.txt\n",
      "D:\\Emaratech\\Work\\Script1 - Residence Accompany -1.txt\n",
      "D:\\Emaratech\\Work\\Script2-update extended validity date.txt\n",
      "D:\\Emaratech\\Work\\Script3-Delete violation.txt\n",
      "D:\\Emaratech\\Work\\Script2-Violation Paid.txt\n",
      "D:\\Emaratech\\Work\\violation_paid_2082715044684.txt\n",
      "D:\\Emaratech\\Work\\Script - User Privilege.txt\n",
      "D:\\Emaratech\\Work\\Script - Residence Sponsor Update.txt\n",
      "D:\\Emaratech\\Work\\Script1 - Insert Violation Payment.txt\n",
      "D:\\Emaratech\\Work\\Script_03_new.txt\n",
      "D:\\Emaratech\\Work\\Script - act_ru_variable.txt\n",
      "D:\\Emaratech\\Work\\Script - Permit update.txt\n",
      "D:\\Emaratech\\Work\\Script - Lift permit closure - 2010215726085.txt\n",
      "D:\\Emaratech\\Work\\Script1 - update vilation_paid date - Copy.txt\n",
      "D:\\Emaratech\\Work\\Revert Script2 - update vilation_paid date.txt\n",
      "D:\\Emaratech\\Work\\Script1 - update violation_paid date.txt\n",
      "D:\\Emaratech\\Work\\Script -Residence update - 20120113045903.txt\n",
      "D:\\Emaratech\\Work\\IM72462_new.txt\n",
      "D:\\Emaratech\\Work\\Script-payment_paid.txt\n",
      "D:\\Emaratech\\Work\\Script - Repick application.txt\n",
      "D:\\Emaratech\\Work\\Script - Birth country update.txt\n",
      "D:\\Emaratech\\Work\\Script - NSD application.txt\n",
      "D:\\Emaratech\\Work\\Script - Eform Re-Pick Application.txt\n",
      "D:\\Emaratech\\Work\\Script - Lift Permit closure  in process application.txt\n",
      "D:\\Emaratech\\Work\\Script - Insert Travel.txt\n",
      "D:\\Emaratech\\Work\\Script - Permit Status Change - 2082715216835.txt\n",
      "D:\\Emaratech\\Work\\Script1 - Remove Privilege.txt\n",
      "D:\\Emaratech\\Work\\Script - Delete Activity Rec.txt\n",
      "D:\\Emaratech\\Work\\Try 1 - Script - Correct Unknown Profession - Bulk Fix.txt\n",
      "D:\\Emaratech\\Work\\Script - Applicant passport issue date update.txt\n",
      "D:\\Emaratech\\Work\\Script - REject Merge Cases.txt\n",
      "D:\\Emaratech\\Work\\Bulk Fix - Update Permit Validity.txt\n",
      "D:\\Emaratech\\Work\\Script - Delete Residence and Permit Cancel.txt\n",
      "D:\\Emaratech\\Work\\Datafix - Permit status Change.txt\n",
      "D:\\Emaratech\\Work\\Script - Residence Validity Update _.txt\n",
      "D:\\Emaratech\\Work\\IM72100- Application warranty amount.txt\n",
      "D:\\Emaratech\\Work\\Script2 - Lift Residence Closure - 15220143000955.txt\n",
      "D:\\Emaratech\\Work\\Script1 - Create new residence - 10120153091919.txt\n",
      "D:\\Emaratech\\Work\\Script - payment - new.txt\n",
      "D:\\Emaratech\\Work\\Script - Update payment user.txt\n",
      "D:\\Emaratech\\Work\\Script2 - Change Sponsor.txt\n",
      "D:\\Emaratech\\Work\\Script - Reject Vision Application.txt\n",
      "D:\\Emaratech\\Work\\Script2 - Re-pick application.txt\n",
      "D:\\Emaratech\\Work\\Script -  Residence Renewal 20120073083755.txt\n",
      "D:\\Emaratech\\Work\\Script - undo travel Residence - 1.txt\n",
      "D:\\Emaratech\\Work\\Script - Update dates.txt\n",
      "D:\\Emaratech\\Work\\Script1 - Assign Privilege.txt\n",
      "D:\\Emaratech\\Work\\Script - Application status send back to echannel.txt\n",
      "D:\\Emaratech\\Work\\Script1 - Permit Validity update -1041116314728.txt\n",
      "D:\\Emaratech\\Work\\Script2 - Lift Residence cancellation- 20120083040029.txt\n",
      "D:\\Emaratech\\Work\\Script - Update application status in IQC.txt\n",
      "D:\\Emaratech\\Work\\Script - Un Merge profile.txt\n",
      "D:\\Emaratech\\Work\\Script3.txt\n",
      "D:\\Emaratech\\Work\\Script1 - Change Sponsor(2).txt\n",
      "D:\\Emaratech\\Work\\Script - Warranty Amount update.txt\n",
      "D:\\Emaratech\\Work\\Script - ETL Value Mapping.txt\n",
      "D:\\Emaratech\\Work\\Script - Lift Residence Cancellation- 20120143143543.txt\n",
      "D:\\Emaratech\\Work\\Script2 - Lift Residence Closure - 20120103162154.txt\n",
      "D:\\Emaratech\\Work\\Script - Warranty Amount update(2).txt\n",
      "D:\\Emaratech\\Work\\Script - Warranty Amount update(3).txt\n",
      "D:\\Emaratech\\Work\\Script - Warranty Issue Fix.txt\n",
      "D:\\Emaratech\\Work\\Script2- Residence Validity Update - 20120147169606.txt\n",
      "D:\\Emaratech\\Work\\Script3 - Applicant passport place trim.txt\n",
      "D:\\Emaratech\\Work\\Script - Individual_sponsor_no update.txt\n",
      "D:\\Emaratech\\Work\\Script2 - Others.txt\n",
      "D:\\Emaratech\\Work\\Script3 - Insert Travel - IM73480.txt\n",
      "D:\\Emaratech\\Work\\Script 3 - Correction.txt\n",
      "D:\\Emaratech\\Work\\Bulk Script -  Permit Cancel Date Update.txt\n",
      "D:\\Emaratech\\Work\\Script1 - Lift Residence Closure - 20120133031532.txt\n",
      "D:\\Emaratech\\Work\\Bulk Script - Visa type 62 Validity Correction.txt\n",
      "D:\\Emaratech\\Work\\Visa type 62 lifted closure in vision.txt\n",
      "D:\\Emaratech\\Work\\Script1 - Activiti.txt\n",
      "D:\\Emaratech\\Work\\Script2 - Repick NSD application.txt\n",
      "D:\\Emaratech\\Work\\Script2 - residence-outpass closure_201620100975746.txt\n",
      "D:\\Emaratech\\Work\\Script1 - in process application.txt\n",
      "D:\\Emaratech\\Work\\Bulk Script - Visa type 11 Correction.txt\n",
      "D:\\Emaratech\\Work\\Permit Validity Update - 3010216100690.txt\n",
      "D:\\Emaratech\\Work\\Script - ETL Failures- 18Dec2016.txt\n",
      "D:\\Emaratech\\Work\\Script  - Delete violation.txt\n",
      "D:\\Emaratech\\Work\\Script 3 - correction(1).txt\n",
      "D:\\Emaratech\\Work\\Script2 - ETL Failures- 18Dec2016.txt\n",
      "D:\\Emaratech\\Work\\Script3 - Approved IQC application.txt\n",
      "D:\\Emaratech\\Work\\Script4 - echannel request.txt\n",
      "D:\\Emaratech\\Work\\01 Script - Residence Update.txt\n",
      "D:\\Emaratech\\Work\\Script - ETL errors.txt\n",
      "D:\\Emaratech\\Work\\Script2_estab.txt\n",
      "D:\\Emaratech\\Work\\Script1 - ETL Failures- 19Dec2016.txt\n",
      "D:\\Emaratech\\Work\\Script - Creditpayment issue.txt\n",
      "D:\\Emaratech\\Work\\Bulk Script - Residence Dates update.txt\n",
      "D:\\Emaratech\\Work\\Script1 - update permit transaction.txt\n",
      "D:\\Emaratech\\Work\\Script2 - Revert update.txt\n",
      "D:\\Emaratech\\Work\\Script - Warranty Amount update(4).txt\n",
      "D:\\Emaratech\\Work\\Script1 - ETL Failures- 20Dec2016.txt\n",
      "D:\\Emaratech\\Work\\Script1 - Passport update.txt\n",
      "D:\\Emaratech\\Work\\Script2 - ETL Failures- 20Dec2016.txt\n",
      "D:\\Emaratech\\Work\\Bulk Datafixes.txt\n",
      "D:\\Emaratech\\Work\\Script3- Residence Validity Update - 20120093105261_correction.txt\n",
      "D:\\Emaratech\\Work\\ETL issues 21Dec 2016.txt\n",
      "D:\\Emaratech\\Work\\Script2 - ETL (2).txt\n",
      "D:\\Emaratech\\Work\\Script2 - ETL.txt\n",
      "D:\\Emaratech\\Work\\IM75023_modified.txt\n",
      "D:\\Emaratech\\Work\\ETL issues 21Dec 2016 -set2.txt\n",
      "D:\\Emaratech\\Work\\ETL issues 21Dec 2016 -set2-correction.txt\n",
      "D:\\Emaratech\\Work\\Script - undo travel Residence -(2).txt\n",
      "D:\\Emaratech\\Work\\Script - ETL issue 22Dec2016-Set1.txt\n",
      "D:\\Emaratech\\Work\\Script2 - Others(1).txt\n",
      "D:\\Emaratech\\Work\\Script - ETL issue 22Dec2016-Set2.txt\n",
      "D:\\Emaratech\\Work\\Script1- Residence Validity Update - 20120137269258.txt\n",
      "D:\\Emaratech\\Work\\Script - Merge Travel.txt\n",
      "D:\\Emaratech\\Work\\01-Datafix - Permit Closure - 3018815004585 .txt\n",
      "D:\\Emaratech\\Work\\02-Datafix - Permit Closure - 1048815016862.txt\n",
      "D:\\Emaratech\\Work\\01-Datafix - Permit Validity Update _ 6011116014813.txt\n",
      "D:\\Emaratech\\Work\\ETL issues 215Dec 2016 -set1.txt\n",
      "D:\\Emaratech\\Work\\Script1 - Permit Detail insert.txt\n",
      "D:\\Emaratech\\Work\\Script2 -Activity Duplicate removal.txt\n",
      "D:\\Emaratech\\Work\\ETL issues 215Dec 2016 -set2.txt\n",
      "D:\\Emaratech\\Work\\Script - delete warranty payment.txt\n",
      "D:\\Emaratech\\Work\\Script1 - ETL issues 26Dec 2016 -set1.txt\n",
      "D:\\Emaratech\\Work\\Script1 - ETL issues 26Dec 2016 -set2.txt\n",
      "D:\\Emaratech\\Work\\Script - Update Permit Validity for Payment done and validity not extended.txt\n",
      "D:\\Emaratech\\Work\\Script - Update Residence Validity for Payment done and validity not extended.txt\n",
      "D:\\Emaratech\\Work\\Bulk Script - Duplicate travel records.txt\n",
      "D:\\Emaratech\\Work\\Script1 - ETL issues 27Dec 2016 -set1.txt\n",
      "D:\\Emaratech\\Work\\Script1 - ETL issues 28Dec 2016 -set1.txt\n",
      "D:\\Emaratech\\Work\\Script - Update Residence Validity for Renew cases and validity is still old.txt\n",
      "D:\\Emaratech\\Work\\Script - profile pull bypass time.txt\n",
      "D:\\Emaratech\\Work\\Script - Warranty Amount zero issue.txt\n",
      "D:\\Emaratech\\Work\\Script1 - ETL issues 29Dec 2016 -set1.txt\n",
      "D:\\Emaratech\\Work\\Script - Create Permit and travel from MOI_2013614056775.txt\n",
      "D:\\Emaratech\\Work\\Script - Create Permit and travel from MOI_5010714005831.txt\n",
      "D:\\Emaratech\\Work\\Script - Update as Locals.txt\n",
      "D:\\Emaratech\\Work\\Script - Update as Resident.txt\n",
      "D:\\Emaratech\\Work\\Script - passport.txt\n",
      "D:\\Emaratech\\Work\\01-Datafix - Permit Closure - 2081116546434.txt\n",
      "D:\\Emaratech\\Work\\Script - ETL issue.txt\n",
      "D:\\Emaratech\\Work\\Script - PRO.txt\n",
      "D:\\Emaratech\\Work\\Script - Proffile Merge Error.txt\n",
      "D:\\Emaratech\\Work\\Script2.txt\n",
      "D:\\Emaratech\\Work\\Script - Correction.txt\n",
      "D:\\Emaratech\\Work\\Script1 - ETL issues 10Jan2017 -set1.txt\n",
      "D:\\Emaratech\\Work\\Script - Travel settlement.txt\n",
      "D:\\Emaratech\\Work\\Hotfix11Jan2017.txt\n",
      "D:\\Emaratech\\Work\\Script - individual contact.txt\n",
      "D:\\Emaratech\\Work\\Bulk Script - Permit Year Correction for 2016.txt\n",
      "D:\\Emaratech\\Work\\Script - Lift permit closure 1.txt\n",
      "D:\\Emaratech\\Work\\Script - Travel correction.txt\n",
      "D:\\Emaratech\\Work\\02-Datafix-update Application.txt\n",
      "D:\\Emaratech\\Work\\02-Datafix - Permit Closure - 2 permits.txt\n",
      "D:\\Emaratech\\Work\\01-Datafix - Residence Renewal.txt\n",
      "D:\\Emaratech\\Work\\Script - undo Travel - permit (2).txt\n",
      "D:\\Emaratech\\Work\\IM77130 - Restore Profile Previous Stat.txt\n",
      "D:\\Emaratech\\Work\\Script - application document.txt\n",
      "D:\\Emaratech\\Work\\BulkFix - Lift Permit Closure - Cancelled before Entry cases in vision.txt\n",
      "D:\\Emaratech\\Work\\BulkFix - Lift Permit Closure - Correction.txt\n",
      "D:\\Emaratech\\Work\\Script - delete violation.txt\n",
      "D:\\Emaratech\\Work\\Script1 - ETL issues 19Jan2017 -set1.txt\n",
      "D:\\Emaratech\\Work\\Script - Update Residence Validity for Payment done and validity not extended (10).txt\n",
      "D:\\Emaratech\\Work\\Script - Update Residence Validity for Renew cases and validity is still old (7).txt\n",
      "D:\\Emaratech\\Work\\Script1 - ETL issues 21Jan2017 -set1.txt\n",
      "D:\\Emaratech\\Work\\Script - ETL failure.txt\n",
      "D:\\Emaratech\\Work\\NSD Re-Pick applicaitons.txt\n",
      "D:\\Emaratech\\Work\\Script1 - ETL issues 23Jan2017 -set1.txt\n",
      "D:\\Emaratech\\Work\\Correction.txt\n",
      "D:\\Emaratech\\Work\\Script - Update Non Terminal.txt\n",
      "D:\\Emaratech\\Work\\border_visa_nat_doc_allowed.txt\n",
      "D:\\Emaratech\\Work\\Script - update individual contact.txt\n",
      "D:\\Emaratech\\Work\\Script 1 - Visa type 35 Lift closure.txt\n",
      "D:\\Emaratech\\Work\\Script 2 - Visa type 35 Validity Update.txt\n",
      "D:\\Emaratech\\Work\\PRIV.txt\n",
      "D:\\Emaratech\\Work\\Script - person info undate.txt\n",
      "D:\\Emaratech\\Work\\Script1 - ETL issues 24Jan2017 -set1.txt\n",
      "D:\\Emaratech\\Work\\Script1 - ETL issues 24Jan2017 -set2.txt\n",
      "D:\\Emaratech\\Work\\Script - creditcard payment update.txt\n",
      "D:\\Emaratech\\Work\\Script - delete violation - (2).txt\n",
      "D:\\Emaratech\\Work\\Script - delete violation - (2) - correction.txt\n",
      "D:\\Emaratech\\Work\\Script - Violation payment replication to eform.txt\n",
      "D:\\Emaratech\\Work\\Script1 - ETL issues 25Jan2017 -set2.txt\n",
      "D:\\Emaratech\\Work\\IM78630 - Repick Eform Application.txt\n",
      "D:\\Emaratech\\Work\\Script1 - ETL issues 26Jan2017 -set2.txt\n",
      "D:\\Emaratech\\Work\\Script - Resend App status to Echannel.txt\n",
      "D:\\Emaratech\\Work\\Script - Resend App status to Echannel - (1).txt\n",
      "D:\\Emaratech\\Work\\Script2 - application iqcs update.txt\n",
      "D:\\Emaratech\\Work\\Script1 - ETL issues 29Jan2017 -set1.txt\n",
      "D:\\Emaratech\\Work\\Script - Eform Warranty Update.txt\n",
      "D:\\Emaratech\\Work\\IM78926_Undo_Travel_correction.txt\n",
      "D:\\Emaratech\\Work\\IM78926_Undo_Travel_correction2.txt\n",
      "D:\\Emaratech\\Work\\Script - ETL issues.txt\n",
      "D:\\Emaratech\\Work\\Script - Resend App status to Echannel - (2).txt\n",
      "D:\\Emaratech\\Work\\Script - Nge Preclearance user privilege.txt\n",
      "D:\\Emaratech\\Work\\Script1 - ETL issues 31Jan2017 -set1.txt\n",
      "D:\\Emaratech\\Work\\Script1 - ETL issues 31Jan2017 -set2.txt\n",
      "D:\\Emaratech\\Work\\Visa Type 35 Update Expiry as issue_date+179.txt\n",
      "D:\\Emaratech\\Work\\Script - delete violation - (3).txt\n",
      "D:\\Emaratech\\Work\\Script4 - Eform Application Repick.txt\n",
      "D:\\Emaratech\\Work\\Script - Delete Outpass Extension.txt\n",
      "D:\\Emaratech\\Work\\Script1 - ETL issues 01Feb2017 -set1.txt\n",
      "D:\\Emaratech\\Work\\Script1 - ETL issues 02Feb2017 -set1.txt\n",
      "D:\\Emaratech\\Work\\Script - delete violation - (4).txt\n",
      "D:\\Emaratech\\Work\\Script1 - ETL issues 05Feb2017 -set2.txt\n",
      "D:\\Emaratech\\Work\\VIOLATION_PAYMENT_DISCOUNT.txt\n",
      "D:\\Emaratech\\Work\\Script - Resend App status to Echannel - (3).txt\n",
      "D:\\Emaratech\\Work\\Script1 - ETL issues 07Feb2017 -set1.txt\n",
      "D:\\Emaratech\\Work\\Script - remove individual contact duplicates.txt\n",
      "D:\\Emaratech\\Work\\Script1 - ETL issues 12Feb2017 -set1.txt\n",
      "D:\\Emaratech\\Work\\Script - Value Mapping Eform_Upt.txt\n",
      "D:\\Emaratech\\Work\\Script - Permit Closure -  Job Failure.txt\n",
      "D:\\Emaratech\\Work\\BulkFix - Permit closure - Vison Closure Job.txt\n",
      "D:\\Emaratech\\Work\\IM80025_Violation_Insertion_correction.txt\n",
      "D:\\Emaratech\\Work\\Script - Updates_application failures.txt\n",
      "D:\\Emaratech\\Work\\Script1 - ETL issues 13Feb2017 -set1.txt\n",
      "D:\\Emaratech\\Work\\Script  - ETL integration.txt\n",
      "D:\\Emaratech\\Work\\02 Script - eDNRD ETL issue.txt\n",
      "D:\\Emaratech\\Work\\Script - Profile Merge Incomplete.txt\n",
      "D:\\Emaratech\\Work\\Script - Profile Merge Incomplete_correction.txt\n",
      "D:\\Emaratech\\Work\\Script 1- Residence Update - (2).txt\n",
      "D:\\Emaratech\\Work\\Script 1 - ETL issues 16Feb2017 -set1.txt\n",
      "D:\\Emaratech\\Work\\02 Script - eDNRD ETL issue (2).txt\n",
      "D:\\Emaratech\\Work\\IM80025_Violation_insertion_amount_correction.txt\n",
      "D:\\Emaratech\\Work\\02 Script - eDNRD ETL issue (3).txt\n",
      "D:\\Emaratech\\Work\\02 Script - eDNRD ETL issue (3)-correction.txt\n",
      "D:\\Emaratech\\Work\\Script - visoniqcs old res no update.txt\n",
      "D:\\Emaratech\\Work\\Script - visoniqcs old visa no update.txt\n",
      "D:\\Emaratech\\Work\\Script - visoniqcs old res no update - cancel.txt\n",
      "D:\\Emaratech\\Work\\01Script - eDNRD ETL issue (4).txt\n",
      "D:\\Emaratech\\Work\\Script - applicant name update.txt\n",
      "D:\\Emaratech\\Work\\01-Datafix - Permit Status Change_2010716930584.txt\n",
      "D:\\Emaratech\\Work\\Script - Warranty Amount update(5).txt\n",
      "D:\\Emaratech\\Work\\Script - UnMerge Profile(1).txt\n",
      "D:\\Emaratech\\Work\\indian resipocity visa.txt\n",
      "D:\\Emaratech\\Work\\Script - Delete Outpass Extension - IM81928.txt\n",
      "D:\\Emaratech\\Work\\Script - Created by 0 issue in payment table for profile pull cases - IM81934.txt\n",
      "D:\\Emaratech\\Work\\02_Script - ETL Failures - 23Feb2017.txt\n",
      "D:\\Emaratech\\Work\\01-Datafix - Permit Closure - 2082715196413.txt\n",
      "D:\\Emaratech\\Work\\Script - Warranty Amount update(6).txt\n",
      "D:\\Emaratech\\Work\\Script - violation payment issues.txt\n",
      "D:\\Emaratech\\Work\\Script1 - Permit visa type update - Copy.txt\n",
      "D:\\Emaratech\\Work\\Script1 - Permit visa type update.txt\n",
      "D:\\Emaratech\\Work\\Script3 - Religion update.txt\n",
      "D:\\Emaratech\\Work\\Script4 - ETL issues 27Feb2017 -set1.txt\n",
      "D:\\Emaratech\\Work\\Script5 - ETL issues 27Feb2017 -set1.txt\n",
      "D:\\Emaratech\\Work\\Script2 - ETL issues 02Mar2017 -set1.txt\n",
      "D:\\Emaratech\\Work\\Script1 - Residence Update - (2).txt\n",
      "D:\\Emaratech\\Work\\Script2 - ETL issues 02Mar2017 -set2.txt\n",
      "D:\\Emaratech\\Work\\Script1- ETL issues 02Mar2017 -set4.txt\n",
      "D:\\Emaratech\\Work\\Script1- ETL issues 02Mar2017 -set4-correction.txt\n",
      "D:\\Emaratech\\Work\\Script -  Delete Draft transactions from Establishment.txt\n",
      "D:\\Emaratech\\Work\\Script -  Delete Draft transactions from Establishment_correction.txt\n",
      "D:\\Emaratech\\Work\\Script1 - Residence Closure - 10120083025402.txt\n",
      "D:\\Emaratech\\Work\\Script - UnMerge Profile - (2).txt\n",
      "D:\\Emaratech\\Work\\Script1 - ETL issues 05Mar2017 -set1.txt\n",
      "D:\\Emaratech\\Work\\Script1 - ETL issues 05Mar2017 -set2.txt\n",
      "D:\\Emaratech\\Work\\Script2 - Residence Update - (3).txt\n",
      "D:\\Emaratech\\Work\\Script3 - ETL issues 05Mar2017 -set3.txt\n",
      "D:\\Emaratech\\Work\\Script1 - ETL issues 05Mar2017 -set4.txt\n",
      "D:\\Emaratech\\Work\\Script - outpass.txt\n",
      "D:\\Emaratech\\Work\\Script1 - ETL issues 06Mar2017 -set5.txt\n",
      "D:\\Emaratech\\Work\\Script2 - Residence Update - (4).txt\n",
      "D:\\Emaratech\\Work\\Script1 - ETL issues 07Mar2017 -set1.txt\n",
      "D:\\Emaratech\\Work\\Script2 - ETL issue - execute only after ETL .txt\n",
      "D:\\Emaratech\\Work\\Script1 - ETL issue .txt\n",
      "D:\\Emaratech\\Work\\Script3-profile document.txt\n",
      "D:\\Emaratech\\Work\\Script2 - ETL issue - execute only after ETL  - visioniqcs.txt\n",
      "D:\\Emaratech\\Work\\Script - Profile Merge Incomplete - 1.txt\n",
      "D:\\Emaratech\\Work\\Script - ETL issues 08Mar2017 -set2.txt\n",
      "D:\\Emaratech\\Work\\Script - ETL issues 08Mar2017 -set3.txt\n",
      "D:\\Emaratech\\Work\\Bulk Script 1 - Permit Year Correction for 2016 - 1.txt\n",
      "D:\\Emaratech\\Work\\Script - ETL issues 09Mar2017 -set1.txt\n",
      "D:\\Emaratech\\Work\\Script - ETL issues 09Mar2017 -set2.txt\n",
      "D:\\Emaratech\\Work\\ETL changes.txt\n",
      "D:\\Emaratech\\Work\\01-Datafix - Permit Closure - 2141116558750.txt\n",
      "D:\\Emaratech\\Work\\Script2 - Lift Permit Closure - 2012716097795.txt\n",
      "D:\\Emaratech\\Work\\Script - Lift permit closure -2143516000417.txt\n",
      "D:\\Emaratech\\Work\\Script - Residence Closure - 30120153020082.txt\n",
      "D:\\Emaratech\\Work\\Script - application document correction.txt\n",
      "D:\\Emaratech\\Work\\Script1 - ETL issues 12Mar2017 -set1.txt\n",
      "D:\\Emaratech\\Work\\Script - IQC remove group id.txt\n",
      "D:\\Emaratech\\Work\\Script2 - Residence Update - (5).txt\n",
      "D:\\Emaratech\\Work\\Script - ETL issues 13Mar2017 -set1.txt\n",
      "D:\\Emaratech\\Work\\Script - update profile.txt\n",
      "D:\\Emaratech\\Work\\Script2 - Residence Update visa type.txt\n",
      "D:\\Emaratech\\Work\\Script3 - Warranty Amount update(7).txt\n",
      "D:\\Emaratech\\Work\\Script1- ETL issues 13Mar2017 -set2.txt\n",
      "D:\\Emaratech\\Work\\Script1- ETL issues 13Mar2017 -set3.txt\n",
      "D:\\Emaratech\\Work\\Script1 - ETL issues 13Mar2017 -set4.txt\n",
      "D:\\Emaratech\\Work\\Script - outpass closure_201640100011711.txt\n",
      "D:\\Emaratech\\Work\\Datafix - Permit  validity update- 2010717070830.txt\n",
      "D:\\Emaratech\\Work\\Script - Accompnay individual person.txt\n",
      "D:\\Emaratech\\Work\\Script - delete violation (2).txt\n",
      "D:\\Emaratech\\Work\\Script1 - ETL issues 14Mar2017 -set1.txt\n",
      "D:\\Emaratech\\Work\\Script1 - ETL issues 16Mar2017 -set1.txt\n",
      "D:\\Emaratech\\Work\\Bulk Script - Residence Cancel Closure.txt\n",
      "D:\\Emaratech\\Work\\Script - delete violation - (5).txt\n",
      "D:\\Emaratech\\Work\\new 101.txt\n",
      "D:\\Emaratech\\Work\\Script - Undo residence travel.txt\n",
      "D:\\Emaratech\\Work\\Script1 - ETL issues 19Mar2017 -set1.txt\n",
      "D:\\Emaratech\\Work\\Script2 - ETL issues 19Mar2017 -set2.txt\n",
      "D:\\Emaratech\\Work\\Script1 - Residence validity update.txt\n",
      "D:\\Emaratech\\Work\\Script2 - Permit Detail Correction.txt\n",
      "D:\\Emaratech\\Work\\Script3 - Permit Update - (1).txt\n",
      "D:\\Emaratech\\Work\\Script3 - Permit Update - (2).txt\n",
      "D:\\Emaratech\\Work\\Script1 - ETL issues 22Mar2017 -set1.txt\n",
      "D:\\Emaratech\\Work\\IQC.txt\n",
      "D:\\Emaratech\\Work\\Script1- UnMerge Profile(3).txt\n",
      "D:\\Emaratech\\Work\\Script2-individual address trim.txt\n",
      "D:\\Emaratech\\Work\\Script3 - ETL issues 23Mar2017 -set1.txt\n",
      "D:\\Emaratech\\Work\\Script1 - ETL issues 23Mar2017 -set2.txt\n",
      "D:\\Emaratech\\Work\\Script3 - Lift Residence Closure - 10120122213476.txt\n",
      "D:\\Emaratech\\Work\\Script4 - undo travel Residence.txt\n",
      "D:\\Emaratech\\Work\\Script 2 - Permit Closure -3041117003872.txt\n",
      "D:\\Emaratech\\Work\\Script - Lift permit closure - 2142716848975.txt\n",
      "D:\\Emaratech\\Work\\Script - undo travel.txt\n",
      "D:\\Emaratech\\Work\\Script1 - Residence Closure - 20120162194299.txt\n",
      "D:\\Emaratech\\Work\\Script1 - ETL issues 26Mar2017 -set1.txt\n",
      "D:\\Emaratech\\Work\\Script2 - update sponsor pps id.txt\n",
      "D:\\Emaratech\\Work\\Script3 - Residence Update visa type.txt\n",
      "D:\\Emaratech\\Work\\Script1 - ETL issues 26Mar2017 -set3.txt\n",
      "D:\\Emaratech\\Work\\Script2 - permi detail id correction.txt\n",
      "D:\\Emaratech\\Work\\Script1 - ETL issues 26Mar2017 -set2.txt\n",
      "D:\\Emaratech\\Work\\Script2 - Reject Vision Application_IM86255.txt\n",
      "D:\\Emaratech\\Work\\Script1 - ETL issues 27Mar2017 -set1.txt\n",
      "D:\\Emaratech\\Work\\Script1 - ETL issues 28Mar2017 -set1.txt\n",
      "D:\\Emaratech\\Work\\Script - Echannel Request.txt\n",
      "D:\\Emaratech\\Work\\Script1 - ETL issues 28Mar2017 -set2.txt\n",
      "D:\\Emaratech\\Work\\Script  - Payment paid created by 0 issue.txt\n",
      "D:\\Emaratech\\Work\\Script1 - ETL issues 24apr2017 -set1.txt\n",
      "D:\\Emaratech\\Work\\Script2 - Rollback Group Application on Child Failure - 1.txt\n",
      "D:\\Emaratech\\Work\\Script1 - ETL issues 25Apr2017 -set1.txt\n",
      "D:\\Emaratech\\Work\\Script1 - ETL issues 25Apr2017 -set2.txt\n",
      "D:\\Emaratech\\Work\\Activity 25Apr2017.txt\n",
      "D:\\Emaratech\\Work\\Activity 26Apr2017.txt\n",
      "D:\\Emaratech\\Work\\Script2 - individual Language.txt\n",
      "D:\\Emaratech\\Work\\Script1 - ETL issues 04May2017 -set2.txt\n",
      "D:\\Emaratech\\Work\\BulkFix - Permit Detail ID correction in Log.txt\n",
      "D:\\Emaratech\\Work\\Activity 27Apr2017.txt\n",
      "D:\\Emaratech\\Work\\Script3 - Residence Update - (6).txt\n",
      "D:\\Emaratech\\Work\\Script1 - Rollback Group Application on Child Failure.txt\n",
      "D:\\Emaratech\\Work\\Script2 - Rollback Group Application on Child Failure.txt\n",
      "D:\\Emaratech\\Work\\Script1 - ETL issues 30Apr2017 -set1.txt\n",
      "D:\\Emaratech\\Work\\Activity 30Apr2017.txt\n",
      "D:\\Emaratech\\Work\\Script - ProfilePull Bypass Timing_2.txt\n",
      "D:\\Emaratech\\Work\\Script - ProfilePull Bypass Timing.txt\n",
      "D:\\Emaratech\\Work\\Bulk Script - Residence Issue Date Correction.txt\n",
      "D:\\Emaratech\\Work\\Script2 - ETL issues 02May2017 -set1.txt\n",
      "D:\\Emaratech\\Work\\Script - Credit card Payment correction.txt\n",
      "D:\\Emaratech\\Work\\Script1 - ETL issues 04May2017 -set1.txt\n",
      "D:\\Emaratech\\Work\\Script1 - ETL issues 04May2017 -set2 (2).txt\n",
      "D:\\Emaratech\\Work\\Script - Permit and Residence profile change.txt\n",
      "D:\\Emaratech\\Work\\Script - Permit profile change.txt\n",
      "D:\\Emaratech\\Work\\Activity 02May2017.txt\n",
      "D:\\Emaratech\\Work\\Activity 07May2017.txt\n",
      "D:\\Emaratech\\Work\\Activity 08May2017.txt\n",
      "D:\\Emaratech\\Work\\Script - update name.txt\n",
      "D:\\Emaratech\\Work\\Script1.txt\n",
      "D:\\Emaratech\\Work\\Datafix - Undo Travel + Permit Closure - Copy.txt\n",
      "D:\\Emaratech\\Work\\Script - Individual person no is operational change.txt\n",
      "D:\\Emaratech\\Work\\Script - Permit-Residence profile re-assign.txt\n",
      "D:\\Emaratech\\Work\\01-Datafix - Residence passport id update.txt\n",
      "D:\\Emaratech\\Work\\Script - Double records in travel detail for pps_id.txt\n",
      "D:\\Emaratech\\Work\\Script - Residence Validity Update _20120167111992.txt\n",
      "D:\\Emaratech\\Work\\Script - Residence Renewal Update - 20120107205705.txt\n",
      "D:\\Emaratech\\Work\\Datafix - Permit Status Change _ 2010717070830.txt\n",
      "D:\\Emaratech\\Work\\Script - Residence Update - 20120153187499.txt\n",
      "D:\\Emaratech\\Work\\3.Script travel update.txt\n",
      "D:\\Emaratech\\Work\\Script1 - Assign Privilege-ML4268.txt\n",
      "D:\\Emaratech\\Work\\Script - Del Violation.txt\n",
      "D:\\Emaratech\\Work\\Script - Insert Individual Language.txt\n",
      "D:\\Emaratech\\Work\\Script - Lift Residence Closure_20120083174606.txt\n",
      "D:\\Emaratech\\Work\\Script - Passport update _IM95937.txt\n",
      "D:\\Emaratech\\Work\\Datafix - Permit  validity update- 2148617011624.txt\n",
      "D:\\Emaratech\\Work\\Script - Travel Merge and Legality update.txt\n",
      "D:\\Emaratech\\Work\\Script - Violation Event Eform.txt\n",
      "D:\\Emaratech\\Work\\01-Datafix - Permit Validity Update _ 1 - Copy.txt\n",
      "D:\\Emaratech\\Work\\01-Datafix - Permit Validity Update _ 1.txt\n",
      "D:\\Emaratech\\Work\\Datafix1 - Permit Closure.txt\n",
      "D:\\Emaratech\\Work\\Datafix - Insert Permit issued with closure.txt\n",
      "D:\\Emaratech\\Work\\Script1 - Residence Passport Update.txt\n",
      "D:\\Emaratech\\Work\\Script3 -Residence Cancellation - 20120162063054.txt\n",
      "D:\\Emaratech\\Work\\logs.txt\n",
      "D:\\Emaratech\\Work\\Visa sequence skip list.txt\n",
      "D:\\Emaratech\\Work\\Script - update.txt\n",
      "D:\\Emaratech\\Work\\Drop index.txt\n",
      "D:\\Emaratech\\Work\\IM97726.txt\n",
      "D:\\Emaratech\\Work\\Script1 - Permit Closure_2148517026463.txt\n",
      "D:\\Emaratech\\Work\\Script2 - update travel.txt\n",
      "D:\\Emaratech\\Work\\Script1 - Permit Closure_2042717901883.txt\n",
      "D:\\Emaratech\\Work\\Script2 - Lift Permit Closure_1042715029726.txt\n",
      "D:\\Emaratech\\Work\\Script - Duplicate travels.txt\n",
      "D:\\Emaratech\\Work\\Script - Delete duplicate permit transaction.txt\n",
      "D:\\Emaratech\\Work\\Script - outpass closure_201620100042764.txt\n",
      "D:\\Emaratech\\Work\\Script - Change Residence number to new number.txt\n",
      "D:\\Emaratech\\Work\\Script1 - profile pull.txt\n",
      "D:\\Emaratech\\Work\\Script - delete permit transaction log duplicates.txt\n",
      "D:\\Emaratech\\Work\\data util package.txt\n",
      "D:\\Emaratech\\Work\\Script1- UnMerge Profile(4).txt\n",
      "D:\\Emaratech\\Work\\Script1- UnMerge Profile(5).txt\n",
      "D:\\Emaratech\\Work\\profile_required_doc_configf.txt\n",
      "D:\\Emaratech\\Work\\unmerge_generalization.txt\n",
      "D:\\Emaratech\\Work\\Gambia country id analysis.txt\n",
      "D:\\Emaratech\\Work\\Application Logs 6_15_17 22_04_05_678 GST.txt\n",
      "D:\\Emaratech\\Work\\Script - undo travel Residence - 20120152192777.txt\n",
      "D:\\Emaratech\\Work\\Undo travel Application Error Log.txt\n",
      "D:\\Emaratech\\Work\\PM13374_Duplicate Violation payment calls.txt\n",
      "D:\\Emaratech\\Work\\Script1 - Assign Privilege Ahwal officers.txt\n",
      "D:\\Emaratech\\Work\\Script - Passport update _IM103146.txt\n",
      "D:\\Emaratech\\Work\\Profile sync compariosn tables.txt\n",
      "D:\\Emaratech\\Work\\ESB Event Error Comparison.txt\n",
      "D:\\Emaratech\\Work\\Script - Application iqcs update_Im104307.txt\n",
      "D:\\Emaratech\\Work\\travel validation failure sample messages.txt\n",
      "D:\\Emaratech\\Work\\travel validation failure sample messages(v2).txt\n",
      "D:\\Emaratech\\Work\\new dtafixes.txt\n",
      "D:\\Emaratech\\Work\\ESB Error Resolution.txt\n",
      "D:\\Emaratech\\Work\\Problem tickets.txt\n",
      "D:\\Emaratech\\Work\\port ID (1).txt\n",
      "D:\\Emaratech\\Work\\Bulk Update- establishment_profile - estab_type_ext_id.txt\n",
      "D:\\Emaratech\\Work\\Script.txt\n",
      "D:\\Emaratech\\Work\\01_Script_Delete_EGov_INTG_MBS_Duplicate.txt\n",
      "D:\\Emaratech\\Work\\02_Script_Delete_EGov_INTG_MBS_Duplicate&_WRONG_EST_CODE.txt\n",
      "D:\\Emaratech\\Work\\access.txt\n",
      "D:\\Emaratech\\Work\\Script - Application update MOL Visa.txt\n",
      "D:\\Emaratech\\Work\\ESB error Log.txt\n",
      "D:\\Emaratech\\Work\\ESB Error Analysis.txt\n",
      "D:\\Emaratech\\Work\\Script - Licensing autority name correction.txt\n",
      "D:\\Emaratech\\Work\\Script1 - ETL issues 12Jan2017 -set1.txt\n",
      "D:\\Emaratech\\Work\\BulkFix -Schengen permit status missmatch.txt\n",
      "D:\\Emaratech\\Work\\Script - UnMerge Profile.txt\n",
      "D:\\Emaratech\\Work\\Bulk Script 2 - Residence Year Correction for 2016.txt\n",
      "D:\\Emaratech\\Work\\Script - IM122545.sql.txt\n",
      "D:\\Emaratech\\Work\\new 228.txt\n",
      "D:\\Emaratech\\Work\\User List.txt\n",
      "D:\\Emaratech\\Work\\1. IM125488_Update_est_code_permits.txt\n",
      "D:\\Emaratech\\Work\\2_IM125680_Update_est_code_Residence.txt\n",
      "D:\\Emaratech\\Work\\Residence list.txt\n",
      "D:\\Emaratech\\Work\\undo travel contact technical support error - 14Jan2018.txt\n",
      "D:\\Emaratech\\Work\\Visa type 52 - MOI Permits.txt\n",
      "D:\\Emaratech\\Work\\Permit Closed - 25Jan2018-Residence Issued Cases.txt\n",
      "D:\\Emaratech\\Work\\Visa type 35.txt\n",
      "D:\\Emaratech\\Work\\Script - Undo Outpass violation and payment.txt\n",
      "D:\\Emaratech\\Work\\Visa Type 55 - dubai visa - Validity correction event.txt\n",
      "D:\\Emaratech\\Work\\Validity Correction - Dubai Files - event.txt\n",
      "D:\\Emaratech\\Work\\Moi Permits.txt\n",
      "D:\\Emaratech\\Work\\css test.txt\n",
      "D:\\Emaratech\\Work\\Visa Type 88 permits closure list.txt\n",
      "D:\\Emaratech\\Work\\Permit Transaction Outpass application dedup.txt\n",
      "D:\\Emaratech\\Work\\Set 1 Execution Log - 10 cases.txt\n",
      "D:\\Emaratech\\Work\\application_log_appi18134324.txt\n",
      "D:\\Emaratech\\Work\\M2P meeting discussions.txt\n",
      "D:\\Emaratech\\Work\\weekly stats.txt\n",
      "D:\\Emaratech\\Work\\Schengen Violation Calc Queries.txt\n",
      "D:\\Emaratech\\Work\\Update New Estab to residence event.txt\n",
      "D:\\Emaratech\\Work\\UpdateEntryPermitReq - MOI Files Only.txt\n",
      "D:\\Emaratech\\Work\\UpdateEntryPermitReq - Dubai Files Only.txt\n",
      "D:\\Emaratech\\Work\\Permit Request Received - Common Errors.txt\n",
      "D:\\Emaratech\\Work\\UpdateEntryPermitReq - Visa Type 17 - MOI Events.txt\n",
      "D:\\Emaratech\\Work\\UpdateEntryPermitReq - Visa Type 17 - MOI Events_19Dec2018.txt\n",
      "D:\\Emaratech\\Work\\Set1 - EntryPermitCancelPermanentFileClosureEvent.txt\n",
      "D:\\Emaratech\\Work\\Set2 - EntryPermitExpiryDate.txt\n",
      "D:\\Emaratech\\Work\\MOI Events - EntryPermitExpiryDate - Visa type 17 and 14.txt\n",
      "D:\\Emaratech\\Work\\MOI Events - EntryPermitExpiryDate - Visa type 17 and 14_v(002).txt\n",
      "D:\\Emaratech\\Work\\event.txt\n",
      "D:\\Emaratech\\Work\\Set1 - entryPermitPermanentClosedEvent - Single Entry.txt\n",
      "D:\\Emaratech\\Work\\Script - intdb.txt\n",
      "D:\\Emaratech\\Work\\BlackListRemoveAbscondingEvent- IM206483.txt\n",
      "D:\\Emaratech\\Work\\Event1-EstablishmentRegisterEvent-IM205986,IM205997.txt\n",
      "D:\\Emaratech\\Work\\Event2-EntryPermitCreateEvent-IM205986,IM205997,IM206323.txt\n",
      "D:\\Emaratech\\Work\\Event3-EntryPermitChangeStatusFromEntryPermitEvent-IM205986,IM205997,IM202306,IM206323.txt\n",
      "D:\\Emaratech\\Work\\Event4-ResidenceCreateEvent-IM205986,IM205997,IM202306,IM206323.txt\n",
      "D:\\Emaratech\\Work\\events posted.txt\n",
      "D:\\Emaratech\\Work\\Event 2 - ResidenceCreateEvent - IM206466.txt\n",
      "D:\\Emaratech\\Work\\Event 1 - ResidencePermanentFileClosureEvent - IM206466.txt\n",
      "D:\\Emaratech\\Work\\Event 3 - ResidenceCorrectEvent - IM207085.txt\n",
      "D:\\Emaratech\\Work\\Event 1 - ResidencePermanentFileClosureEvent - IM207128,IM207085,IM206336,IM206077.txt\n",
      "D:\\Emaratech\\Work\\Event 2 - ResidenceCreateEvent - IM207128,IM207085,IM206336,IM206077.txt\n",
      "D:\\Emaratech\\Work\\MOI Events - IM207128.txt\n",
      "D:\\Emaratech\\Work\\MOI Events - IM206077.txt\n",
      "D:\\Emaratech\\Work\\MOI Events - IM206336.txt\n",
      "D:\\Emaratech\\Work\\MOI Events - IM207085.txt\n",
      "D:\\Emaratech\\Work\\MOI Events - IM206466,IM207249,IM207128,IM205959,IM204472.txt\n",
      "D:\\Emaratech\\Work\\Posted Events IM204472.txt\n",
      "D:\\Emaratech\\Work\\Posted Events IM207128.txt\n",
      "D:\\Emaratech\\Work\\Event Zajel.txt\n",
      "D:\\Emaratech\\Work\\Post Moi Events.txt\n",
      "D:\\Emaratech\\Work\\ResidencePermanentFileClosureEvent- IM209890.txt\n",
      "D:\\Emaratech\\Work\\Query - Apps Medical.txt\n",
      "D:\\Emaratech\\Work\\document reference thumb issue.txt\n",
      "D:\\Emaratech\\Work\\Application Logs - IM210915.txt\n",
      "D:\\Emaratech\\Work\\ModifyTravelEvent.txt\n",
      "D:\\Emaratech\\Work\\Events.txt\n",
      "D:\\Emaratech\\Work\\MultiEntryPermitClosure Candidates.txt\n",
      "D:\\Emaratech\\Work\\entryPermitPermanentClosedEvent.txt\n",
      "D:\\Emaratech\\Work\\entryPermitPermanentClosedEvent_05-09-2019.txt\n",
      "D:\\Emaratech\\Work\\ApplicationInProcessEvent_app_id54543611.txt\n",
      "D:\\Emaratech\\Work\\Script - Temp Closure Reports.txt\n",
      "D:\\Emaratech\\Work\\Load_file2.txt\n",
      "D:\\Emaratech\\Work\\Individual Travel Dcoument Missing Docs Candidates.txt\n",
      "D:\\Emaratech\\Work\\Travel Details - With Missing Documents - Remaining Cases- from 23 June 2019 - 14 July 2019.txt\n",
      "D:\\Emaratech\\Work\\TEST.txt\n",
      "D:\\Emaratech\\Work\\Missing Travel Document Cases.txt\n",
      "D:\\Emaratech\\Work\\Script - Assign Terminal for users.txt\n",
      "D:\\Emaratech\\Work\\DXB_RES_NEAR_EXPIRY.txt\n",
      "D:\\Emaratech\\Work\\path_backup_30Mar2020.txt\n",
      "D:\\Emaratech\\Work\\to_do.txt\n",
      "D:\\Emaratech\\Work\\DQ_new metrics and chnages.txt\n",
      "D:\\Emaratech\\Work\\esb_erro_permit_extend.txt\n",
      "D:\\Emaratech\\Work\\script 4.txt\n",
      "D:\\Emaratech\\Work\\MOI Events.txt\n",
      "D:\\Emaratech\\Work\\Permit Consistency Analysis.txt\n",
      "D:\\Emaratech\\Work\\cut portition_28102020.txt\n",
      "D:\\Emaratech\\Work\\splunk logs.txt\n",
      "D:\\Emaratech\\Work\\Eform - EC migration to SC.txt\n",
      "D:\\Emaratech\\Work\\OSADMIN.OSUSR_N22_LEGACY_A.txt\n",
      "D:\\Emaratech\\Work\\OSADMIN.OSUSR_N22_LEGACY_P.txt\n",
      "D:\\Emaratech\\Work\\OSADMIN.OSUSR_4EX_UC_SERVI.txt\n",
      "D:\\Emaratech\\Work\\OSADMIN.OSUSR_4EX_UC_SERV1.txt\n",
      "D:\\Emaratech\\Work\\OSADMIN.OSUSR_4EX_UC_USERS.txt\n",
      "D:\\Emaratech\\Work\\vision Lookup Tables with Sample data.txt\n",
      "D:\\Emaratech\\Work\\New Text Document.txt\n"
     ]
    }
   ],
   "source": [
    "import glob as g\n",
    "import os\n",
    "files = g.glob(\"D:\\Emaratech\\Work/*.txt\")\n",
    "files.sort(key = os.path.getmtime)\n",
    "print(\"\\n\".join(files))"
   ]
  },
  {
   "cell_type": "raw",
   "metadata": {},
   "source": [
    "71. Write a Python program to get a directory listing, sorted by creation date."
   ]
  },
  {
   "cell_type": "code",
   "execution_count": 66,
   "metadata": {},
   "outputs": [
    {
     "name": "stdout",
     "output_type": "stream",
     "text": [
      "Mon Feb 15 16:37:21 2021 Python Basic (Part -I).ipynb\n",
      "Thu Feb 18 08:57:26 2021 abc.txt\n",
      "Fri Feb 19 10:18:26 2021 Tips.ipynb\n"
     ]
    }
   ],
   "source": [
    "from stat import S_ISREG, ST_CTIME, ST_MODE\n",
    "import os, sys, time\n",
    "\n",
    "#Relative or absolute path to the directory\n",
    "dir_path = sys.argv[1] if len(sys.argv) == 2 else r'.'\n",
    "\n",
    "#all entries in the directory w/ stats\n",
    "data = (os.path.join(dir_path, fn) for fn in os.listdir(dir_path))\n",
    "data = ((os.stat(path), path) for path in data)\n",
    "\n",
    "# regular files, insert creation date\n",
    "data = ((stat[ST_CTIME], path)\n",
    "           for stat, path in data if S_ISREG(stat[ST_MODE]))\n",
    "\n",
    "for cdate, path in sorted(data):\n",
    "    print(time.ctime(cdate), os.path.basename(path))"
   ]
  },
  {
   "cell_type": "raw",
   "metadata": {},
   "source": [
    "72. Write a Python program to get the details of math module."
   ]
  },
  {
   "cell_type": "code",
   "execution_count": 69,
   "metadata": {},
   "outputs": [
    {
     "name": "stdout",
     "output_type": "stream",
     "text": [
      "This module provides access to the mathematical functions\n",
      "defined by the C standard.\n"
     ]
    },
    {
     "data": {
      "text/plain": [
       "['__doc__',\n",
       " '__loader__',\n",
       " '__name__',\n",
       " '__package__',\n",
       " '__spec__',\n",
       " 'acos',\n",
       " 'acosh',\n",
       " 'asin',\n",
       " 'asinh',\n",
       " 'atan',\n",
       " 'atan2',\n",
       " 'atanh',\n",
       " 'ceil',\n",
       " 'comb',\n",
       " 'copysign',\n",
       " 'cos',\n",
       " 'cosh',\n",
       " 'degrees',\n",
       " 'dist',\n",
       " 'e',\n",
       " 'erf',\n",
       " 'erfc',\n",
       " 'exp',\n",
       " 'expm1',\n",
       " 'fabs',\n",
       " 'factorial',\n",
       " 'floor',\n",
       " 'fmod',\n",
       " 'frexp',\n",
       " 'fsum',\n",
       " 'gamma',\n",
       " 'gcd',\n",
       " 'hypot',\n",
       " 'inf',\n",
       " 'isclose',\n",
       " 'isfinite',\n",
       " 'isinf',\n",
       " 'isnan',\n",
       " 'isqrt',\n",
       " 'ldexp',\n",
       " 'lgamma',\n",
       " 'log',\n",
       " 'log10',\n",
       " 'log1p',\n",
       " 'log2',\n",
       " 'modf',\n",
       " 'nan',\n",
       " 'perm',\n",
       " 'pi',\n",
       " 'pow',\n",
       " 'prod',\n",
       " 'radians',\n",
       " 'remainder',\n",
       " 'sin',\n",
       " 'sinh',\n",
       " 'sqrt',\n",
       " 'tan',\n",
       " 'tanh',\n",
       " 'tau',\n",
       " 'trunc']"
      ]
     },
     "execution_count": 69,
     "metadata": {},
     "output_type": "execute_result"
    }
   ],
   "source": [
    "import math\n",
    "print(math.__doc__)\n",
    "dir(math)"
   ]
  },
  {
   "cell_type": "raw",
   "metadata": {},
   "source": [
    "73. Write a Python program to calculate midpoints of a line."
   ]
  },
  {
   "cell_type": "code",
   "execution_count": 70,
   "metadata": {},
   "outputs": [
    {
     "name": "stdout",
     "output_type": "stream",
     "text": [
      "(2.0, 2.0)\n"
     ]
    }
   ],
   "source": [
    "start_point = (1,1)\n",
    "end_point = (3,3)\n",
    "mid_point = ((start_point[0] + end_point[0])/2,(start_point[1] + end_point[1])/2)\n",
    "print(mid_point)"
   ]
  },
  {
   "cell_type": "raw",
   "metadata": {},
   "source": [
    "74. Write a Python program to hash a word"
   ]
  },
  {
   "cell_type": "code",
   "execution_count": 81,
   "metadata": {},
   "outputs": [
    {
     "name": "stdout",
     "output_type": "stream",
     "text": [
      "26\n",
      "Input the word be hashed: AAE\n",
      "0\n",
      "-4\n",
      "\n",
      "The coded word is: A00\n",
      "\n"
     ]
    }
   ],
   "source": [
    "soundex=[0,1,2,3,0,1,2,0,0,2,2,4,5,5,0,1,2,6,2,3,0,1,0,2,0,2]\n",
    "print(len(soundex))\n",
    " \n",
    "word=input(\"Input the word be hashed: \")\n",
    " \n",
    "word=word.upper()\n",
    " \n",
    "coded=word[0]\n",
    " \n",
    "for a in word[1:len(word)]:\n",
    "    i=65-ord(a)\n",
    "    print(i)\n",
    "    coded=coded+str(soundex[i])\n",
    "print() \n",
    "print(\"The coded word is: \"+coded)\n",
    "print()"
   ]
  },
  {
   "cell_type": "code",
   "execution_count": 82,
   "metadata": {},
   "outputs": [
    {
     "name": "stdout",
     "output_type": "stream",
     "text": [
      "Help on built-in function hash in module builtins:\n",
      "\n",
      "hash(obj, /)\n",
      "    Return the hash value for the given object.\n",
      "    \n",
      "    Two objects that compare equal must also have the same hash value, but the\n",
      "    reverse is not necessarily true.\n",
      "\n"
     ]
    }
   ],
   "source": [
    "help(hash)"
   ]
  },
  {
   "cell_type": "code",
   "execution_count": 86,
   "metadata": {},
   "outputs": [
    {
     "data": {
      "text/plain": [
       "6003762865926417360"
      ]
     },
     "execution_count": 86,
     "metadata": {},
     "output_type": "execute_result"
    }
   ],
   "source": [
    "hash('ABC')"
   ]
  },
  {
   "cell_type": "raw",
   "metadata": {},
   "source": [
    "75. Write a Python program to get the copyright information."
   ]
  },
  {
   "cell_type": "code",
   "execution_count": 88,
   "metadata": {},
   "outputs": [
    {
     "name": "stdout",
     "output_type": "stream",
     "text": [
      "\n",
      "Python Copyright Information\n",
      "Copyright (c) 2001-2020 Python Software Foundation.\n",
      "All Rights Reserved.\n",
      "\n",
      "Copyright (c) 2000 BeOpen.com.\n",
      "All Rights Reserved.\n",
      "\n",
      "Copyright (c) 1995-2001 Corporation for National Research Initiatives.\n",
      "All Rights Reserved.\n",
      "\n",
      "Copyright (c) 1991-1995 Stichting Mathematisch Centrum, Amsterdam.\n",
      "All Rights Reserved.\n",
      "\n"
     ]
    }
   ],
   "source": [
    "import sys\n",
    "print(\"\\nPython Copyright Information\")\n",
    "print(sys.copyright)\n",
    "print()"
   ]
  },
  {
   "cell_type": "raw",
   "metadata": {},
   "source": [
    "76. Write a Python program to get the command-line arguments (name of the script, the number of arguments, arguments) passed to a script"
   ]
  },
  {
   "cell_type": "code",
   "execution_count": 8,
   "metadata": {},
   "outputs": [
    {
     "name": "stdout",
     "output_type": "stream",
     "text": [
      "Overwriting sample_program.py\n"
     ]
    }
   ],
   "source": [
    "%%writefile sample_program.py\n",
    "import sys\n",
    "print('Program name : ',sys.argv[0])\n",
    "print('No of Arguments :',len(sys.argv[1:]))\n",
    "print('No of Arguments :',str(sys.argv[1:]))"
   ]
  },
  {
   "cell_type": "code",
   "execution_count": 9,
   "metadata": {},
   "outputs": [
    {
     "name": "stdout",
     "output_type": "stream",
     "text": [
      "Program name :  sample_program.py\n",
      "No of Arguments : 2\n",
      "No of Arguments : ['first', 'second']\n"
     ]
    }
   ],
   "source": [
    "!python sample_program.py first second"
   ]
  },
  {
   "cell_type": "raw",
   "metadata": {},
   "source": [
    "77. Write a Python program to test whether the system is a big-endian platform or little-endian platform. "
   ]
  },
  {
   "cell_type": "markdown",
   "metadata": {},
   "source": [
    "In computing, endianness is the order or sequence of bytes of a word of digital data in computer memory. Endianness is primarily expressed as big-endian (BE) or little-endian (LE). A big-endian system stores the most significant byte of a word at the smallest memory address and the least significant byte at the largest. A little-endian system, in contrast, stores the least-significant byte at the smallest address. Endianness may also be used to describe the order in which the bits are transmitted over a communication channel, e.g., big-endian in a communications channel transmits the most significant bits first.[1"
   ]
  },
  {
   "cell_type": "code",
   "execution_count": 10,
   "metadata": {},
   "outputs": [
    {
     "data": {
      "text/plain": [
       "'little'"
      ]
     },
     "execution_count": 10,
     "metadata": {},
     "output_type": "execute_result"
    }
   ],
   "source": [
    "import sys\n",
    "sys.byteorder"
   ]
  },
  {
   "cell_type": "raw",
   "metadata": {},
   "source": [
    "78. Write a Python program to find the available built-in modules"
   ]
  },
  {
   "cell_type": "code",
   "execution_count": 18,
   "metadata": {},
   "outputs": [
    {
     "name": "stdout",
     "output_type": "stream",
     "text": [
      "_abc,_ast,_bisect,_blake2,_codecs,_codecs_cn,_codecs_hk,_codecs_iso202\n",
      "2,_codecs_jp,_codecs_kr,_codecs_tw,_collections,_contextvars,_csv,_dat\n",
      "etime,_functools,_heapq,_imp,_io,_json,_locale,_lsprof,_md5,_multibyte\n",
      "codec,_opcode,_operator,_pickle,_random,_sha1,_sha256,_sha3,_sha512,_s\n",
      "ignal,_sre,_stat,_statistics,_string,_struct,_symtable,_thread,_tracem\n",
      "alloc,_warnings,_weakref,_winapi,_xxsubinterpreters,array,atexit,audio\n",
      "op,binascii,builtins,cmath,errno,faulthandler,gc,itertools,marshal,mat\n",
      "h,mmap,msvcrt,nt,parser,sys,time,winreg,xxsubtype,zlib\n"
     ]
    }
   ],
   "source": [
    "import sys\n",
    "import textwrap\n",
    "modules = ','.join(sys.builtin_module_names)\n",
    "print(textwrap.fill(modules,width=70))"
   ]
  },
  {
   "cell_type": "raw",
   "metadata": {},
   "source": [
    "79. Write a Python program to get the size of an object in bytes."
   ]
  },
  {
   "cell_type": "code",
   "execution_count": 20,
   "metadata": {},
   "outputs": [
    {
     "name": "stdout",
     "output_type": "stream",
     "text": [
      "Size of  79  bytes\n"
     ]
    }
   ],
   "source": [
    "import sys\n",
    "str1 = 'ameen hashir palappurath nazar'\n",
    "print('Size of ',sys.getsizeof(str1),' bytes')"
   ]
  },
  {
   "cell_type": "raw",
   "metadata": {},
   "source": [
    "80. Write a Python program to get the current value of the recursion limit. "
   ]
  },
  {
   "cell_type": "code",
   "execution_count": 21,
   "metadata": {},
   "outputs": [
    {
     "data": {
      "text/plain": [
       "3000"
      ]
     },
     "execution_count": 21,
     "metadata": {},
     "output_type": "execute_result"
    }
   ],
   "source": [
    "import sys\n",
    "sys.getrecursionlimit()"
   ]
  },
  {
   "cell_type": "markdown",
   "metadata": {},
   "source": [
    "Python's default recursion limit is 1000, meaning that Python won't let a function call on itself more than 1000 times, which for most people is probably enough. The limit exists because allowing recursion to occur more than 1000 times doesn't exactly make for lightweight code."
   ]
  },
  {
   "cell_type": "raw",
   "metadata": {},
   "source": [
    "81. Write a Python program to concatenate N strings."
   ]
  },
  {
   "cell_type": "code",
   "execution_count": 22,
   "metadata": {},
   "outputs": [
    {
     "name": "stdout",
     "output_type": "stream",
     "text": [
      "ameen,hashir,palappurath,nazar\n"
     ]
    }
   ],
   "source": [
    "str_list = ['ameen','hashir','palappurath','nazar']\n",
    "print(','.join(str_list))"
   ]
  },
  {
   "cell_type": "raw",
   "metadata": {},
   "source": [
    "82. Write a Python program to calculate the sum over a container. "
   ]
  },
  {
   "cell_type": "code",
   "execution_count": 23,
   "metadata": {},
   "outputs": [
    {
     "name": "stdout",
     "output_type": "stream",
     "text": [
      "150\n"
     ]
    }
   ],
   "source": [
    "num_list = [10,20,30,40,50]\n",
    "print(sum(num_list))"
   ]
  },
  {
   "cell_type": "raw",
   "metadata": {},
   "source": [
    "83. Write a Python program to test whether all numbers of a list is greater than a certain number."
   ]
  },
  {
   "cell_type": "code",
   "execution_count": 25,
   "metadata": {},
   "outputs": [
    {
     "name": "stdout",
     "output_type": "stream",
     "text": [
      "Lesser\n"
     ]
    }
   ],
   "source": [
    "num_list = [10,20,30,40,50]\n",
    "check_num = 10\n",
    "if check_num > max(num_list):\n",
    "    print('Greater')\n",
    "else:\n",
    "    print('Lesser')"
   ]
  },
  {
   "cell_type": "markdown",
   "metadata": {},
   "source": [
    "84. Write a Python program to count the number occurrence of a specific character in a string."
   ]
  },
  {
   "cell_type": "code",
   "execution_count": 26,
   "metadata": {},
   "outputs": [
    {
     "data": {
      "text/plain": [
       "2"
      ]
     },
     "execution_count": 26,
     "metadata": {},
     "output_type": "execute_result"
    }
   ],
   "source": [
    "st = \"ameen\"\n",
    "st.count('e')"
   ]
  },
  {
   "cell_type": "raw",
   "metadata": {},
   "source": [
    "85. Write a Python program to check whether a file path is a file or a directory."
   ]
  },
  {
   "cell_type": "code",
   "execution_count": 30,
   "metadata": {},
   "outputs": [
    {
     "name": "stdout",
     "output_type": "stream",
     "text": [
      "Directory\n",
      "File\n",
      "Unknown\n"
     ]
    }
   ],
   "source": [
    "import os\n",
    "def check_str(fn):\n",
    "    if os.path.isdir(fn):\n",
    "        print('Directory')\n",
    "    elif os.path.isfile(fn):\n",
    "        print('File')\n",
    "    else:\n",
    "        print('Unknown')\n",
    "    \n",
    "s = 'D:\\Emaratech\\Work'\n",
    "check_str(s)\n",
    "s = 'D:\\Emaratech\\Work\\inside_country_fee.csv'\n",
    "check_str(s)\n",
    "s = 'D:\\Emaratech\\Work\\qwewq'\n",
    "check_str(s)"
   ]
  },
  {
   "cell_type": "raw",
   "metadata": {},
   "source": [
    "86. Write a Python program to get the ASCII value of a character."
   ]
  },
  {
   "cell_type": "code",
   "execution_count": 31,
   "metadata": {},
   "outputs": [
    {
     "name": "stdout",
     "output_type": "stream",
     "text": [
      "65\n"
     ]
    }
   ],
   "source": [
    "s = 'A'\n",
    "print(ord(s))"
   ]
  },
  {
   "cell_type": "raw",
   "metadata": {},
   "source": [
    "87. Write a Python program to get the size of a file."
   ]
  },
  {
   "cell_type": "code",
   "execution_count": 32,
   "metadata": {},
   "outputs": [
    {
     "data": {
      "text/plain": [
       "34001"
      ]
     },
     "execution_count": 32,
     "metadata": {},
     "output_type": "execute_result"
    }
   ],
   "source": [
    "import os\n",
    "os.path.getsize('D:\\Emaratech\\Work\\inside_country_fee.csv')"
   ]
  },
  {
   "cell_type": "raw",
   "metadata": {},
   "source": [
    "88. Given variables x=30 and y=20, write a Python program to print \"30+20=50\"."
   ]
  },
  {
   "cell_type": "code",
   "execution_count": 33,
   "metadata": {},
   "outputs": [
    {
     "name": "stdout",
     "output_type": "stream",
     "text": [
      "30+20=50\n"
     ]
    }
   ],
   "source": [
    "x=30\n",
    "y=20\n",
    "print(f'{x}+{y}={x+y}')"
   ]
  },
  {
   "cell_type": "code",
   "execution_count": null,
   "metadata": {},
   "outputs": [],
   "source": [
    "89. Write a Python program to perform an action if a condition is true. Go to the editor\n",
    "Given a variable name, if the value is 1, display the string \"First day of a Month!\" and do nothing if the value is not equal."
   ]
  },
  {
   "cell_type": "raw",
   "metadata": {},
   "source": [
    "90. Write a Python program to create a copy of its own source code."
   ]
  },
  {
   "cell_type": "code",
   "execution_count": 34,
   "metadata": {},
   "outputs": [
    {
     "name": "stdout",
     "output_type": "stream",
     "text": [
      "print(lambda str='print(lambda str=%r: (str %% str))()': (str % str))()\n"
     ]
    }
   ],
   "source": [
    "print((lambda str='print(lambda str=%r: (str %% str))()': (str % str))())"
   ]
  },
  {
   "cell_type": "raw",
   "metadata": {},
   "source": [
    "91. Write a Python program to swap two variables."
   ]
  },
  {
   "cell_type": "code",
   "execution_count": 40,
   "metadata": {},
   "outputs": [
    {
     "name": "stdout",
     "output_type": "stream",
     "text": [
      "2\n",
      "1\n"
     ]
    }
   ],
   "source": [
    "a=1\n",
    "b=2\n",
    "a,b=b,a\n",
    "print(a)\n",
    "print(b)"
   ]
  },
  {
   "cell_type": "code",
   "execution_count": null,
   "metadata": {},
   "outputs": [],
   "source": [
    "92. Write a Python program to define a string containing special characters in various forms."
   ]
  },
  {
   "cell_type": "code",
   "execution_count": 41,
   "metadata": {},
   "outputs": [
    {
     "name": "stdout",
     "output_type": "stream",
     "text": [
      "\n",
      "\\#{'}${\"}@/\n",
      "\\#{'}${\"}@/\n",
      "\\#{'}${\"}@/\n",
      "\\#{'}${\"}@/\n",
      "\\#{'}${\"}@/\n",
      "\\#{'}${\"}@/\n",
      "\n"
     ]
    }
   ],
   "source": [
    "print()\n",
    "print(\"\\#{'}${\\\"}@/\")\n",
    "print(\"\\#{'}${\"'\"'\"}@/\")\n",
    "print(r\"\"\"\\#{'}${\"}@/\"\"\")\n",
    "print('\\#{\\'}${\"}@/')\n",
    "print('\\#{'\"'\"'}${\"}@/')\n",
    "print(r'''\\#{'}${\"}@/''')\n",
    "print()"
   ]
  },
  {
   "cell_type": "markdown",
   "metadata": {},
   "source": [
    "93. Write a Python program to get the identity of an object."
   ]
  },
  {
   "cell_type": "code",
   "execution_count": 42,
   "metadata": {},
   "outputs": [
    {
     "name": "stdout",
     "output_type": "stream",
     "text": [
      "2291802010304\n"
     ]
    }
   ],
   "source": [
    "obj = object()\n",
    "ad = id(obj)\n",
    "print(ad)"
   ]
  },
  {
   "cell_type": "code",
   "execution_count": 43,
   "metadata": {},
   "outputs": [
    {
     "name": "stdout",
     "output_type": "stream",
     "text": [
      "2291786269104\n"
     ]
    }
   ],
   "source": [
    "st = 'ameen'\n",
    "print(id(st))"
   ]
  },
  {
   "cell_type": "raw",
   "metadata": {},
   "source": [
    "94. Write a Python program to convert a byte string to a list of integers."
   ]
  },
  {
   "cell_type": "code",
   "execution_count": 48,
   "metadata": {},
   "outputs": [
    {
     "data": {
      "text/plain": [
       "[65, 66, 67]"
      ]
     },
     "execution_count": 48,
     "metadata": {},
     "output_type": "execute_result"
    }
   ],
   "source": [
    "stl = b'ABC'\n",
    "list(stl)"
   ]
  },
  {
   "cell_type": "raw",
   "metadata": {},
   "source": [
    "95. Write a Python program to check whether a string is numeric."
   ]
  },
  {
   "cell_type": "code",
   "execution_count": 49,
   "metadata": {},
   "outputs": [
    {
     "data": {
      "text/plain": [
       "True"
      ]
     },
     "execution_count": 49,
     "metadata": {},
     "output_type": "execute_result"
    }
   ],
   "source": [
    "a = '121212'\n",
    "a.isnumeric()"
   ]
  },
  {
   "cell_type": "code",
   "execution_count": 50,
   "metadata": {},
   "outputs": [
    {
     "data": {
      "text/plain": [
       "True"
      ]
     },
     "execution_count": 50,
     "metadata": {},
     "output_type": "execute_result"
    }
   ],
   "source": [
    "a.isdigit()"
   ]
  },
  {
   "cell_type": "raw",
   "metadata": {},
   "source": [
    "96. Write a Python program to print the current call stack."
   ]
  },
  {
   "cell_type": "code",
   "execution_count": 74,
   "metadata": {},
   "outputs": [
    {
     "name": "stdout",
     "output_type": "stream",
     "text": [
      "Overwriting tracefile.py\n"
     ]
    }
   ],
   "source": [
    "%%writefile tracefile.py\n",
    "import traceback\n",
    "print()\n",
    "def f1():return abc()\n",
    "def abc():traceback.print_stack()\n",
    "f1()\n",
    "print()"
   ]
  },
  {
   "cell_type": "code",
   "execution_count": 75,
   "metadata": {},
   "outputs": [
    {
     "name": "stdout",
     "output_type": "stream",
     "text": [
      "\n",
      "\n"
     ]
    },
    {
     "name": "stderr",
     "output_type": "stream",
     "text": [
      "  File \"tracefile.py\", line 5, in <module>\n",
      "    f1()\n",
      "  File \"tracefile.py\", line 3, in f1\n",
      "    def f1():return abc()\n",
      "  File \"tracefile.py\", line 4, in abc\n",
      "    def abc():traceback.print_stack()\n"
     ]
    }
   ],
   "source": [
    "!python tracefile.py"
   ]
  },
  {
   "cell_type": "raw",
   "metadata": {},
   "source": [
    "97. Write a Python program to list the special variables used within the language."
   ]
  },
  {
   "cell_type": "code",
   "execution_count": 77,
   "metadata": {},
   "outputs": [
    {
     "name": "stdout",
     "output_type": "stream",
     "text": [
      "\n",
      "ArithmeticError AssertionError AttributeError BaseException BlockingIOError BrokenPipeError BufferError BytesWarning\n",
      "ChildProcessError ConnectionAbortedError ConnectionError ConnectionRefusedError ConnectionResetError DeprecationWarning EOFError Ellipsis\n",
      "EnvironmentError Exception False FileExistsError FileNotFoundError FloatingPointError FutureWarning GeneratorExit\n",
      "IOError ImportError ImportWarning In IndentationError IndexError InterruptedError IsADirectoryError\n",
      "KeyError KeyboardInterrupt LookupError MemoryError ModuleNotFoundError NameError None NotADirectoryError\n",
      "NotImplemented NotImplementedError OSError Out OverflowError PendingDeprecationWarning PermissionError ProcessLookupError\n",
      "RecursionError ReferenceError ResourceWarning RuntimeError RuntimeWarning StopAsyncIteration StopIteration SyntaxError\n",
      "SyntaxWarning SystemError SystemExit TabError TimeoutError True TypeError UnboundLocalError\n",
      "UnicodeDecodeError UnicodeEncodeError UnicodeError UnicodeTranslateError UnicodeWarning UserWarning ValueError Warning\n",
      "WindowsError ZeroDivisionError _10 _11 _15 _16 _21 _26\n",
      "_32 _37 _47 _48 _49 _50 _53 _54\n",
      "_61 _62 _63 _64 _65 _67 _68 _76\n",
      "__ __IPYTHON__ ___ __build_class__ __builtin__ __builtins__ __debug__ __doc__\n",
      "__import__ __loader__ __name__ __package__ __spec__ _dh _exit_code _i\n",
      "_i1 _i10 _i11 _i12 _i13 _i14 _i15 _i16\n",
      "_i17 _i18 _i19 _i2 _i20 _i21 _i22 _i23\n",
      "_i24 _i25 _i26 _i27 _i28 _i29 _i3 _i30\n",
      "_i31 _i32 _i33 _i34 _i35 _i36 _i37 _i38\n",
      "_i39 _i4 _i40 _i41 _i42 _i43 _i44 _i45\n",
      "_i46 _i47 _i48 _i49 _i5 _i50 _i51 _i52\n",
      "_i53 _i54 _i55 _i56 _i57 _i58 _i59 _i6\n",
      "_i60 _i61 _i62 _i63 _i64 _i65 _i66 _i67\n",
      "_i68 _i69 _i7 _i70 _i71 _i72 _i73 _i74\n",
      "_i75 _i76 _i77 _i8 _i9 _ih _ii _iii\n",
      "_oh a abc abs ad all any ascii\n",
      "b bin bool breakpoint bytearray bytes callable check_num\n",
      "check_str chr classmethod compile complex copyright credits delattr\n",
      "dict dir display divmod enumerate eval exec exit\n",
      "f1 fibonacci filter float format frozenset get_ipython getattr\n",
      "globals hasattr hash help hex id input int\n",
      "isinstance issubclass iter len license list locals map\n",
      "max memoryview min modules next num_list obj object\n",
      "oct open ord os pow print property quit\n",
      "range recur_fibo repr reversed round s set setattr\n",
      "slice sorted st staticmethod stl str str1 str_list\n",
      "sum super sys textwrap traceback tuple type vars\n",
      "x y zip\n",
      "\n"
     ]
    }
   ],
   "source": [
    "s_var_names = sorted((set(globals().keys()) | set(__builtins__.__dict__.keys())) - set('_ names i'.split()))\n",
    "print()\n",
    "print( '\\n'.join(' '.join(s_var_names[i:i+8]) for i in range(0, len(s_var_names), 8)) )\n",
    "print()"
   ]
  },
  {
   "cell_type": "raw",
   "metadata": {},
   "source": [
    "98. Write a Python program to get the system time. "
   ]
  },
  {
   "cell_type": "code",
   "execution_count": 85,
   "metadata": {},
   "outputs": [
    {
     "data": {
      "text/plain": [
       "'2021-02-23 13:25:00'"
      ]
     },
     "execution_count": 85,
     "metadata": {},
     "output_type": "execute_result"
    }
   ],
   "source": [
    "import datetime as dt\n",
    "now = dt.datetime.now()\n",
    "now.strftime('%Y-%m-%d %H:%M:%S')"
   ]
  },
  {
   "cell_type": "code",
   "execution_count": 86,
   "metadata": {},
   "outputs": [
    {
     "data": {
      "text/plain": [
       "'Tue Feb 23 13:27:17 2021'"
      ]
     },
     "execution_count": 86,
     "metadata": {},
     "output_type": "execute_result"
    }
   ],
   "source": [
    "import time\n",
    "time.ctime()"
   ]
  },
  {
   "cell_type": "code",
   "execution_count": 87,
   "metadata": {},
   "outputs": [
    {
     "data": {
      "text/plain": [
       "1614072470.5284715"
      ]
     },
     "execution_count": 87,
     "metadata": {},
     "output_type": "execute_result"
    }
   ],
   "source": [
    "import time\n",
    "time.time()"
   ]
  },
  {
   "cell_type": "code",
   "execution_count": 89,
   "metadata": {},
   "outputs": [
    {
     "name": "stdout",
     "output_type": "stream",
     "text": [
      "Help on built-in function time in module time:\n",
      "\n",
      "time(...)\n",
      "    time() -> floating point number\n",
      "    \n",
      "    Return the current time in seconds since the Epoch.\n",
      "    Fractions of a second may be present if the system clock provides them.\n",
      "\n"
     ]
    }
   ],
   "source": [
    "help(time.time)"
   ]
  },
  {
   "cell_type": "markdown",
   "metadata": {},
   "source": [
    "99. Write a Python program to clear the screen or terminal"
   ]
  },
  {
   "cell_type": "code",
   "execution_count": 100,
   "metadata": {},
   "outputs": [
    {
     "name": "stdout",
     "output_type": "stream",
     "text": [
      "Overwriting osystem.py\n"
     ]
    }
   ],
   "source": [
    "%%writefile osystem.py\n",
    "import os\n",
    "import time\n",
    "os.system('dir')\n",
    "time.sleep(10)\n",
    "os.system('cls')"
   ]
  },
  {
   "cell_type": "code",
   "execution_count": 101,
   "metadata": {},
   "outputs": [
    {
     "name": "stdout",
     "output_type": "stream",
     "text": [
      " Volume in drive E is Laboratory\n",
      " Volume Serial Number is 9A7E-6017\n",
      "\n",
      " Directory of E:\\Data Science\\Python Learning\\MyPython2021\\DataStructuresPython\\main\\Exercises\n",
      "\n",
      "23/02/2021  01:30 PM    <DIR>          .\n",
      "23/02/2021  01:30 PM    <DIR>          ..\n",
      "19/02/2021  10:18 AM    <DIR>          .ipynb_checkpoints\n",
      "18/02/2021  08:57 AM                11 abc.txt\n",
      "23/02/2021  01:31 PM                76 osystem.py\n",
      "23/02/2021  01:30 PM           148,127 Python Basic (Part -I).ipynb\n",
      "23/02/2021  10:30 AM               142 sample_program.py\n",
      "20/02/2021  10:25 AM             2,885 Tips.ipynb\n",
      "23/02/2021  01:14 PM               100 tracefile.py\n",
      "               6 File(s)        151,341 bytes\n",
      "               3 Dir(s)  63,489,466,368 bytes free\n",
      "\f",
      "\n"
     ]
    }
   ],
   "source": [
    "!python osystem.py"
   ]
  },
  {
   "cell_type": "code",
   "execution_count": null,
   "metadata": {},
   "outputs": [],
   "source": [
    "100. Write a Python program to get the name of the host on which the routine is running. "
   ]
  },
  {
   "cell_type": "code",
   "execution_count": 102,
   "metadata": {},
   "outputs": [
    {
     "data": {
      "text/plain": [
       "'DMC01728L'"
      ]
     },
     "execution_count": 102,
     "metadata": {},
     "output_type": "execute_result"
    }
   ],
   "source": [
    "import socket\n",
    "socket.gethostname()"
   ]
  },
  {
   "cell_type": "raw",
   "metadata": {},
   "source": [
    "101. Write a Python program to access and print a URL's content to the console."
   ]
  },
  {
   "cell_type": "code",
   "execution_count": 105,
   "metadata": {},
   "outputs": [
    {
     "name": "stdout",
     "output_type": "stream",
     "text": [
      "b'<!doctype html>\\n<html>\\n<head>\\n    <title>Example Domain</title>\\n\\n    <meta charset=\"utf-8\" />\\n    <meta http-equiv=\"Content-type\" content=\"text/html; charset=utf-8\" />\\n    <meta name=\"viewport\" content=\"width=device-width, initial-scale=1\" />\\n    <style type=\"text/css\">\\n    body {\\n        background-color: #f0f0f2;\\n        margin: 0;\\n        padding: 0;\\n        font-family: -apple-system, system-ui, BlinkMacSystemFont, \"Segoe UI\", \"Open Sans\", \"Helvetica Neue\", Helvetica, Arial, sans-serif;\\n        \\n    }\\n    div {\\n        width: 600px;\\n        margin: 5em auto;\\n        padding: 2em;\\n        background-color: #fdfdff;\\n        border-radius: 0.5em;\\n        box-shadow: 2px 3px 7px 2px rgba(0,0,0,0.02);\\n    }\\n    a:link, a:visited {\\n        color: #38488f;\\n        text-decoration: none;\\n    }\\n    @media (max-width: 700px) {\\n        div {\\n            margin: 0 auto;\\n            width: auto;\\n        }\\n    }\\n    </style>    \\n</head>\\n\\n<body>\\n<div>\\n    <h1>Example Domain</h1>\\n    <p>This domain is for use in illustrative examples in documents. You may use this\\n    domain in literature without prior coordination or asking for permission.</p>\\n    <p><a href=\"https://www.iana.org/domains/example\">More information...</a></p>\\n</div>\\n</body>\\n</html>\\n'\n"
     ]
    }
   ],
   "source": [
    "from http.client import HTTPConnection\n",
    "conn = HTTPConnection(\"example.com\")\n",
    "conn.request(\"GET\", \"/\")  \n",
    "result = conn.getresponse()\n",
    "# retrieves the entire contents.  \n",
    "contents = result.read() \n",
    "print(contents)"
   ]
  },
  {
   "cell_type": "raw",
   "metadata": {},
   "source": [
    "102. Write a Python program to get system command output"
   ]
  },
  {
   "cell_type": "code",
   "execution_count": 106,
   "metadata": {},
   "outputs": [
    {
     "name": "stdout",
     "output_type": "stream",
     "text": [
      "dir command to list file and directory\n",
      " Volume in drive E is Laboratory\n",
      " Volume Serial Number is 9A7E-6017\n",
      "\n",
      " Directory of E:\\Data Science\\Python Learning\\MyPython2021\\DataStructuresPython\\main\\Exercises\n",
      "\n",
      "23/02/2021  02:18 PM    <DIR>          .\n",
      "23/02/2021  02:18 PM    <DIR>          ..\n",
      "19/02/2021  10:18 AM    <DIR>          .ipynb_checkpoints\n",
      "18/02/2021  08:57 AM                11 abc.txt\n",
      "23/02/2021  01:31 PM                76 osystem.py\n",
      "23/02/2021  02:18 PM           152,684 Python Basic (Part -I).ipynb\n",
      "23/02/2021  10:30 AM               142 sample_program.py\n",
      "20/02/2021  10:25 AM             2,885 Tips.ipynb\n",
      "23/02/2021  01:14 PM               100 tracefile.py\n",
      "               6 File(s)        155,898 bytes\n",
      "               3 Dir(s)  63,489,462,272 bytes free\n",
      "\n"
     ]
    }
   ],
   "source": [
    "import subprocess\n",
    "# file and directory listing\n",
    "returned_text = subprocess.check_output(\"dir\", shell=True, universal_newlines=True)\n",
    "print(\"dir command to list file and directory\")\n",
    "print(returned_text)"
   ]
  },
  {
   "cell_type": "raw",
   "metadata": {},
   "source": [
    "103. Write a Python program to extract the filename from a given path."
   ]
  },
  {
   "cell_type": "code",
   "execution_count": 107,
   "metadata": {},
   "outputs": [
    {
     "data": {
      "text/plain": [
       "'inside_country_fee.csv'"
      ]
     },
     "execution_count": 107,
     "metadata": {},
     "output_type": "execute_result"
    }
   ],
   "source": [
    "import os\n",
    "os.path.basename('D:\\Emaratech\\Work\\inside_country_fee.csv')"
   ]
  },
  {
   "cell_type": "raw",
   "metadata": {},
   "source": [
    "104. Write a Python program to get the effective group id, effective user id, real group id, a list of supplemental group ids associated with the current process.\n",
    "Note: Availability: Unix."
   ]
  },
  {
   "cell_type": "code",
   "execution_count": 108,
   "metadata": {},
   "outputs": [
    {
     "ename": "AttributeError",
     "evalue": "module 'os' has no attribute 'getegid'",
     "output_type": "error",
     "traceback": [
      "\u001b[1;31m---------------------------------------------------------------------------\u001b[0m",
      "\u001b[1;31mAttributeError\u001b[0m                            Traceback (most recent call last)",
      "\u001b[1;32m<ipython-input-108-696908b3f28e>\u001b[0m in \u001b[0;36m<module>\u001b[1;34m\u001b[0m\n\u001b[0;32m      1\u001b[0m \u001b[1;32mimport\u001b[0m \u001b[0mos\u001b[0m\u001b[1;33m\u001b[0m\u001b[1;33m\u001b[0m\u001b[0m\n\u001b[1;32m----> 2\u001b[1;33m \u001b[0mprint\u001b[0m\u001b[1;33m(\u001b[0m\u001b[1;34m\"\\nEffective group id: \"\u001b[0m\u001b[1;33m,\u001b[0m\u001b[0mos\u001b[0m\u001b[1;33m.\u001b[0m\u001b[0mgetegid\u001b[0m\u001b[1;33m(\u001b[0m\u001b[1;33m)\u001b[0m\u001b[1;33m)\u001b[0m\u001b[1;33m\u001b[0m\u001b[1;33m\u001b[0m\u001b[0m\n\u001b[0m\u001b[0;32m      3\u001b[0m \u001b[0mprint\u001b[0m\u001b[1;33m(\u001b[0m\u001b[1;34m\"Effective user id: \"\u001b[0m\u001b[1;33m,\u001b[0m\u001b[0mos\u001b[0m\u001b[1;33m.\u001b[0m\u001b[0mgeteuid\u001b[0m\u001b[1;33m(\u001b[0m\u001b[1;33m)\u001b[0m\u001b[1;33m)\u001b[0m\u001b[1;33m\u001b[0m\u001b[1;33m\u001b[0m\u001b[0m\n\u001b[0;32m      4\u001b[0m \u001b[0mprint\u001b[0m\u001b[1;33m(\u001b[0m\u001b[1;34m\"Real group id: \"\u001b[0m\u001b[1;33m,\u001b[0m\u001b[0mos\u001b[0m\u001b[1;33m.\u001b[0m\u001b[0mgetgid\u001b[0m\u001b[1;33m(\u001b[0m\u001b[1;33m)\u001b[0m\u001b[1;33m)\u001b[0m\u001b[1;33m\u001b[0m\u001b[1;33m\u001b[0m\u001b[0m\n\u001b[0;32m      5\u001b[0m \u001b[0mprint\u001b[0m\u001b[1;33m(\u001b[0m\u001b[1;34m\"List of supplemental group ids: \"\u001b[0m\u001b[1;33m,\u001b[0m\u001b[0mos\u001b[0m\u001b[1;33m.\u001b[0m\u001b[0mgetgroups\u001b[0m\u001b[1;33m(\u001b[0m\u001b[1;33m)\u001b[0m\u001b[1;33m)\u001b[0m\u001b[1;33m\u001b[0m\u001b[1;33m\u001b[0m\u001b[0m\n",
      "\u001b[1;31mAttributeError\u001b[0m: module 'os' has no attribute 'getegid'"
     ]
    }
   ],
   "source": [
    "import os\n",
    "print(\"\\nEffective group id: \",os.getegid())\n",
    "print(\"Effective user id: \",os.geteuid())\n",
    "print(\"Real group id: \",os.getgid())\n",
    "print(\"List of supplemental group ids: \",os.getgroups())\n",
    "print()"
   ]
  },
  {
   "cell_type": "raw",
   "metadata": {},
   "source": [
    "105. Write a Python program to get the users environment."
   ]
  },
  {
   "cell_type": "code",
   "execution_count": 110,
   "metadata": {},
   "outputs": [
    {
     "data": {
      "text/plain": [
       "environ{'ALLUSERSPROFILE': 'C:\\\\ProgramData',\n",
       "        'ANDROID_SDK_HOME': 'C:\\\\Android',\n",
       "        'APPDATA': 'C:\\\\Users\\\\ameen.nazar\\\\AppData\\\\Roaming',\n",
       "        'COMMONPROGRAMFILES': 'C:\\\\Program Files\\\\Common Files',\n",
       "        'COMMONPROGRAMFILES(X86)': 'C:\\\\Program Files (x86)\\\\Common Files',\n",
       "        'COMMONPROGRAMW6432': 'C:\\\\Program Files\\\\Common Files',\n",
       "        'COMPUTERNAME': 'DMC01728L',\n",
       "        'COMSPEC': 'C:\\\\Windows\\\\system32\\\\cmd.exe',\n",
       "        'DRIVERDATA': 'C:\\\\Windows\\\\System32\\\\Drivers\\\\DriverData',\n",
       "        'FPS_BROWSER_APP_PROFILE_STRING': 'Internet Explorer',\n",
       "        'FPS_BROWSER_USER_PROFILE_STRING': 'Default',\n",
       "        'HOMEDRIVE': 'C:',\n",
       "        'HOMEPATH': '\\\\Users\\\\ameen.nazar',\n",
       "        'LOCALAPPDATA': 'C:\\\\Users\\\\ameen.nazar\\\\AppData\\\\Local',\n",
       "        'LOGONSERVER': '\\\\\\\\ETS-JLT-ADC01',\n",
       "        'NUMBER_OF_PROCESSORS': '4',\n",
       "        'ONEDRIVE': 'C:\\\\Users\\\\ameen.nazar\\\\OneDrive',\n",
       "        'ONEDRIVECONSUMER': 'C:\\\\Users\\\\ameen.nazar\\\\OneDrive',\n",
       "        'OS': 'Windows_NT',\n",
       "        'PATH': 'C:\\\\ProgramData\\\\Anaconda3;C:\\\\ProgramData\\\\Anaconda3\\\\Library\\\\mingw-w64\\\\bin;C:\\\\ProgramData\\\\Anaconda3\\\\Library\\\\usr\\\\bin;C:\\\\ProgramData\\\\Anaconda3\\\\Library\\\\bin;C:\\\\ProgramData\\\\Anaconda3\\\\Scripts;C:\\\\app\\\\ameen.nazar\\\\product\\\\11.2.0\\\\client_2;C:\\\\app\\\\ameen.nazar\\\\product\\\\11.2.0\\\\client_1;C:\\\\Windows\\\\system32;C:\\\\Windows;C:\\\\Windows\\\\System32\\\\Wbem;C:\\\\Windows\\\\System32\\\\WindowsPowerShell\\\\v1.0\\\\;C:\\\\Windows\\\\System32\\\\OpenSSH\\\\;C:\\\\Program Files\\\\TortoiseGit\\\\bin;C:\\\\Program Files\\\\Git\\\\cmd;C:\\\\Android;C:\\\\Windows\\\\System32;C:\\\\Program Files (x86)\\\\Microsoft SQL Server\\\\150\\\\DTS\\\\Binn\\\\;C:\\\\Program Files\\\\Azure Data Studio\\\\bin;E:\\\\Data Science\\\\Azure\\\\TerraForm;C:\\\\Program Files (x86)\\\\PuTTY\\\\;C:\\\\Program Files (x86)\\\\Intel\\\\Intel(R) Management Engine Components\\\\DAL;C:\\\\Program Files\\\\Intel\\\\Intel(R) Management Engine Components\\\\DAL;C:\\\\Program Files\\\\Docker\\\\Docker\\\\resources\\\\bin;C:\\\\ProgramData\\\\DockerDesktop\\\\version-bin;C:\\\\Users\\\\ameen.nazar\\\\AppData\\\\Local\\\\Microsoft\\\\WindowsApps;C:\\\\Users\\\\ameen.nazar\\\\AppData\\\\Local\\\\Programs\\\\Microsoft VS Code\\\\bin;C:\\\\Program Files\\\\Azure Data Studio\\\\bin;C:\\\\Program Files\\\\JetBrains\\\\PyCharm Community Edition 2020.3.3\\\\bin;;E:\\\\Data Science\\\\Superset\\\\cmder\\\\bin;',\n",
       "        'PATHEXT': '.COM;.EXE;.BAT;.CMD;.VBS;.VBE;.JS;.JSE;.WSF;.WSH;.MSC',\n",
       "        'PROCESSOR_ARCHITECTURE': 'AMD64',\n",
       "        'PROCESSOR_IDENTIFIER': 'Intel64 Family 6 Model 78 Stepping 3, GenuineIntel',\n",
       "        'PROCESSOR_LEVEL': '6',\n",
       "        'PROCESSOR_REVISION': '4e03',\n",
       "        'PROGRAMDATA': 'C:\\\\ProgramData',\n",
       "        'PROGRAMFILES': 'C:\\\\Program Files',\n",
       "        'PROGRAMFILES(X86)': 'C:\\\\Program Files (x86)',\n",
       "        'PROGRAMW6432': 'C:\\\\Program Files',\n",
       "        'PSMODULEPATH': 'C:\\\\Program Files\\\\WindowsPowerShell\\\\Modules;C:\\\\Windows\\\\system32\\\\WindowsPowerShell\\\\v1.0\\\\Modules',\n",
       "        'PUBLIC': 'C:\\\\Users\\\\Public',\n",
       "        'PYCHARM COMMUNITY EDITION': 'C:\\\\Program Files\\\\JetBrains\\\\PyCharm Community Edition 2020.3.3\\\\bin;',\n",
       "        'SESSIONNAME': 'Console',\n",
       "        'SYSTEMDRIVE': 'C:',\n",
       "        'SYSTEMROOT': 'C:\\\\Windows',\n",
       "        'TEMP': 'C:\\\\Users\\\\AMEEN~1.NAZ\\\\AppData\\\\Local\\\\Temp',\n",
       "        'TMP': 'C:\\\\Users\\\\AMEEN~1.NAZ\\\\AppData\\\\Local\\\\Temp',\n",
       "        'USERDNSDOMAIN': 'EMARATECH.AE',\n",
       "        'USERDOMAIN': 'EMARATECH',\n",
       "        'USERDOMAIN_ROAMINGPROFILE': 'EMARATECH',\n",
       "        'USERNAME': 'Ameen.Nazar',\n",
       "        'USERPROFILE': 'C:\\\\Users\\\\ameen.nazar',\n",
       "        'VBOX_MSI_INSTALL_PATH': 'C:\\\\Program Files\\\\Oracle\\\\VirtualBox\\\\',\n",
       "        'WINDIR': 'C:\\\\Windows',\n",
       "        'JPY_INTERRUPT_EVENT': '2228',\n",
       "        'IPY_INTERRUPT_EVENT': '2228',\n",
       "        'JPY_PARENT_PID': '2436',\n",
       "        'TERM': 'xterm-color',\n",
       "        'CLICOLOR': '1',\n",
       "        'PAGER': 'cat',\n",
       "        'GIT_PAGER': 'cat',\n",
       "        'MPLBACKEND': 'module://ipykernel.pylab.backend_inline'}"
      ]
     },
     "execution_count": 110,
     "metadata": {},
     "output_type": "execute_result"
    }
   ],
   "source": [
    "import os\n",
    "os.environ"
   ]
  },
  {
   "cell_type": "raw",
   "metadata": {},
   "source": [
    "106. Write a Python program to divide a path on the extension separator."
   ]
  },
  {
   "cell_type": "code",
   "execution_count": 111,
   "metadata": {},
   "outputs": [
    {
     "data": {
      "text/plain": [
       "('D:\\\\Emaratech\\\\Work\\\\inside_country_fee', '.csv')"
      ]
     },
     "execution_count": 111,
     "metadata": {},
     "output_type": "execute_result"
    }
   ],
   "source": [
    "import os\n",
    "file_name = 'D:\\Emaratech\\Work\\inside_country_fee.csv'\n",
    "os.path.splitext(file_name)"
   ]
  },
  {
   "cell_type": "code",
   "execution_count": 112,
   "metadata": {},
   "outputs": [
    {
     "name": "stdout",
     "output_type": "stream",
     "text": [
      "Help on function splitext in module ntpath:\n",
      "\n",
      "splitext(p)\n",
      "    Split the extension from a pathname.\n",
      "    \n",
      "    Extension is everything from the last dot to the end, ignoring\n",
      "    leading dots.  Returns \"(root, ext)\"; ext may be empty.\n",
      "\n"
     ]
    }
   ],
   "source": [
    "help(os.path.splitext)"
   ]
  },
  {
   "cell_type": "raw",
   "metadata": {},
   "source": [
    "107. Write a Python program to retrieve file properties"
   ]
  },
  {
   "cell_type": "code",
   "execution_count": 114,
   "metadata": {},
   "outputs": [
    {
     "name": "stdout",
     "output_type": "stream",
     "text": [
      "Writing file_prop.py\n"
     ]
    }
   ],
   "source": [
    "%%writefile file_prop.py\n",
    "import os.path\n",
    "import time\n",
    "\n",
    "print('File         :', __file__)\n",
    "print('Access time  :', time.ctime(os.path.getatime(__file__)))\n",
    "print('Modified time:', time.ctime(os.path.getmtime(__file__)))\n",
    "print('Change time  :', time.ctime(os.path.getctime(__file__)))\n",
    "print('Size         :', os.path.getsize(__file__))"
   ]
  },
  {
   "cell_type": "code",
   "execution_count": 115,
   "metadata": {},
   "outputs": [
    {
     "name": "stdout",
     "output_type": "stream",
     "text": [
      "File         : file_prop.py\n",
      "Access time  : Tue Feb 23 14:30:18 2021\n",
      "Modified time: Tue Feb 23 14:30:06 2021\n",
      "Change time  : Tue Feb 23 14:30:06 2021\n",
      "Size         : 313\n"
     ]
    }
   ],
   "source": [
    "!python file_prop.py"
   ]
  },
  {
   "cell_type": "raw",
   "metadata": {},
   "source": [
    "108. Write a Python program to find path refers to a file or directory when you encounter a path name"
   ]
  },
  {
   "cell_type": "code",
   "execution_count": 117,
   "metadata": {},
   "outputs": [
    {
     "name": "stdout",
     "output_type": "stream",
     "text": [
      "file\n"
     ]
    }
   ],
   "source": [
    "import os\n",
    "file_name = 'D:\\Emaratech\\Work\\inside_country_fee.csv'\n",
    "if os.path.isdir(file_name):\n",
    "    print('Directory')\n",
    "elif os.path.isfile(file_name):\n",
    "    print('file')\n",
    "else:\n",
    "    print('Unknown')"
   ]
  },
  {
   "cell_type": "code",
   "execution_count": 119,
   "metadata": {},
   "outputs": [
    {
     "name": "stdout",
     "output_type": "stream",
     "text": [
      "Writing file_prop1.py\n"
     ]
    }
   ],
   "source": [
    "%%writefile file_prop1.py\n",
    "import os.path\n",
    "\n",
    "for file in [ __file__, os.path.dirname(__file__), '/', './broken_link']:\n",
    "    print('File        :', file)\n",
    "    print('Absolute    :', os.path.isabs(file))\n",
    "    print('Is File?    :', os.path.isfile(file))\n",
    "    print('Is Dir?     :', os.path.isdir(file))\n",
    "    print('Is Link?    :', os.path.islink(file))\n",
    "    print('Exists?     :', os.path.exists(file))\n",
    "    print('Link Exists?:', os.path.lexists(file))"
   ]
  },
  {
   "cell_type": "code",
   "execution_count": 120,
   "metadata": {},
   "outputs": [
    {
     "name": "stdout",
     "output_type": "stream",
     "text": [
      "File        : file_prop1.py\n",
      "Absolute    : False\n",
      "Is File?    : True\n",
      "Is Dir?     : False\n",
      "Is Link?    : False\n",
      "Exists?     : True\n",
      "Link Exists?: True\n",
      "File        : \n",
      "Absolute    : False\n",
      "Is File?    : False\n",
      "Is Dir?     : False\n",
      "Is Link?    : False\n",
      "Exists?     : False\n",
      "Link Exists?: False\n",
      "File        : /\n",
      "Absolute    : True\n",
      "Is File?    : False\n",
      "Is Dir?     : True\n",
      "Is Link?    : False\n",
      "Exists?     : True\n",
      "Link Exists?: True\n",
      "File        : ./broken_link\n",
      "Absolute    : False\n",
      "Is File?    : False\n",
      "Is Dir?     : False\n",
      "Is Link?    : False\n",
      "Exists?     : False\n",
      "Link Exists?: False\n"
     ]
    }
   ],
   "source": [
    "!python file_prop1.py"
   ]
  },
  {
   "cell_type": "raw",
   "metadata": {},
   "source": [
    "109. Write a Python program to check if a number is positive, negative or zero."
   ]
  },
  {
   "cell_type": "raw",
   "metadata": {},
   "source": [
    "110. Write a Python program to get numbers divisible by fifteen from a list using an anonymous function."
   ]
  },
  {
   "cell_type": "code",
   "execution_count": 131,
   "metadata": {},
   "outputs": [
    {
     "data": {
      "text/plain": [
       "[45, 60, 105]"
      ]
     },
     "execution_count": 131,
     "metadata": {},
     "output_type": "execute_result"
    }
   ],
   "source": [
    "num_list = [45, 55, 60, 37, 100, 105, 220]\n",
    "div15 = filter(lambda x:x%15==0,num_list)\n",
    "list(div15)"
   ]
  },
  {
   "cell_type": "raw",
   "metadata": {},
   "source": [
    "111. Write a Python program to make file lists from current directory using a wildcard. "
   ]
  },
  {
   "cell_type": "code",
   "execution_count": 134,
   "metadata": {},
   "outputs": [
    {
     "data": {
      "text/plain": [
       "['abc.txt',\n",
       " 'file_prop.py',\n",
       " 'file_prop1.py',\n",
       " 'osystem.py',\n",
       " 'Python Basic (Part -I).ipynb',\n",
       " 'sample_program.py',\n",
       " 'Tips.ipynb',\n",
       " 'tracefile.py']"
      ]
     },
     "execution_count": 134,
     "metadata": {},
     "output_type": "execute_result"
    }
   ],
   "source": [
    "import glob\n",
    "glob.glob('*.*')"
   ]
  },
  {
   "cell_type": "raw",
   "metadata": {},
   "source": [
    "112. Write a Python program to remove the first item from a specified list."
   ]
  },
  {
   "cell_type": "code",
   "execution_count": 138,
   "metadata": {},
   "outputs": [
    {
     "data": {
      "text/plain": [
       "deque([2, 3, 4])"
      ]
     },
     "execution_count": 138,
     "metadata": {},
     "output_type": "execute_result"
    }
   ],
   "source": [
    "from collections import deque\n",
    "l = deque([1,2,3,4])\n",
    "l.popleft()\n",
    "l"
   ]
  },
  {
   "cell_type": "code",
   "execution_count": null,
   "metadata": {},
   "outputs": [],
   "source": []
  },
  {
   "cell_type": "code",
   "execution_count": 137,
   "metadata": {},
   "outputs": [
    {
     "name": "stdout",
     "output_type": "stream",
     "text": [
      "\n",
      "Original Color:  ['Red', 'Black', 'Green', 'White', 'Orange']\n",
      "After removing the first color:  ['Black', 'Green', 'White', 'Orange']\n",
      "\n"
     ]
    }
   ],
   "source": [
    "color = [\"Red\", \"Black\", \"Green\", \"White\", \"Orange\"]\n",
    "print(\"\\nOriginal Color: \",color)\n",
    "del color[0]\n",
    "print(\"After removing the first color: \",color)\n",
    "print()"
   ]
  },
  {
   "cell_type": "raw",
   "metadata": {},
   "source": [
    "113. Write a Python program to input a number, if it is not a number generate an error message"
   ]
  },
  {
   "cell_type": "code",
   "execution_count": 145,
   "metadata": {},
   "outputs": [
    {
     "name": "stdout",
     "output_type": "stream",
     "text": [
      "Enter a number :aascdas\n",
      "Error\n"
     ]
    }
   ],
   "source": [
    "import sys\n",
    "try:\n",
    "    num = int(input('Enter a number :'))\n",
    "except:\n",
    "    print('Error')"
   ]
  },
  {
   "cell_type": "code",
   "execution_count": 146,
   "metadata": {},
   "outputs": [
    {
     "name": "stdout",
     "output_type": "stream",
     "text": [
      "Input a number: das\n",
      "\n",
      "This is not a number. Try again...\n",
      "\n",
      "Input a number: 212\n"
     ]
    }
   ],
   "source": [
    "while True:\n",
    "    try:\n",
    "        a = int(input(\"Input a number: \"))\n",
    "        break\n",
    "    except ValueError:\n",
    "        print(\"\\nThis is not a number. Try again...\")\n",
    "        print()"
   ]
  },
  {
   "cell_type": "raw",
   "metadata": {},
   "source": [
    "114. Write a Python program to filter the positive numbers from a list."
   ]
  },
  {
   "cell_type": "code",
   "execution_count": 147,
   "metadata": {},
   "outputs": [
    {
     "data": {
      "text/plain": [
       "[23, 4, 5]"
      ]
     },
     "execution_count": 147,
     "metadata": {},
     "output_type": "execute_result"
    }
   ],
   "source": [
    "l = [-1,23,4,5,-100]\n",
    "list(filter(lambda x:x>0,l))"
   ]
  },
  {
   "cell_type": "raw",
   "metadata": {},
   "source": [
    "115. Write a Python program to compute the product of a list of integers (without using for loop)."
   ]
  },
  {
   "cell_type": "code",
   "execution_count": 150,
   "metadata": {},
   "outputs": [
    {
     "data": {
      "text/plain": [
       "120"
      ]
     },
     "execution_count": 150,
     "metadata": {},
     "output_type": "execute_result"
    }
   ],
   "source": [
    "from functools import reduce\n",
    "l = [1,2,3,4,5]\n",
    "reduce(lambda x,y:x*y,l)"
   ]
  },
  {
   "cell_type": "raw",
   "metadata": {},
   "source": [
    "116. Write a Python program to print Unicode characters"
   ]
  },
  {
   "cell_type": "code",
   "execution_count": 151,
   "metadata": {},
   "outputs": [
    {
     "name": "stdout",
     "output_type": "stream",
     "text": [
      "Python Exercises - w3resource\n"
     ]
    },
    {
     "data": {
      "text/plain": [
       "'Python Exercises - w3resource'"
      ]
     },
     "execution_count": 151,
     "metadata": {},
     "output_type": "execute_result"
    }
   ],
   "source": [
    "str = u'\\u0050\\u0079\\u0074\\u0068\\u006f\\u006e \\u0045\\u0078\\u0065\\u0072\\u0063\\u0069\\u0073\\u0065\\u0073 \\u002d \\u0077\\u0033\\u0072\\u0065\\u0073\\u006f\\u0075\\u0072\\u0063\\u0065'\n",
    "print(str)\n",
    "str"
   ]
  },
  {
   "cell_type": "raw",
   "metadata": {},
   "source": [
    "117. Write a Python program to prove that two string variables of same value point same memory location."
   ]
  },
  {
   "cell_type": "code",
   "execution_count": 154,
   "metadata": {},
   "outputs": [
    {
     "name": "stdout",
     "output_type": "stream",
     "text": [
      "\n",
      "Memory location of str1 = 0x21592a27a30\n",
      "Memory location of str2 = 0x21592a27a30\n",
      "\n"
     ]
    }
   ],
   "source": [
    "str1 = \"Python\"\n",
    "str2 = \"Python\"\n",
    " \n",
    "print(\"\\nMemory location of str1 =\", hex(id(str1)))\n",
    "print(\"Memory location of str2 =\", hex(id(str2)))\n",
    "print()"
   ]
  },
  {
   "cell_type": "raw",
   "metadata": {},
   "source": [
    "118. Write a Python program to create a bytearray from a list."
   ]
  },
  {
   "cell_type": "code",
   "execution_count": 156,
   "metadata": {},
   "outputs": [
    {
     "data": {
      "text/plain": [
       "[10, 20, 30, 40, 50]"
      ]
     },
     "execution_count": 156,
     "metadata": {},
     "output_type": "execute_result"
    }
   ],
   "source": [
    "l = [10,20,30,40,50]\n",
    "bl = bytearray(l)\n",
    "list(bl)"
   ]
  },
  {
   "cell_type": "markdown",
   "metadata": {},
   "source": [
    "bytearray() method returns a bytearray object which is an array of given bytes. It gives a mutable sequence of integers in the range 0 <= x < 256."
   ]
  },
  {
   "cell_type": "code",
   "execution_count": 160,
   "metadata": {},
   "outputs": [
    {
     "name": "stdout",
     "output_type": "stream",
     "text": [
      "bytearray(b'Geeksforgeeks')\n",
      "bytearray(b'\\xff\\xfeG\\x00e\\x00e\\x00k\\x00s\\x00f\\x00o\\x00r\\x00g\\x00e\\x00e\\x00k\\x00s\\x00')\n"
     ]
    }
   ],
   "source": [
    "str = \"Geeksforgeeks\"\n",
    "  \n",
    "# encoding the string with unicode 8 and 16 \n",
    "array1 = bytearray(str, 'utf-8') \n",
    "array2 = bytearray(str, 'utf-16') \n",
    "  \n",
    "print(array1) \n",
    "print(array2)"
   ]
  },
  {
   "cell_type": "code",
   "execution_count": 161,
   "metadata": {},
   "outputs": [
    {
     "name": "stdout",
     "output_type": "stream",
     "text": [
      "bytearray(b'\\x00\\x00\\x00')\n"
     ]
    }
   ],
   "source": [
    "# size of array \n",
    "size = 3\n",
    "  \n",
    "# will create an array of given size  \n",
    "# and initialize with null bytes \n",
    "array1 = bytearray(size) \n",
    "  \n",
    "print(array1) "
   ]
  },
  {
   "cell_type": "raw",
   "metadata": {},
   "source": [
    "119. Write a Python program to display a floating number in specified numbers."
   ]
  },
  {
   "cell_type": "code",
   "execution_count": 168,
   "metadata": {},
   "outputs": [
    {
     "name": "stdout",
     "output_type": "stream",
     "text": [
      "num =  12.12312\n"
     ]
    }
   ],
   "source": [
    "num = 12.12312321\n",
    "print(f'num ={num:10.5f}')"
   ]
  },
  {
   "cell_type": "raw",
   "metadata": {},
   "source": [
    "120. Write a Python program to format a specified string to limit the number of characters to 6. "
   ]
  },
  {
   "cell_type": "code",
   "execution_count": 172,
   "metadata": {},
   "outputs": [
    {
     "name": "stdout",
     "output_type": "stream",
     "text": [
      "abcdefg\n",
      "abcdefg\n"
     ]
    }
   ],
   "source": [
    "s = 'abcdefgh'\n",
    "print(s[:7])\n",
    "print('%.7s' %s)"
   ]
  },
  {
   "cell_type": "raw",
   "metadata": {},
   "source": [
    "121. Write a Python program to determine whether variable is defined or not."
   ]
  },
  {
   "cell_type": "code",
   "execution_count": 173,
   "metadata": {},
   "outputs": [
    {
     "name": "stdout",
     "output_type": "stream",
     "text": [
      "Variable Defined\n"
     ]
    }
   ],
   "source": [
    "try:\n",
    "    x = 1\n",
    "except NameError:\n",
    "    print('Variable Not defined')\n",
    "else:\n",
    "    print('Variable Defined')"
   ]
  },
  {
   "cell_type": "code",
   "execution_count": 178,
   "metadata": {},
   "outputs": [
    {
     "name": "stdout",
     "output_type": "stream",
     "text": [
      "Variable Not defined\n",
      "Done!!!\n"
     ]
    }
   ],
   "source": [
    "try:\n",
    "    z\n",
    "except NameError:\n",
    "    print('Variable Not defined')\n",
    "else:\n",
    "    print('Variable Defined')\n",
    "finally:\n",
    "    print('Done!!!')"
   ]
  },
  {
   "cell_type": "raw",
   "metadata": {},
   "source": [
    "122. Write a Python program to empty a variable without destroying it. \n",
    "Sample data: n=20\n",
    "d = {\"x\":200}\n",
    "Expected Output : 0\n",
    "{}"
   ]
  },
  {
   "cell_type": "code",
   "execution_count": 179,
   "metadata": {},
   "outputs": [
    {
     "name": "stdout",
     "output_type": "stream",
     "text": [
      "0\n",
      "{}\n",
      "[]\n",
      "()\n"
     ]
    }
   ],
   "source": [
    "n = 20\n",
    "d = {\"x\":200}\n",
    "l = [1,3,5]\n",
    "t= (5,7,8)\n",
    "print(type(n)())\n",
    "print(type(d)())\n",
    "print(type(l)())\n",
    "print(type(t)()) "
   ]
  },
  {
   "cell_type": "raw",
   "metadata": {},
   "source": [
    "123. Write a Python program to determine the largest and smallest integers, longs, floats."
   ]
  },
  {
   "cell_type": "code",
   "execution_count": 185,
   "metadata": {},
   "outputs": [
    {
     "name": "stdout",
     "output_type": "stream",
     "text": [
      "Float value information:  sys.float_info(max=1.7976931348623157e+308, max_exp=1024, max_10_exp=308, min=2.2250738585072014e-308, min_exp=-1021, min_10_exp=-307, dig=15, mant_dig=53, epsilon=2.220446049250313e-16, radix=2, rounds=1)\n",
      "\n",
      "Integer value information:  sys.int_info(bits_per_digit=30, sizeof_digit=4)\n",
      "\n",
      "Maximum size of an integer:  9223372036854775807\n"
     ]
    }
   ],
   "source": [
    "import sys\n",
    "print(\"Float value information: \",sys.float_info)\n",
    "print(\"\\nInteger value information: \",sys.int_info)\n",
    "print(\"\\nMaximum size of an integer: \",sys.maxsize) "
   ]
  },
  {
   "cell_type": "raw",
   "metadata": {},
   "source": [
    "124. Write a Python program to check whether multiple variables have the same value."
   ]
  },
  {
   "cell_type": "code",
   "execution_count": 186,
   "metadata": {},
   "outputs": [
    {
     "name": "stdout",
     "output_type": "stream",
     "text": [
      "All variables have same value!\n"
     ]
    }
   ],
   "source": [
    "x = 20\n",
    "y = 20\n",
    "z = 20\n",
    "if x == y == z == 20:\n",
    "    print(\"All variables have same value!\")  "
   ]
  },
  {
   "cell_type": "raw",
   "metadata": {},
   "source": [
    "125. Write a Python program to sum of all counts in a collections? "
   ]
  },
  {
   "cell_type": "code",
   "execution_count": 187,
   "metadata": {},
   "outputs": [
    {
     "data": {
      "text/plain": [
       "Counter({2: 2, 4: 2, 6: 3, 8: 1, 10: 1})"
      ]
     },
     "execution_count": 187,
     "metadata": {},
     "output_type": "execute_result"
    }
   ],
   "source": [
    "import collections\n",
    "num = [2,2,4,6,6,8,6,10,4]\n",
    "collections.Counter(num)"
   ]
  },
  {
   "cell_type": "code",
   "execution_count": 189,
   "metadata": {},
   "outputs": [
    {
     "data": {
      "text/plain": [
       "9"
      ]
     },
     "execution_count": 189,
     "metadata": {},
     "output_type": "execute_result"
    }
   ],
   "source": [
    "sum(collections.Counter(num).values())"
   ]
  },
  {
   "cell_type": "raw",
   "metadata": {},
   "source": [
    "126. Write a Python program to get the actual module object for a given object"
   ]
  },
  {
   "cell_type": "code",
   "execution_count": 193,
   "metadata": {},
   "outputs": [
    {
     "name": "stdout",
     "output_type": "stream",
     "text": [
      "<module 'math' (built-in)>\n"
     ]
    }
   ],
   "source": [
    "from inspect import getmodule\n",
    "from math import sqrt\n",
    "print(getmodule(sqrt))"
   ]
  },
  {
   "cell_type": "code",
   "execution_count": 196,
   "metadata": {},
   "outputs": [
    {
     "name": "stdout",
     "output_type": "stream",
     "text": [
      "<module 'collections' from 'C:\\\\ProgramData\\\\Anaconda3\\\\lib\\\\collections\\\\__init__.py'>\n"
     ]
    }
   ],
   "source": [
    "from inspect import getmodule\n",
    "from collections import Counter\n",
    "print(getmodule(Counter))"
   ]
  },
  {
   "cell_type": "raw",
   "metadata": {},
   "source": [
    "127. Write a Python program to check whether an integer fits in 64 bits."
   ]
  },
  {
   "cell_type": "code",
   "execution_count": 201,
   "metadata": {},
   "outputs": [],
   "source": [
    "num = 100000000000000000000000000000000\n",
    "if num.bit_length() < 64:\n",
    "    print('Fits in 64 bits')\n",
    "else:\n",
    "    print('Not Fits in 64 bits')"
   ]
  },
  {
   "cell_type": "raw",
   "metadata": {},
   "source": [
    "128. Write a Python program to check whether lowercase letters exist in a string."
   ]
  },
  {
   "cell_type": "code",
   "execution_count": 211,
   "metadata": {},
   "outputs": [
    {
     "data": {
      "text/plain": [
       "True"
      ]
     },
     "execution_count": 211,
     "metadata": {},
     "output_type": "execute_result"
    }
   ],
   "source": [
    "st = 'Ameen'\n",
    "any(c.islower() for c in st)"
   ]
  },
  {
   "cell_type": "raw",
   "metadata": {},
   "source": [
    "129. Write a Python program to add trailing and leading zeroes to a string."
   ]
  },
  {
   "cell_type": "code",
   "execution_count": 215,
   "metadata": {},
   "outputs": [
    {
     "name": "stdout",
     "output_type": "stream",
     "text": [
      "12300000\n",
      "00000123\n"
     ]
    }
   ],
   "source": [
    "st = '123'\n",
    "print(st.ljust(8,'0'))\n",
    "print(st.rjust(8,'0'))"
   ]
  },
  {
   "cell_type": "raw",
   "metadata": {},
   "source": [
    "130. Write a Python program to use double quotes to display strings. "
   ]
  },
  {
   "cell_type": "code",
   "execution_count": 217,
   "metadata": {},
   "outputs": [
    {
     "name": "stdout",
     "output_type": "stream",
     "text": [
      "{\"ameen\": 10, \"santosh\": 20}\n"
     ]
    }
   ],
   "source": [
    "import json\n",
    "print(json.dumps({'ameen':10,'santosh':20}))"
   ]
  },
  {
   "cell_type": "raw",
   "metadata": {},
   "source": [
    "131. Write a Python program to split a variable length string into variables. "
   ]
  },
  {
   "cell_type": "code",
   "execution_count": 219,
   "metadata": {},
   "outputs": [
    {
     "name": "stdout",
     "output_type": "stream",
     "text": [
      "1 2 3\n"
     ]
    }
   ],
   "source": [
    "l = [1,2,3]\n",
    "x,y,z = l\n",
    "print(x,y,z)"
   ]
  },
  {
   "cell_type": "raw",
   "metadata": {},
   "source": [
    "132. Write a Python program to list home directory without absolute path."
   ]
  },
  {
   "cell_type": "code",
   "execution_count": 220,
   "metadata": {},
   "outputs": [
    {
     "data": {
      "text/plain": [
       "'C:\\\\Users\\\\ameen.nazar'"
      ]
     },
     "execution_count": 220,
     "metadata": {},
     "output_type": "execute_result"
    }
   ],
   "source": [
    "import os.path\n",
    "\n",
    "os.path.expanduser(\"~\")"
   ]
  },
  {
   "cell_type": "raw",
   "metadata": {},
   "source": [
    "133. Write a Python program to calculate the time runs (difference between start and current time) of a program. "
   ]
  },
  {
   "cell_type": "code",
   "execution_count": 223,
   "metadata": {},
   "outputs": [
    {
     "name": "stdout",
     "output_type": "stream",
     "text": [
      "Execution time 21.00062370300293  ms\n"
     ]
    }
   ],
   "source": [
    "import time as t\n",
    "def sumn(n):\n",
    "    s = 0\n",
    "    for i in range(1,n+1):\n",
    "        s+= i\n",
    "    return s\n",
    "\n",
    "t1 = t.time()\n",
    "sumn(100000)\n",
    "t2 = t.time()\n",
    "print(\"Execution time\",(t2-t1)*1000,' ms')\n"
   ]
  },
  {
   "cell_type": "raw",
   "metadata": {},
   "source": [
    "134. Write a Python program to input two integers in a single line."
   ]
  },
  {
   "cell_type": "code",
   "execution_count": 224,
   "metadata": {},
   "outputs": [
    {
     "name": "stdout",
     "output_type": "stream",
     "text": [
      "Input the value of x & y\n",
      "2 3\n",
      "The value of x & y are:  2 3\n"
     ]
    }
   ],
   "source": [
    "print(\"Input the value of x & y\")\n",
    "x, y = map(int, input().split())\n",
    "print(\"The value of x & y are: \",x,y)"
   ]
  },
  {
   "cell_type": "raw",
   "metadata": {},
   "source": [
    "135. Write a Python program to print a variable without spaces between values.\n",
    "Sample value : x =30\n",
    "Expected output : Value of x is \"30\""
   ]
  },
  {
   "cell_type": "code",
   "execution_count": 225,
   "metadata": {},
   "outputs": [
    {
     "name": "stdout",
     "output_type": "stream",
     "text": [
      "Value of x is \"30\"\n"
     ]
    }
   ],
   "source": [
    "x = 30\n",
    "print('Value of x is \"{}\"'.format(x))"
   ]
  },
  {
   "cell_type": "raw",
   "metadata": {},
   "source": [
    "136. Write a Python program to find files and skip directories of a given directory."
   ]
  },
  {
   "cell_type": "code",
   "execution_count": 232,
   "metadata": {},
   "outputs": [
    {
     "name": "stdout",
     "output_type": "stream",
     "text": [
      "D:\\Emaratech\\Work\\ Services free of Emaratech fees charges - 01 Jan 2018 - 31 Dec 2020.xls\n",
      "D:\\Emaratech\\Work\\(طلب احصائية الدخول والخروج لجميع المباني (2.xlsx\n",
      "D:\\Emaratech\\Work\\- source File ملفات دبي تم رفع التعميم خلال المهلة.xlsx\n",
      "D:\\Emaratech\\Work\\01 Script - Lift Residence Closure.txt\n",
      "D:\\Emaratech\\Work\\01 Script - Residence Update.txt\n",
      "D:\\Emaratech\\Work\\01-Aprt-18-awrrpt.rar\n",
      "D:\\Emaratech\\Work\\01-Datafix - Insert Permit Detail.sql\n",
      "D:\\Emaratech\\Work\\01-Datafix - Permit Closure - 2081113677624.txt\n",
      "D:\\Emaratech\\Work\\01-Datafix - Permit Closure - 2081116546434.txt\n",
      "D:\\Emaratech\\Work\\01-Datafix - Permit Closure - 2082715196413.txt\n",
      "D:\\Emaratech\\Work\\01-Datafix - Permit Closure - 2141116558750.txt\n",
      "D:\\Emaratech\\Work\\01-Datafix - Permit Closure - 3018815004585 .txt\n",
      "D:\\Emaratech\\Work\\01-Datafix - Permit Status Change_2010716930584.txt\n",
      "D:\\Emaratech\\Work\\01-Datafix - Permit Validity Update _ 1 - Copy.txt\n",
      "D:\\Emaratech\\Work\\01-Datafix - Permit Validity Update _ 1.txt\n",
      "D:\\Emaratech\\Work\\01-Datafix - Permit Validity Update _ 6011116014813.txt\n",
      "D:\\Emaratech\\Work\\01-Datafix - Residence passport id update.txt\n",
      "D:\\Emaratech\\Work\\01-Datafix - Residence Renewal - 15220063007823.sql\n",
      "D:\\Emaratech\\Work\\01-Datafix - Residence Renewal.txt\n",
      "D:\\Emaratech\\Work\\01Script - eDNRD ETL issue (4).txt\n",
      "D:\\Emaratech\\Work\\01_Script_Delete_EGov_INTG_MBS_Duplicate.txt\n",
      "D:\\Emaratech\\Work\\02 Script - eDNRD ETL issue (2).txt\n",
      "D:\\Emaratech\\Work\\02 Script - eDNRD ETL issue (3)-correction.txt\n",
      "D:\\Emaratech\\Work\\02 Script - eDNRD ETL issue (3).txt\n",
      "D:\\Emaratech\\Work\\02 Script - eDNRD ETL issue.txt\n",
      "D:\\Emaratech\\Work\\02 Script - Undo Last Exit.txt\n",
      "D:\\Emaratech\\Work\\02 Script - Undo travel on residence.txt\n",
      "D:\\Emaratech\\Work\\02-Datafix - Permit Closure - 1048815016862.txt\n",
      "D:\\Emaratech\\Work\\02-Datafix - Permit Closure - 2 permits.txt\n",
      "D:\\Emaratech\\Work\\02-Datafix-update Application.txt\n",
      "D:\\Emaratech\\Work\\02_Script - ETL Failures - 23Feb2017.txt\n",
      "D:\\Emaratech\\Work\\02_Script_Delete_EGov_INTG_MBS_Duplicate&_WRONG_EST_CODE.txt\n",
      "D:\\Emaratech\\Work\\03.Permit       - Entry  - Multiple travels  - Undo Previous Travel.sql\n",
      "D:\\Emaratech\\Work\\0310.pdf\n",
      "D:\\Emaratech\\Work\\1 Llinked to passports which has same passport number with different nationalities.xlsx\n",
      "D:\\Emaratech\\Work\\1. IM125488_Update_est_code_permits.txt\n",
      "D:\\Emaratech\\Work\\1.00.006_DF201608026_IM56189.zip\n",
      "D:\\Emaratech\\Work\\1.00.006_DF201608027_IM56191.zip\n",
      "D:\\Emaratech\\Work\\1.00.006_DF201608028_IM56194.zip\n",
      "D:\\Emaratech\\Work\\1.Active Residencies linked to passport with different nationality than profile and linked to passports which has same passport number with different nationalities.xlsx\n",
      "D:\\Emaratech\\Work\\1.Permits having 0 payment and still active_v003.xls\n",
      "D:\\Emaratech\\Work\\10_SEP_2015.rar\n",
      "D:\\Emaratech\\Work\\11.Permit(On Arrival) - Entry - First Travel - With permit deletion.sql\n",
      "D:\\Emaratech\\Work\\112121.jpg\n",
      "D:\\Emaratech\\Work\\1486879159377_TVIS_16458_BLakListLogNameColumnWidthIncrease_1.18.000.sql\n",
      "D:\\Emaratech\\Work\\1489902575489_TVIS-17904_TravelPerformanceReportPrivilege_1.22.007.sql\n",
      "D:\\Emaratech\\Work\\1494490174917_TVIS-24227_ReciprocityVisa4Japan_1.21.003.sql\n",
      "D:\\Emaratech\\Work\\1495437477171_TVIS_22439_ReciprocityArgentinaWithNormalPassport_1.22.008.sql\n",
      "D:\\Emaratech\\Work\\1495610149600_TVIS-22603_RevisionTableArchiving_Revision_Enhancement.sql\n",
      "D:\\Emaratech\\Work\\1497166216630_TVIS-23486_TravelPerformanceReportMenuPrivilege_1.23.000\n",
      "D:\\Emaratech\\Work\\1497435705958_TVIS-23831_IndividualPersonNoIndex.sql\n",
      "D:\\Emaratech\\Work\\1497510811665_TVIS-22603_FetchArchiveRevisonRecord.sql\n",
      "D:\\Emaratech\\Work\\1498731566062_TVIS-24268_MissingFlightCodesBadurAirlines_1.23.009.sql\n",
      "D:\\Emaratech\\Work\\1504095666880_TVIS-27342_EformSerialMappingAppTypeId23ForRA001982.sql\n",
      "D:\\Emaratech\\Work\\1st Batch - Analysis.xlsx\n",
      "D:\\Emaratech\\Work\\2 Linked to passports which has similar passport_no(having spaces) with  different nationalities.xlsx\n",
      "D:\\Emaratech\\Work\\2.Active Residencies linked to passport with different nationality than profile and linked to passports which has similar passport_no(having spaces) with  different nationalities.xlsx\n",
      "D:\\Emaratech\\Work\\2.Residencies having 0 payment and still active_v003.xls\n",
      "D:\\Emaratech\\Work\\20120147163317 - Passport Page.jpg\n",
      "D:\\Emaratech\\Work\\20120157007144 - Passport Page.jpg\n",
      "D:\\Emaratech\\Work\\2014 - 2016 stats Vision and Legacy on nationality.xlsx\n",
      "D:\\Emaratech\\Work\\2014 - 2016 stats Vision and Legacy.xlsx\n",
      "D:\\Emaratech\\Work\\2016 Travel Stats Vision (002).xlsx\n",
      "D:\\Emaratech\\Work\\2016 Travel Stats Vision (003).xlsx\n",
      "D:\\Emaratech\\Work\\2016 Travel Stats Vision (004).xlsx\n",
      "D:\\Emaratech\\Work\\2016 Travel Stats Vision.xlsx\n",
      "D:\\Emaratech\\Work\\2016 Travel Stats Vision_Nationality(005).xlsx\n",
      "D:\\Emaratech\\Work\\2016 Travel Stats Vision_Person_type(005).xlsx\n",
      "D:\\Emaratech\\Work\\2016 Travel Summary for BC users.xlsx\n",
      "D:\\Emaratech\\Work\\2016-07-18-PHOTO-00000306.jpg\n",
      "D:\\Emaratech\\Work\\2016-07-18-PHOTO-00000307.jpg\n",
      "D:\\Emaratech\\Work\\2016-07-20-PHOTO-00006282.jpg\n",
      "D:\\Emaratech\\Work\\2017 Approved  New Permit Applications- Sponsor Relation Son - HC Approved For 1 Year.xlsx\n",
      "D:\\Emaratech\\Work\\2017 Approved Application - Sponsor Relation Son - HC Approved For 1 Year.xlsx\n",
      "D:\\Emaratech\\Work\\2017 Approved Application - With No Renewal- Sponsor Relation Son - HC Approved For 1 Year.xlsx\n",
      "D:\\Emaratech\\Work\\20200509095219.pdf\n",
      "D:\\Emaratech\\Work\\2047720166740.pdf\n",
      "D:\\Emaratech\\Work\\2047720167345.pdf\n",
      "D:\\Emaratech\\Work\\2047720167367.pdf\n",
      "D:\\Emaratech\\Work\\2048720603199.pdf\n",
      "D:\\Emaratech\\Work\\206_new_year_2021_sequence.sql\n",
      "D:\\Emaratech\\Work\\21067976 - Report details _ v(003).xls\n",
      "D:\\Emaratech\\Work\\21232106.pdf\n",
      "D:\\Emaratech\\Work\\21273802.pdf\n",
      "D:\\Emaratech\\Work\\22000516.pdf\n",
      "D:\\Emaratech\\Work\\22000560.pdf\n",
      "D:\\Emaratech\\Work\\22000580.pdf\n",
      "D:\\Emaratech\\Work\\22000582.pdf\n",
      "D:\\Emaratech\\Work\\22950520.pdf\n",
      "D:\\Emaratech\\Work\\22950521.pdf\n",
      "D:\\Emaratech\\Work\\22950522.pdf\n",
      "D:\\Emaratech\\Work\\22950523.pdf\n",
      "D:\\Emaratech\\Work\\22950540.pdf\n",
      "D:\\Emaratech\\Work\\22950541.pdf\n",
      "D:\\Emaratech\\Work\\22950623.pdf\n",
      "D:\\Emaratech\\Work\\22950640.pdf\n",
      "D:\\Emaratech\\Work\\22950641.pdf\n",
      "D:\\Emaratech\\Work\\22950642.pdf\n",
      "D:\\Emaratech\\Work\\22950643.pdf\n",
      "D:\\Emaratech\\Work\\22950644.pdf\n",
      "D:\\Emaratech\\Work\\22950645.pdf\n",
      "D:\\Emaratech\\Work\\22950646.pdf\n",
      "D:\\Emaratech\\Work\\22950647.pdf\n",
      "D:\\Emaratech\\Work\\22950648.pdf\n",
      "D:\\Emaratech\\Work\\22950650.pdf\n",
      "D:\\Emaratech\\Work\\22950660.pdf\n",
      "D:\\Emaratech\\Work\\22950680.pdf\n",
      "D:\\Emaratech\\Work\\22950700.pdf\n",
      "D:\\Emaratech\\Work\\22950701.pdf\n",
      "D:\\Emaratech\\Work\\22950702.pdf\n",
      "D:\\Emaratech\\Work\\22950720.pdf\n",
      "D:\\Emaratech\\Work\\22950721.pdf\n",
      "D:\\Emaratech\\Work\\22950722.pdf\n",
      "D:\\Emaratech\\Work\\22950723.pdf\n",
      "D:\\Emaratech\\Work\\22950740.pdf\n",
      "D:\\Emaratech\\Work\\22950741.pdf\n",
      "D:\\Emaratech\\Work\\22950760.pdf\n",
      "D:\\Emaratech\\Work\\22950780.pdf\n",
      "D:\\Emaratech\\Work\\26171309.pdf\n",
      "D:\\Emaratech\\Work\\2_IM125680_Update_est_code_Residence.txt\n",
      "D:\\Emaratech\\Work\\3 Has no same passport_no added with different nationalities.xlsx\n",
      "D:\\Emaratech\\Work\\3.Active Residencies linked to passport with different nationality than profile and has no same passport_no added with different nationalities.xlsx\n",
      "D:\\Emaratech\\Work\\3.Permits with lift temp closure and 0 payment_v003.xls\n",
      "D:\\Emaratech\\Work\\3.Script travel update.txt\n",
      "D:\\Emaratech\\Work\\4.Residents with lift temp closure and 0 payment_v003.xls\n",
      "D:\\Emaratech\\Work\\40.pdf\n",
      "D:\\Emaratech\\Work\\458042fd7f6dff45a7e36ff941850243.jpg\n",
      "D:\\Emaratech\\Work\\5.Active New Born Outpass_v003.xls\n",
      "D:\\Emaratech\\Work\\6.Active Intruder Outpass_v003.xls\n",
      "D:\\Emaratech\\Work\\7b49ba16c0325aff41866aa6e18bc066.jpg\n",
      "D:\\Emaratech\\Work\\91b6a1d6777eb83a2b645a29e18df557.jpg\n",
      "D:\\Emaratech\\Work\\92716753.tmp\n",
      "D:\\Emaratech\\Work\\96Hr On-Arrival Visa - Issued from Dubai Ports.xlsx\n",
      "D:\\Emaratech\\Work\\96Hr Visa Issue Stats - Apil 1 to April 10 2018 - visa Dubai Airport.xlsx\n",
      "D:\\Emaratech\\Work\\96Hr Visa Issue Stats - Apil 1 to April 10 2018.xlsx\n",
      "D:\\Emaratech\\Work\\access.txt\n",
      "D:\\Emaratech\\Work\\Accompany Serial No Incorrect(v2).xlsx\n",
      "D:\\Emaratech\\Work\\Active Dubai Establishments missing in MOI based on spon_estb_person.sep_old_no.xlsx\n",
      "D:\\Emaratech\\Work\\Active Dubai Establishments Name Missmatch with MOI.xlsx\n",
      "D:\\Emaratech\\Work\\Active Dubai Permits with Issued Residence files.xlsx\n",
      "D:\\Emaratech\\Work\\Active Dubai Residence with Residence Type Missmatch.csv\n",
      "D:\\Emaratech\\Work\\Active Dubai Residence with Residence Type Missmatch.xlsx\n",
      "D:\\Emaratech\\Work\\Active Dubai Residence with Residence Type Missmatch_v(001).xlsx\n",
      "D:\\Emaratech\\Work\\Active Dubai Residencies missing in MOI - Analysis on 23 June 2020.xlsx\n",
      "D:\\Emaratech\\Work\\Active Dubai Residency on 17 Sep 2018.xlsx\n",
      "D:\\Emaratech\\Work\\Active Dubai Residency on 31 Dec 2014.xlsx\n",
      "D:\\Emaratech\\Work\\Active Dubai Residency on 31 Dec 2015.xlsx\n",
      "D:\\Emaratech\\Work\\Active Dubai Residency on 31 Dec 2015.zip\n",
      "D:\\Emaratech\\Work\\Active Dubai Residency on 31 Dec 2016.xlsx\n",
      "D:\\Emaratech\\Work\\Active Dubai Residency on 31 Dec 2017.xlsx\n",
      "D:\\Emaratech\\Work\\Active Dubai Residency(Area Vise)  on 17 Sep 2018.xlsx\n",
      "D:\\Emaratech\\Work\\Active Dubai Residency(Area Vise)  on 31 Dec 2014.xlsx\n",
      "D:\\Emaratech\\Work\\Active Dubai Residency(Area Vise)  on 31 Dec 2015.xlsx\n",
      "D:\\Emaratech\\Work\\Active Dubai Residency(Area Vise)  on 31 Dec 2016.xls\n",
      "D:\\Emaratech\\Work\\Active Dubai Residency(Area Vise)  on 31 Dec 2016.xlsx\n",
      "D:\\Emaratech\\Work\\Active Dubai Residency(Area Vise)  on 31 Dec 2017.xls\n",
      "D:\\Emaratech\\Work\\Active Dubai Residency(Area Vise)  on 31 Dec 2017.xlsx\n",
      "D:\\Emaratech\\Work\\Active Dubai Residency(Area Vise)  on17 Sep 2018.xls\n",
      "D:\\Emaratech\\Work\\Active Files with Acitve Accompanied Stats.xlsx\n",
      "D:\\Emaratech\\Work\\Active Permits - Closed in MOI - Copy.xlsx\n",
      "D:\\Emaratech\\Work\\Active Permits - Closed in MOI.rar\n",
      "D:\\Emaratech\\Work\\Active Permits - Closed in MOI.xlsx\n",
      "D:\\Emaratech\\Work\\Active Permits with Residence issued afterwards.csv\n",
      "D:\\Emaratech\\Work\\Active Permits with Residence issued afterwards.xlsx\n",
      "D:\\Emaratech\\Work\\Active Residence Permits.xls\n",
      "D:\\Emaratech\\Work\\Active Residence with No active EIDA - Sample.xls\n",
      "D:\\Emaratech\\Work\\Active Residence with No active EIDA - Sample.zip\n",
      "D:\\Emaratech\\Work\\Active Residence with No active EIDA.xls\n",
      "D:\\Emaratech\\Work\\Active_resident_with_profession(v1).xlsx\n",
      "D:\\Emaratech\\Work\\Active_resident_with_profession(v2).xlsx\n",
      "D:\\Emaratech\\Work\\Active_visa_with_profession(v1).xlsx\n",
      "D:\\Emaratech\\Work\\Activity 02May2017.txt\n",
      "D:\\Emaratech\\Work\\Activity 07May2017.txt\n",
      "D:\\Emaratech\\Work\\Activity 08May2017.txt\n",
      "D:\\Emaratech\\Work\\Activity 25Apr2017.txt\n",
      "D:\\Emaratech\\Work\\Activity 26Apr2017.txt\n",
      "D:\\Emaratech\\Work\\Activity 27Apr2017.txt\n",
      "D:\\Emaratech\\Work\\Activity 30Apr2017.txt\n",
      "D:\\Emaratech\\Work\\Actual Duplicate INIMMDB Client_Mast Duplicate GRP_NOs.xlsx\n",
      "D:\\Emaratech\\Work\\Actual Profile Pic - BC.jpg\n",
      "D:\\Emaratech\\Work\\Actual Profile Pic - Non BC.jpg\n",
      "D:\\Emaratech\\Work\\Added New Professions - 13Aug2018.xlsx\n",
      "D:\\Emaratech\\Work\\AGED Modification Required -IQC and VC.xls\n",
      "D:\\Emaratech\\Work\\Ahwal officer privileges.xlsx\n",
      "D:\\Emaratech\\Work\\Airport POS Settlement Report - April 2017.pdf\n",
      "D:\\Emaratech\\Work\\All active permit & RES which sponsor not Dubai File.xlsx\n",
      "D:\\Emaratech\\Work\\All Disaster Residence Applications Till 21st Nov 2018.xlsx\n",
      "D:\\Emaratech\\Work\\All Dubai Airport only -  Travel Transactions - Nov 2018.xlsx\n",
      "D:\\Emaratech\\Work\\All Echannel Application - Send to NSD - Monthy - 2017 2018.xlsx\n",
      "D:\\Emaratech\\Work\\All Echannel Application - Send to NSD with Reject_Approve Stat - 2017,2018.xlsx\n",
      "D:\\Emaratech\\Work\\All Entry n Exit transactions done by ML2464 on 21 Jan 2017.xlsx\n",
      "D:\\Emaratech\\Work\\All HC Echannel Applications for Syrian National Posted with Status -App date between 1st Jan 2018 - 31 Oct 2018.xlsx\n",
      "D:\\Emaratech\\Work\\All HC Echannel Applications Posted with Status -App date between 1st Jan 2018 - 31 Oct 2018.xlsx\n",
      "D:\\Emaratech\\Work\\All Job Seeker Application for Syrian National till 21st Nov 2018.xlsx\n",
      "D:\\Emaratech\\Work\\All Lift temporary closure from vision.xlsx\n",
      "D:\\Emaratech\\Work\\All single entry visas where exit is there but visas are not closed in vision.xlsx\n",
      "D:\\Emaratech\\Work\\All visa type 88 (Dubai & MOI both) which have exit but not closed.xlsx\n",
      "D:\\Emaratech\\Work\\All Vision Transactions - User ML1974  - 1st Sep 2018 - 08 Oct 2018 (001).xlsx\n",
      "D:\\Emaratech\\Work\\All Vision Transactions - User ML923  - 1st Nov 2017.xlsx\n",
      "D:\\Emaratech\\Work\\All Vision Transactions - User ML923,ML761  - 1st Nov 2017(003).xlsx\n",
      "D:\\Emaratech\\Work\\All Vision Transactions - User ML923,ML761  - 1st Nov 2017(004).xlsx\n",
      "D:\\Emaratech\\Work\\All Vision Transactions from Users.xlsx\n",
      "D:\\Emaratech\\Work\\ALL_RESI_SPON_BY  4680-101  change type from 2 to 7_ - Vision Issue_v001.xlsx\n",
      "D:\\Emaratech\\Work\\ALL_RESI_SPON_BY  4680-101  change type from 2 to 7_ Vision Issue - Need ESB Action List.xlsx\n",
      "D:\\Emaratech\\Work\\ALL_RESI_SPON_BY  4680-101  change type from 2 to 7_Analysed_v001.xlsx\n",
      "D:\\Emaratech\\Work\\ALL_RESI_SPON_BY  4680-101  change type from 2 to 7_Analysed_v002.xlsx\n",
      "D:\\Emaratech\\Work\\ALL_RESI_SPON_BY  4680-101  change type from 2 to 7_Corrected Residence in vision.xlsx\n",
      "D:\\Emaratech\\Work\\ALL_RESI_SPON_BY  4680-101  change type from 2 to 7_Need Update from MOI Team (004).xlsx\n",
      "D:\\Emaratech\\Work\\ALL_RESI_SPON_BY  4680-101  change type from 2 to 7_Need Update from MOI Team.xlsx\n",
      "D:\\Emaratech\\Work\\am.html\n",
      "D:\\Emaratech\\Work\\ameen_query_new (002).xls\n",
      "D:\\Emaratech\\Work\\Ameen_violation_issue_14_jan_2019.xls\n",
      "D:\\Emaratech\\Work\\Amensty - HC applications - Rejection Stats - 1st Aug 2018 - 27th Aug 2018.xlsx\n",
      "D:\\Emaratech\\Work\\amnest.html\n",
      "D:\\Emaratech\\Work\\amnest.sql\n",
      "D:\\Emaratech\\Work\\Amnesty -  Assistant Category based on Gender and Nationality - 1st Aug 2018 - 25 Sep 2018.xlsx\n",
      "D:\\Emaratech\\Work\\Amnesty -  Inprocess application with zero violation payments - 06 Jan 2019.xlsx\n",
      "D:\\Emaratech\\Work\\Amnesty -  Inprocess application with zero violation payments - 06 Jan 2019_v002.xlsx\n",
      "D:\\Emaratech\\Work\\Amnesty - All Application Stats - Nationality Gender Age - 1st Aug 2018 - 26th Sep 2018.xlsx\n",
      "D:\\Emaratech\\Work\\Amnesty - All Application Stats - Nationality Gender Age - 1st Aug 2018 - 30th Sep 2018.xlsx\n",
      "D:\\Emaratech\\Work\\Amnesty - All Transactions - 01 Aug 2018 - 20 Oct 2018.xlsx\n",
      "D:\\Emaratech\\Work\\Amnesty - Application Stats - Monthly - Aug,Sep 2018 _ v(002).xlsx\n",
      "D:\\Emaratech\\Work\\Amnesty - Application Stats - Monthly - Aug,Sep 2018.xlsx\n",
      "D:\\Emaratech\\Work\\Amnesty - Details of Outpass Issued for Intruders - 1st Aug 2018 till 13 Aug 2018.xlsx\n",
      "D:\\Emaratech\\Work\\Amnesty - Exempted Violation Amount - 1st August to 31st Dec 2018.xlsx\n",
      "D:\\Emaratech\\Work\\Amnesty - Exempted Violation Amount - 1st August to 31st Dec 2018_v002.xlsx\n",
      "D:\\Emaratech\\Work\\Amnesty - Job Seeker Visa Applicatin - InProgress Status - Created  9Sep2018 - 17Sep2018.xlsx\n",
      "D:\\Emaratech\\Work\\Amnesty - Job Seeker Visa Application Count -  on Age - 1st Aug  - 26 Sep 2018 _ v(002).xlsx\n",
      "D:\\Emaratech\\Work\\Amnesty - Job Seeker Visa Application Count -  on Age - 1st Aug  - 26 Sep 2018.xlsx\n",
      "D:\\Emaratech\\Work\\Amnesty - Job Seeker Visa Application Count - 1st Aug  - 17 Sep 2018.xlsx\n",
      "D:\\Emaratech\\Work\\Amnesty - Outpass Application Details - Nationality and Outpass Type - 1st Aug 2018 to 20th Nov 2018.xlsx\n",
      "D:\\Emaratech\\Work\\Amnesty - Outpass issued and Exit Count for duration 01-08-2018 till  05-09-2018.xlsx\n",
      "D:\\Emaratech\\Work\\Amnesty - Outpass issued based on Nationality and Exit Count for the duration 01-08-2018 till 06-10-2018_v(001).xlsx\n",
      "D:\\Emaratech\\Work\\Amnesty - Outpass issued based on Nationality and Exit Count for the duration 01-08-2018 till 20-10-2018_v(001).xlsx\n",
      "D:\\Emaratech\\Work\\Amnesty - Outpass issued based on Nationality and Exit Count for the duration 01-08-2018 till yesterday 27-08-2018.xlsx\n",
      "D:\\Emaratech\\Work\\Amnesty - Outpass issued based on Nationality and Exit Count for the duration 01-08-2018 till yesterday 27-08-2018_v(002).xlsx\n",
      "D:\\Emaratech\\Work\\Amnesty - Outpass issued based on Nationality and Visa type for the duration 01-08-2018 till yesterday 27-08-2018.xlsx\n",
      "D:\\Emaratech\\Work\\Amnesty Applications - 0 Violation Payment - Without Change Status Fee - 12 Aug 2018 - 24 - Sep 2018.xlsx\n",
      "D:\\Emaratech\\Work\\Amnesty Applications Posted - 1st aug 2018 - 24 Sep 2018 -  Disasters Residence for Syrian nationality.xlsx\n",
      "D:\\Emaratech\\Work\\Amnesty Applications Posted - 1st aug 2018 - 31 aug 2018.xlsx\n",
      "D:\\Emaratech\\Work\\Amnesty Cumulative Report - 1st Aug 2018 - 5th Aug 2018 (v2).xlsx\n",
      "D:\\Emaratech\\Work\\Amnesty Cumulative Report - 1st Aug 2018 - 5th Aug 2018.xlsx\n",
      "D:\\Emaratech\\Work\\Amnesty Daily Sats.html\n",
      "D:\\Emaratech\\Work\\Amnesty Daily Stats 7-Aug-2018(v2).xlsx\n",
      "D:\\Emaratech\\Work\\Amnesty Report - Application Posted Count - Philipino Nationals.xlsx\n",
      "D:\\Emaratech\\Work\\Amnesty Report - Eform - with Amer Center Details.xls\n",
      "D:\\Emaratech\\Work\\Amnesty Report 1 - Last Transaction of files that were exempted during Amnesty - 1st Aug 2018 Till 31 Dec 2018.xlsx\n",
      "D:\\Emaratech\\Work\\Amnesty Report 2 - Violation Exempted files  - Closed due to change status - Violation Payment with Zero Amount During 1st Aug 2018 Till 31 Dec 2018__v(003).xlsx\n",
      "D:\\Emaratech\\Work\\Amnesty Report 2 - Violation Exempted files  - Closed losed due to change status - Violation Payment with Zero Amount During 1st Aug 2018 Till 31 Dec 2018.xlsx\n",
      "D:\\Emaratech\\Work\\Amnesty Report 2 - Violation Exempted files  - Closed losed due to change status - Violation Payment with Zero Amount During 1st Aug 2018 Till 31 Dec 2018__temo.xlsx\n",
      "D:\\Emaratech\\Work\\Amnesty Report 3 - Visa type 60 Job Seeker Including dependents, file holders and new born App types.xlsx\n",
      "D:\\Emaratech\\Work\\Amnesty Report 4 - Violation Exempted files  - Closed due to change status - From To Visa Type -  Violation Payment with Zero Amount During 1st Aug 2018 Till 31 Dec 2018_arabic.xlsx\n",
      "D:\\Emaratech\\Work\\Amnesty Report 4 - Violation Exempted files  - Closed losed due to change status - From To Visa Type -  Violation Payment with Zero Amount During 1st Aug 2018 Till 31 Dec 2018.xlsx\n",
      "D:\\Emaratech\\Work\\Amnesty Report 5 - Number of current violators on Dubai Files (Excluding Schengen and Brazil On Arrival Visa).xlsx\n",
      "D:\\Emaratech\\Work\\Amnesty Report 6 - Visa type 60 Closure Counts.xlsx\n",
      "D:\\Emaratech\\Work\\Amnesty Report 7 - Visa type 60 permit status - Only Dubai Files.xlsx\n",
      "D:\\Emaratech\\Work\\Amnesty Report 8 -  Outpass Issued for Amnesty Stats.xlsx\n",
      "D:\\Emaratech\\Work\\Amnesty Stats - On Nationality - 1st Aug 2018 - 7th Aug 2018.xlsx\n",
      "D:\\Emaratech\\Work\\Amnesty Stats - Outpass Applications - 01 Aug 2018 to 15 Oct 2018.xlsx\n",
      "D:\\Emaratech\\Work\\Amnesty Stats - Outpass Issued for Amnesty with Age comparison.xlsx\n",
      "D:\\Emaratech\\Work\\Amnesty Stats - Outpass Status - 1st Aug 2018 till 12 Aug 2018 1,30PM.xlsx\n",
      "D:\\Emaratech\\Work\\Amnesty Stats - permit residence cancellation (002).xlsx\n",
      "D:\\Emaratech\\Work\\Amnesty Stats - permit residence cancellation - with exit or change status.xlsx\n",
      "D:\\Emaratech\\Work\\Amnesty Stats - permit residence cancellation.xlsx\n",
      "D:\\Emaratech\\Work\\Amnesty Stats - transaction from Vision amnesty screen for non-Dubai files.xlsx\n",
      "D:\\Emaratech\\Work\\Amnesty Stats - Weekly - Most and Least Violated Nationals - 1st Aug 2018 - 7th Aug 2018.xlsx\n",
      "D:\\Emaratech\\Work\\Amnesty Stats - Weekly - Violation Details - 1st Aug 2018 - 7th Aug 2018.xlsx\n",
      "D:\\Emaratech\\Work\\Amnesty Stats - Weekly.sql\n",
      "D:\\Emaratech\\Work\\Amnesty Summary Report - Applications counts - Aug 2018.xlsx\n",
      "D:\\Emaratech\\Work\\Amnesty Transactions Status 2018-08-03.xlsx\n",
      "D:\\Emaratech\\Work\\Amnesty Transactions Status 2018-08-04.xlsx\n",
      "D:\\Emaratech\\Work\\Amnesty Violation Exception Logic Confirmation.xlsx\n",
      "D:\\Emaratech\\Work\\Amnesty Violation Payment with 0 Amount.xls\n",
      "D:\\Emaratech\\Work\\Amnesty Violation Proc Change - Test Cases.xlsx\n",
      "D:\\Emaratech\\Work\\Amnesty Weekly Stats - 1st Aug 2018 - 14th Aug 2018 - v(001).xlsx\n",
      "D:\\Emaratech\\Work\\Amnesty Weekly Stats - 1st Aug 2018 - 7th Aug 2018 - Applications Submitted through E-Channels with Zero Amount.xlsx\n",
      "D:\\Emaratech\\Work\\Amnesty Weekly Stats - 1st Aug 2018 - 7th Aug 2018 - v(002).xlsx\n",
      "D:\\Emaratech\\Work\\Amnesty Weekly Stats - 1st Aug 2018 - 7th Aug 2018.xlsx\n",
      "D:\\Emaratech\\Work\\amnetsty.csv\n",
      "D:\\Emaratech\\Work\\Analyses- Change status transactions on Dubai files done from other emirate -1st Jan 2021 - 14 Feb 2021.xlsx\n",
      "D:\\Emaratech\\Work\\Analyses- Change status transactions on Dubai files done from other emirate -1st Jan 2021 - 15 Feb 2021.csv\n",
      "D:\\Emaratech\\Work\\Analyses- Duplicate Travel in Travel Detail Table - 27 May 2020.xlsx\n",
      "D:\\Emaratech\\Work\\Analysis - Day on which maximum people inside UAE in 2017.xlsx\n",
      "D:\\Emaratech\\Work\\Analysis of App Approval Updating Profile Data - July 2020.csv\n",
      "D:\\Emaratech\\Work\\Analysis of App Approval Updating Profile Data - July 2020.xlsx\n",
      "D:\\Emaratech\\Work\\Analysis on Duplicate EIDA records (10 Dec 2019).sql\n",
      "D:\\Emaratech\\Work\\ANAYSIS - CLIENT_MAST.xlsx\n",
      "D:\\Emaratech\\Work\\Animated button.html\n",
      "D:\\Emaratech\\Work\\Animated button.xml\n",
      "D:\\Emaratech\\Work\\app status freezone.xls\n",
      "D:\\Emaratech\\Work\\App.xls\n"
     ]
    },
    {
     "name": "stdout",
     "output_type": "stream",
     "text": [
      "D:\\Emaratech\\Work\\Applcations to Remove In Process from MOI.xlsx\n",
      "D:\\Emaratech\\Work\\Applicant Name Character Occurances.xlsx\n",
      "D:\\Emaratech\\Work\\Applicant name special character analysis - 12 Jan 2021.csv\n",
      "D:\\Emaratech\\Work\\Applicant Passport Nationality 101 Issue.xlsx\n",
      "D:\\Emaratech\\Work\\Application - AUTO Approval Stats - 2017.xlsx\n",
      "D:\\Emaratech\\Work\\Application - IQC Average Processing Time - 1st Jan 2017 - 31st Mar 2019 - Quarterly.xlsx\n",
      "D:\\Emaratech\\Work\\Application Change Passport 2016 and 2017.rar\n",
      "D:\\Emaratech\\Work\\Application Change Passport 2016 and 2017.xls\n",
      "D:\\Emaratech\\Work\\Application Details -  Rejected from NSD against Bangladesh - 1st Aug 2018 - 19 Sep 2018.xlsx\n",
      "D:\\Emaratech\\Work\\Application Details - 17Jan2021.xlsx\n",
      "D:\\Emaratech\\Work\\Application Details - MoHRE - NSD Rejected - 1st Sep 2018 - 19th Sep 2018.xlsx\n",
      "D:\\Emaratech\\Work\\Application Details - Sep - Oct 2020.csv\n",
      "D:\\Emaratech\\Work\\Application Details - Sep - Oct 2020.xlsx\n",
      "D:\\Emaratech\\Work\\Application Details - Sep - Oct 2020.zip\n",
      "D:\\Emaratech\\Work\\Application Details - Sep - Oct 2020_v2.zip\n",
      "D:\\Emaratech\\Work\\Application Details - Zajel Skip Estabs-1st Sep 20 - 31st Oct 2020_v2.csv\n",
      "D:\\Emaratech\\Work\\Application Details - Zajel Skip Estabs-1st Sep 20 - 31st Oct 2020_v2.xlsx\n",
      "D:\\Emaratech\\Work\\Application Details 2017 -  Resent to IQC from BL Pending Status(002).xlsx\n",
      "D:\\Emaratech\\Work\\Application Details 2017 -  Resent to IQC from BL Pending Status.xls\n",
      "D:\\Emaratech\\Work\\Application Details 2017.xls\n",
      "D:\\Emaratech\\Work\\Application Details extract with medical result 01 Apr 2019 - 20 May 2019 - v(1).xlsx\n",
      "D:\\Emaratech\\Work\\Application Details extract with medical result 01 Jan 2019 - 24 Feb 2019 - v(1).xlsx\n",
      "D:\\Emaratech\\Work\\Application Details extract with medical result 01 Jan 2019 - 31 Mar 2019 - v(1).xlsx\n",
      "D:\\Emaratech\\Work\\Application Details extract with medical result.xls\n",
      "D:\\Emaratech\\Work\\Application Details extract with medical result.zip\n",
      "D:\\Emaratech\\Work\\Application Details warranty duplicate payments.xlsx\n",
      "D:\\Emaratech\\Work\\Application details with AWB.xlsx\n",
      "D:\\Emaratech\\Work\\Application Details.xlsx\n",
      "D:\\Emaratech\\Work\\Application Detals - TRAN numbers for almarwa_v(002).xlsx\n",
      "D:\\Emaratech\\Work\\application docs.zip\n",
      "D:\\Emaratech\\Work\\Application Inside Fee Missing(002).xls\n",
      "D:\\Emaratech\\Work\\Application Inside Fee Missing.xls\n",
      "D:\\Emaratech\\Work\\Application Intake per Service and Sponsor Type - 2018.xlsx\n",
      "D:\\Emaratech\\Work\\Application Logs - IM210915.txt\n",
      "D:\\Emaratech\\Work\\Application Logs 6_15_17 22_04_05_678 GST.txt\n",
      "D:\\Emaratech\\Work\\Application Pending at Embassy in Vision Core_v002.xls\n",
      "D:\\Emaratech\\Work\\Application Pending at Embassy in Vision Core_v003.xls\n",
      "D:\\Emaratech\\Work\\Application Pending at Embassy in Vision Core_v004.xlsx\n",
      "D:\\Emaratech\\Work\\Application Pending at Embassy in Vision Core_v005.xlsx\n",
      "D:\\Emaratech\\Work\\Application Posted IQCS Stats - 1st Sep 2018 - 29 Sep 2018.xlsx\n",
      "D:\\Emaratech\\Work\\Application Posted with Null Arabic names.xlsx\n",
      "D:\\Emaratech\\Work\\Application Posted with Null Arabic names_v(002).xlsx\n",
      "D:\\Emaratech\\Work\\Application Rejected but having permit issued - 2018.xlsx\n",
      "D:\\Emaratech\\Work\\Application Stats - 2018 - Quarterly 1,2,3_v(002).xlsx\n",
      "D:\\Emaratech\\Work\\Application Stats - Approved - 1st July - 15th Sep - 2017 Vs 2018.xlsx\n",
      "D:\\Emaratech\\Work\\Application Stats - May 2018 - Individual Sponsor - Visa Type 7 - Maid Profession.xlsx\n",
      "D:\\Emaratech\\Work\\Application stats - Visa Type 2,19 - Feb 2017 & Feb 2018.xlsx\n",
      "D:\\Emaratech\\Work\\Application Status - Processed 11 to 17 Dec.xls\n",
      "D:\\Emaratech\\Work\\Application Status - Processed 11 to 17 Dec.zip\n",
      "D:\\Emaratech\\Work\\Application Status - Processed 18 to 24 Dec.xls\n",
      "D:\\Emaratech\\Work\\Application Status - Processed 18 to 24 Dec_iqc.csv\n",
      "D:\\Emaratech\\Work\\Application Status - Processed 18 to 24 Dec_vc.csv\n",
      "D:\\Emaratech\\Work\\Application Status - Processed 4 to 10 Dec.xls\n",
      "D:\\Emaratech\\Work\\Application status comparison in echannel.xlsx\n",
      "D:\\Emaratech\\Work\\Application Status.xls\n",
      "D:\\Emaratech\\Work\\Application Stuck in IQC due to Violation.xlsx\n",
      "D:\\Emaratech\\Work\\Application Support Activities.xlsx\n",
      "D:\\Emaratech\\Work\\Application Type Lk.xlsx\n",
      "D:\\Emaratech\\Work\\Application Warranty Zero issue.xlsx\n",
      "D:\\Emaratech\\Work\\Application With No Medical Results for Resident Sponsors - Applicant Age greater than 18.xlsx\n",
      "D:\\Emaratech\\Work\\ApplicationInProcessEvent_app_id54543611.txt\n",
      "D:\\Emaratech\\Work\\Applications - Send to NSD Stats - 2018.xlsx\n",
      "D:\\Emaratech\\Work\\Applications 2017 Medical Response Not Received-Partial Result.xls\n",
      "D:\\Emaratech\\Work\\Applications 2017 Medical Response Not Received-Partial Result.zip\n",
      "D:\\Emaratech\\Work\\Applications 2017 Medical Response Not Received.zip\n",
      "D:\\Emaratech\\Work\\Applications Stuck in IQC as Sponsor Visit Required  till Jun 2018 (003).xlsx\n",
      "D:\\Emaratech\\Work\\Applications Stuck in IQC as Sponsor Visit Required between 1st Jan 2016 and 31 Dec 2017.xlsx\n",
      "D:\\Emaratech\\Work\\Applications with MOI Sponsor having Dubai immigrations files.xlsx\n",
      "D:\\Emaratech\\Work\\Applications with MOI Sponsor having Dubai immigrations file_(002).xlsx\n",
      "D:\\Emaratech\\Work\\Application_IQCS_app_type 10 and 30.xlsx\n",
      "D:\\Emaratech\\Work\\application_log_appi18134324.txt\n",
      "D:\\Emaratech\\Work\\application_user.txt\n",
      "D:\\Emaratech\\Work\\application_user.xls\n",
      "D:\\Emaratech\\Work\\application_user.xlsx\n",
      "D:\\Emaratech\\Work\\application_user_references.xlsx\n",
      "D:\\Emaratech\\Work\\Application_Visioncore_app_type 10 and 30.xlsx\n",
      "D:\\Emaratech\\Work\\Approved Applications With Zajel, Statistics - Friday 30-October 2020_v2.xlsx\n",
      "D:\\Emaratech\\Work\\Approved_apps_with_zajel_stats.csv\n",
      "D:\\Emaratech\\Work\\Approved_apps_with_zajel_stats.zip\n",
      "D:\\Emaratech\\Work\\Apps to Migrate to SC in Priority.xlsx\n",
      "D:\\Emaratech\\Work\\APP_DOC_POST (2).xls\n",
      "D:\\Emaratech\\Work\\app_doc_post.csv\n",
      "D:\\Emaratech\\Work\\app_doc_post.xls\n",
      "D:\\Emaratech\\Work\\APP_DOC_REQUIRED (003).xls\n",
      "D:\\Emaratech\\Work\\APP_DOC_REQUIRED (003).xlsx\n",
      "D:\\Emaratech\\Work\\APP_DOC_REQUIRED.xlsx\n",
      "D:\\Emaratech\\Work\\APP_DOC_REQUIRED_devscript.sql\n",
      "D:\\Emaratech\\Work\\app_no-26668571_1.jpg\n",
      "D:\\Emaratech\\Work\\app_no-26668571_2.jpg\n",
      "D:\\Emaratech\\Work\\app_no-26680023.jpg\n",
      "D:\\Emaratech\\Work\\app_no-26686864.jpg\n",
      "D:\\Emaratech\\Work\\app_no-26689990_1.jpg\n",
      "D:\\Emaratech\\Work\\app_no-26689990_2.png\n",
      "D:\\Emaratech\\Work\\app_post_trans.xls\n",
      "D:\\Emaratech\\Work\\app_trans_req.xls\n",
      "D:\\Emaratech\\Work\\Arabic name analysis.xlsx\n",
      "D:\\Emaratech\\Work\\arabic name sample.xls\n",
      "D:\\Emaratech\\Work\\arabic name sample_v3.xls\n",
      "D:\\Emaratech\\Work\\Arabic Name Sampling -  100 Sample set1.xlsx\n",
      "D:\\Emaratech\\Work\\Arabic Name Sampling - 23Feb2021.xls\n",
      "D:\\Emaratech\\Work\\Arabic Name Sampling - 23Feb2021.xlsx\n",
      "D:\\Emaratech\\Work\\Arabic Name Sampling - 23Feb2021_v2.xlsx\n",
      "D:\\Emaratech\\Work\\Arabic Name Sampling - 24Feb2021_v3.xlsx\n",
      "D:\\Emaratech\\Work\\araboc name sample.xls\n",
      "D:\\Emaratech\\Work\\Archived Profession - Missing ETL mapping.xlsx\n",
      "D:\\Emaratech\\Work\\Archived Professions in vision.xlsx\n",
      "D:\\Emaratech\\Work\\Arrest.xls\n",
      "D:\\Emaratech\\Work\\ARREST_REASON-Nov 2019.xls\n",
      "D:\\Emaratech\\Work\\ARREST_REASON.xls\n",
      "D:\\Emaratech\\Work\\ARREST_REASON_LK.xls\n",
      "D:\\Emaratech\\Work\\arrest_reason_lk_03Mar2019.xls\n",
      "D:\\Emaratech\\Work\\arrest_reason_lk_19May2019.xls\n",
      "D:\\Emaratech\\Work\\Arrival Visa Types.xlsx\n",
      "D:\\Emaratech\\Work\\asdsadsa.csv\n",
      "D:\\Emaratech\\Work\\Assign or Delete Privileges.sql\n",
      "D:\\Emaratech\\Work\\Assign Privileges for user based on another user privileges.sql\n",
      "D:\\Emaratech\\Work\\Assign Privileges for user ML1924 based on another user ML1815  privileges.txt\n",
      "D:\\Emaratech\\Work\\Assign Privileges for users based on another user privileges.txt\n",
      "D:\\Emaratech\\Work\\Assign Remove Eiting Ban Type Privilege - User Role Backup 04 04 2019.xlsx\n",
      "D:\\Emaratech\\Work\\Assigned NSD User Privileges - Vision.xlsx\n",
      "D:\\Emaratech\\Work\\Assin Privilege to users based on privilege_id.sql\n",
      "D:\\Emaratech\\Work\\Assin user role to users based on another role.txt\n",
      "D:\\Emaratech\\Work\\Assin user role to users.sql\n",
      "D:\\Emaratech\\Work\\Assin users to departments.txt\n",
      "D:\\Emaratech\\Work\\association rule- assignment-1.jpg\n",
      "D:\\Emaratech\\Work\\Attachment.zip\n",
      "D:\\Emaratech\\Work\\attchviewerservlet21f37a74.docx\n",
      "D:\\Emaratech\\Work\\attchviewerservlet29fb779c.xlsx\n",
      "D:\\Emaratech\\Work\\AUDIT TABLES.sql\n",
      "D:\\Emaratech\\Work\\Auto Approved Both in IQC and VisionCore Apps Count - Approved Date from 1st Jan 2019 to 9th April 2019.xlsx\n",
      "D:\\Emaratech\\Work\\Auto BL Report - 15 Dec 2016 - 01 Jan 2017.csv\n",
      "D:\\Emaratech\\Work\\Auto BL Report - 15 Dec 2016 - 01 Jan 2017.xlsx\n",
      "D:\\Emaratech\\Work\\auto processing stats_1st Jan 2019 - 6th Oct 2019_v1.xls\n",
      "D:\\Emaratech\\Work\\AutoIQC Medical Result.xls\n",
      "D:\\Emaratech\\Work\\Automation applications verification for DHA - Till date 13June2019.xlsx\n",
      "D:\\Emaratech\\Work\\Automation applications verification for DHA - Till date 13June2019_v002.xlsx\n",
      "D:\\Emaratech\\Work\\Automation applications verification for DHA - Till date 13June2019_v003.xlsx\n",
      "D:\\Emaratech\\Work\\Automation applications verification for DHA - Till date 13June2019_v004.xlsx\n",
      "D:\\Emaratech\\Work\\avg.jpg\n",
      "D:\\Emaratech\\Work\\AWR Report for DB_ VSNPROD, Inst_ vsnprod1, Snaps_ 25931-25932.html\n",
      "D:\\Emaratech\\Work\\Back Dated Travels - Arrival Departure - Dubai Airports - Aug till Nov 2018.xls\n",
      "D:\\Emaratech\\Work\\Back Dated Travels - Arrival Departure - Dubai Airports - Aug till Nov 2018_v(002).xls\n",
      "D:\\Emaratech\\Work\\Back Dated Travels - Arrival Departure - Dubai Airports - Aug till Nov 2018_v(002).xlsx\n",
      "D:\\Emaratech\\Work\\Back Dated Travels - Arrival Departure - Dubai Airports - Aug till Nov 2018_v(003).xlsx\n",
      "D:\\Emaratech\\Work\\BackDated Travel Details - 2020.xlsx\n",
      "D:\\Emaratech\\Work\\Backup_24Mar2019.zip\n",
      "D:\\Emaratech\\Work\\Ban Privileged Users.xlsx\n",
      "D:\\Emaratech\\Work\\Bank ID Missmatch Comparison - 7 Aug 2019.xlsx\n",
      "D:\\Emaratech\\Work\\Ban_Inq_Tab_ABSC_12Apr2016.zip\n",
      "D:\\Emaratech\\Work\\base rule config.csv\n",
      "D:\\Emaratech\\Work\\base rule config.xlsx\n",
      "D:\\Emaratech\\Work\\Batch Job Restart.sql\n",
      "D:\\Emaratech\\Work\\Batch Step execution check in progress  11-Mar-2019.msg\n",
      "D:\\Emaratech\\Work\\BC Report Configuration.xlsx\n",
      "D:\\Emaratech\\Work\\BC TRANSACTIONAL REPORTS.SQL\n",
      "D:\\Emaratech\\Work\\BC user count on terminals.xlsx\n",
      "D:\\Emaratech\\Work\\BC Vs NGB Stats - 2018 - 1st Jan 2018 till 19 Dec 2018.xlsx\n",
      "D:\\Emaratech\\Work\\BC Vs NGB Stats - Dec 2018 and Jan 2019.xlsx\n",
      "D:\\Emaratech\\Work\\BcLite - Blacklist Package Compilation - Dependent Objects.xlsx\n",
      "D:\\Emaratech\\Work\\BcLite - Violation Package Compilation - Dependent Objects.xlsx\n",
      "D:\\Emaratech\\Work\\BcLite BL complie scrips - set 2.sql\n",
      "D:\\Emaratech\\Work\\BcLite BL complie scrips - set 3.sql\n",
      "D:\\Emaratech\\Work\\BcLite Travel Requests - UAE Citizen,Non UAE Citizen and GCC Local.xlsx\n",
      "D:\\Emaratech\\Work\\BcLite Travel Stats - 19th - 26th March 2017 for all Terminals (2).xlsx\n",
      "D:\\Emaratech\\Work\\BcLite Travel Stats - 19th - 26th March 2017 for all Terminals.xlsx\n",
      "D:\\Emaratech\\Work\\BcLite Travels - Dubai Airports - 29March2018 - 5 00PM - 7 59PM.xlsx\n",
      "D:\\Emaratech\\Work\\BcLite UAE Local Stats.xlsx\n",
      "D:\\Emaratech\\Work\\BcLite UAE Local Stats_v(002).xlsx\n",
      "D:\\Emaratech\\Work\\BcLite Violation Procedure Sync.sql\n",
      "D:\\Emaratech\\Work\\BcLite Vs Vision BL procedure.sql\n",
      "D:\\Emaratech\\Work\\BCLite-relesae-main-1.34.000.00 UAT.doc\n",
      "D:\\Emaratech\\Work\\bclite.rar\n",
      "D:\\Emaratech\\Work\\bistreams_client_mastCopy 19Aug2019 9am.xlsx\n",
      "D:\\Emaratech\\Work\\BL LEVEL 3 Processed Users on 10 JAN 2019.xlsx\n",
      "D:\\Emaratech\\Work\\BL LEVEL 3 Processed Users on 13 JAN 2019.xlsx\n",
      "D:\\Emaratech\\Work\\BL LEVEL 3 Processed Users on 9 JAN 2019 as of 4PM.xlsx\n",
      "D:\\Emaratech\\Work\\BL override privilege user list - consolidated.xlsx\n",
      "D:\\Emaratech\\Work\\BL override privilege user list.xlsx\n",
      "D:\\Emaratech\\Work\\BL Queries.sql\n",
      "D:\\Emaratech\\Work\\BL Rule08 Performance analysis.sql\n",
      "D:\\Emaratech\\Work\\BL Rules - 9 to 14 - Extract UDBs.sql\n",
      "D:\\Emaratech\\Work\\bl stats.jpg\n",
      "D:\\Emaratech\\Work\\BL Test Cases- 1.sql\n",
      "D:\\Emaratech\\Work\\BL Test Cases- QMG - 10Nov2020.xlsx\n",
      "D:\\Emaratech\\Work\\BL Test Cases- QMG - 1st Apr 2020.xlsx\n",
      "D:\\Emaratech\\Work\\BL Test Cases- QMG - 26 Mar 2020.xlsx\n",
      "D:\\Emaratech\\Work\\BL Test Cases- QMG - 6st Apr 2020 (002).xlsx\n",
      "D:\\Emaratech\\Work\\BL Test Cases- QMG - 6st Apr 2020 (003).xlsx\n",
      "D:\\Emaratech\\Work\\BL Test Cases- QMG - 6st Apr 2020.xlsx\n",
      "D:\\Emaratech\\Work\\BL Test Cases- Staging- 16th June 2020.xlsx\n",
      "D:\\Emaratech\\Work\\BL Test Cases- Staging- 17th Aug 2020.xlsx\n",
      "D:\\Emaratech\\Work\\BL Test Data - BcLite Staging- 1st Oct 2020.xlsx\n",
      "D:\\Emaratech\\Work\\BL Test Data - BcLite Staging- 27 Jan 2021.xlsx\n",
      "D:\\Emaratech\\Work\\Blacklist check.xlsx\n",
      "D:\\Emaratech\\Work\\Blacklist Lost Document Reasons.xlsx\n",
      "D:\\Emaratech\\Work\\BlackListRemoveAbscondingEvent- IM206483.txt\n",
      "D:\\Emaratech\\Work\\Blacklist_issue.jpeg\n",
      "D:\\Emaratech\\Work\\Blank Image on Profiles (document reference thumb)- From MOI ESB - 6 months Stats.xlsx\n",
      "D:\\Emaratech\\Work\\Blank Image on Profiles (document reference thumb)- Vision - Nov 2019.xlsx\n",
      "D:\\Emaratech\\Work\\Blank Image on Profiles (document reference thumb)- Vision - Oct and Nov 2019_v2.xlsx\n",
      "D:\\Emaratech\\Work\\Blank Image on Profiles - Vision - Dec 29 - 12am to 12pm.xlsx\n",
      "D:\\Emaratech\\Work\\Blank Image on Profiles - Vision - Nov 2019.xlsx\n",
      "D:\\Emaratech\\Work\\BL_Franc.xls\n",
      "D:\\Emaratech\\Work\\BL_MAST.xls\n",
      "D:\\Emaratech\\Work\\BL_MOI.xls\n",
      "D:\\Emaratech\\Work\\Book1.xlsx\n",
      "D:\\Emaratech\\Work\\BorderActivityRemarks-GDRFA_Critical Triggers_Borders v6 0(001).xlsx\n",
      "D:\\Emaratech\\Work\\BorderActivityRemarks-GDRFA_Critical Triggers_Borders v6 0.xlsx\n",
      "D:\\Emaratech\\Work\\BORDER_VISA_DOC_TYPE_ALLOWED.xlsx\n",
      "D:\\Emaratech\\Work\\border_visa_nat_doc_allowed.txt\n",
      "D:\\Emaratech\\Work\\BORDER_VISA_NAT_DOC_ALLOWED.xlsx\n",
      "D:\\Emaratech\\Work\\BRs for locals and GCC  in  2017.xlsx\n",
      "D:\\Emaratech\\Work\\BRs for locals and GCC  in October 2017.xlsx\n",
      "D:\\Emaratech\\Work\\Build_1.08.000-B01_QMG_Sachin_Log.sql\n",
      "D:\\Emaratech\\Work\\Bulk Datafixes.txt\n",
      "D:\\Emaratech\\Work\\Bulk Delete - Border IRIS docs  - past 3 days.sql\n",
      "D:\\Emaratech\\Work\\Bulk Fix - Update Permit Validity.txt\n",
      "D:\\Emaratech\\Work\\Bulk Fix - Update Visa Type 55  Permit Validity Correction - (1).sql\n",
      "D:\\Emaratech\\Work\\Bulk Fix - Update Visa Type 55  Permit Validity Correction.sql\n",
      "D:\\Emaratech\\Work\\Bulk Insert - Egate renewal required in vision.sql\n",
      "D:\\Emaratech\\Work\\Bulk Insert Violation Payment.sql\n",
      "D:\\Emaratech\\Work\\Bulk Insert Violation Payment_v2.sql\n",
      "D:\\Emaratech\\Work\\Bulk Insert Violation Payment_v3.sql\n",
      "D:\\Emaratech\\Work\\Bulk Script -  Permit Cancel Date Update.txt\n",
      "D:\\Emaratech\\Work\\Bulk Script - Duplicate travel records.txt\n",
      "D:\\Emaratech\\Work\\Bulk Script - Permit Transaction ID correction.sql\n",
      "D:\\Emaratech\\Work\\Bulk Script - Permit Year Correction for 2016.txt\n",
      "D:\\Emaratech\\Work\\Bulk Script - Residence Cancel Closure.txt\n",
      "D:\\Emaratech\\Work\\Bulk Script - Residence Dates update.txt\n",
      "D:\\Emaratech\\Work\\Bulk Script - Residence Issue Date Correction.txt\n",
      "D:\\Emaratech\\Work\\Bulk Script - Visa type 11 Correction.txt\n",
      "D:\\Emaratech\\Work\\Bulk Script - Visa type 62 Validity Correction.txt\n",
      "D:\\Emaratech\\Work\\Bulk Script 1 - Permit Year Correction for 2016 - 1.txt\n",
      "D:\\Emaratech\\Work\\Bulk Script 2 - Residence Year Correction for 2016.txt\n",
      "D:\\Emaratech\\Work\\Bulk Update - Echannel Request records - visioncore.sql\n",
      "D:\\Emaratech\\Work\\Bulk Update - Echannel Request records.sql\n",
      "D:\\Emaratech\\Work\\Bulk Update- establishment_profile - estab_type_ext_id.txt\n",
      "D:\\Emaratech\\Work\\Bulk Update- Individual Birth Country -999.sql\n",
      "D:\\Emaratech\\Work\\Bulk Update- Individual Profile Birth Country update.sql\n",
      "D:\\Emaratech\\Work\\Bulk Update- Insert Indiviual Language.sql\n",
      "D:\\Emaratech\\Work\\Bulkfix  - Outpass Est_code Correction.sql\n",
      "D:\\Emaratech\\Work\\Bulkfix - Archive Profession.sql\n",
      "D:\\Emaratech\\Work\\BulkFix - Archve Profession.sql\n",
      "D:\\Emaratech\\Work\\Bulkfix - Chinese Reciprocity Visa Issue and On-Arrival Closure.sql\n",
      "D:\\Emaratech\\Work\\Bulkfix - Correct Profession Description - 2.sql\n",
      "D:\\Emaratech\\Work\\Bulkfix - Correct Profession Description -1.sql\n",
      "D:\\Emaratech\\Work\\Bulkfix - Correct Profession Description.sql\n",
      "D:\\Emaratech\\Work\\Bulkfix - Echannel Request Update.sql\n",
      "D:\\Emaratech\\Work\\Bulkfix - Estab Name Leading Dots Correction.sql\n",
      "D:\\Emaratech\\Work\\Bulkfix - Establishment Profile Non-Numeric Correction for Numeric Data Columns.sql\n",
      "D:\\Emaratech\\Work\\Bulkfix - Establishment Profile Telephone Non-Numeric Correction.sql\n",
      "D:\\Emaratech\\Work\\Bulkfix - Estblishment - Bank ID Missmatch Records.sql\n",
      "D:\\Emaratech\\Work\\Bulkfix - individual sponsor pps id correction.sql\n",
      "D:\\Emaratech\\Work\\Bulkfix - Lift Closure.sql\n",
      "D:\\Emaratech\\Work\\BulkFix - Lift Permit Closure - Cancelled before Entry cases in vision.txt\n",
      "D:\\Emaratech\\Work\\BulkFix - Lift Permit Closure - Correction.txt\n",
      "D:\\Emaratech\\Work\\BulkFix - Lift Permit Closure - Visa Type 35.sql\n",
      "D:\\Emaratech\\Work\\BulkFix - Permit closure - residence permits.sql\n",
      "D:\\Emaratech\\Work\\BulkFix - Permit closure - Vison Closure Job.txt\n",
      "D:\\Emaratech\\Work\\BulkFix - Permit Detail ID correction in Log.txt\n",
      "D:\\Emaratech\\Work\\Bulkfix - Permit No Correction.sql\n",
      "D:\\Emaratech\\Work\\Bulkfix - Permit No Correction_2019.sql\n",
      "D:\\Emaratech\\Work\\BulkFix - Permit ValidityBase Validity Update - Visa type 17.sql\n",
      "D:\\Emaratech\\Work\\BulkFix - person_responsible_for_ban indiv preson no id correction.sql\n",
      "D:\\Emaratech\\Work\\Bulkfix - Pro Document Update.sql\n",
      "D:\\Emaratech\\Work\\Bulkfix - Profile Merge Case Status Update as Complete.sql\n",
      "D:\\Emaratech\\Work\\Bulkfix - Reject Estab Trans Application.sql\n",
      "D:\\Emaratech\\Work\\BulkFix - Replace Profession-TDATA-5775.sql\n",
      "D:\\Emaratech\\Work\\BulkFix - Replace Profession.sql\n",
      "D:\\Emaratech\\Work\\Bulkfix - Script1 - Estblishment - Bank ID Missmatch Records - Del Echannel Config Dups.sql\n",
      "D:\\Emaratech\\Work\\Bulkfix - Script2 - Estblishment - Bank ID Missmatch Records -  Client_Mast Dedup.sql\n",
      "D:\\Emaratech\\Work\\Bulkfix - Script3 - Estblishment - Bank ID Missmatch Records -  Correction.sql\n",
      "D:\\Emaratech\\Work\\Bulkfix - Script4 - Estblishment - Bank ID Missmatch Records - Missing ClientMast Records in Target.sql\n",
      "D:\\Emaratech\\Work\\Bulkfix - Temporary Work Card Closure.sql\n",
      "D:\\Emaratech\\Work\\Bulkfix - Update App Warranty Status.sql\n",
      "D:\\Emaratech\\Work\\BulkFix - Update Data with Archive Gambia Nationality.sql\n",
      "D:\\Emaratech\\Work\\BulkFix - Update Data with Archive Gambia Nationality_selects.sql\n",
      "D:\\Emaratech\\Work\\BulkFix - Visa type 88 Permit closure.sql\n",
      "D:\\Emaratech\\Work\\BulkFix -Schengen permit status missmatch.txt\n",
      "D:\\Emaratech\\Work\\Bulkfix 1- VisaTye17 List Closure and Permit Validity Base Validity Udpate.sql\n",
      "D:\\Emaratech\\Work\\Bulkfix 2- Visa Type 17 - Permit Validity Base Validity Udpate.sql\n",
      "D:\\Emaratech\\Work\\Bulkfix 3 Event - Multi Entry Used Permit Closure in GracePeriod - Copy.sql\n",
      "D:\\Emaratech\\Work\\Bulkfix 3 Event - Multi Entry Used Permit Closure in GracePeriod.sql\n",
      "D:\\Emaratech\\Work\\Bulkfix 3- Multi Entry Used Permit Closure in GracePeriod.sql\n",
      "D:\\Emaratech\\Work\\Bulkfix Script - Passport Correction.sql\n",
      "D:\\Emaratech\\Work\\Bulkfix Script - Passport Type Correction - Normal New to Normal.sql\n",
      "D:\\Emaratech\\Work\\Bulkfix Script - Residence EST_CODE update.sql\n",
      "D:\\Emaratech\\Work\\Bulkfix Script - Residence Type-Visa Type update.sql\n",
      "D:\\Emaratech\\Work\\BulkFix Script 1  - Duplicate Trade License No issue.sql\n",
      "D:\\Emaratech\\Work\\BulkFix Script 1  - MOI Violation Payment Grace Period Permits Update.sql\n",
      "D:\\Emaratech\\Work\\BulkFix Script 1  - person_responsible_for_ban indiv preson no id correction.sql\n",
      "D:\\Emaratech\\Work\\BulkFix Script 2  - person_responsible_for_ban indiv preson no id correction.sql\n",
      "D:\\Emaratech\\Work\\Bulkfix Script1 - Individual Travel Document Missing Fix.sql\n",
      "D:\\Emaratech\\Work\\Bulkfix Script2 - Individual Travel Document Missing Fix.sql\n",
      "D:\\Emaratech\\Work\\Bulkfix Script3 - Individual Travel Document Missing Fix.sql\n",
      "D:\\Emaratech\\Work\\Bulkfix2 - Estblishment - Bank ID Missmatch Records - Fixing Failures.sql\n"
     ]
    },
    {
     "name": "stdout",
     "output_type": "stream",
     "text": [
      "D:\\Emaratech\\Work\\Bulkfix2 - Temporary Work Card Closure - status date.sql\n",
      "D:\\Emaratech\\Work\\Business Rules Failed- Vision -  2017.xlsx\n",
      "D:\\Emaratech\\Work\\Business Rules Fired - Vision - Person type - Nov 2016 - Oct 2017 (002).xlsx\n",
      "D:\\Emaratech\\Work\\Business Rules Fired - Vision - Person type - Nov 2017 - Oct 2018.xlsx\n",
      "D:\\Emaratech\\Work\\Business Rules Fired - Vision - Person type - Nov 5th 2017(002).xlsx\n",
      "D:\\Emaratech\\Work\\Business Rules Fired - Vision - Person type - Nov 5th 2017.xlsx\n",
      "D:\\Emaratech\\Work\\caendar.html\n",
      "D:\\Emaratech\\Work\\Cancel Before Entry - Auto Closure Permits List - 1st Sep 2020.csv\n",
      "D:\\Emaratech\\Work\\Cancel inside the country done in 2017 for visas and residencies individuals and establishment sponsors (002).xlsx\n",
      "D:\\Emaratech\\Work\\Cancel inside the country done in 2017, for visas and residencies, individuals and establishment sponsors.xlsx\n",
      "D:\\Emaratech\\Work\\Cancel Outside UAE Residence Tansactions - ESB Migrated on April 2018.xlsx\n",
      "D:\\Emaratech\\Work\\Cancel Permit Transactions from MOI stats - 17th Mar 2020.xlsx\n",
      "D:\\Emaratech\\Work\\Cancel Residence Not closed after travel - Dubai Files.xlsx\n",
      "D:\\Emaratech\\Work\\Cancel Residence Not closed after travel - MOI Files.xlsx\n",
      "D:\\Emaratech\\Work\\Cancel Residence Not closed after travel.csv\n",
      "D:\\Emaratech\\Work\\Cancel Residency applications (inside and outside the country) - Q2 2019.jpg\n",
      "D:\\Emaratech\\Work\\Canceled Amnesty Outpass report - 1st Aug 2018 - till 8th Aug 2018 4PM.xlsx\n",
      "D:\\Emaratech\\Work\\Canceled Quota(2).xlsx\n",
      "D:\\Emaratech\\Work\\Canceled Quota.xlsx\n",
      "D:\\Emaratech\\Work\\Canceled Residences Transactions - Dubai files(2).xlsx\n",
      "D:\\Emaratech\\Work\\Canceled Residences Transactions - Dubai files.xlsx\n",
      "D:\\Emaratech\\Work\\Cancelled Establishment Having Active Sponsored Files in Vision.xlsx\n",
      "D:\\Emaratech\\Work\\Cancelled from FIS and whether applicant was violator or Not violator with file number..xlsx\n",
      "D:\\Emaratech\\Work\\Cancelled Resience Other Emirates Person Outside Country.xlsx\n",
      "D:\\Emaratech\\Work\\Case.xls\n",
      "D:\\Emaratech\\Work\\case_order.xls\n",
      "D:\\Emaratech\\Work\\Change pps_id for permit.txt\n",
      "D:\\Emaratech\\Work\\Change Status Application with Wrong Validity (002).xlsx\n",
      "D:\\Emaratech\\Work\\Change Status Application with Wrong Validity (003).xlsx\n",
      "D:\\Emaratech\\Work\\Change Status Application with Wrong Validity.xlsx\n",
      "D:\\Emaratech\\Work\\Change Status Applications  Stopped in IQC for Pending for Merge status and Processed by user Details.xlsx\n",
      "D:\\Emaratech\\Work\\Change Status Applications  Stopped in IQC for Pending for Merge status and Processed by user Details_v(002).xlsx\n",
      "D:\\Emaratech\\Work\\Change Status Applications  Stopped in IQC for Pending for Merge status and Processed by user Details_v(003).xlsx\n",
      "D:\\Emaratech\\Work\\Change Status stuck In IQCS due to Pending Merge - Analysis - 1st April 2019.xlsx\n",
      "D:\\Emaratech\\Work\\Change Status stuck In IQCS due to Pending Merge - Analysis - 7th April 2019.xlsx\n",
      "D:\\Emaratech\\Work\\Change_sponsor_to_Dubai_developement_authority_22000064_v2.xlsx\n",
      "D:\\Emaratech\\Work\\Change_sponsor_to_Dubai_holiding_22000039_v2.xlsx\n",
      "D:\\Emaratech\\Work\\CHARGE_LK.xls\n",
      "D:\\Emaratech\\Work\\charge_lk_03Mar2019.xls\n",
      "D:\\Emaratech\\Work\\chart.html\n",
      "D:\\Emaratech\\Work\\Chinese national per day Entry count.xlsx\n",
      "D:\\Emaratech\\Work\\Chinese Reciprocity details.xls\n",
      "D:\\Emaratech\\Work\\circular Progress Bar.html\n",
      "D:\\Emaratech\\Work\\Claim application privilege users in vision.xlsx\n",
      "D:\\Emaratech\\Work\\CLIENT_MAST Sync analysis.xlsx\n",
      "D:\\Emaratech\\Work\\CLIENT_MAST Table Comparison in EDNRD Database.xlsx\n",
      "D:\\Emaratech\\Work\\client_mast_inimm_db.sql\n",
      "D:\\Emaratech\\Work\\Closed Permits As part of Bulkfix on 3rd Jan 2019 (2).xlsx\n",
      "D:\\Emaratech\\Work\\Closed Permits As part of Bulkfix on 3rd Jan 2019.xlsx\n",
      "D:\\Emaratech\\Work\\Closed Permits hadTemporary Closure part of bulkfix 3rd Jan 2019.xlsx\n",
      "D:\\Emaratech\\Work\\color stacked grapgh.jpg\n",
      "D:\\Emaratech\\Work\\color.jpg\n",
      "D:\\Emaratech\\Work\\column.jpg\n",
      "D:\\Emaratech\\Work\\Committee Violation Exemption Extract(v2).xlsx\n",
      "D:\\Emaratech\\Work\\Committee Violation Exemption Extract.xlsx\n",
      "D:\\Emaratech\\Work\\CON GEN OF EGYPT(24036858) Violator Analysis - 22Dec2020.xlsx\n",
      "D:\\Emaratech\\Work\\Consistency check Metrics for MOI Transactions Available in Dubai.xlsx\n",
      "D:\\Emaratech\\Work\\consistency dash _1.xml\n",
      "D:\\Emaratech\\Work\\Constraint on revision.xlsx\n",
      "D:\\Emaratech\\Work\\convert to html.xlsx\n",
      "D:\\Emaratech\\Work\\Copy of date format to be changed_v002.xlsx\n",
      "D:\\Emaratech\\Work\\Copy of date format to be changed_v003.xlsx\n",
      "D:\\Emaratech\\Work\\Copy of ETL Tracker Correction - Application Available in IQC but last ETL status is Failure.xlsx\n",
      "D:\\Emaratech\\Work\\Copy of المنافذ البحرية و البرية.xlsx\n",
      "D:\\Emaratech\\Work\\Copy Visa Trans on DUBAI File from ESB - July 2020 -1st Feb 2021_v2.xlsx\n",
      "D:\\Emaratech\\Work\\Corrected Mising Travel Document Travels - 23 June Onwards.xlsx\n",
      "D:\\Emaratech\\Work\\Corrected Mising Travel Document Travels - 23rd June Onwards till July 1st 2019 - v002.xlsx\n",
      "D:\\Emaratech\\Work\\Corrected_DED_TradeLicense_Expiry_Vision.csv\n",
      "D:\\Emaratech\\Work\\CorrectEntryPermitReq - 2043520004546- 30Jul2020.xml\n",
      "D:\\Emaratech\\Work\\CorrectEntryPermitReq - 2043520005599 - 20Sep2020.xml\n",
      "D:\\Emaratech\\Work\\CorrectEntryPermitReq - 2043520009587 - 17Sep2020.xml\n",
      "D:\\Emaratech\\Work\\CorrectEntryPermitReq - 2047720243390 - 13Aug2020.xml\n",
      "D:\\Emaratech\\Work\\CorrectEntryPermitReq - 2048720418711- 06Aug2020.xml\n",
      "D:\\Emaratech\\Work\\CorrectEntryPermitReq - 2048720806804 - 18Oct2020.xml\n",
      "D:\\Emaratech\\Work\\CorrectEntryPermitReq.zip\n",
      "D:\\Emaratech\\Work\\Correction.txt\n",
      "D:\\Emaratech\\Work\\Count of Application from e-channel ( Mobile with Amer web, eform and eDNRD) FOR 2018.xlsx\n",
      "D:\\Emaratech\\Work\\Count of Application from e-channel ( Mobile with Amer web, eform and eDNRD) separately based on type for years (2016, 2017 and 2018).xlsx\n",
      "D:\\Emaratech\\Work\\Count of Entry Permit Applications - Auto Approved in Vision Core based on Application Type and Channels - 2016 , 2017 and 2018.xlsx\n",
      "D:\\Emaratech\\Work\\Count of Entry permits issued in Dubai (vision + legacy) based on Visa type and Current status for years (2016, 2017 and 2018).xlsx\n",
      "D:\\Emaratech\\Work\\Count of violators before  01 Aug 2018 - Based on Gender - Syrian, Yamen and Libya.xlsx\n",
      "D:\\Emaratech\\Work\\country_lk.csv\n",
      "D:\\Emaratech\\Work\\country_lk.xlsx\n",
      "D:\\Emaratech\\Work\\CREATE_INDEX_PERMIT_TRANSACTION_OUTPASS_APP_ID.sql\n",
      "D:\\Emaratech\\Work\\CreditCard and Cash Payments for Jan17,Feb17,Mar17.xlsx\n",
      "D:\\Emaratech\\Work\\CreditCard Statment - Aug2020.pdf\n",
      "D:\\Emaratech\\Work\\creditcard.csv\n",
      "D:\\Emaratech\\Work\\CrewData_Report_with Matched UDBs.csv\n",
      "D:\\Emaratech\\Work\\CrewData_Report_with Matched UDBs.xlsx\n",
      "D:\\Emaratech\\Work\\CrewData_Report_with Missing Egate File in Vision.csv\n",
      "D:\\Emaratech\\Work\\CrewData_Report_with Missing Egate File in Vision.xlsx\n",
      "D:\\Emaratech\\Work\\CronParser.java\n",
      "D:\\Emaratech\\Work\\CronParserImpl.java\n",
      "D:\\Emaratech\\Work\\CronSequenceGenerator.java\n",
      "D:\\Emaratech\\Work\\CR_Establishment Dummy User-Lists (2).xlsx\n",
      "D:\\Emaratech\\Work\\css test.txt\n",
      "D:\\Emaratech\\Work\\Custom Datafixes.xlsx\n",
      "D:\\Emaratech\\Work\\Custom Datafixes.xlsx.csv\n",
      "D:\\Emaratech\\Work\\CUSTOM_REPORT_COLS_CONFIG_DML_01.sql\n",
      "D:\\Emaratech\\Work\\CUSTOM_REPORT_CONFIG_DML_01.sql\n",
      "D:\\Emaratech\\Work\\cut portition_28102020.txt\n",
      "D:\\Emaratech\\Work\\DAFZA Companies_v(1).xlsx\n",
      "D:\\Emaratech\\Work\\DAFZA Companies_v(2).xlsx\n",
      "D:\\Emaratech\\Work\\Daily stats needed for Amnesty on Gender & Nationality - 1st Aug 2018.xlsx\n",
      "D:\\Emaratech\\Work\\Data Cleansing Project - Data Quality Analysis_v3.xlsx\n",
      "D:\\Emaratech\\Work\\Data Cleansing Project - Data Quality Analysis_v4.xlsx\n",
      "D:\\Emaratech\\Work\\Data Quality - Profile - Metric Definitions v2.0.xlsx\n",
      "D:\\Emaratech\\Work\\Data Quality - Profile - Metric Definitions.xlsx\n",
      "D:\\Emaratech\\Work\\Data Quality - Profile - Metric Definitions_BA Recommendations.xlsx\n",
      "D:\\Emaratech\\Work\\Data Quality - Profile.html\n",
      "D:\\Emaratech\\Work\\Data Quality Metric DashBoard _ Splunk 4.0.pdf\n",
      "D:\\Emaratech\\Work\\data to load.xls\n",
      "D:\\Emaratech\\Work\\data to load.xlsx\n",
      "D:\\Emaratech\\Work\\data util package.txt\n",
      "D:\\Emaratech\\Work\\Datafix - Act_Ru_Variable Update.sql\n",
      "D:\\Emaratech\\Work\\Datafix - Act_Ru_Variable Update_v1.sql\n",
      "D:\\Emaratech\\Work\\Datafix - Act_Ru_Variable Update_v2.sql\n",
      "D:\\Emaratech\\Work\\Datafix - Act_Ru_Variable Update_v3.sql\n",
      "D:\\Emaratech\\Work\\Datafix - Act_Ru_Variable Update_v4.sql\n",
      "D:\\Emaratech\\Work\\Datafix - Act_Ru_Variable Update_v5.sql\n",
      "D:\\Emaratech\\Work\\Datafix - Act_Ru_Variable Update_v6.sql\n",
      "D:\\Emaratech\\Work\\Datafix - Act_Ru_Variable Update_v7.sql\n",
      "D:\\Emaratech\\Work\\Datafix - Act_Ru_Variable Update_v8.sql\n",
      "D:\\Emaratech\\Work\\Datafix - Act_Ru_Variable Update_v9.sql\n",
      "D:\\Emaratech\\Work\\Datafix - Correct profile picture.txt\n",
      "D:\\Emaratech\\Work\\Datafix - ETL Faillures.sql\n",
      "D:\\Emaratech\\Work\\Datafix - ETL Recall Application.sql\n",
      "D:\\Emaratech\\Work\\Datafix - Insert document details.sql\n",
      "D:\\Emaratech\\Work\\Datafix - Insert Permit issued with closure.txt\n",
      "D:\\Emaratech\\Work\\Datafix - Integration - value mapping descrption.sql\n",
      "D:\\Emaratech\\Work\\Datafix - Passport person Info update.sql\n",
      "D:\\Emaratech\\Work\\Datafix - Permit  validity update- 2010717070830.txt\n",
      "D:\\Emaratech\\Work\\Datafix - Permit  validity update- 2148617011624.txt\n",
      "D:\\Emaratech\\Work\\Datafix - Permit Closure - 2081113677624.txt\n",
      "D:\\Emaratech\\Work\\Datafix - Permit No Correction.sql\n",
      "D:\\Emaratech\\Work\\Datafix - Permit Status Change _ 2010717070830.txt\n",
      "D:\\Emaratech\\Work\\Datafix - Permit status Change.txt\n",
      "D:\\Emaratech\\Work\\Datafix - Profile Correction.sql\n",
      "D:\\Emaratech\\Work\\Datafix - Profile Update.sql\n",
      "D:\\Emaratech\\Work\\Datafix - Schengen Brazil Vio Exemption Extension_eap.sql\n",
      "D:\\Emaratech\\Work\\Datafix - Schengen Brazil Vio Exemption Extension_vc.sql\n",
      "D:\\Emaratech\\Work\\Datafix - Undo Travel + Permit Closure - Copy.txt\n",
      "D:\\Emaratech\\Work\\Datafix - Undo Travel + Permit Closure.txt\n",
      "D:\\Emaratech\\Work\\Datafix - Visioncore Scripts.sql\n",
      "D:\\Emaratech\\Work\\Datafix PLSQL templates.xlsx\n",
      "D:\\Emaratech\\Work\\Datafix Procedure - Direct DML Executer - 1year fixes - 03Jan2021.xlsx\n",
      "D:\\Emaratech\\Work\\Datafix Procedure - Direct DML Executer - 1year fixes.xlsx\n",
      "D:\\Emaratech\\Work\\Datafix to Update Data with Archive Gambia Nationality.xlsx\n",
      "D:\\Emaratech\\Work\\Datafix Tool - Closure with Close Type As CASE.xlsx\n",
      "D:\\Emaratech\\Work\\Datafix Tool - User Privilege  for Pull Legacy File To Vision and Pull Immigration File No.xlsx\n",
      "D:\\Emaratech\\Work\\Datafix Tool Stats - 18 July 2017.xlsx\n",
      "D:\\Emaratech\\Work\\Datafix Tool Stats - Support User - 1st March 2019 till 18 March 2019.xlsx\n",
      "D:\\Emaratech\\Work\\Datafix Tool Transaction by Control Room Users.xlsx\n",
      "D:\\Emaratech\\Work\\Datafix Tool Transactions - C6385 User - Till March 10th 2019.xlsx\n",
      "D:\\Emaratech\\Work\\Datafix Tool User Stats.xlsx\n",
      "D:\\Emaratech\\Work\\Datafix Tools status - 1st Jan 2018 - 22nd April 2019 (002).xlsx\n",
      "D:\\Emaratech\\Work\\Datafix Tools status - 1st Jan 2018 - 22nd April 2019.xlsx\n",
      "D:\\Emaratech\\Work\\Datafix Utility Tools  Execuation Stats Report - 1st Jan 2018 - 28th May 2019.xlsx\n",
      "D:\\Emaratech\\Work\\Datafix Utility Tools Stats- Last 6 Months - 20Jan2021.xls\n",
      "D:\\Emaratech\\Work\\Datafix.sql\n",
      "D:\\Emaratech\\Work\\Datafix1 - Multiple Active Sponsor.sql\n",
      "D:\\Emaratech\\Work\\Datafix1 - Permit Closure.txt\n",
      "D:\\Emaratech\\Work\\Datafix2 - Multiple Active Sponsor.sql\n",
      "D:\\Emaratech\\Work\\DatafixTool Menu.xlsx\n",
      "D:\\Emaratech\\Work\\Datafix_New.zip\n",
      "D:\\Emaratech\\Work\\DataMigration-VisionCore-dataFlow-Detail.docx\n",
      "D:\\Emaratech\\Work\\data_quality_metric_dashboard-2020-07-14.pdf\n",
      "D:\\Emaratech\\Work\\Day having maximum entry travel from Dubai, Hatta and DWC ports in 2016 - Arival n Departure.xlsx\n",
      "D:\\Emaratech\\Work\\Day having maximum entry travel from Dubai, Hatta and DWC ports in 2016.xlsx\n",
      "D:\\Emaratech\\Work\\DD1.csv\n",
      "D:\\Emaratech\\Work\\DD2.csv\n",
      "D:\\Emaratech\\Work\\DD3.csv\n",
      "D:\\Emaratech\\Work\\DD4.csv\n",
      "D:\\Emaratech\\Work\\ddl-dq.sql\n",
      "D:\\Emaratech\\Work\\DED Trade License Duplicated in Vision - 15 Dec 2020.xlsx\n",
      "D:\\Emaratech\\Work\\DED_ESTABLISHMENT.sql\n",
      "D:\\Emaratech\\Work\\DED_License_Auto_Renewal_statistics_v3.xlsx\n",
      "D:\\Emaratech\\Work\\DED_Trade License Analysis.xlsx\n",
      "D:\\Emaratech\\Work\\DED_Trade License Analysis.zip\n",
      "D:\\Emaratech\\Work\\DED_Trade License Expiry Date Correction Cases- 15 Dec 2020.xlsx\n",
      "D:\\Emaratech\\Work\\DED_TradeLicense_Expiry_Analysis.zip\n",
      "D:\\Emaratech\\Work\\Default Passport Issue Date for Valid Pasports Profiles in Vision - After Bulkfix.xlsx\n",
      "D:\\Emaratech\\Work\\delete keys - ESC object storage.xlsx\n",
      "D:\\Emaratech\\Work\\Delete outpass payment.sql\n",
      "D:\\Emaratech\\Work\\Delete Violation Payment - Vision Core.sql\n",
      "D:\\Emaratech\\Work\\Delete Violation Payment- EDNRD.sql\n",
      "D:\\Emaratech\\Work\\deleted_awb-sept 29_updated.xlsx\n",
      "D:\\Emaratech\\Work\\deleted_awb-sept 29_updated_v2.xlsx\n",
      "D:\\Emaratech\\Work\\deleted_awb-sept 29_updated_v3.xlsx\n",
      "D:\\Emaratech\\Work\\Desktop - Emp Id 1728.jpeg\n",
      "D:\\Emaratech\\Work\\Desktop Lenovo edge - Emp_id 1728.jpg\n",
      "D:\\Emaratech\\Work\\destination_lk.csv\n",
      "D:\\Emaratech\\Work\\DHCC Companies - Updated List (v3).xlsx\n",
      "D:\\Emaratech\\Work\\DHNCR Companies - Updated List.xlsx\n",
      "D:\\Emaratech\\Work\\Diagram 1.bmp\n",
      "D:\\Emaratech\\Work\\Diagram 1.jpg\n",
      "D:\\Emaratech\\Work\\DIFC ESTs.xls\n",
      "D:\\Emaratech\\Work\\DIWAN_FILE_PP_upd_log(1).xlsx\n",
      "D:\\Emaratech\\Work\\DIWAN_FILE_PP_upd_log.xlsx\n",
      "D:\\Emaratech\\Work\\DIWAN_FILE_PP_upd_log_1.xlsx\n",
      "D:\\Emaratech\\Work\\DIWAN_FILE_PP_upd_log_Missing(1).xlsx\n",
      "D:\\Emaratech\\Work\\DIWAN_FILE_PP_upd_log_Missing.xlsx\n",
      "D:\\Emaratech\\Work\\DIWAN_FILE_PP_upd_log_SET2(1)).xlsx\n",
      "D:\\Emaratech\\Work\\DNRD Machine - DB - issue.jpg\n",
      "D:\\Emaratech\\Work\\Document Reference Orphans analysis.xlsx\n",
      "D:\\Emaratech\\Work\\document reference thumb issue.txt\n",
      "D:\\Emaratech\\Work\\Domestic Worker Dubai -  Report for New Entry Permit transaction approved from GDRFA  for New Local Sponsor File.xlsx\n",
      "D:\\Emaratech\\Work\\Domestic Worker Dubai -  Report for New Entry Permit transaction approved from GDRFA  for New Local Sponsor File_v(002).xlsx\n",
      "D:\\Emaratech\\Work\\donat_char.html\n",
      "D:\\Emaratech\\Work\\donot chart22.jpg\n",
      "D:\\Emaratech\\Work\\donot plot.jpg\n",
      "D:\\Emaratech\\Work\\DQ - Individual Profile.xlsx\n",
      "D:\\Emaratech\\Work\\DQ - Metric Table Design (2).xlsx\n",
      "D:\\Emaratech\\Work\\DQ - Metric Table Design.xlsx\n",
      "D:\\Emaratech\\Work\\dq ip.jpg\n",
      "D:\\Emaratech\\Work\\dq_data.csv\n",
      "D:\\Emaratech\\Work\\dq_data_2.csv\n",
      "D:\\Emaratech\\Work\\dq_data_2.xlsx\n",
      "D:\\Emaratech\\Work\\DQ_DR Diagram1.png\n",
      "D:\\Emaratech\\Work\\DQ_DR Diagram2.png\n",
      "D:\\Emaratech\\Work\\DQ_ENTITY_METRIC_CONFIG.sql\n",
      "D:\\Emaratech\\Work\\DQ_ENTITY_METRIC_CONFIG_LK.sql\n",
      "D:\\Emaratech\\Work\\DQ_ENTITY_METRIC_CONFIG_LK_V11.csv\n",
      "D:\\Emaratech\\Work\\DQ_ENTITY_METRIC_CONFIG_LK_V12_APPEND_V1.CSV\n",
      "D:\\Emaratech\\Work\\DQ_ENTITY_METRIC_CONFIG_LK_V13.csv\n",
      "D:\\Emaratech\\Work\\DQ_ENTITY_METRIC_CONFIG_LK_V14.csv\n",
      "D:\\Emaratech\\Work\\DQ_ENTITY_METRIC_CONFIG_LK_V15.csv\n",
      "D:\\Emaratech\\Work\\DQ_ENTITY_METRIC_CONFIG_LK_V3(1).xls\n",
      "D:\\Emaratech\\Work\\DQ_ENTITY_METRIC_CONFIG_LK_V3(2).xls\n",
      "D:\\Emaratech\\Work\\DQ_ENTITY_METRIC_CONFIG_LK_V3.csv\n",
      "D:\\Emaratech\\Work\\DQ_ENTITY_METRIC_CONFIG_LK_V4-Analysis.xls\n",
      "D:\\Emaratech\\Work\\DQ_ENTITY_METRIC_CONFIG_LK_V4.csv\n",
      "D:\\Emaratech\\Work\\DQ_ENTITY_METRIC_CONFIG_LK_V4.xls\n",
      "D:\\Emaratech\\Work\\DQ_ENTITY_METRIC_CONFIG_LK_V5.csv\n",
      "D:\\Emaratech\\Work\\DQ_ENTITY_METRIC_CONFIG_LK_V5.xls\n",
      "D:\\Emaratech\\Work\\DQ_ENTITY_METRIC_CONFIG_LK_V5.xlsx\n",
      "D:\\Emaratech\\Work\\DQ_ENTITY_METRIC_CONFIG_LK_V7.csv\n",
      "D:\\Emaratech\\Work\\DQ_ENTITY_METRIC_CONFIG_LK_V7.xlsx\n",
      "D:\\Emaratech\\Work\\DQ_ENTITY_METRIC_CONFIG_LK_V8.csv\n",
      "D:\\Emaratech\\Work\\DQ_ENTITY_METRIC_SAMPLE.sql\n",
      "D:\\Emaratech\\Work\\DQ_ENTITY_METRIC_STATS.sql\n",
      "D:\\Emaratech\\Work\\DQ_ER Diagram - INDIVIDUAL_PROFILE.jpg\n",
      "D:\\Emaratech\\Work\\dq_ip_custom.zip\n",
      "D:\\Emaratech\\Work\\DQ_IP_QUERIES.SQL\n",
      "D:\\Emaratech\\Work\\DQ_Metrics.csv\n",
      "D:\\Emaratech\\Work\\DQ_METRIC_CONFIG.sql\n",
      "D:\\Emaratech\\Work\\DQ_Metric_Dashboard_Part1.jpg\n",
      "D:\\Emaratech\\Work\\DQ_Metric_Dashboard_Part2.jpg\n",
      "D:\\Emaratech\\Work\\DQ_new metrics and chnages.txt\n",
      "D:\\Emaratech\\Work\\Drop index.txt\n",
      "D:\\Emaratech\\Work\\DSG Report.xlsx\n",
      "D:\\Emaratech\\Work\\DSO Status(v1).xlsx\n",
      "D:\\Emaratech\\Work\\Dubai - Extended Permit Revert - Cancel After Entry and Outpass Issued.xlsx\n",
      "D:\\Emaratech\\Work\\Dubai - Extended Permit Revert - Cancel After Entry and Outpass Issued_v2.xlsx\n",
      "D:\\Emaratech\\Work\\Dubai Active Residence - Missinng or Expired EIDA - 10 Sep 2019.xls\n",
      "D:\\Emaratech\\Work\\Dubai Active Residence - with EIDA availability Stats - 10 Sep 2019.xlsx\n",
      "D:\\Emaratech\\Work\\Dubai Active Residence with EIDA Expired or Not Exists in Vision - On Date 6th Jan 2020.xls\n",
      "D:\\Emaratech\\Work\\Dubai Active Residence with EIDA Expired or Not Exists in Vision - On Date 6th Jan 2020_v(002).rar\n",
      "D:\\Emaratech\\Work\\Dubai Active Residence with EIDA Expired or Not Exists in Vision - On Date 6th Jan 2020_v(002).xlsx\n",
      "D:\\Emaratech\\Work\\Dubai Active Residence with EIDA Expired or Not Exists in Vision with Dup profile - On Date 7th Jan 2020.zip\n",
      "D:\\Emaratech\\Work\\Dubai Active Residence with EIDA Expired or Not Exists in Vision _MOI Profiles - On Date 6th Jan 2020.xls\n",
      "D:\\Emaratech\\Work\\Dubai Active Residence with EIDA Expired or Not Exists in Vision _MOI Profiles - On Date 6th Jan 2020_v003.xls\n",
      "D:\\Emaratech\\Work\\Dubai Active Residence With Expired or Missing EIDA  - Comparison with MOI - on Date 7th Oct 2019.rar\n",
      "D:\\Emaratech\\Work\\Dubai Active Residence With Expired or Missing EIDA  - Comparison with MOI - on Date 7th Oct 2019.xlsx\n",
      "D:\\Emaratech\\Work\\Dubai Active Residences with Expired EIDA - 10 Sep 2019.xlsx\n",
      "D:\\Emaratech\\Work\\Dubai Active Residences with Missing EIDA - 10 Sep 2019.xlsx\n",
      "D:\\Emaratech\\Work\\Dubai Airport (Only counters) Weekly stats - 03 February 2019 - 09 February 2019.xlsx\n",
      "D:\\Emaratech\\Work\\Dubai Airport (Only counters) Weekly stats - 03 March 2019 - 09 March 2019.xlsx\n",
      "D:\\Emaratech\\Work\\Dubai Airport (Only counters) Weekly stats - 08 26 2018 - 09 01 2018.xlsx\n",
      "D:\\Emaratech\\Work\\Dubai Airport (Only counters) Weekly stats - 08-12-2018 to 08-18-2018.xlsx\n",
      "D:\\Emaratech\\Work\\Dubai Airport (Only counters) Weekly stats - 08-19-2018 to 08-25-2018.xlsx\n",
      "D:\\Emaratech\\Work\\Dubai Airport (Only counters) Weekly stats - 09 02 2018-09 08 2018.xlsx\n",
      "D:\\Emaratech\\Work\\Dubai Airport (Only counters) Weekly stats - 09 December  2018 - 15 December 2018.xlsx\n",
      "D:\\Emaratech\\Work\\Dubai Airport (Only counters) Weekly stats - 09-23-2018 - 09-29-2018.xlsx\n",
      "D:\\Emaratech\\Work\\Dubai Airport (Only counters) Weekly stats - 09-30-2018 to 10-06-2018.xlsx\n",
      "D:\\Emaratech\\Work\\Dubai Airport (Only counters) Weekly stats - 10 February 2019 - 16 February 2019.xlsx\n"
     ]
    },
    {
     "name": "stdout",
     "output_type": "stream",
     "text": [
      "D:\\Emaratech\\Work\\Dubai Airport (Only counters) Weekly stats - 10 March 2019 - 16 March 2019.xlsx\n",
      "D:\\Emaratech\\Work\\Dubai Airport (Only counters) Weekly stats - 10-07-2018 to 10-13-2018 - Copy.xlsx\n",
      "D:\\Emaratech\\Work\\Dubai Airport (Only counters) Weekly stats - 10-07-2018 to 10-13-2018.xlsx\n",
      "D:\\Emaratech\\Work\\Dubai Airport (Only counters) Weekly stats - 16 December 2018 - 22 December 2018.xlsx\n",
      "D:\\Emaratech\\Work\\Dubai Airport (Only counters) Weekly stats - 17 February 2019 - 23 February 2019.xlsx\n",
      "D:\\Emaratech\\Work\\Dubai Airport (Only counters) Weekly stats - 23 December 2018 - 29 December 2018.xlsx\n",
      "D:\\Emaratech\\Work\\Dubai Airport (Only counters) Weekly stats - 24 February 2019 - 02 March 2019.xlsx\n",
      "D:\\Emaratech\\Work\\Dubai Airport (Only counters) Weekly stats - 30 December 2018 - 05 January 2019.xlsx\n",
      "D:\\Emaratech\\Work\\Dubai Airport (Only counters) Weekly stats - December 02,2018 - December 08,2018.xlsx\n",
      "D:\\Emaratech\\Work\\Dubai Airport (Only counters) Weekly stats - November 11,2018 - November 17,2018.xlsx\n",
      "D:\\Emaratech\\Work\\Dubai Airport (Only counters) Weekly stats - November 18,2018 - November 24,2018.xlsx\n",
      "D:\\Emaratech\\Work\\Dubai Airport (Only counters) Weekly stats - October 14,2018 - October 20,2018.xlsx\n",
      "D:\\Emaratech\\Work\\Dubai Airport (Only counters) Weekly stats - v(002).xlsx\n",
      "D:\\Emaratech\\Work\\Dubai Airport (Only counters) Weekly stats -09 09 2018-09 15 2018.xlsx\n",
      "D:\\Emaratech\\Work\\Dubai Airport (Only counters) Weekly stats -09 16 2018-09 22 2018 - Copy.xlsx\n",
      "D:\\Emaratech\\Work\\Dubai Airport (Only counters) Weekly stats -09 16 2018-09 22 2018.xlsx\n",
      "D:\\Emaratech\\Work\\Dubai Airport (Only counters) Weekly stats -November 25,2018 - December 1,2018.xlsx\n",
      "D:\\Emaratech\\Work\\Dubai Airport (Only counters) Weekly stats.xlsx\n",
      "D:\\Emaratech\\Work\\Dubai Airport Travel Trending -  21st June 2020 till 30th June 2020.xlsx\n",
      "D:\\Emaratech\\Work\\Dubai Airport Travel Trending - June , 2020.xlsx\n",
      "D:\\Emaratech\\Work\\Dubai Airport Travel Trending - Past 30 days - on 19th Mar 2020.xlsx\n",
      "D:\\Emaratech\\Work\\Dubai Airport Travel Trending - Past 30 days - on 2nd Apr 2020.xlsx\n",
      "D:\\Emaratech\\Work\\Dubai Airports - Arrival Status - on Person Type Terminal - 1st April to 10th April 2018.xlsx\n",
      "D:\\Emaratech\\Work\\Dubai All Travels nov 5.xls\n",
      "D:\\Emaratech\\Work\\Dubai Counter Travels - Based On NGA NGB NGE and BC - October 2018.xlsx\n",
      "D:\\Emaratech\\Work\\Dubai Estab - Comparison With MOI - Having SEP_OLD_NO as Not Null in MOI - Part1.xlsx\n",
      "D:\\Emaratech\\Work\\Dubai Estab - Comparison With MOI - Having SEP_OLD_NO as Not Null in MOI - Part2.xlsx\n",
      "D:\\Emaratech\\Work\\Dubai Estab - Comparison With MOI - Having SEP_OLD_NO as Not Null in MOI.csv\n",
      "D:\\Emaratech\\Work\\Dubai Estab - Comparison With MOI - Having SEP_OLD_NO as Not Null in MOI.xlsx\n",
      "D:\\Emaratech\\Work\\Dubai Estab - Comparison With MOI - Having SEP_OLD_NO as Not Null in MOI.zip\n",
      "D:\\Emaratech\\Work\\Dubai Estab - Comparison With MOI - Having SEP_OLD_NO as null in MOI.csv\n",
      "D:\\Emaratech\\Work\\Dubai Estab - Comparison With MOI - Having SEP_OLD_NO as null in MOI.xlsx\n",
      "D:\\Emaratech\\Work\\Dubai Estab Details Type Ships,Property,Farm.xlsx\n",
      "D:\\Emaratech\\Work\\Dubai EXPO Permits Cancelled by MOI - 17 Mar 2020.xlsx\n",
      "D:\\Emaratech\\Work\\Dubai File Change Status Trans from MOI.csv\n",
      "D:\\Emaratech\\Work\\Dubai File Change Status Trans from MOI.xlsx\n",
      "D:\\Emaratech\\Work\\Dubai files Inside Country in Vision on Files Cancelled by MOI in 17Mar2020.xlsx\n",
      "D:\\Emaratech\\Work\\Dubai Files Migrated by ESB in Vision - Transaction year 2020 and 2021.xlsx\n",
      "D:\\Emaratech\\Work\\Dubai New Permit Apps With Inside Country Fee - 2020 - Based on App_Date.xlsx\n",
      "D:\\Emaratech\\Work\\Dubai Permit Cancelled from MOI for Iran Nationals - last one month - 11 Mar 2020.xls\n",
      "D:\\Emaratech\\Work\\Dubai Permit Cancelled from MOI for Iran Nationals - last one month - 11 Mar 2020.xlsx\n",
      "D:\\Emaratech\\Work\\Dubai Permit Cancelled from MOI for Iran Nationals - last one month - 12 Mar 2020 _ v2.xlsx\n",
      "D:\\Emaratech\\Work\\Dubai Permit Expired on After 22nd Mar 2020 - Near Used - Have Residence in Cancelled Status - Analysis on 8th May 2020.xlsx\n",
      "D:\\Emaratech\\Work\\Dubai Permit Expired on After 22nd Mar 2020 Which are Not Used - Having Entry on Another File - Analysis on 8th May 2020.xlsx\n",
      "D:\\Emaratech\\Work\\dubai permit extension consistency check - 13 Feb 2021 (2).zip\n",
      "D:\\Emaratech\\Work\\dubai permit extension consistency check - 13 Feb 2021.csv\n",
      "D:\\Emaratech\\Work\\dubai permit extension consistency check - 13 Feb 2021.xlsx\n",
      "D:\\Emaratech\\Work\\dubai permit extension consistency check - 13 Feb 2021.zip\n",
      "D:\\Emaratech\\Work\\dubai permit extension to 31st Mar 2021 - extract on 11th Feb 2021 10AM (2).zip\n",
      "D:\\Emaratech\\Work\\dubai permit extension to 31st Mar 2021 - extract on 11th Feb 2021 10AM.csv\n",
      "D:\\Emaratech\\Work\\dubai permit extension to 31st Mar 2021 - extract on 11th Feb 2021 10AM.xlsx\n",
      "D:\\Emaratech\\Work\\dubai permit extension to 31st Mar 2021 - extract on 11th Feb 2021 10AM.zip\n",
      "D:\\Emaratech\\Work\\Dubai Permits Cancelled by MOI on 17th Mar 2020 While Person Inside Country Cases -  Having MOI Status as Active or USED.xlsx\n",
      "D:\\Emaratech\\Work\\Dubai Permits Cancelled by MOI on 17th Mar 2020 While Person Inside Country Cases - Extracted on 19th Mar 2020.xlsx\n",
      "D:\\Emaratech\\Work\\Dubai Permits Expired or Cancelled Before Entry - Expired on or After 22nd Mar 2020 - Analysis as of 8th June 2020.xlsx\n",
      "D:\\Emaratech\\Work\\Dubai Permits Expired or Cancelled Before Entry - Expired on or After 22nd Mar 2020 - Analysis as of 8th June 2020_v2.xlsx\n",
      "D:\\Emaratech\\Work\\Dubai Permits Expired or Cancelled Before Entry.csv\n",
      "D:\\Emaratech\\Work\\Dubai Permits Issued on 2018 excluding Resident Visas.xlsx\n",
      "D:\\Emaratech\\Work\\Dubai Permits Issued on 2018 of visa type 2,3,7 for resident visa.xlsx\n",
      "D:\\Emaratech\\Work\\Dubai Residence Cancelled from MOI for Iran Nationals - last one month - 11 Mar 2020.xls\n",
      "D:\\Emaratech\\Work\\Dubai Residence Cancelled from MOI for Iran Nationals - last one month - 11 Mar 2020.xlsx\n",
      "D:\\Emaratech\\Work\\Dubai Residence Extension Cases - Cancelled Status in MOI - 110 cases.xlsx\n",
      "D:\\Emaratech\\Work\\Dubai Residence Extension Cases - Consistency Check with MOI.xlsx\n",
      "D:\\Emaratech\\Work\\Dubai Residence Extension Cases - Consistency Check with MOI_v2 - 14May2020.xlsx\n",
      "D:\\Emaratech\\Work\\Dubai Residence Extension Cases - Consistency Check with MOI_v3 - 27May2020.xlsx\n",
      "D:\\Emaratech\\Work\\Dubai Residence Extension Cases - Permanent Closed Status in MOI - 385 cases.xlsx\n",
      "D:\\Emaratech\\Work\\Dubai Residence Extention Due to Covid-19 - on date 10th May 2020 - v2.xlsx\n",
      "D:\\Emaratech\\Work\\Dubai Residence Extention Due to Covid-19 - on date 10th May 2020.xlsx\n",
      "D:\\Emaratech\\Work\\Dubai Residence Permit Issues - Converted to Residence - Residence Renewed count.xlsx\n",
      "D:\\Emaratech\\Work\\Dubai Residence Renewal - 1st Jan 2018 to 25th Dec 2018.xlsx\n",
      "D:\\Emaratech\\Work\\Dubai Residence Renewal - 1st Jan 2018 to 26th Dec 2018_v(002).xlsx\n",
      "D:\\Emaratech\\Work\\Dubai Residences Cancelled and Person Outside Country.xlsx\n",
      "D:\\Emaratech\\Work\\Dubai Residencies - Expiry Date Greater Than Validity - For Validity Date between 1st March 2020 and 15 April 2020.xlsx\n",
      "D:\\Emaratech\\Work\\Dubai Residencies - Expiry Date Greater Than Validity - For Validity Date between 1st March 2020 and 15 April 2020.zip\n",
      "D:\\Emaratech\\Work\\Dubai Schengen File Closure - Permit Status Missmatch Between MOI and Vision - As of 23rd Dec 2019.xlsx\n",
      "D:\\Emaratech\\Work\\Dubai Schengen File Closure - Permit Status Missmatch Between MOI and Vision - As of 30th Dec 2019.xlsx\n",
      "D:\\Emaratech\\Work\\DubaiAirportTravels.csv\n",
      "D:\\Emaratech\\Work\\Dubai_Residencies_With_InActive_Sponsor_Files.csv\n",
      "D:\\Emaratech\\Work\\dummy profile.xlsx\n",
      "D:\\Emaratech\\Work\\DummyProfileUpdate.sql\n",
      "D:\\Emaratech\\Work\\Duplicate airline name in flight_code_lk.xlsx\n",
      "D:\\Emaratech\\Work\\Duplicate ECHANNEL_ONLINE_USER_CONFIG with Same Bank Ids.xlsx\n",
      "D:\\Emaratech\\Work\\Duplicate Establishment Names.xlsx\n",
      "D:\\Emaratech\\Work\\Duplicate Establishment Serial number EST_CODEs.csv\n",
      "D:\\Emaratech\\Work\\Duplicate Establishment Serial number EST_CODEs.xlsx\n",
      "D:\\Emaratech\\Work\\Duplicate Establishments vision.xlsx\n",
      "D:\\Emaratech\\Work\\Duplicate individual contacts.xlsx\n",
      "D:\\Emaratech\\Work\\duplicate passport notification.html\n",
      "D:\\Emaratech\\Work\\Duplicate Passport on Profile - with same PASSPORT_NO and NAT - Non Expired valid passports - set1.xlsx\n",
      "D:\\Emaratech\\Work\\Duplicate Passport on Profile - with same PASSPORT_NO and NAT - Non Expired valid passports - set2.xlsx\n",
      "D:\\Emaratech\\Work\\Duplicate Passport on Profile - with same PASSPORT_NO,TYPE,ISSUE_DT,EXPIRY_DT,ISSUE COUNTRY and NAT- Non Expired valid passports - v2.xlsx\n",
      "D:\\Emaratech\\Work\\Duplicate Passport on Profile - with same PASSPORT_NO,TYPE,ISSUE_DT,EXPIRY_DT,ISSUE COUNTRY and NAT- Non Expired valid passports - v3.xlsx\n",
      "D:\\Emaratech\\Work\\Duplicate Passport on Profile - with same PASSPORT_NO,TYPE,ISSUE_DT,EXPIRY_DT,ISSUE COUNTRY and NAT- Non Expired valid passports - v4.csv\n",
      "D:\\Emaratech\\Work\\Duplicate permit transaction for app type 60.jpg\n",
      "D:\\Emaratech\\Work\\Duplicate Profile analysis - 24 Dec 2020.csv\n",
      "D:\\Emaratech\\Work\\Duplicate Profile analysis - 24 Dec 2020.xls\n",
      "D:\\Emaratech\\Work\\Duplicate Profile analysis - 24 Dec 2020.xlsx\n",
      "D:\\Emaratech\\Work\\Duplicate Profile analysis - 24 Dec 2020.zip\n",
      "D:\\Emaratech\\Work\\Duplicate Profile Analysis in vision - One of the multiple profiles must have an active residence or visa.xlsx\n",
      "D:\\Emaratech\\Work\\Duplicate Profile Report extract - with custrom profiles.sql\n",
      "D:\\Emaratech\\Work\\Duplicate Profiles in Vision - Created on Nov 2019.xlsx\n",
      "D:\\Emaratech\\Work\\Duplicate Profiles in Vision - Created on Nov 2019_V2.xlsx\n",
      "D:\\Emaratech\\Work\\Duplicate Profiles on Person No -individual person no table.xlsx\n",
      "D:\\Emaratech\\Work\\Duplicate Records in Permit Transaction.xlsx\n",
      "D:\\Emaratech\\Work\\Duplicate Violation Payment Records.xlsx\n",
      "D:\\Emaratech\\Work\\Duplicate Violation Records.xls\n",
      "D:\\Emaratech\\Work\\Duplicate Warranty Payments in Application Warranty Table Analysis - 5th Mar 2020.xlsx\n",
      "D:\\Emaratech\\Work\\Duplicate Warranty Payments in Application Warranty Table Analysis - 5th Mar 2020_v002.xlsx\n",
      "D:\\Emaratech\\Work\\Duplicate Warranty Payments in Application Warranty Table Analysis - 5th Mar 2020_v003.xlsx\n",
      "D:\\Emaratech\\Work\\Duplicate Warranty Payments in Application Warranty Table Analysis - 5th Mar 2020_v004.xlsx\n",
      "D:\\Emaratech\\Work\\Duplicated Persons - Provided Sheet.xls\n",
      "D:\\Emaratech\\Work\\Duplicates Records in VISION_EST.ECHANNEL_ONLINE_USER_CONFIG  or EDNRD_USR.CLIENT MAST.xlsx\n",
      "D:\\Emaratech\\Work\\Duplicate_DED_TradeLicense_Vision.csv\n",
      "D:\\Emaratech\\Work\\Dupplicated Persons.csv\n",
      "D:\\Emaratech\\Work\\Dupplicated Persons.xlsx\n",
      "D:\\Emaratech\\Work\\dup_passport_analyser.html\n",
      "D:\\Emaratech\\Work\\dup_passport_analysis_report.xlsx\n",
      "D:\\Emaratech\\Work\\dup_passport_analysis_report.zip\n",
      "D:\\Emaratech\\Work\\DXB T3 DEP - First - Economy - Ahwal office - All transactions done on 25th March 2017.xlsx\n",
      "D:\\Emaratech\\Work\\DXB Travel Stats.sql\n",
      "D:\\Emaratech\\Work\\Dxb_Res_MOI_Closure_Candidate_Outside_6Months.xlsx\n",
      "D:\\Emaratech\\Work\\DXB_RES_NEAR_EXPIRY.txt\n",
      "D:\\Emaratech\\Work\\dxb_res_near_expiry_emailContent.html\n",
      "D:\\Emaratech\\Work\\Dxb_Res_Near_Renewal_with_InConsistency.zip\n",
      "D:\\Emaratech\\Work\\e60105ee3dc0d6596bbf9bca6093b409.jpg\n",
      "D:\\Emaratech\\Work\\Echannel Applications Medical Result Comparison - 01 Jan 2019 - 26 Sep 2019 - v(1).xlsx\n",
      "D:\\Emaratech\\Work\\Echannel Applications Medical Result Comparison With Age - 01 Jan 2019 - 30 Sep 2019 - v(2).xlsx\n",
      "D:\\Emaratech\\Work\\Echannel Applications Stats - 1st Jan 2018 - 30 Dec 2018 - FreeZone.xlsx\n",
      "D:\\Emaratech\\Work\\Echannel Applications Stats - 1st Jan 2018 - 30 Dec 2018 - FreeZone_V002.xlsx\n",
      "D:\\Emaratech\\Work\\Echannel Applications Stats - 1st Jan 2018 - 30 Dec 2018.xlsx\n",
      "D:\\Emaratech\\Work\\Echannel Applications Stats - 1st Jan2018 - 31 Dec 2018_v001.xlsx\n",
      "D:\\Emaratech\\Work\\Echannel Applications Stats - 1st Nov 2018 - 31 Dec 2018 - FreeZone_V001.xlsx\n",
      "D:\\Emaratech\\Work\\Echannel Applications Stats - 1st Nov 2018 - 31 Dec 2018_v001.xlsx\n",
      "D:\\Emaratech\\Work\\Echannel Applications Stats - 1st Nov 2018 - 31 Dec 2018_v002.xlsx\n",
      "D:\\Emaratech\\Work\\Echannel Script - Violation Configuration Extension.sql\n",
      "D:\\Emaratech\\Work\\Echannel Script2 - Violation Configuration Extension - 3rdSep2020.sql\n",
      "D:\\Emaratech\\Work\\Edbara Missing in Vision and Available in Legacy_18Jun2019.xlsx\n",
      "D:\\Emaratech\\Work\\Edbara on different Profile in Vision andn Legacy_18Jun2019.xlsx\n",
      "D:\\Emaratech\\Work\\EDNRD  ETL Failures - 14 Oct 2018.msg\n",
      "D:\\Emaratech\\Work\\Ednrd Application Integration Delay.xlsx\n",
      "D:\\Emaratech\\Work\\EDNRD Application Posted Stats for TRANSGUARD GROUP L.L.C (21090976).xlsx\n",
      "D:\\Emaratech\\Work\\EDNRD Application Valid Status.xlsx\n",
      "D:\\Emaratech\\Work\\eDNRD Applications.xlsx\n",
      "D:\\Emaratech\\Work\\EDNRD Apps Missing records in Zajel Print status table - 13 Feb 2019 onwards till 28 Feb 219 10am.xlsx\n",
      "D:\\Emaratech\\Work\\EDNRD Permit Application Stats - for Visa type 7 and Estab Type 2,3.xlsx\n",
      "D:\\Emaratech\\Work\\EDNRD Permit Application Stats -Visa type 7 and Estab Type Not 2 & 3 - 03 Oct 2019.xlsx\n",
      "D:\\Emaratech\\Work\\EDNRD Permit Application Stats -Visa type 7 and Estab Type Not 2 & 3 - 06 Oct 2019.xlsx\n",
      "D:\\Emaratech\\Work\\EDNRD Replication Echannel - Integrations Stats.sql\n",
      "D:\\Emaratech\\Work\\ednrd_vision_service_map.xls\n",
      "D:\\Emaratech\\Work\\ednrd_vision_service_map.xlsx\n",
      "D:\\Emaratech\\Work\\Eform  ETL Failures - 08 Oct 2018.msg\n",
      "D:\\Emaratech\\Work\\Eform - EC migration to SC.txt\n",
      "D:\\Emaratech\\Work\\Eform - Temporary Closure  - With Absconding  - 1st May 2018 till 2nd Jan 2019.xlsx\n",
      "D:\\Emaratech\\Work\\Eform - UC - Migration Stuff.rar\n",
      "D:\\Emaratech\\Work\\Eform Application ETL processing Time Comparison.xlsx\n",
      "D:\\Emaratech\\Work\\Eform Application Status Missmatch.xlsx\n",
      "D:\\Emaratech\\Work\\Eform Application Status Missmatch_20Feb2017.xlsx\n",
      "D:\\Emaratech\\Work\\Eform Application Valid Status.xlsx\n",
      "D:\\Emaratech\\Work\\Eform Application Valid Status_v2.xlsx\n",
      "D:\\Emaratech\\Work\\Eform Application Valid Status_v2_updt.xlsx\n",
      "D:\\Emaratech\\Work\\Eform Application with Null Warranty Status in Vision_v2.xlsx\n",
      "D:\\Emaratech\\Work\\Eform Applications Posted with Default Passport Issue Date - from 2017.xls\n",
      "D:\\Emaratech\\Work\\Eform Applications Posted with Default Passport Issue Date - from 2017.xlsx\n",
      "D:\\Emaratech\\Work\\Eform Applications Status Missmatch - Form Jan 2016 - (2).xlsx\n",
      "D:\\Emaratech\\Work\\Eform Applications Status Missmatch - Form Jan 2016.xlsx\n",
      "D:\\Emaratech\\Work\\Eform Applications to Migrate to SC.xlsx\n",
      "D:\\Emaratech\\Work\\Eform Applications with Sponsor as Dubai EXPO 2020.xlsx\n",
      "D:\\Emaratech\\Work\\Eform Applications with Sponsor as Dubai EXPO 2020_v2.xlsx\n",
      "D:\\Emaratech\\Work\\eForm Applications.xlsx\n",
      "D:\\Emaratech\\Work\\Eform Dubai EXPO 2020 licensing Atuhority Establishments Sponsored Applications.xlsx\n",
      "D:\\Emaratech\\Work\\Eform Dubai EXPO 2020 licensing Atuhority Establishments Sponsored Applications_v2.xlsx\n",
      "D:\\Emaratech\\Work\\Eform ETL Profession Mapping.xlsx\n",
      "D:\\Emaratech\\Work\\Eform Failed aplication in ETL.xlsx\n",
      "D:\\Emaratech\\Work\\Eform Failed Applications.xlsx\n",
      "D:\\Emaratech\\Work\\Eform IQC and Vision Valid Status list.xlsx\n",
      "D:\\Emaratech\\Work\\eform Mapping_matrix_Draft_08FEB2017.xls\n",
      "D:\\Emaratech\\Work\\Eform Replication Echannel - Integrations Stats.sql\n",
      "D:\\Emaratech\\Work\\EFORM VIOLATION PAYMENT MISSING IN VISION.xlsx\n",
      "D:\\Emaratech\\Work\\EFORM VIOLATION PAYMENT MISSING IN VISION_v2.xlsx\n",
      "D:\\Emaratech\\Work\\Eform Warranty Refund  Oct 2017 - Having Violation Payment - Application (v002).pdf\n",
      "D:\\Emaratech\\Work\\Eform Warranty Refund  Oct 2017 - Having Violation Payment - Application (v002).xlsx\n",
      "D:\\Emaratech\\Work\\Eform Warranty Refund  Oct 2017 - Having Violation Payment - Application.xlsx\n",
      "D:\\Emaratech\\Work\\EForm-UC-SC-Mapping.xlsx\n",
      "D:\\Emaratech\\Work\\Eform_InProcess_Applications_23DEC2020.xlsx\n",
      "D:\\Emaratech\\Work\\EFORM_SERIAL_MAPPING.xlsx\n",
      "D:\\Emaratech\\Work\\Egate EK Crew Analysis - 3rd Mar 2020.xlsx\n",
      "D:\\Emaratech\\Work\\Egate with Default DOB.csv\n",
      "D:\\Emaratech\\Work\\Egate with Default DOB.msg\n",
      "D:\\Emaratech\\Work\\Egate with Default DOB.txt\n",
      "D:\\Emaratech\\Work\\Egate with Default DOB.xls\n",
      "D:\\Emaratech\\Work\\egate_data.xls\n",
      "D:\\Emaratech\\Work\\egov_intg.work_permit_dtl_temp duplicates.xlsx\n",
      "D:\\Emaratech\\Work\\egov_intg.work_permit_hdr_temp duplicates.xlsx\n",
      "D:\\Emaratech\\Work\\EIDA Added Status by USER in Vision.xlsx\n",
      "D:\\Emaratech\\Work\\EIDA Dedup.xlsx\n",
      "D:\\Emaratech\\Work\\EIDA Duplicate records on same profile.xlsx\n",
      "D:\\Emaratech\\Work\\EIDA Duplicate with Different Profiles.xlsx\n",
      "D:\\Emaratech\\Work\\EK_Qantas_CrewCard.xlsx\n",
      "D:\\Emaratech\\Work\\Elastic Search  - Duplicate Profile Creation Issue Profiles.xlsx\n",
      "D:\\Emaratech\\Work\\Elastic Search  - Duplicate Profile Creation Issue Profiles_16 Dec 2018 - 11am - 4pm.xlsx\n",
      "D:\\Emaratech\\Work\\Email -  Approved visa copy is having an issue..msg\n",
      "D:\\Emaratech\\Work\\Email -  IM69065 Permit Detail table missing data for permit -- Entry Screen showing error Contact technical Support passenger was stuck for over 2 hours.msg\n",
      "D:\\Emaratech\\Work\\Email -  Violation.msg\n",
      "D:\\Emaratech\\Work\\Email - Datafix - Reject PPS Merge Cases.msg\n",
      "D:\\Emaratech\\Work\\Email - Delete Individual Sponsor.msg\n",
      "D:\\Emaratech\\Work\\Email - GDRFA Violation Mismatch -Mar 2017.msg\n",
      "D:\\Emaratech\\Work\\Email - IM72719 - residence cancelation.msg\n",
      "D:\\Emaratech\\Work\\Email - Outpass closed after exit but permitresidence still active.msg\n",
      "D:\\Emaratech\\Work\\Email - RE Employee Performance Report - TVIS-11400.msg\n",
      "D:\\Emaratech\\Work\\Email - RE Support Required for Quartz Job Performance issue.msg\n",
      "D:\\Emaratech\\Work\\Email - RE Universities data fix..msg\n",
      "D:\\Emaratech\\Work\\Email after fix.msg\n",
      "D:\\Emaratech\\Work\\Email before fix.msg\n",
      "D:\\Emaratech\\Work\\email content.html\n",
      "D:\\Emaratech\\Work\\Email Request - Establishment Renewal Application Non-paid but posted hotfix.msg\n",
      "D:\\Emaratech\\Work\\emailhtml.html\n",
      "D:\\Emaratech\\Work\\email_html.html\n",
      "D:\\Emaratech\\Work\\Emaratech.xlsx\n",
      "D:\\Emaratech\\Work\\Embassy Applications Stats_12thJune2017.xlsx\n",
      "D:\\Emaratech\\Work\\Emirate Flight ticket.pdf\n",
      "D:\\Emaratech\\Work\\Emirates DNATA Etihad Sponsored Visa Stats  - (Jan1st to May 30th) 2017 Vs  2018 - Dubai Vs MOI - On Nationality and Visa type.xlsx\n",
      "D:\\Emaratech\\Work\\Emirates DNATA Etihad Sponsored Visa Stats  - (Jun23rd to Jul09th) 2017 Vs  2018 - Dubai Vs MOI - On Nationality and Visa type.xlsx\n",
      "D:\\Emaratech\\Work\\Emirates Etihad Sponsored Visa Stats - 2016 to 2018 - On Nationality and Visa type.xlsx\n",
      "D:\\Emaratech\\Work\\Emirate_lk_8.xls\n",
      "D:\\Emaratech\\Work\\Emirate_lk_8_deportation_request.xls\n",
      "D:\\Emaratech\\Work\\Employee POS Report - April 2017.pdf\n",
      "D:\\Emaratech\\Work\\Employee POS report - ML1636.xlsx\n",
      "D:\\Emaratech\\Work\\Employee Pos Report _ML2623.pdf\n",
      "D:\\Emaratech\\Work\\Employee Shift Details.xlsx\n",
      "D:\\Emaratech\\Work\\Employee_Rotation_SQL.sql\n",
      "D:\\Emaratech\\Work\\Employment Permit Analysis - 7 June 2020.xls\n",
      "D:\\Emaratech\\Work\\Employment Permit Analysis - 7 June 2020.xlsx\n",
      "D:\\Emaratech\\Work\\Enex_master travel screenshot.jpg\n",
      "D:\\Emaratech\\Work\\Entries marked in Dubai against tourism permits issued in MOI - (23 May - 09 July) 2017 Vs 2018.xlsx\n",
      "D:\\Emaratech\\Work\\Entries marked in Dubai against tourism permits issued in MOI - (Jan - April) 2017 Vs 2018.xlsx\n",
      "D:\\Emaratech\\Work\\Entries marked in Dubai against tourism permits issued in MOI - (Jan - Jun) 2017 Vs 2018 - Monthly.xlsx\n",
      "D:\\Emaratech\\Work\\Entry After Return Permit.xls\n",
      "D:\\Emaratech\\Work\\Entry After Return Permit.xlsx\n",
      "D:\\Emaratech\\Work\\entry and exit for locals and GCC only.jpg\n",
      "D:\\Emaratech\\Work\\entry and exit for locals and GCC only.zip\n",
      "D:\\Emaratech\\Work\\Entry over Entry and Exit Over Exit Comparison_ v(2).xlsx\n",
      "D:\\Emaratech\\Work\\Entry over Entry and Exit over Exit Stats - April 2016 to June 2016.xlsx\n",
      "D:\\Emaratech\\Work\\entryPermitPermanentClosedEvent.txt\n",
      "D:\\Emaratech\\Work\\entryPermitPermanentClosedEvent_05-09-2019.txt\n",
      "D:\\Emaratech\\Work\\Error_Action.txt\n",
      "D:\\Emaratech\\Work\\Error_correction_staging.sql\n",
      "D:\\Emaratech\\Work\\error_vision_app.txt\n",
      "D:\\Emaratech\\Work\\ESB Error Analysis.txt\n",
      "D:\\Emaratech\\Work\\ESB Error Analysis.xml\n",
      "D:\\Emaratech\\Work\\ESB error Log.txt\n",
      "D:\\Emaratech\\Work\\ESB Error Resolution.txt\n",
      "D:\\Emaratech\\Work\\esb event aug2020.sql\n",
      "D:\\Emaratech\\Work\\ESB Event Error Comparison.txt\n",
      "D:\\Emaratech\\Work\\Esb Event Posting Status - Last 7 Days.xlsx\n",
      "D:\\Emaratech\\Work\\ESB Event Posting Status from 1st September 2019 till 15 Dec 2019.xlsx\n",
      "D:\\Emaratech\\Work\\esb event query.sql\n",
      "D:\\Emaratech\\Work\\Esb Failure - Top 25 list.xlsx\n",
      "D:\\Emaratech\\Work\\ESB Inbound Travel Failure on Closed Schengen Permits in Vision - As of Date 10 Sep 2019.xlsx\n",
      "D:\\Emaratech\\Work\\ESB issues - Hussain.xml\n",
      "D:\\Emaratech\\Work\\ESB issues - Hussain2.xml\n",
      "D:\\Emaratech\\Work\\ESB Travel Event Date Stats.xlsx\n",
      "D:\\Emaratech\\Work\\ESB Travels on Dubai Ports.xlsx\n",
      "D:\\Emaratech\\Work\\ESB Undo Travel - Last travel in Vision.xlsx\n",
      "D:\\Emaratech\\Work\\esb_erro_permit_extend.txt\n",
      "D:\\Emaratech\\Work\\esb_failure_list.csv\n",
      "D:\\Emaratech\\Work\\eserv_lookup_appl_status.xls\n",
      "D:\\Emaratech\\Work\\Estab Ban Details.xlsx\n",
      "D:\\Emaratech\\Work\\estab mazhar _1.pdf\n",
      "D:\\Emaratech\\Work\\estab mazhar.pdf\n",
      "D:\\Emaratech\\Work\\estab mazhar_2.pdf\n",
      "D:\\Emaratech\\Work\\estab mazhar_3.pdf\n",
      "D:\\Emaratech\\Work\\estab pro report.jpg\n",
      "D:\\Emaratech\\Work\\estab splink dashbaord.xml\n",
      "D:\\Emaratech\\Work\\Establishment  Ban Privilege Report.xlsx\n",
      "D:\\Emaratech\\Work\\Establishment - PRO related stats.jpg\n",
      "D:\\Emaratech\\Work\\Establishment Ban Details - March 2018.xlsx\n",
      "D:\\Emaratech\\Work\\Establishment Ban Privileged Users  - v(002).xlsx\n",
      "D:\\Emaratech\\Work\\Establishment Ban Privileged Users  - v(003).xlsx\n",
      "D:\\Emaratech\\Work\\Establishment Card - DIFC_v(2).xlsx\n",
      "D:\\Emaratech\\Work\\Establishment card master - DSO_v(1).xlsx\n",
      "D:\\Emaratech\\Work\\Establishment card master - DSO_v(2).xlsx\n",
      "D:\\Emaratech\\Work\\Establishment correction - Application corruption - residence table - pending cases.xlsx\n",
      "D:\\Emaratech\\Work\\Establishment correction - Application corruption - residence table.xlsx\n",
      "D:\\Emaratech\\Work\\Establishment Details.xlsx\n",
      "D:\\Emaratech\\Work\\Establishment Expired Before 1st Ocotber 2018.xlsx\n",
      "D:\\Emaratech\\Work\\Establishment Insurance Backup Script.sql\n",
      "D:\\Emaratech\\Work\\Establishment Metrics.msg\n",
      "D:\\Emaratech\\Work\\Establishment Name Starting With Dots (002).xlsx\n",
      "D:\\Emaratech\\Work\\Establishment Name Starting With Dots - Only Dubai(002).xlsx\n",
      "D:\\Emaratech\\Work\\Establishment Name Starting With Dots.xlsx\n",
      "D:\\Emaratech\\Work\\Establishment Profile missmatch emirateid department.xlsx\n",
      "D:\\Emaratech\\Work\\Establishment Profile Non-Numeric Character Issue.xlsx\n",
      "D:\\Emaratech\\Work\\Establishment Report - Q2 2019.jpg\n",
      "D:\\Emaratech\\Work\\Establishment Trans Rejected - echannel_app_no.sql\n",
      "D:\\Emaratech\\Work\\EstablishmentProgress report (dump) (1).xlsx\n",
      "D:\\Emaratech\\Work\\EstablishmentProgress report (dump).xlsx\n",
      "D:\\Emaratech\\Work\\Establishment_name_missmatch.xls\n",
      "D:\\Emaratech\\Work\\Establisment Trans NAME_AR Correction.xlsx\n",
      "D:\\Emaratech\\Work\\Establisments (002).xls\n",
      "D:\\Emaratech\\Work\\Establisments (002)_updated.xlsx\n",
      "D:\\Emaratech\\Work\\Estan name correction 18Jan2018.xlsx\n",
      "D:\\Emaratech\\Work\\Estb Reduced Quota(2).xlsx\n",
      "D:\\Emaratech\\Work\\Estb Reduced Quota.xlsx\n",
      "D:\\Emaratech\\Work\\estbab.csv\n",
      "D:\\Emaratech\\Work\\Estblishment - Bank ID Missmatch Records - With Duplicate Records in Egov Table.xlsx\n",
      "D:\\Emaratech\\Work\\Estblishment - Bank ID Missmatch Records.xlsx\n",
      "D:\\Emaratech\\Work\\estb_address.sql\n",
      "D:\\Emaratech\\Work\\Ethihad Airways UDBs.xlsx\n",
      "D:\\Emaratech\\Work\\ETL Application errors analysis (Autosaved).xlsx\n",
      "D:\\Emaratech\\Work\\ETL Application errors analysis.xlsx\n"
     ]
    },
    {
     "name": "stdout",
     "output_type": "stream",
     "text": [
      "D:\\Emaratech\\Work\\ETL Application Failures(AutoRecovered)(AutoRecovered).xlsx\n",
      "D:\\Emaratech\\Work\\ETL Application Failures(AutoRecovered).xlsx\n",
      "D:\\Emaratech\\Work\\ETL Application Failures.xlsx\n",
      "D:\\Emaratech\\Work\\ETL changes.txt\n",
      "D:\\Emaratech\\Work\\ETL doc ednrd changes.sql\n",
      "D:\\Emaratech\\Work\\ETL Document Mapping - Eform.xlsx\n",
      "D:\\Emaratech\\Work\\ETL Document Mapping for EDNRD Applications.xlsx\n",
      "D:\\Emaratech\\Work\\ETL Error log analysis.xlsx\n",
      "D:\\Emaratech\\Work\\ETL Errors.xlsx\n",
      "D:\\Emaratech\\Work\\ETL Failures.sql\n",
      "D:\\Emaratech\\Work\\ETL Failures_16082017.sql\n",
      "D:\\Emaratech\\Work\\ETL Failures_16082017_2.sql\n",
      "D:\\Emaratech\\Work\\ETL Failures_17082017.sql\n",
      "D:\\Emaratech\\Work\\ETL Failures_17082017_2.sql\n",
      "D:\\Emaratech\\Work\\ETL Failures_17082017_3.sql\n",
      "D:\\Emaratech\\Work\\ETL Failures_22082017.sql\n",
      "D:\\Emaratech\\Work\\ETL Failures_24082017.sql\n",
      "D:\\Emaratech\\Work\\ETL Failures_29Aug2017.sql\n",
      "D:\\Emaratech\\Work\\ETL Failures_29Aug2017_2.sql\n",
      "D:\\Emaratech\\Work\\ETL Failures_app_no27057042.sql\n",
      "D:\\Emaratech\\Work\\ETL Failures_app_no27057042_2.sql\n",
      "D:\\Emaratech\\Work\\ETL Failures_app_no28057042.sql\n",
      "D:\\Emaratech\\Work\\ETL Failures_GCC Fee Exemption.sql\n",
      "D:\\Emaratech\\Work\\ETL issues 12-Dec-2017 -2.sql\n",
      "D:\\Emaratech\\Work\\ETL issues 17Feb2019.sql\n",
      "D:\\Emaratech\\Work\\ETL issues 18Feb2019.sql\n",
      "D:\\Emaratech\\Work\\ETL issues 215Dec 2016 -set1.txt\n",
      "D:\\Emaratech\\Work\\ETL issues 215Dec 2016 -set2.txt\n",
      "D:\\Emaratech\\Work\\ETL issues 21Dec 2016 -set2-correction.txt\n",
      "D:\\Emaratech\\Work\\ETL issues 21Dec 2016 -set2.txt\n",
      "D:\\Emaratech\\Work\\ETL issues 21Dec 2016.txt\n",
      "D:\\Emaratech\\Work\\ETL issues 22-Nov-2017.sql\n",
      "D:\\Emaratech\\Work\\ETL issues 26-Nov-2017.sql\n",
      "D:\\Emaratech\\Work\\ETL issues 27-Nov-2017.sql\n",
      "D:\\Emaratech\\Work\\ETL issues 28-Nov-2017.sql\n",
      "D:\\Emaratech\\Work\\ETL issues 4 Dec-2017.sql\n",
      "D:\\Emaratech\\Work\\ETL issues 6 Dec-2017.sql\n",
      "D:\\Emaratech\\Work\\ETL issues 7-Jan-2018.sql\n",
      "D:\\Emaratech\\Work\\ETL issues 9-Jan-2018 - Visioncore.sql\n",
      "D:\\Emaratech\\Work\\ETL issues 9-Jan-2018.sql\n",
      "D:\\Emaratech\\Work\\ETL issues 9-Jan-2018_1.sql\n",
      "D:\\Emaratech\\Work\\ETL Performance Stats - 1st Sep 2018 - 29 Sep 2018.xlsx\n",
      "D:\\Emaratech\\Work\\ETL Processing Stats - EDNRD-EFORM - 5thFeb2018.xlsx\n",
      "D:\\Emaratech\\Work\\ETL Tracker Correction - Application Available in IQC but last ETL status is Failure.xlsx\n",
      "D:\\Emaratech\\Work\\ETL Tracker Correction - Application Not Available in IQC and last ETL status is Failure.xlsx\n",
      "D:\\Emaratech\\Work\\ETL_PROCESS_LOG_DETAIL in vision prod integration db - 29-May-2019 Problem - PM11782.msg\n",
      "D:\\Emaratech\\Work\\ETL_value_mapping_error.txt\n",
      "D:\\Emaratech\\Work\\Event - Permit Closure to MOI (002).sql\n",
      "D:\\Emaratech\\Work\\Event 1 - ResidencePermanentFileClosureEvent - IM206466.txt\n",
      "D:\\Emaratech\\Work\\Event 1 - ResidencePermanentFileClosureEvent - IM207128,IM207085,IM206336,IM206077.txt\n",
      "D:\\Emaratech\\Work\\Event 2 - ResidenceCreateEvent - IM206466.txt\n",
      "D:\\Emaratech\\Work\\Event 2 - ResidenceCreateEvent - IM207128,IM207085,IM206336,IM206077.txt\n",
      "D:\\Emaratech\\Work\\Event 3 - ResidenceCorrectEvent - IM207085.txt\n",
      "D:\\Emaratech\\Work\\Event Queue.xlsx\n",
      "D:\\Emaratech\\Work\\Event Zajel Query.sql\n",
      "D:\\Emaratech\\Work\\Event Zajel.txt\n",
      "D:\\Emaratech\\Work\\event.txt\n",
      "D:\\Emaratech\\Work\\Event1-EstablishmentRegisterEvent-IM205986,IM205997.txt\n",
      "D:\\Emaratech\\Work\\Event2-EntryPermitCreateEvent-IM205986,IM205997,IM206323.txt\n",
      "D:\\Emaratech\\Work\\Event3-EntryPermitChangeStatusFromEntryPermitEvent-IM205986,IM205997,IM202306,IM206323.txt\n",
      "D:\\Emaratech\\Work\\Event4-ResidenceCreateEvent-IM205986,IM205997,IM202306,IM206323.txt\n",
      "D:\\Emaratech\\Work\\events posted.txt\n",
      "D:\\Emaratech\\Work\\Events.txt\n",
      "D:\\Emaratech\\Work\\eVisa.pdf\n",
      "D:\\Emaratech\\Work\\Exclude cases.xlsx\n",
      "D:\\Emaratech\\Work\\Exit Travel ProfilePull Request Stats - 1st Jan 2020 - 24th June 2020.xlsx\n",
      "D:\\Emaratech\\Work\\expo 202 estab sysnc from prod.sql\n",
      "D:\\Emaratech\\Work\\Expo 2020 card print.sql\n",
      "D:\\Emaratech\\Work\\ext.csv\n",
      "D:\\Emaratech\\Work\\Extend Cancelled before entry Permits (Kenya and Pakistan) - Auto Closure Permits - 7Sep2020.xlsx\n",
      "D:\\Emaratech\\Work\\Extend Cancelled before entry Permits (Pakistan) - 22 Sep 2020.xlsx\n",
      "D:\\Emaratech\\Work\\Extend Cancelled before entry Permits (Pakistan) - 23 Sep 2020.xls\n",
      "D:\\Emaratech\\Work\\EXTENDED_FILES.csv\n",
      "D:\\Emaratech\\Work\\Extension Application - monthly stats.xlsx\n",
      "D:\\Emaratech\\Work\\External Departments- officer list.xlsx\n",
      "D:\\Emaratech\\Work\\External Departments- Officer Transactions.xlsx\n",
      "D:\\Emaratech\\Work\\external departments.xlsx\n",
      "D:\\Emaratech\\Work\\Extract Sample for Automatic Translation Evaluation.xlsx\n",
      "D:\\Emaratech\\Work\\Extract Sample for Automatic Translation Evaluation_v2.xlsx\n",
      "D:\\Emaratech\\Work\\EZW-CIC_Details-31Jul17 (v1).xlsx\n",
      "D:\\Emaratech\\Work\\Fault Report-Ameen.PDF\n",
      "D:\\Emaratech\\Work\\FEJIN BIJU KUNJATTU.pdf\n",
      "D:\\Emaratech\\Work\\ff_dubai_res_extension_extract.zip\n",
      "D:\\Emaratech\\Work\\ff_res_extension_covid19_set2.csv\n",
      "D:\\Emaratech\\Work\\ff_res_extension_covid19_set3.csv\n",
      "D:\\Emaratech\\Work\\ff_temp_eform_pass_iss_dt.csv\n",
      "D:\\Emaratech\\Work\\ff_temp_eform_pass_iss_dt.xlsx\n",
      "D:\\Emaratech\\Work\\File not Exists in Vision.xls\n",
      "D:\\Emaratech\\Work\\Files not under Temporary Closure in Vision.xlsx\n",
      "D:\\Emaratech\\Work\\Files To Load.zip\n",
      "D:\\Emaratech\\Work\\Files Under Temporary closure in Dubai.xls\n",
      "D:\\Emaratech\\Work\\Files Under Temporary closure in Vision.xlsx\n",
      "D:\\Emaratech\\Work\\filters.sql\n",
      "D:\\Emaratech\\Work\\fine-cleared.jpg\n",
      "D:\\Emaratech\\Work\\First Time Traveller - Dubai Airport - 2017.xlsx\n",
      "D:\\Emaratech\\Work\\First Time Vs Many Time Traveler Comparison - T3 2017.xlsx\n",
      "D:\\Emaratech\\Work\\FIS Ban Information - v(2).xlsx\n",
      "D:\\Emaratech\\Work\\FIS Ban Information.xlsx\n",
      "D:\\Emaratech\\Work\\FIS Officers - Assin users to Channel.txt\n",
      "D:\\Emaratech\\Work\\Fis Report v002.sql\n",
      "D:\\Emaratech\\Work\\Fis Services - 2018.xlsx\n",
      "D:\\Emaratech\\Work\\Fis Services - 2018_v(002).xlsx\n",
      "D:\\Emaratech\\Work\\FIS Transaction Count - 15th April 2019.xls\n",
      "D:\\Emaratech\\Work\\FIS Transaction Count - 16st Apr 2019 - 29th May 2019 (001).xls\n",
      "D:\\Emaratech\\Work\\FIS Vision Intake - Dec2016.xlsx\n",
      "D:\\Emaratech\\Work\\FIS Vision Intake.xlsx\n",
      "D:\\Emaratech\\Work\\FIS_TRANS tables.xls\n",
      "D:\\Emaratech\\Work\\FIS_TRANS.erx\n",
      "D:\\Emaratech\\Work\\Fit_FollowUp_Results_DNRD_Dec2017 (002).xlsx\n",
      "D:\\Emaratech\\Work\\Fit_with_Followup_Statistic (003).xlsx\n",
      "D:\\Emaratech\\Work\\Fit_with_Followup_Statistic (004).xlsx\n",
      "D:\\Emaratech\\Work\\fly dubai.pdf\n",
      "D:\\Emaratech\\Work\\flydubai.pdf\n",
      "D:\\Emaratech\\Work\\fracis excel.xlsx\n",
      "D:\\Emaratech\\Work\\FreeZone Establishment - Estab Transaction Details - 1st Jan 2019 till 28 Apr 2019.xls\n",
      "D:\\Emaratech\\Work\\FreeZone Establishment - Estab Transaction Details - 1st Jan 2019 till 28 Apr 2019.xlsx\n",
      "D:\\Emaratech\\Work\\FreeZone Establishment - Expired Before 1st October 2018.xls\n",
      "D:\\Emaratech\\Work\\FreeZone Establishment - Expired Before 1st October 2018.xlsx\n",
      "D:\\Emaratech\\Work\\FreeZone Establishment - No Memeber Details.xlsx\n",
      "D:\\Emaratech\\Work\\FreeZone Establishment -Application status - 1st Jan 2019 till 28 Apr 2019.xls\n",
      "D:\\Emaratech\\Work\\FreeZone Establishment -Application status - 1st Jan 2019 till 28 Apr 2019.xlsx\n",
      "D:\\Emaratech\\Work\\FreeZone Establishment -Application status - 1st Jan 2019 till 28 Apr 2019_2.xls\n",
      "D:\\Emaratech\\Work\\FreeZone Establishment -Estab Transactions - 1st Jan 2019 till 28 Apr 2019.xls\n",
      "D:\\Emaratech\\Work\\FreeZone Establishment -Estab Transactions - 1st Jan 2019 till 28 Apr 2019.xlsx\n",
      "D:\\Emaratech\\Work\\FreeZone Establishment Details - 28 April 2019.xls\n",
      "D:\\Emaratech\\Work\\FreeZone Establishment Details - 30 April 2019.xlsx\n",
      "D:\\Emaratech\\Work\\FreeZone Establishment without Members.csv\n",
      "D:\\Emaratech\\Work\\FreeZone Establishment_1.xls\n",
      "D:\\Emaratech\\Work\\Free_ZONE_DATA_updated(2).xlsx\n",
      "D:\\Emaratech\\Work\\From BL status to Next Status flow count for 2017 applications.xlsx\n",
      "D:\\Emaratech\\Work\\FW ESTAB_OFFICER_INBOX_REQ_MORE_DOC  Privilege able to mark EPS and RAS apps as Require More doc.msg\n",
      "D:\\Emaratech\\Work\\FW NGA Project  Meeting Minutes Validation of Data.msg\n",
      "D:\\Emaratech\\Work\\FW Reset sequence activity 2020 (Reference to this year's activity).msg\n",
      "D:\\Emaratech\\Work\\FW كشف موظفي الاحوال .msg\n",
      "D:\\Emaratech\\Work\\FW كشف موظفي الاحوال مطار ال مكتوم.msg\n",
      "D:\\Emaratech\\Work\\FZ Company List(v1).xlsx\n",
      "D:\\Emaratech\\Work\\FZ Company List_ Meydan(2).xlsx\n",
      "D:\\Emaratech\\Work\\Gambia country id analysis.txt\n",
      "D:\\Emaratech\\Work\\Gates Query.sql\n",
      "D:\\Emaratech\\Work\\GCC and UAE Local - Entry over Entry and Exit over Exit cases.xlsx\n",
      "D:\\Emaratech\\Work\\GCC and UAE Local - Profile Pull Cases.xlsx\n",
      "D:\\Emaratech\\Work\\GCC and UAE Local - Stats.xlsx\n",
      "D:\\Emaratech\\Work\\GCC and UAE Local - Vision Vs NGE.xlsx\n",
      "D:\\Emaratech\\Work\\GCC iqcs aplications under hold and permit issued after in vision.csv\n",
      "D:\\Emaratech\\Work\\GCC Local Legality Correction - 25Sep2019.xlsx\n",
      "D:\\Emaratech\\Work\\GCC Local Legality Correction - Valid Cases.xls\n",
      "D:\\Emaratech\\Work\\GCC Local Legality Correction - Valid Cases.xlsx\n",
      "D:\\Emaratech\\Work\\GCC Local Legality Correction -In-Valid Cases.xlsx\n",
      "D:\\Emaratech\\Work\\GCC Local Legality Correction.xlsx\n",
      "D:\\Emaratech\\Work\\GCC Local Legality correction_05Sep2019.xlsx\n",
      "D:\\Emaratech\\Work\\GCC Local Legality correction_v001.xlsx\n",
      "D:\\Emaratech\\Work\\GCC Resident Visa - Issued Status - After Exit.xlsx\n",
      "D:\\Emaratech\\Work\\GCC Resident Visa - Issued Status - Issued Before 2018.xlsx\n",
      "D:\\Emaratech\\Work\\GCC Resident Visa - Issued_Used Status - After Exit.xlsx\n",
      "D:\\Emaratech\\Work\\GCC Resident Visa - USED Status - After Exit (001).xlsx\n",
      "D:\\Emaratech\\Work\\GccUae Local with passport type 7 -  legality filter.xlsx\n",
      "D:\\Emaratech\\Work\\GccUae Local with passport type 7 -  Profile Nationality filter.xlsx\n",
      "D:\\Emaratech\\Work\\GCC_APP_POST.xls\n",
      "D:\\Emaratech\\Work\\GCC_APP_POST.xlsx\n",
      "D:\\Emaratech\\Work\\GCC_APP_POST_1.xls\n",
      "D:\\Emaratech\\Work\\gcc_res_apps_nov2220159AM.xls\n",
      "D:\\Emaratech\\Work\\GDRFA Services (002).xlsx\n",
      "D:\\Emaratech\\Work\\GDRFA_Critical Triggers_Borders v6 0_10May2018_(1).xlsx\n",
      "D:\\Emaratech\\Work\\GDRFA_Critical Triggers_Borders v6(AutoRecovered).xlsx\n",
      "D:\\Emaratech\\Work\\GDRFA_Critical Triggers_Borders v6.0)(1).xlsx\n",
      "D:\\Emaratech\\Work\\GDRFA_Critical Triggers_Borders v6.0)(10).xlsx\n",
      "D:\\Emaratech\\Work\\GDRFA_Critical Triggers_Borders v6.0)(11).xlsx\n",
      "D:\\Emaratech\\Work\\GDRFA_Critical Triggers_Borders v6.0)(12).xlsx\n",
      "D:\\Emaratech\\Work\\GDRFA_Critical Triggers_Borders v6.0)(13).xlsx\n",
      "D:\\Emaratech\\Work\\GDRFA_Critical Triggers_Borders v6.0)(14).xlsx\n",
      "D:\\Emaratech\\Work\\GDRFA_Critical Triggers_Borders v6.0)(2).xlsx\n",
      "D:\\Emaratech\\Work\\GDRFA_Critical Triggers_Borders v6.0)(3).xlsx\n",
      "D:\\Emaratech\\Work\\GDRFA_Critical Triggers_Borders v6.0)(4).xlsx\n",
      "D:\\Emaratech\\Work\\GDRFA_Critical Triggers_Borders v6.0)(5).xlsx\n",
      "D:\\Emaratech\\Work\\GDRFA_Critical Triggers_Borders v6.0)(6).xlsx\n",
      "D:\\Emaratech\\Work\\GDRFA_Critical Triggers_Borders v6.0)(7).xlsx\n",
      "D:\\Emaratech\\Work\\GDRFA_Critical Triggers_Borders v6.0)(8).xlsx\n",
      "D:\\Emaratech\\Work\\GDRFA_Critical Triggers_Borders v6.0)(9).xlsx\n",
      "D:\\Emaratech\\Work\\get_moiperson_details.prc\n",
      "D:\\Emaratech\\Work\\GET_MOIPERSON_DETAILS_PROD-23082016.prc\n",
      "D:\\Emaratech\\Work\\GET_MOIPERSON_DETAILS_STAGING-23082016.prc\n",
      "D:\\Emaratech\\Work\\GHSSAN YOUSEF HMEDAN.pdf\n",
      "D:\\Emaratech\\Work\\Golden Visa  - 5 - 10 Year Residence  Issued in Vision - till 30 Jul 2019.xlsx\n",
      "D:\\Emaratech\\Work\\grant privileges.sql\n",
      "D:\\Emaratech\\Work\\graph-v1.html\n",
      "D:\\Emaratech\\Work\\graph.html\n",
      "D:\\Emaratech\\Work\\GreenLand(275) Nationalities in vision - 25 Apr 2019.xlsx\n",
      "D:\\Emaratech\\Work\\Group Child Applicantion approved with application Age less than 18 for Visa types 76, 77, 78, 87 between 15 Jul 2018 and 15 Dec 2018.xlsx\n",
      "D:\\Emaratech\\Work\\GRP NO Miss in EDNRD INIMM DB CLIENT MAST Table.xlsx\n",
      "D:\\Emaratech\\Work\\GSS STATS (v001).xlsx\n",
      "D:\\Emaratech\\Work\\GSS STATS (v002).xlsx\n",
      "D:\\Emaratech\\Work\\GSS STATS (v003).xlsx\n",
      "D:\\Emaratech\\Work\\GSS Stats final.xlsx\n",
      "D:\\Emaratech\\Work\\GSS Stats Q2 2019_v001.xlsx\n",
      "D:\\Emaratech\\Work\\Guarantee Report (1).xlsx\n",
      "D:\\Emaratech\\Work\\Guarantee Report(1).xls\n",
      "D:\\Emaratech\\Work\\HANNAH BIJU BIJU HUSSAIN.pdf\n",
      "D:\\Emaratech\\Work\\Hata - Travel Summary -July - Sep 2016.xlsx\n",
      "D:\\Emaratech\\Work\\Hatta Border - Frequent Passenger Details - April 2017.csv\n",
      "D:\\Emaratech\\Work\\Hatta Border - Frequent Passenger Details - April 2017.xlsx\n",
      "D:\\Emaratech\\Work\\Hatta Border Exit Switzerland Female on 24th Feb 2018.xlsx\n",
      "D:\\Emaratech\\Work\\HC applications 2016 2017.xlsx\n",
      "D:\\Emaratech\\Work\\HC applications 2016-2017(002).xlsx\n",
      "D:\\Emaratech\\Work\\HC_COMMITTEE_ISSUE_DELETE_SCRIPT.TXT\n",
      "D:\\Emaratech\\Work\\HC_datafixScript (2).txt\n",
      "D:\\Emaratech\\Work\\HC_DataFixScript.txt\n",
      "D:\\Emaratech\\Work\\HOTFIX RELEASES.txt\n",
      "D:\\Emaratech\\Work\\Hotfix11Jan2017.txt\n",
      "D:\\Emaratech\\Work\\Hourly Transactions Stats - Establishment and Outpass - on highest app posted date - 2018.xlsx\n",
      "D:\\Emaratech\\Work\\HPSM Open Problems Report Extract - Steps to Follow.docx\n",
      "D:\\Emaratech\\Work\\HPSM Open Problems with linked Incidents or Service Request.csv\n",
      "D:\\Emaratech\\Work\\HPSM Open Problems with linked Incidents or Service Request.sql\n",
      "D:\\Emaratech\\Work\\HPSM Open Problems with linked Incidents or Service Request.xlsx\n",
      "D:\\Emaratech\\Work\\HPSM Open Problems with linked Incidents or Service Request_07 May 2019 (v002).xlsx\n",
      "D:\\Emaratech\\Work\\HPSM Open Problems with linked Incidents or Service Request_09 Jun 2019 (v001).xlsx\n",
      "D:\\Emaratech\\Work\\HPSM Open Problems with linked Incidents or Service Request_12 May 2019 (v001).xlsx\n",
      "D:\\Emaratech\\Work\\HPSM Open Problems with linked Incidents or Service Request_130 Jun 2019 (v001).xlsx\n",
      "D:\\Emaratech\\Work\\HPSM Open Problems with linked Incidents or Service Request_16 Jun 2019 (v001).xlsx\n",
      "D:\\Emaratech\\Work\\HPSM Open Problems with linked Incidents or Service Request_19 May 2019 (v001).xlsx\n",
      "D:\\Emaratech\\Work\\HPSM Open Problems with linked Incidents or Service Request_23 Jun 2019 (v001).xlsx\n",
      "D:\\Emaratech\\Work\\HPSM Open Problems with linked Incidents or Service Request_26 May 2019 (v001).xlsx\n",
      "D:\\Emaratech\\Work\\HPSM Open Problems with linked Incidents or Service Request_v002.xlsx\n",
      "D:\\Emaratech\\Work\\HPSM Open Problems with linked Incidents or Service Request_v003.xlsx\n",
      "D:\\Emaratech\\Work\\HPSM Queries.sql\n",
      "D:\\Emaratech\\Work\\HPSM Queries_v002.sql\n",
      "D:\\Emaratech\\Work\\HPSM Queries_v003.sql\n",
      "D:\\Emaratech\\Work\\html1.html\n",
      "D:\\Emaratech\\Work\\https___uae.souq.com_ae-en_account_orders.pdf\n",
      "D:\\Emaratech\\Work\\hypothesis testing.xlsx\n",
      "D:\\Emaratech\\Work\\IBAN Report 27032019_V002.xls\n",
      "D:\\Emaratech\\Work\\IBLOG.sql\n",
      "D:\\Emaratech\\Work\\ICA Sample Missing Profile Photo.xlsx\n",
      "D:\\Emaratech\\Work\\ICA Sample Missing Profile Photo_v2.xlsx\n",
      "D:\\Emaratech\\Work\\IM on Santosh - Analysis.xlsx\n",
      "D:\\Emaratech\\Work\\IM105493 - Undo Outpass Exension fee - ML2623 - new.pdf\n",
      "D:\\Emaratech\\Work\\IM105762 - Undo Outpass Exension fee - ML4063 - old .pdf\n",
      "D:\\Emaratech\\Work\\IM105762 - Undo Outpass Exension fee - ML4063- new.pdf\n",
      "D:\\Emaratech\\Work\\IM158434 - Urgent (Emirates Airlines) - BackUp Script.sql\n",
      "D:\\Emaratech\\Work\\IM53004 Undo Last Travel (2).txt\n",
      "D:\\Emaratech\\Work\\IM54868_new.txt\n",
      "D:\\Emaratech\\Work\\IM56189.sql\n",
      "D:\\Emaratech\\Work\\IM62937_Delete_Travel_Details.txt\n",
      "D:\\Emaratech\\Work\\IM66385 - GDRFA Officer entry & exit transactions on Vision Border Control  in 2016(01Jan2016 till 25Sep2016).xlsx\n",
      "D:\\Emaratech\\Work\\IM72100- Application warranty amount.txt\n",
      "D:\\Emaratech\\Work\\IM72462_new.txt\n",
      "D:\\Emaratech\\Work\\IM75023_modified.txt\n",
      "D:\\Emaratech\\Work\\IM77130 - Restore Profile Previous Stat.txt\n",
      "D:\\Emaratech\\Work\\IM78630 - Repick Eform Application.txt\n",
      "D:\\Emaratech\\Work\\IM78926_Undo_Travel_correction.txt\n",
      "D:\\Emaratech\\Work\\IM78926_Undo_Travel_correction2.txt\n",
      "D:\\Emaratech\\Work\\IM80025_Violation_insertion_amount_correction.txt\n",
      "D:\\Emaratech\\Work\\IM80025_Violation_Insertion_correction.txt\n",
      "D:\\Emaratech\\Work\\IM95854_Reject application only in vision.sql\n",
      "D:\\Emaratech\\Work\\IM97726.txt\n",
      "D:\\Emaratech\\Work\\ImageServlet (1)_cash.pdf\n",
      "D:\\Emaratech\\Work\\ImageServlet.pdf\n",
      "D:\\Emaratech\\Work\\inactiveSponsoredFileCorrection.html\n",
      "D:\\Emaratech\\Work\\Incident - 09-02-2019.csv\n",
      "D:\\Emaratech\\Work\\INCIDENT STATISTICS REPORT (1).xlsx\n",
      "D:\\Emaratech\\Work\\INCIDENT STATISTICS REPORT.xlsx\n",
      "D:\\Emaratech\\Work\\INCIDENT STATISTICS REPORT_Dec 2018.xlsx\n",
      "D:\\Emaratech\\Work\\Incorrect Nationality - App Date from Jan 1st 2017.xlsx\n",
      "D:\\Emaratech\\Work\\index.html\n",
      "D:\\Emaratech\\Work\\indian resipocity visa.txt\n",
      "D:\\Emaratech\\Work\\Individual Address Duplication issue.xlsx\n",
      "D:\\Emaratech\\Work\\Individual Person No - De Duplication Test cases.xlsx\n",
      "D:\\Emaratech\\Work\\Individual Person No Duplicate Analysis.xlsx\n",
      "D:\\Emaratech\\Work\\Individual Person No Duplicate Records Analysis - 31 Dec 2019.xlsx\n",
      "D:\\Emaratech\\Work\\Individual Person No IS Operation Flag Analysis.xls\n",
      "D:\\Emaratech\\Work\\Individual Person No IS Operation Flag Analysis.xlsx\n",
      "D:\\Emaratech\\Work\\Individual Profile with old professions.xlsx\n",
      "D:\\Emaratech\\Work\\individual sponsor no duplicates.xlsx\n",
      "D:\\Emaratech\\Work\\Individual sponsor Report.xls\n",
      "D:\\Emaratech\\Work\\Individual sponsor Report.xlsx\n",
      "D:\\Emaratech\\Work\\Individual Travel Dcoument Missing Docs Candidates (2).csv\n",
      "D:\\Emaratech\\Work\\Individual Travel Dcoument Missing Docs Candidates.csv\n",
      "D:\\Emaratech\\Work\\Individual Travel Dcoument Missing Docs Candidates.txt\n",
      "D:\\Emaratech\\Work\\Individual Travel Dcoument Missing Docs Candidates.xlsx\n",
      "D:\\Emaratech\\Work\\INDIVIDUAL_PROFILE_LOG.xlsx\n",
      "D:\\Emaratech\\Work\\Individual_sponsor_no Insert.txt\n",
      "D:\\Emaratech\\Work\\individual_sponsor_verification_cases.csv\n",
      "D:\\Emaratech\\Work\\individual_sponsor_verification_cases.xlsx\n",
      "D:\\Emaratech\\Work\\individual_udb_no-pps_id=87761059.xlsx\n",
      "D:\\Emaratech\\Work\\INDX_UNQ_ESTABPROF_TRADLISCNO.SQL\n",
      "D:\\Emaratech\\Work\\INFORMATICA_ACCESS_REQUEST_FOR_NGA_PROD.xlsx\n",
      "D:\\Emaratech\\Work\\INIMMDB Client_Mast Copy 19Aug2019 9am.xlsx\n",
      "D:\\Emaratech\\Work\\INIMMDB Client_Mast Duplicate GRP_NOs.xlsx\n",
      "D:\\Emaratech\\Work\\inside_country_fee.csv\n",
      "D:\\Emaratech\\Work\\Intake of GCC from 1st Jan till 16 June.xlsx\n",
      "D:\\Emaratech\\Work\\INTDB Diode Stats - EDNRD-EFORM - 6thFeb2018.xlsx\n",
      "D:\\Emaratech\\Work\\intdb-job-24 - Slowness Query.docx\n",
      "D:\\Emaratech\\Work\\intdb.vision_echannel_status_mapping.xlsx\n",
      "D:\\Emaratech\\Work\\Interrogation Report(1).xlsx\n",
      "D:\\Emaratech\\Work\\INTG_JOB.xls\n",
      "D:\\Emaratech\\Work\\IOC - BC - Scripts.sql\n",
      "D:\\Emaratech\\Work\\IQC - Reject Review Required - Before 2018 Rejecttion.xlsx\n",
      "D:\\Emaratech\\Work\\IQC App Created Count - Nov 2018.xlsx\n",
      "D:\\Emaratech\\Work\\IQC Application -Cancel Residence -  in process - without MOL Cancellation in residence.xlsx\n",
      "D:\\Emaratech\\Work\\IQC Application Hourly Stats - October 2017 (v002).xlsx\n",
      "D:\\Emaratech\\Work\\IQC Application Hourly Stats - October 2017.xlsx\n",
      "D:\\Emaratech\\Work\\IQC Applications - Document Required.xlsx\n",
      "D:\\Emaratech\\Work\\IQC Applications - Sponsor Visit Required.xlsx\n",
      "D:\\Emaratech\\Work\\IQC Applications For New Entry Permit having Active files in vision.xlsx\n",
      "D:\\Emaratech\\Work\\IQC Applications having Active files in vision(002).xlsx\n",
      "D:\\Emaratech\\Work\\IQC Applications with profile having active visa type 52.xlsx\n",
      "D:\\Emaratech\\Work\\IQC Apps Pending Reject Review Required - App Date Till 17 Oct 2018.xlsx\n",
      "D:\\Emaratech\\Work\\IQC Apps Pending Sponsor Visit Required - App date till 30 Sep 2018.xlsx\n",
      "D:\\Emaratech\\Work\\IQC bulk role scripts.sql\n",
      "D:\\Emaratech\\Work\\IQC Duplicate applications.xlsx\n",
      "D:\\Emaratech\\Work\\IQC Officer c3418 Performance Report.xlsx\n",
      "D:\\Emaratech\\Work\\IQC Oficer Processed GCC Applications between 6th Jan 2019 to 28th april 2019.xlsx\n",
      "D:\\Emaratech\\Work\\IQC Pending for Violation Payment and Payment received in vision.xlsx\n",
      "D:\\Emaratech\\Work\\IQC Remarks 18 Dec_updated.xlsx\n",
      "D:\\Emaratech\\Work\\IQC Spnsor Visit Required (003).xlsx\n",
      "D:\\Emaratech\\Work\\IQC Spnsor Visit Required.xlsx\n",
      "D:\\Emaratech\\Work\\IQC.txt\n",
      "D:\\Emaratech\\Work\\IQCS - Merge Discarded Apps - 19 May 2019.xlsx\n"
     ]
    },
    {
     "name": "stdout",
     "output_type": "stream",
     "text": [
      "D:\\Emaratech\\Work\\IQCS - SQL tuning Suggestions.sql\n",
      "D:\\Emaratech\\Work\\IQ_IP.pdf\n",
      "D:\\Emaratech\\Work\\Is operational Flag Analysis.xlsx\n",
      "D:\\Emaratech\\Work\\Is operational Flag Fixing.xlsx\n",
      "D:\\Emaratech\\Work\\Issue with Egate marking entry instead of Exit.xlsx\n",
      "D:\\Emaratech\\Work\\IT Assets Refresh.msg\n",
      "D:\\Emaratech\\Work\\item_XL_22177997_29626185.jpg\n",
      "D:\\Emaratech\\Work\\item_XL_22177997_29626193.jpg\n",
      "D:\\Emaratech\\Work\\item_XL_22177997_29626197.jpg\n",
      "D:\\Emaratech\\Work\\item_XL_22177997_29626203.jpg\n",
      "D:\\Emaratech\\Work\\item_XL_22177997_29626218.jpg\n",
      "D:\\Emaratech\\Work\\JAFZA Child Estabs.xlsx\n",
      "D:\\Emaratech\\Work\\JANNAH BIJU BIJU HUSSAIN.pdf\n",
      "D:\\Emaratech\\Work\\JAYSON MAMMEN MATHEW.pdf\n",
      "D:\\Emaratech\\Work\\Jira Error.jpg\n",
      "D:\\Emaratech\\Work\\job closure.sql\n",
      "D:\\Emaratech\\Work\\Job Seeker  Cancelled Before Entry in MOI and Corresponding Vision Visa Status.sql\n",
      "D:\\Emaratech\\Work\\Job Seeker  Cancelled Before Entry in MOI and Corresponding Vision Visa Status.xlsx\n",
      "D:\\Emaratech\\Work\\Job Seeker Issued or Cancelled Before Entry in Vision and Corresponding MOI Visa Status.sql\n",
      "D:\\Emaratech\\Work\\Job Seeker Issued or Cancelled Before Entry in Vision and Corresponding MOI Visa Status.xlsx\n",
      "D:\\Emaratech\\Work\\job seeker v(002).sql\n",
      "D:\\Emaratech\\Work\\Job seeker Visa Details - Till 02 Sep 2018 (3.30PM).xlsx\n",
      "D:\\Emaratech\\Work\\Job Seeker Visa Issued Stats - 01 Aug 2018 - 20 Oct 2018.xlsx\n",
      "D:\\Emaratech\\Work\\Job Seeker Visa Issued Stats -Nationality Gender Age - 01 Aug 2018 - 15 Nov 2018.xlsx\n",
      "D:\\Emaratech\\Work\\Job Seeker with immediate Other Active file before or No active file - Analysis.sql\n",
      "D:\\Emaratech\\Work\\Job Seeker with immediate Other Active file before or No active file - Analysis.xlsx\n",
      "D:\\Emaratech\\Work\\Job Seeker with immediate Other Active file before or No active file - Analysis_v002.xlsx\n",
      "D:\\Emaratech\\Work\\Job Seeker with Other Active file analysis.xls\n",
      "D:\\Emaratech\\Work\\Job Seeker with Other Active file analysis.xlsx\n",
      "D:\\Emaratech\\Work\\job-intdb - 23 - Slowness Query.docx\n",
      "D:\\Emaratech\\Work\\JOUMANA FARES HMIDAN.pdf\n",
      "D:\\Emaratech\\Work\\kitchen clean.pdf\n",
      "D:\\Emaratech\\Work\\Laptop Lenevo Thinkpad T460S - Emp_id 1728.jpg\n",
      "D:\\Emaratech\\Work\\Last Travel Entry on On-Arrival having other Active On-Arrival permits.xlsx\n",
      "D:\\Emaratech\\Work\\Last Travel Exit on On-Arrival having other Active On-Arrival permits.xlsx\n",
      "D:\\Emaratech\\Work\\Last Travel on Residence or Outpass having other Active On-Arrival permits.xlsx\n",
      "D:\\Emaratech\\Work\\last_travel_info.sql\n",
      "D:\\Emaratech\\Work\\LCD Monitor - Emp Id 1728.jpeg\n",
      "D:\\Emaratech\\Work\\Legacy Edbara Number Missing in Vision and Mapped UDB as per MOI and Vision.xlsx\n",
      "D:\\Emaratech\\Work\\Legacy Edbara Number Missing in Vision.xlsx\n",
      "D:\\Emaratech\\Work\\Legacy_Transaction_v2 (002).xlsx\n",
      "D:\\Emaratech\\Work\\Legacy_Transaction_v2.xlsx\n",
      "D:\\Emaratech\\Work\\Legality ans Travel Document Type allowed in Vision.xlsx\n",
      "D:\\Emaratech\\Work\\Legality Status Transition - Oct 2019  - Mar 2020 - Per Day Average_v2.xlsx\n",
      "D:\\Emaratech\\Work\\Legality Transitions Analysis - Jan 2020.csv\n",
      "D:\\Emaratech\\Work\\Legality Transitions Analysis - Jan-Mar 2020 (002).xlsx\n",
      "D:\\Emaratech\\Work\\Legality Transitions Analysis - Jan-Mar 2020.xlsx\n",
      "D:\\Emaratech\\Work\\legality_status_lk.csv\n",
      "D:\\Emaratech\\Work\\legality_status_lk_v1.csv\n",
      "D:\\Emaratech\\Work\\leg_data_citizen.csv\n",
      "D:\\Emaratech\\Work\\libs.jpg\n",
      "D:\\Emaratech\\Work\\Licensing Authority Sub Establishments Not Skipped for Zajel.csv\n",
      "D:\\Emaratech\\Work\\Licensing Authority Sub Establishments Not Skipped for Zajel.xlsx\n",
      "D:\\Emaratech\\Work\\Licensing Authority Sub Establishments Not Skipped for Zajel.zip\n",
      "D:\\Emaratech\\Work\\Lift Closure Candidates missed due to Last Transaction Issue - 10 Sep 2020.xlsx\n",
      "D:\\Emaratech\\Work\\Lift Closure of MOI Visas type (237) which are closed by vision job.msg\n",
      "D:\\Emaratech\\Work\\Lift Closure.txt\n",
      "D:\\Emaratech\\Work\\Lift Temporary Closure Applications trhough Counter.jpg\n",
      "D:\\Emaratech\\Work\\Lift Temporary Closure by Legacy.xlsx\n",
      "D:\\Emaratech\\Work\\Lifted Cancel Before Entry Permits List - 10st Sep 2020.xls\n",
      "D:\\Emaratech\\Work\\Lifted Cancel Before Entry Permits List - 1st Sep 2020-v1.xlsx\n",
      "D:\\Emaratech\\Work\\Lifted Cancel Before Entry Permits List - 1st Sep 2020-v2.xlsx\n",
      "D:\\Emaratech\\Work\\Lifted Cancel Before Entry Permits List - 1st Sep 2020-v3.xlsx\n",
      "D:\\Emaratech\\Work\\Lifted Cancel Before Entry Permits List - 8st Sep 2020-v1.xls\n",
      "D:\\Emaratech\\Work\\Lifted Cancel Before Entry Permits List - Pending Cases -  10st Sep 2020 - set2.xls\n",
      "D:\\Emaratech\\Work\\line graph.htm\n",
      "D:\\Emaratech\\Work\\line graph.xlsx\n",
      "D:\\Emaratech\\Work\\List Cancel Before Entry - Auto Closure Permits.csv\n",
      "D:\\Emaratech\\Work\\List Cancel Before Entry - Auto Closure Permits.xlsx\n",
      "D:\\Emaratech\\Work\\List of Dafza companies  establishment card numbers.xlsx\n",
      "D:\\Emaratech\\Work\\List of schengen and Brazil violators - Calculation Date 2nd Sep 2020.xlsx\n",
      "D:\\Emaratech\\Work\\load BL.xls\n",
      "D:\\Emaratech\\Work\\load BL.xlsx\n",
      "D:\\Emaratech\\Work\\Load_file2.txt\n",
      "D:\\Emaratech\\Work\\Load_file2_1.csv\n",
      "D:\\Emaratech\\Work\\Load_file2_2.csv\n",
      "D:\\Emaratech\\Work\\Load_file2_3.csv\n",
      "D:\\Emaratech\\Work\\Load_file2_4.csv\n",
      "D:\\Emaratech\\Work\\Load_file2_5.csv\n",
      "D:\\Emaratech\\Work\\Load_file2_6.csv\n",
      "D:\\Emaratech\\Work\\local Profiles.xlsx\n",
      "D:\\Emaratech\\Work\\LockDown Calculation.xlsx\n",
      "D:\\Emaratech\\Work\\LockDown Violation Exemption - on Files.xlsx\n",
      "D:\\Emaratech\\Work\\LockDown Violation Exemption - on NewBorn - Staging.xlsx\n",
      "D:\\Emaratech\\Work\\LockDown Violation Exemption - on NewBorn.xlsx\n",
      "D:\\Emaratech\\Work\\logs.rar\n",
      "D:\\Emaratech\\Work\\logs.txt\n",
      "D:\\Emaratech\\Work\\lookup data.csv\n",
      "D:\\Emaratech\\Work\\Lost letter from police Page 1.jpg\n",
      "D:\\Emaratech\\Work\\Lost Passport - Approved Applications - 2016 - 2018.xlsx\n",
      "D:\\Emaratech\\Work\\M2P meeting discussions.txt\n",
      "D:\\Emaratech\\Work\\main (1).jpeg\n",
      "D:\\Emaratech\\Work\\main (10).jpeg\n",
      "D:\\Emaratech\\Work\\main (2).jpeg\n",
      "D:\\Emaratech\\Work\\main (3).jpeg\n",
      "D:\\Emaratech\\Work\\main (4).jpeg\n",
      "D:\\Emaratech\\Work\\main (5).jpeg\n",
      "D:\\Emaratech\\Work\\main (6).jpeg\n",
      "D:\\Emaratech\\Work\\main (7).jpeg\n",
      "D:\\Emaratech\\Work\\main (8).jpeg\n",
      "D:\\Emaratech\\Work\\main (9).jpeg\n",
      "D:\\Emaratech\\Work\\main.jpeg\n",
      "D:\\Emaratech\\Work\\mapred-site.jpg\n",
      "D:\\Emaratech\\Work\\Medical Certificate.rar\n",
      "D:\\Emaratech\\Work\\medical Certificate.xls\n",
      "D:\\Emaratech\\Work\\Medical Fitness Integration Received - 2019 - 2020(till sep 29 4PM).xlsx\n",
      "D:\\Emaratech\\Work\\Medical Fitness Integration Received 1st Jan 2018 - 31 Dec 2018.xlsx\n",
      "D:\\Emaratech\\Work\\Medical Fitness Integration Received 1st Jan 2019 - 23 Sep 2019(12PM).xlsx\n",
      "D:\\Emaratech\\Work\\Medical Fitness Integration Received 1st Jan 2019 - 31 March 2019.xlsx\n",
      "D:\\Emaratech\\Work\\Medical Result Comparison 01 Apr 2018 - 09 July 2018 - v(1).xlsx\n",
      "D:\\Emaratech\\Work\\Medical Result Comparison 01 Apr 2018 - 11 Jun 2018 - v(1).xlsx\n",
      "D:\\Emaratech\\Work\\Medical Result Comparison 01 Apr 2018 - 11 Jun 2018 - v1.xlsx\n",
      "D:\\Emaratech\\Work\\Medical Result Comparison 01 Apr 2018 - 20 May 2018 - v(1).xlsx\n",
      "D:\\Emaratech\\Work\\Medical Result Comparison 01 Feb 2018 - 24 Mar 2018 - v(1).xlsx\n",
      "D:\\Emaratech\\Work\\Medical Result Comparison 01 Jan 2019 - 24 Feb 2019 - v(1).xlsx\n",
      "D:\\Emaratech\\Work\\Medical Result Comparison 21 May 2018 - 23 May 2018 - v(1).xlsx\n",
      "D:\\Emaratech\\Work\\Medical Result Comparison Sep 2017 - Oct 2017 - v(2).xlsx\n",
      "D:\\Emaratech\\Work\\Medical Result Comparison Sep 2017 - Oct 2017.xlsx\n",
      "D:\\Emaratech\\Work\\Medical Result UnAvailable Applications.xls\n",
      "D:\\Emaratech\\Work\\Medical Result UnAvailable Applications.zip\n",
      "D:\\Emaratech\\Work\\Mehrin.pdf\n",
      "D:\\Emaratech\\Work\\Menu fixes.sql\n",
      "D:\\Emaratech\\Work\\menu_travel_performance_report.sql\n",
      "D:\\Emaratech\\Work\\MENU_UPDATEUSER.sql\n",
      "D:\\Emaratech\\Work\\Merge Request Failure cases.xlsx\n",
      "D:\\Emaratech\\Work\\merge request.xls\n",
      "D:\\Emaratech\\Work\\MergeRequest.xml\n",
      "D:\\Emaratech\\Work\\Migrated travels without timestamp.xlsx\n",
      "D:\\Emaratech\\Work\\Migration_Data_Transfer_Tables.sql\n",
      "D:\\Emaratech\\Work\\MIGRATION_PROFILES - Staging Loaded PSS_ID Samples.xlsx\n",
      "D:\\Emaratech\\Work\\Missing CREW cards Added VISION_v002.xlsx\n",
      "D:\\Emaratech\\Work\\Missing CREW cards in VISION_v001.xlsx\n",
      "D:\\Emaratech\\Work\\Missing Edbara No in vision from Legacy Analysis.sql\n",
      "D:\\Emaratech\\Work\\Missing ESB InBound event cases for Visa Type 22 - Travel Missing in Vision.xlsx\n",
      "D:\\Emaratech\\Work\\Missing in VISION_EST.ECHANNEL_ONLINE_USER_CONFIG and EDNRD_USR.CLIENT MAST  .xlsx\n",
      "D:\\Emaratech\\Work\\Missing Pemit detail records.xlsx\n",
      "D:\\Emaratech\\Work\\Missing Privileges.xlsx\n",
      "D:\\Emaratech\\Work\\Missing Serial Mapping.xlsx\n",
      "D:\\Emaratech\\Work\\Missing sponsor pps id and est code.xlsx\n",
      "D:\\Emaratech\\Work\\Missing Travel Document Cases.txt\n",
      "D:\\Emaratech\\Work\\missing.csv\n",
      "D:\\Emaratech\\Work\\MissingPaidViolationsFile (004).xlsx\n",
      "D:\\Emaratech\\Work\\MissingPaidViolationsFile.xlsx\n",
      "D:\\Emaratech\\Work\\Missing_DED_TradeLicense_Vision.csv\n",
      "D:\\Emaratech\\Work\\missing_travels_events_august2021.csv\n",
      "D:\\Emaratech\\Work\\ML2623 - Payment Details.xlsx\n",
      "D:\\Emaratech\\Work\\ML3713-Payment Collection Report - 23 Feb 2019.pdf\n",
      "D:\\Emaratech\\Work\\ML4722-Payment Collection Report - 23 Feb 2019.pdf\n",
      "D:\\Emaratech\\Work\\mlids.jpg\n",
      "D:\\Emaratech\\Work\\ModifyTravelEvent.txt\n",
      "D:\\Emaratech\\Work\\Mohre update.sql\n",
      "D:\\Emaratech\\Work\\Mohre update_2.sql\n",
      "D:\\Emaratech\\Work\\Mohre update_3.sql\n",
      "D:\\Emaratech\\Work\\Mohre update_4.sql\n",
      "D:\\Emaratech\\Work\\mohre- NMS - 07Sep2020.xlsx\n",
      "D:\\Emaratech\\Work\\mohre- NMS - 15Sep2020.xlsx\n",
      "D:\\Emaratech\\Work\\mohre- NMS - 9Sep2020.xlsx\n",
      "D:\\Emaratech\\Work\\mohre- NMS - Copy.xlsx\n",
      "D:\\Emaratech\\Work\\mohre- NMS_v2.xlsx\n",
      "D:\\Emaratech\\Work\\mohre_profession update .xlsx\n",
      "D:\\Emaratech\\Work\\MOI BL List details tables.sql\n",
      "D:\\Emaratech\\Work\\MOI Blacklist Rule Queries - All BL Rules.xlsx\n",
      "D:\\Emaratech\\Work\\MOI Cancel Residence with Exit travel.xlsx\n",
      "D:\\Emaratech\\Work\\MOI Cancelled Dubai Residencies for Iran National - analysis - 11 M.xlsx\n",
      "D:\\Emaratech\\Work\\MOI ENEX_MASTER Entry Travel Analysis for Port 200 and Consistency with Vision System- for Aug 2020.xlsx\n",
      "D:\\Emaratech\\Work\\Moi Estab comparision for sep_old_no null.sql\n",
      "D:\\Emaratech\\Work\\MOI Establishment having Type Missmatch in Vision - corrected Cases_v001.csv\n",
      "D:\\Emaratech\\Work\\MOI Establishment having Type Missmatch in Vision - corrected Cases_v001.xlsx\n",
      "D:\\Emaratech\\Work\\MOI Establishment having Type Missmatch in Vision.xlsx\n",
      "D:\\Emaratech\\Work\\MOI Establishment having Type Missmatch in Vision_v002.xlsx\n",
      "D:\\Emaratech\\Work\\MOI Establishments Missing in Vision.xlsx\n",
      "D:\\Emaratech\\Work\\MOI Establishments Missing in Vision_22Sep2019.xlsx\n",
      "D:\\Emaratech\\Work\\MOI Events - EntryPermitExpiryDate - Visa type 17 and 14.txt\n",
      "D:\\Emaratech\\Work\\MOI Events - EntryPermitExpiryDate - Visa type 17 and 14_v(002).txt\n",
      "D:\\Emaratech\\Work\\MOI Events - IM206077.txt\n",
      "D:\\Emaratech\\Work\\MOI Events - IM206336.txt\n",
      "D:\\Emaratech\\Work\\MOI Events - IM206466,IM207249,IM207128,IM205959,IM204472.txt\n",
      "D:\\Emaratech\\Work\\MOI Events - IM207085.txt\n",
      "D:\\Emaratech\\Work\\MOI Events - IM207128.txt\n",
      "D:\\Emaratech\\Work\\MOI Events.txt\n",
      "D:\\Emaratech\\Work\\MOI extended permits failures due to exhausted extension allowance.csv\n",
      "D:\\Emaratech\\Work\\MOI extended permits failures due to exhausted extension allowance.xlsx\n",
      "D:\\Emaratech\\Work\\MOI Files under Temporary Closure in Vision.xlsx\n",
      "D:\\Emaratech\\Work\\Moi Permit Validity Corruption.xlsx\n",
      "D:\\Emaratech\\Work\\MOI permits missmatch validity with vision(v2).xlsx\n",
      "D:\\Emaratech\\Work\\MOI permits missmatch validity with vision.xlsx\n",
      "D:\\Emaratech\\Work\\MOI Permits Validity missmatch (002).xlsx\n",
      "D:\\Emaratech\\Work\\MOI Permits Validity missmatch.xlsx\n",
      "D:\\Emaratech\\Work\\Moi Permits.txt\n",
      "D:\\Emaratech\\Work\\MOI Res File Extension addition to Convid19 revert list table.xlsx\n",
      "D:\\Emaratech\\Work\\MOI Residence analysis.xlsx\n",
      "D:\\Emaratech\\Work\\MOI Residence Extension to 31Mar2021 -  Full List.xlsx\n",
      "D:\\Emaratech\\Work\\MOI Residence Extension to 31Mar2021 - Covid19 Insertion List - 14Feb2021.xlsx\n",
      "D:\\Emaratech\\Work\\MOI Residence Extension to 31Mar2021 - Expiry MissMatch in Vision - 14Feb2021.xlsx\n",
      "D:\\Emaratech\\Work\\MOI Residence Extension to 31Mar2021 - Missing In Vision - 14Feb2021.xlsx\n",
      "D:\\Emaratech\\Work\\Moi Residence Visa type 7 correction.xlsx\n",
      "D:\\Emaratech\\Work\\MOI Residences Cancelled and Person Outside Country (002).xlsx\n",
      "D:\\Emaratech\\Work\\MOI Residences Cancelled and Person Outside Country.xlsx\n",
      "D:\\Emaratech\\Work\\MOI Tourist Visa Sponsor Details- ( 23 May - 09 Jul) 2017 Vs 2018 (002).xlsx\n",
      "D:\\Emaratech\\Work\\MOI Tourist Visa Sponsor Details- ( Jan - April ) 2018.xlsx\n",
      "D:\\Emaratech\\Work\\MOI Tourist Visa Sponsor Details- - (Jan - 17-Sep) 2017 Vs 2018 - Monthly.xlsx\n",
      "D:\\Emaratech\\Work\\MOI Tourist Visa Sponsor Details- - (Jan - Jun) 2017 Vs 2018 - Monthly.xlsx\n",
      "D:\\Emaratech\\Work\\MOI Travel Analysis - Aug 2020.zip\n",
      "D:\\Emaratech\\Work\\MOI Validity date issue.xlsx\n",
      "D:\\Emaratech\\Work\\MOI Validity date issue_v1.xlsx\n",
      "D:\\Emaratech\\Work\\MOI Violation Payment Corrupted Extended Validity dates.xlsx\n",
      "D:\\Emaratech\\Work\\MOI Visa Type 17 Permit with VDE Expiry Date not Equals Issue Date + 179.xlsx\n",
      "D:\\Emaratech\\Work\\MOI Visa Type 17 Permit with VDE Expiry Date not Equals Issue Date + 179_v(002).xlsx\n",
      "D:\\Emaratech\\Work\\MOIToVision(FailureSummaryReport) - 01JulTo25Aug (002) - Vision Analysis (v1).xlsx\n",
      "D:\\Emaratech\\Work\\MOIToVision(FailureSummaryReport) - 01JulTo25Aug (002).xlsx\n",
      "D:\\Emaratech\\Work\\MOIToVision(inbound) - beginning_to_26Aug2017(Analysis)(v2).xlsx\n",
      "D:\\Emaratech\\Work\\Mol Permit Visa Sequence Conflit with Other profile residence.xlsx\n",
      "D:\\Emaratech\\Work\\mol_permit_correction.sql\n",
      "D:\\Emaratech\\Work\\mol_permit_correction_07Sep2020.sql\n",
      "D:\\Emaratech\\Work\\mol_permit_correction_13Sep2020.sql\n",
      "D:\\Emaratech\\Work\\mol_permit_correction_15Sep2020.sql\n",
      "D:\\Emaratech\\Work\\mol_permit_correction_16Dec2020.sql\n",
      "D:\\Emaratech\\Work\\mol_permit_correction_16Dec2020_revert.sql\n",
      "D:\\Emaratech\\Work\\mol_permit_correction_16Sep2020.sql\n",
      "D:\\Emaratech\\Work\\mol_permit_correction_9Sep2020.sql\n",
      "D:\\Emaratech\\Work\\mol_permit_correction_set2_revert.sql\n",
      "D:\\Emaratech\\Work\\mstsc.exe\n",
      "D:\\Emaratech\\Work\\MS_MigrationProfileLoad Design.jpg\n",
      "D:\\Emaratech\\Work\\Multi Entry Permit closure before validity - v2.xlsx\n",
      "D:\\Emaratech\\Work\\Multi Entry Permit closure before validity.xlsx\n",
      "D:\\Emaratech\\Work\\Multi Entry Visa - Dates Comparison - (4,14,34,62,64,65,67,68,69,70,76,78,79,81,93,94,95,96,97).xlsx\n",
      "D:\\Emaratech\\Work\\Multi Entry Visa - Dates Comparison - (51, 55, 17, 35, 45, 22, 63, 84, 54, 58, 59).xlsx\n",
      "D:\\Emaratech\\Work\\Multi Entry Visa - VBC Marking Entry on Grace Period Cases - 05 May 2019.xlsx\n",
      "D:\\Emaratech\\Work\\Multi Nationality Passport Profiles v(002).xlsx\n",
      "D:\\Emaratech\\Work\\Multi Nationality Passport Profiles.xlsx\n",
      "D:\\Emaratech\\Work\\MultiEntryPermitClosure Candidates.txt\n",
      "D:\\Emaratech\\Work\\MultiEntryPermitClosure Candidates.xml\n",
      "D:\\Emaratech\\Work\\multilinechart_ex.png\n",
      "D:\\Emaratech\\Work\\My Appraisal - Journal Num_ EMFZ-000005, 01728.html\n",
      "D:\\Emaratech\\Work\\name_ar Having English letters or Numbers or special characters - Ignored ().xlsx\n",
      "D:\\Emaratech\\Work\\name_ar Having English letters or Numbers or special characters [Ignored () ].xls\n",
      "D:\\Emaratech\\Work\\name_ar Having null or Blank Values.xls\n",
      "D:\\Emaratech\\Work\\name_ar Having null or Blank Values.xlsx\n",
      "D:\\Emaratech\\Work\\NAME_EN having Commas.csv\n",
      "D:\\Emaratech\\Work\\NAME_EN having Commas.xlsx\n",
      "D:\\Emaratech\\Work\\Nationalities Eligible for Border Visa - 15 Nov 2018.xlsx\n",
      "D:\\Emaratech\\Work\\Nationalities Eligilble for Border Visa - June 2018.xlsx\n",
      "D:\\Emaratech\\Work\\Nationalitiescodes_Verified_v1.xlsx\n",
      "D:\\Emaratech\\Work\\NATIONALITY-Nov 2019.xls\n",
      "D:\\Emaratech\\Work\\NATIONALITY.xls\n",
      "D:\\Emaratech\\Work\\new 101.txt\n",
      "D:\\Emaratech\\Work\\new 228.txt\n",
      "D:\\Emaratech\\Work\\New CRs.sql\n",
      "D:\\Emaratech\\Work\\new dtafixes.txt\n",
      "D:\\Emaratech\\Work\\New FIS -active users in FIS Case Management system - 2018.xls\n",
      "D:\\Emaratech\\Work\\New Fis Arrest Charge Location Details (v2).xls\n",
      "D:\\Emaratech\\Work\\New FIS Case Management users with Privilege Details (002).xlsx\n",
      "D:\\Emaratech\\Work\\New FIS Case Management users with Privilege Details.xlsx\n",
      "D:\\Emaratech\\Work\\neW fis lOCK caSE.xls\n",
      "D:\\Emaratech\\Work\\NEW FIS.xls\n",
      "D:\\Emaratech\\Work\\New Merge Request Failure.xlsx\n",
      "D:\\Emaratech\\Work\\new ONLINE (EDNRD) Service applications.jpg\n",
      "D:\\Emaratech\\Work\\New pending incidents.xlsx\n",
      "D:\\Emaratech\\Work\\New Permit During Ban Period.xlsx\n",
      "D:\\Emaratech\\Work\\New Permit Mohre Application - 26th June - 10th July 2018 Count.xlsx\n",
      "D:\\Emaratech\\Work\\New Professions Added.xlsx\n",
      "D:\\Emaratech\\Work\\New Professions.xlsx\n",
      "D:\\Emaratech\\Work\\New Sponsored Passport Page 1.jpg\n",
      "D:\\Emaratech\\Work\\new table stryle.html\n",
      "D:\\Emaratech\\Work\\New Text Document.csv\n",
      "D:\\Emaratech\\Work\\New Text Document.txt\n",
      "D:\\Emaratech\\Work\\New Visa applications (visa type 2 and 7) for establishments sponsor.jpg\n",
      "D:\\Emaratech\\Work\\NewPermit - Vision Approved Applications - having previous rejection status_25Sep2017.xlsx\n",
      "D:\\Emaratech\\Work\\New_Airport_Airlines.xlsx\n",
      "D:\\Emaratech\\Work\\NGA - Travels - UDBs - 23Apr2018 - 26Apr2018 (12PM) - RED status.xls\n",
      "D:\\Emaratech\\Work\\NGA - Travels - UDBs - 23Apr2018 - 26Apr2018 (12PM).xlsx\n",
      "D:\\Emaratech\\Work\\NGA Pre-Clearance Request and Response time interval stats on travel count(002).xlsx\n",
      "D:\\Emaratech\\Work\\NGA Pre-Clearance Request and Response time interval stats on travel count.xlsx\n",
      "D:\\Emaratech\\Work\\NGA Pre-Clearance Travel Processing Stats.xlsx\n",
      "D:\\Emaratech\\Work\\NGA Travels - Monthly - 2018.xlsx\n",
      "D:\\Emaratech\\Work\\NGB Stats - 2018 - till 12 Dec 2018.xlsx\n",
      "D:\\Emaratech\\Work\\NGB Travels - Oct 2018  withTerminal and User.xlsx\n",
      "D:\\Emaratech\\Work\\NGB-Vision Departure from 1st Sep 2018 to 26 Sep 2018 till 2PM through T1.xlsx\n",
      "D:\\Emaratech\\Work\\Nigeria Nationals  - Temporary Closure with Lost Passport with Outpass Issued - 2017 and 2018.xls\n",
      "D:\\Emaratech\\Work\\Nigeria Nationals  - Temporary Closure with Lost Passport with Outpass Issued - 2017 and 2018.xlsx\n",
      "D:\\Emaratech\\Work\\Non - Terminal User ids _03Jan2017.xlsx\n",
      "D:\\Emaratech\\Work\\Non - Terminal User ids _04Dec2016.xlsx\n",
      "D:\\Emaratech\\Work\\Non - Terminal User ids _11Jan2017(2).xlsx\n",
      "D:\\Emaratech\\Work\\Non - Terminal User ids _11Jan2017.xlsx\n",
      "D:\\Emaratech\\Work\\Non - Terminal User ids _16Nov2016.xlsx\n",
      "D:\\Emaratech\\Work\\Non - Terminal User ids _17Aug2016.xlsx\n",
      "D:\\Emaratech\\Work\\Non - Terminal User ids _17Oct2017.xlsx\n",
      "D:\\Emaratech\\Work\\Non - Terminal User ids _18Oct2016.xlsx\n",
      "D:\\Emaratech\\Work\\Non - Terminal User ids _18Oct2017.xlsx\n",
      "D:\\Emaratech\\Work\\Non - Terminal User ids _19Feb2017.xlsx\n",
      "D:\\Emaratech\\Work\\Non - Terminal User ids _19Sep2017.xlsx\n",
      "D:\\Emaratech\\Work\\Non - Terminal User ids _23Jan2017.xlsx\n",
      "D:\\Emaratech\\Work\\Non - Terminal User ids _24Jan2017.xlsx\n",
      "D:\\Emaratech\\Work\\Non - Terminal User ids _24Oct2017.xlsx\n",
      "D:\\Emaratech\\Work\\Non - Terminal User ids _25Jan2018.xls\n",
      "D:\\Emaratech\\Work\\Non - Terminal User ids _28Feb2017.xlsx\n",
      "D:\\Emaratech\\Work\\Non - Terminal User ids.xlsx\n",
      "D:\\Emaratech\\Work\\Non Auto Vision - Ilog Rule Failure - EX_006_check_Sponsor_Not_Married - Feb 2019 Apps.xlsx\n",
      "D:\\Emaratech\\Work\\Non Terminal.xlsx\n",
      "D:\\Emaratech\\Work\\Notificatin Template and Lookups.xlsx\n",
      "D:\\Emaratech\\Work\\Notification Residence Consistency Check - Saturday 18-January 2020.msg\n",
      "D:\\Emaratech\\Work\\notification template Update on SMS.xls.xlsx\n",
      "D:\\Emaratech\\Work\\Notification Template updates.sql\n",
      "D:\\Emaratech\\Work\\notification template.xls\n",
      "D:\\Emaratech\\Work\\notification template.xlsx\n",
      "D:\\Emaratech\\Work\\Notification Travel Consistency Check - Wednesday 04-December 2019.msg\n",
      "D:\\Emaratech\\Work\\NotificationApproved Applications With Zajel Statistics - Sunday 18-October 2020.msg\n",
      "D:\\Emaratech\\Work\\Notification_template update.sql\n",
      "D:\\Emaratech\\Work\\notification_template.xls\n",
      "D:\\Emaratech\\Work\\NOTIFICATION_TEMPLATE_DML01.sql\n",
      "D:\\Emaratech\\Work\\no_profile_stats.xlsx\n",
      "D:\\Emaratech\\Work\\no_profile_stats_pps search result.xlsx\n",
      "D:\\Emaratech\\Work\\NSD APP CONFIG.xlsx\n",
      "D:\\Emaratech\\Work\\NSD Pending - Update App status sub type - In progress.xlsx\n",
      "D:\\Emaratech\\Work\\NSD Pending Application from 1st Dec 2017.xlsx\n",
      "D:\\Emaratech\\Work\\NSD Pending Applications in Vision - 1st Jan 2018 - 22 Nov 2018 - Stats as of 11 Dec 2018 - v(002) .xlsx\n",
      "D:\\Emaratech\\Work\\NSD Pending Applications in Vision - 1st Jan 2018 - 22 Nov 2018.xlsx\n",
      "D:\\Emaratech\\Work\\NSD Re-Pick applicaitons.txt\n",
      "D:\\Emaratech\\Work\\NSD Stats - Dubai Police - NSD Officer.xlsx\n",
      "D:\\Emaratech\\Work\\NSD Stats - Dubai Police Vs NSD Officer - 1st Jan 2018 till 10th Sep 2018.xlsx\n",
      "D:\\Emaratech\\Work\\NSD Stats - NSD applications processed by NSD officer - last 1 year Apps.xlsx\n",
      "D:\\Emaratech\\Work\\NSD Stats - NSD applications processed by NSD officer Vs Dubai Police- last 1 year Apps.xlsx\n",
      "D:\\Emaratech\\Work\\October NGB Usage - Provided Users.xlsx\n",
      "D:\\Emaratech\\Work\\Officer Privileges - ML6124 - 06 Sep 2020.xlsx\n",
      "D:\\Emaratech\\Work\\Officer Terminal Mapping Sheet.xlsx\n",
      "D:\\Emaratech\\Work\\Officers with violation reduction (committee) privilege - 06 Sep 2020.xlsx\n",
      "D:\\Emaratech\\Work\\On Arrival Permit Closure - Person Inside Country.xlsx\n",
      "D:\\Emaratech\\Work\\On Arrival Permits - HONKONG national.xlsx\n",
      "D:\\Emaratech\\Work\\On arrival permits - Used status - last travel exit.txt\n",
      "D:\\Emaratech\\Work\\On arrival permits - Used status - last travel exit.xlsx\n",
      "D:\\Emaratech\\Work\\On-Arrival permits in USED status with profile having last travel as exit.csv\n",
      "D:\\Emaratech\\Work\\On-Arrival permits in USED status with profile having last travel as exit.xlsx\n",
      "D:\\Emaratech\\Work\\On-Arrival Visa Stats - (Jan1st to May 30th) 2017 Vs  2018 - Dubai Vs MOI.xlsx\n",
      "D:\\Emaratech\\Work\\On-Arrival Visa Stats - 2016 to 2018 - Dubai Vs MOI.xlsx\n",
      "D:\\Emaratech\\Work\\Optimized Query.sql\n",
      "D:\\Emaratech\\Work\\Oracle 10g SQL.zip\n",
      "D:\\Emaratech\\Work\\Original Query in PROD.sql\n",
      "D:\\Emaratech\\Work\\OSADMIN.OSUSR_4EX_UC_SERV1.txt\n",
      "D:\\Emaratech\\Work\\OSADMIN.OSUSR_4EX_UC_SERVI.txt\n"
     ]
    },
    {
     "name": "stdout",
     "output_type": "stream",
     "text": [
      "D:\\Emaratech\\Work\\OSADMIN.OSUSR_4EX_UC_USERS.txt\n",
      "D:\\Emaratech\\Work\\OSADMIN.OSUSR_N22_LEGACY_A.txt\n",
      "D:\\Emaratech\\Work\\OSADMIN.OSUSR_N22_LEGACY_P.txt\n",
      "D:\\Emaratech\\Work\\Other Emirate Transactions on Dubai Files Summary - 2019 - 2021(20 jan).xlsx\n",
      "D:\\Emaratech\\Work\\Other Privileges.xlsx\n",
      "D:\\Emaratech\\Work\\Others Page 1.jpg\n",
      "D:\\Emaratech\\Work\\Outpass applications submitted from smart channel.xlsx\n",
      "D:\\Emaratech\\Work\\Outpass closed after exit but permit or residence still active - excluding schengen.xlsx\n",
      "D:\\Emaratech\\Work\\Outpass closed after exit but permit or residence still active.xlsx\n",
      "D:\\Emaratech\\Work\\Outpass Consistency Check - Jan - Nov 2019.xlsx\n",
      "D:\\Emaratech\\Work\\Outpass issued from vision FIS with BAN or Without BAN and BAN Tenure.xlsx\n",
      "D:\\Emaratech\\Work\\Outpass not closed after exit and permit or residence still active.xlsx\n",
      "D:\\Emaratech\\Work\\OutpassTrans on DUBAI File from ESB - July 2020 -1st  Feb 2021.xlsx\n",
      "D:\\Emaratech\\Work\\outpass_receipt.pdf\n",
      "D:\\Emaratech\\Work\\output.rar\n",
      "D:\\Emaratech\\Work\\output_3_0.png\n",
      "D:\\Emaratech\\Work\\output_4_1.png\n",
      "D:\\Emaratech\\Work\\Outstation  list.xls\n",
      "D:\\Emaratech\\Work\\Outstation Details for Legacy apps (002).sql\n",
      "D:\\Emaratech\\Work\\Outstation Details for Legacy apps (003).sql\n",
      "D:\\Emaratech\\Work\\Outstation Details for Legacy apps.sql\n",
      "D:\\Emaratech\\Work\\Overstay for Kazakhstan Nationality Vsia Types 88,20,5.xlsx\n",
      "D:\\Emaratech\\Work\\OverStay Report for DNATA - 27 Sep 2020.sql\n",
      "D:\\Emaratech\\Work\\OverStay Report for DNATA - 27 Sep 2020.xls\n",
      "D:\\Emaratech\\Work\\OverStay Report for DNATA - 27 Sep 2020.xlsx\n",
      "D:\\Emaratech\\Work\\OverStay Report for DNATA - 27 Sep 2020_v2.xlsx\n",
      "D:\\Emaratech\\Work\\OverStay Report for DNATA - 27 Sep 2020_v3.xls\n",
      "D:\\Emaratech\\Work\\OverStay Report for DNATA - 27 Sep 2020_v3.xlsx\n",
      "D:\\Emaratech\\Work\\PAO Stats - Last 1 Week.xlsx\n",
      "D:\\Emaratech\\Work\\Passport Corrected Cases.xlsx\n",
      "D:\\Emaratech\\Work\\Passport Default Issue Date - EST_CODE 21728773.xlsx\n",
      "D:\\Emaratech\\Work\\Passport Default Issue Date Corrected Cases - 14th May 2020.xls\n",
      "D:\\Emaratech\\Work\\Passport Default Issue Date Corrected Cases - 14th May 2020.xlsx\n",
      "D:\\Emaratech\\Work\\Passport Inserted with Future Issue Date - EDNRD Applications.xlsx\n",
      "D:\\Emaratech\\Work\\Passport Inserted with Future Issue Date.xlsx\n",
      "D:\\Emaratech\\Work\\Passport Invalid Issue ate extract.xls\n",
      "D:\\Emaratech\\Work\\Passport Invalid Issue date extract.xlsx\n",
      "D:\\Emaratech\\Work\\Passport Nationlity issue Queries.sql\n",
      "D:\\Emaratech\\Work\\passport person info missing cases.xlsx\n",
      "D:\\Emaratech\\Work\\passport person info missing.xlsx\n",
      "D:\\Emaratech\\Work\\Passport Person Info With Old Professions.xlsx\n",
      "D:\\Emaratech\\Work\\Passport Record Analysis - Against each profile - 17Sep2020.xlsx\n",
      "D:\\Emaratech\\Work\\passport_query.txt\n",
      "D:\\Emaratech\\Work\\path_backup_30Mar2020.txt\n",
      "D:\\Emaratech\\Work\\Payment collection - 5th Aug 2016 - ML3578.jpg\n",
      "D:\\Emaratech\\Work\\Payment Collection Issues Analysis.xls\n",
      "D:\\Emaratech\\Work\\payment collection report - all.pdf\n",
      "D:\\Emaratech\\Work\\Payment Collection Report - Cash Payments.pdf\n",
      "D:\\Emaratech\\Work\\Payment Collection Report - Cash.pdf\n",
      "D:\\Emaratech\\Work\\Payment Collection Report - Cash_1.pdf\n",
      "D:\\Emaratech\\Work\\Payment Collection Report - Credit Card Payment.pdf\n",
      "D:\\Emaratech\\Work\\Payment Collection Report - Credit Card.pdf\n",
      "D:\\Emaratech\\Work\\payment collection report -ml2623.pdf\n",
      "D:\\Emaratech\\Work\\payment collection report -ML3702.pdf\n",
      "D:\\Emaratech\\Work\\payment collection report -ML3732.pdf\n",
      "D:\\Emaratech\\Work\\Payment Collection Report.xlsx\n",
      "D:\\Emaratech\\Work\\payment collection report_IM71054.pdf\n",
      "D:\\Emaratech\\Work\\payment collection report_M407.pdf\n",
      "D:\\Emaratech\\Work\\payment collection report_ML1289.pdf\n",
      "D:\\Emaratech\\Work\\payment collection report_ML1289_1.pdf\n",
      "D:\\Emaratech\\Work\\payment collection report_ML1352.pdf\n",
      "D:\\Emaratech\\Work\\payment collection report_ML1792.pdf\n",
      "D:\\Emaratech\\Work\\payment collection report_ML2190.pdf\n",
      "D:\\Emaratech\\Work\\payment collection report_ML2190_latest.pdf\n",
      "D:\\Emaratech\\Work\\payment collection report_ml2623.pdf\n",
      "D:\\Emaratech\\Work\\payment collection report_ML3840.pdf\n",
      "D:\\Emaratech\\Work\\payment collection report_outpass201720100007554.pdf\n",
      "D:\\Emaratech\\Work\\payment collection report_permit2017716263410.pdf\n",
      "D:\\Emaratech\\Work\\Payment Discount Analysis.xlsx\n",
      "D:\\Emaratech\\Work\\Payment Paid time issue.xlsx\n",
      "D:\\Emaratech\\Work\\PaymentCollectionReport_new.pdf\n",
      "D:\\Emaratech\\Work\\Payment_Collection_Report_ML3607.pdf\n",
      "D:\\Emaratech\\Work\\payment_text.txt\n",
      "D:\\Emaratech\\Work\\PB991W5 - Custody Report.jpeg\n",
      "D:\\Emaratech\\Work\\Pending Eform Apps (Applicant did not respond within specified duration) - In progress in IQC and Vision.xlsx\n",
      "D:\\Emaratech\\Work\\Pending IQC application last modified between 30 to 60 days.xlsx\n",
      "D:\\Emaratech\\Work\\Pending IQC application last modified more than 60 days.xlsx\n",
      "D:\\Emaratech\\Work\\Pending Transaction Extract.xls\n",
      "D:\\Emaratech\\Work\\pending_transaction_udb.xls\n",
      "D:\\Emaratech\\Work\\pending_transaction_udb.xlsx\n",
      "D:\\Emaratech\\Work\\Pending_transaction_udb_between 19May-21May2020-ProfilePull Cases.xlsx\n",
      "D:\\Emaratech\\Work\\pending_transaction_udb_new.csv\n",
      "D:\\Emaratech\\Work\\pending_transaction_udb_new.xls\n",
      "D:\\Emaratech\\Work\\PENDING_TRANSACTION_UDB_PURGE.sql\n",
      "D:\\Emaratech\\Work\\Performance Report 2016 - v1.xlsx\n",
      "D:\\Emaratech\\Work\\Performance Report 2016.xlsx\n",
      "D:\\Emaratech\\Work\\Permit Closed - 25Jan2018-Residence Issued Cases.txt\n",
      "D:\\Emaratech\\Work\\Permit Closure  - 490 permits .sql\n",
      "D:\\Emaratech\\Work\\Permit closure - 1041116159426.txt\n",
      "D:\\Emaratech\\Work\\Permit closure - 2161116103309.txt\n",
      "D:\\Emaratech\\Work\\Permit Closure - ESB Inbound-Outbound.sql\n",
      "D:\\Emaratech\\Work\\Permit Closure - MOI Events - 07 Dec 2017.xlsx\n",
      "D:\\Emaratech\\Work\\Permit Closure - MOI Events for Dubai Files Other than On Arrival(002).xlsx\n",
      "D:\\Emaratech\\Work\\Permit Closure - MOI Events for Dubai Files Other than On Arrival.xlsx\n",
      "D:\\Emaratech\\Work\\permit closure - PM12011.xlsx\n",
      "D:\\Emaratech\\Work\\Permit Closure Candidates.xlsx\n",
      "D:\\Emaratech\\Work\\Permit Closure Events to MOI.xml\n",
      "D:\\Emaratech\\Work\\permit closure to used stauts.sql\n",
      "D:\\Emaratech\\Work\\Permit Closure-validity update.txt\n",
      "D:\\Emaratech\\Work\\permit closure.sql\n",
      "D:\\Emaratech\\Work\\Permit closure.xlsx\n",
      "D:\\Emaratech\\Work\\permit consistency 21 dec 2020.xml\n",
      "D:\\Emaratech\\Work\\Permit Consistency Analysis.txt\n",
      "D:\\Emaratech\\Work\\permit consistency query.sql\n",
      "D:\\Emaratech\\Work\\permit consistency.xml\n",
      "D:\\Emaratech\\Work\\Permit Correction Contact Details.xlsx\n",
      "D:\\Emaratech\\Work\\Permit Correction.xlsx\n",
      "D:\\Emaratech\\Work\\Permit for residence visa type, issued under one profile and residence against that permit , issued under another and EIDA exists in permit profile..xlsx\n",
      "D:\\Emaratech\\Work\\Permit Issued  and Validity Corrupted Cases.xlsx\n",
      "D:\\Emaratech\\Work\\Permit issued but application not approved.xlsx\n",
      "D:\\Emaratech\\Work\\Permit Overstay Qantas crew(2).xlsx\n",
      "D:\\Emaratech\\Work\\Permit Overstay Qantas crew(3).xlsx\n",
      "D:\\Emaratech\\Work\\Permit PP Cases with Temporary Closure.xls\n",
      "D:\\Emaratech\\Work\\Permit Profile pull status - 23-Sep-2016.xlsx\n",
      "D:\\Emaratech\\Work\\Permit Request Received - Common Errors.sql\n",
      "D:\\Emaratech\\Work\\Permit Request Received - Common Errors.txt\n",
      "D:\\Emaratech\\Work\\Permit Request Received Application Failure Errors _ v2.docx\n",
      "D:\\Emaratech\\Work\\Permit Request Received Application Failure Errors.docx\n",
      "D:\\Emaratech\\Work\\Permit Residence Temporary Closure + Overstary Cases till 31st July 2018.xlsx\n",
      "D:\\Emaratech\\Work\\Permit Residence Temporary Closure + Overstary Cases till 31st July 2018_v2.xlsx\n",
      "D:\\Emaratech\\Work\\Permit Sponsorship Change.xlsx\n",
      "D:\\Emaratech\\Work\\Permit status Issued and Person inside country.xlsx\n",
      "D:\\Emaratech\\Work\\Permit Status Missmatch cases - DM issue.xlsx\n",
      "D:\\Emaratech\\Work\\permit status update.xlsx\n",
      "D:\\Emaratech\\Work\\Permit status Used and Person outside country.xlsx\n",
      "D:\\Emaratech\\Work\\Permit status used but last travel is exit.txt\n",
      "D:\\Emaratech\\Work\\Permit Still Active in Vision with Exit Travel exists -  After Bulkfix (001).xlsx\n",
      "D:\\Emaratech\\Work\\Permit Still Active in Vision with Exit Travel exists.csv\n",
      "D:\\Emaratech\\Work\\Permit Still Active in Vision with Exit Travel exists.xlsx\n",
      "D:\\Emaratech\\Work\\Permit Still Active in Vision with Exit Travel exists_v002.xlsx\n",
      "D:\\Emaratech\\Work\\Permit Still Active in Vision with Exit Travel or Change Status exists - 11 Mar 2019.xlsx\n",
      "D:\\Emaratech\\Work\\permit transaction log duplication.jpg\n",
      "D:\\Emaratech\\Work\\Permit Transaction Log Table Duplicates - With Null App Id.xlsx\n",
      "D:\\Emaratech\\Work\\Permit Transaction Log Table Duplicates - Without Null App Id.xlsx\n",
      "D:\\Emaratech\\Work\\Permit Transaction Outpass application dedup.txt\n",
      "D:\\Emaratech\\Work\\Permit Used and Validity Corrupted Cases.xlsx\n",
      "D:\\Emaratech\\Work\\Permit Validity Correction(v002).xlsx\n",
      "D:\\Emaratech\\Work\\Permit Validity Correction.xls\n",
      "D:\\Emaratech\\Work\\Permit Validity Correction.xlsx\n",
      "D:\\Emaratech\\Work\\Permit Validity Corruption - MOI travels.xls\n",
      "D:\\Emaratech\\Work\\Permit Validity Corruption - Multi Entry Visa.xlsx\n",
      "D:\\Emaratech\\Work\\Permit Validity Corruption - Single Entry Visa.xls\n",
      "D:\\Emaratech\\Work\\Permit Validity Corruption - Single Entry Visa.xlsx\n",
      "D:\\Emaratech\\Work\\Permit Validity missmatch.xlsx\n",
      "D:\\Emaratech\\Work\\Permit Validity Update - 3010216100690.txt\n",
      "D:\\Emaratech\\Work\\Permit Validity Update - 3017716158678.txt\n",
      "D:\\Emaratech\\Work\\Permit Validity Update.txt\n",
      "D:\\Emaratech\\Work\\Permit with passport modifications.xlsx\n",
      "D:\\Emaratech\\Work\\Permit.html\n",
      "D:\\Emaratech\\Work\\PermitClosure - 11Oct2016.sql\n",
      "D:\\Emaratech\\Work\\PermitClosureBatch6DataFix.txt\n",
      "D:\\Emaratech\\Work\\Permits for Closure - IM205309.xlsx\n",
      "D:\\Emaratech\\Work\\Permits for Closure - IM205913,IM205914.xlsx\n",
      "D:\\Emaratech\\Work\\Permits for Closure - IM206090.xlsx\n",
      "D:\\Emaratech\\Work\\Permits for Closure -IM205935.xlsx\n",
      "D:\\Emaratech\\Work\\Permits for Closure -IM206123.xlsx\n",
      "D:\\Emaratech\\Work\\Permits for Closure -IM206453.xlsx\n",
      "D:\\Emaratech\\Work\\Permits for Closure -IM207029.xlsx\n",
      "D:\\Emaratech\\Work\\Permits for closure.xlsx\n",
      "D:\\Emaratech\\Work\\Permits.txt\n",
      "D:\\Emaratech\\Work\\PermitsClosed_10Oct2016.txt\n",
      "D:\\Emaratech\\Work\\permit_app_extended_dtl.xls\n",
      "D:\\Emaratech\\Work\\Permit_closure_Query_Optimized.sql\n",
      "D:\\Emaratech\\Work\\PERMIT_RES_STATUS_QUERY_GCC.xlsx\n",
      "D:\\Emaratech\\Work\\permit_status_type_lk.csv\n",
      "D:\\Emaratech\\Work\\PERMIT_WITH_UDB_NAME.xls\n",
      "D:\\Emaratech\\Work\\PERMIT_WITH_UDB_NAME.xlsx\n",
      "D:\\Emaratech\\Work\\PERMIT_YY correction to 2016.xlsx\n",
      "D:\\Emaratech\\Work\\Person Inside On Another File - With New Permit Status Closed or Issued and Expired - 9th June 2020.xlsx\n",
      "D:\\Emaratech\\Work\\Person Inside with Cancelled Residence File - With New Permit Status Closed or Issued and Expired - 9th June 2020.xlsx\n",
      "D:\\Emaratech\\Work\\Peru National Visa type issuance From MOI - Last 3 Months.xlsx\n",
      "D:\\Emaratech\\Work\\pichar sample.html\n",
      "D:\\Emaratech\\Work\\Pipelined functions.sql\n",
      "D:\\Emaratech\\Work\\PKG_BLACKLIST.pkb\n",
      "D:\\Emaratech\\Work\\PKG_BLACKLIST.pkg\n",
      "D:\\Emaratech\\Work\\PKG_BLACKLIST.sql\n",
      "D:\\Emaratech\\Work\\PKG_BLACKLIST.~sql\n",
      "D:\\Emaratech\\Work\\PKG_BLACKLIST_master.sql\n",
      "D:\\Emaratech\\Work\\PKG_BLACKLIST_release_branch.sql\n",
      "D:\\Emaratech\\Work\\pkg_etl_ednrd.pck\n",
      "D:\\Emaratech\\Work\\PKG_ETL_EDNRD_26_Nov_2017.pkb\n",
      "D:\\Emaratech\\Work\\PKG_ETL_EDNRD_26_Nov_2017.pks\n",
      "D:\\Emaratech\\Work\\pkg_etl_ednrd_bkpjan17.pck\n",
      "D:\\Emaratech\\Work\\pkg_etl_eform.pkg\n",
      "D:\\Emaratech\\Work\\pkg_etl_eform_am.sql\n",
      "D:\\Emaratech\\Work\\PKG_ETL_EFORM_Production_19062016.sql\n",
      "D:\\Emaratech\\Work\\pkg_etl_residence.pck\n",
      "D:\\Emaratech\\Work\\pkg_etl_vision.pck\n",
      "D:\\Emaratech\\Work\\pkg_get_moi_event_xml.sql\n",
      "D:\\Emaratech\\Work\\pkg_get_moi_event_xml_dev.sql\n",
      "D:\\Emaratech\\Work\\PKG_MATERIAL.SQL\n",
      "D:\\Emaratech\\Work\\PKG_OPERATION_REPORTS.pck\n",
      "D:\\Emaratech\\Work\\PKG_OPERATION_REPORTS.pkg\n",
      "D:\\Emaratech\\Work\\PKG_UNDO_TRAVEL_B1.pck\n",
      "D:\\Emaratech\\Work\\pkg_user_mgmt.sql\n",
      "D:\\Emaratech\\Work\\pkg_validation_rule.pkg\n",
      "D:\\Emaratech\\Work\\pkg_violation.pkg\n",
      "D:\\Emaratech\\Work\\PKG_VIOLATION.rar\n",
      "D:\\Emaratech\\Work\\pkg_violation.sql\n",
      "D:\\Emaratech\\Work\\pkg_violation_vision_ext.sql\n",
      "D:\\Emaratech\\Work\\pkg_violation_vision_ext_12172015.pck\n",
      "D:\\Emaratech\\Work\\pkg_violation_vision_ext_12172015_1.pck\n",
      "D:\\Emaratech\\Work\\pkg_violation_vision_ext_12172015_1.~pck\n",
      "D:\\Emaratech\\Work\\PKG_VISION_DATA_UTIL.pck\n",
      "D:\\Emaratech\\Work\\PKG_VISION_DATA_UTIL.pkg\n",
      "D:\\Emaratech\\Work\\PKG_VISION_DATA_UTIL.sql\n",
      "D:\\Emaratech\\Work\\PKG_VISION_DATA_UTIL.~pck\n",
      "D:\\Emaratech\\Work\\PKG_VISION_DATA_UTIL_24Jul2017.pck\n",
      "D:\\Emaratech\\Work\\PM12314 - Missing records in permit_detail.msg\n",
      "D:\\Emaratech\\Work\\PM13374_Duplicate Violation payment calls.txt\n",
      "D:\\Emaratech\\Work\\PM14867 - Violation payment not updating correct validity date.msg\n",
      "D:\\Emaratech\\Work\\PMS.xlsx\n",
      "D:\\Emaratech\\Work\\pofile sync MOI script.sql\n",
      "D:\\Emaratech\\Work\\pofile sync MOI script.~sql\n",
      "D:\\Emaratech\\Work\\popupbox.html\n",
      "D:\\Emaratech\\Work\\port ID (1).txt\n",
      "D:\\Emaratech\\Work\\port_lk.csv\n",
      "D:\\Emaratech\\Work\\POS Collection Report - April 2017.pdf\n",
      "D:\\Emaratech\\Work\\Post Moi Events.txt\n",
      "D:\\Emaratech\\Work\\Posted Events IM204472.txt\n",
      "D:\\Emaratech\\Work\\Posted Events IM207128.txt\n",
      "D:\\Emaratech\\Work\\PPR-SignOff-04162018-Vision_Production_Canary_Release_1.37.002.00_v1.0.xlsx\n",
      "D:\\Emaratech\\Work\\PPSID877746.xml\n",
      "D:\\Emaratech\\Work\\pps_merge_case_bkp21Feb2019.xlsx\n",
      "D:\\Emaratech\\Work\\Pre Clearance Privilege Please.msg\n",
      "D:\\Emaratech\\Work\\Pre-Clearance Privilege.msg\n",
      "D:\\Emaratech\\Work\\Pre-Clearance Stats - All Dubai Travels(002).xls\n",
      "D:\\Emaratech\\Work\\Pre-Clearance Stats - All Dubai Travels.xls\n",
      "D:\\Emaratech\\Work\\Pre-Clearance Status - 1st Jan 2018 - 27th Dec 2018.xlsx\n",
      "D:\\Emaratech\\Work\\Pre-Clearance Status - Dubai Counters - Arrival - October 2018.xlsx\n",
      "D:\\Emaratech\\Work\\Pre-Issued Tourist Visa Stats - 2016 to 2018 - Dubai Vs MOI.xlsx\n",
      "D:\\Emaratech\\Work\\Pre-Issued Tourist Visa Stats - Philipino Nationality - On Gender Details -(Jan  to Jun) 2017 Vs  2018 - Dubai Vs MOI - Monthly.xlsx\n",
      "D:\\Emaratech\\Work\\Pre-Issued Tourist Visa Stats -(Jan  to 17 Sep) 2017 Vs  2018 - Dubai Vs MOI - Monthly.xlsx\n",
      "D:\\Emaratech\\Work\\Pre-Issued Tourist Visa Stats -(Jan  to Jun) 2017 Vs  2018 - Dubai Vs MOI - Monthly.xlsx\n",
      "D:\\Emaratech\\Work\\Pre-Issued Tourist Visa Stats -(Jan1st to May 30th) 2017 Vs  2018 - Dubai Vs MOI.xlsx\n",
      "D:\\Emaratech\\Work\\Pre-Issued Tourist Visa Stats -(Jun 23rd to Jul 09th) 2017 Vs  2018 - Dubai Vs MOI.xlsx\n",
      "D:\\Emaratech\\Work\\Printed Application Count - Jan 5th Till 28 Match - users - ML1773, ML1968, ML554.xlsx\n",
      "D:\\Emaratech\\Work\\printouts , like SAS report.jpg\n",
      "D:\\Emaratech\\Work\\PRIV.txt\n",
      "D:\\Emaratech\\Work\\Privilege 722 998 user_priv role_priv _ Backup.xlsx\n",
      "D:\\Emaratech\\Work\\Privilege Users.xlsx\n",
      "D:\\Emaratech\\Work\\Privilege.xlsx\n",
      "D:\\Emaratech\\Work\\Privileged User Details.xlsx\n",
      "D:\\Emaratech\\Work\\Privileged Users Details in Vision.xlsx\n",
      "D:\\Emaratech\\Work\\Privileged Users to Add EIDA Card in Vision.xlsx\n",
      "D:\\Emaratech\\Work\\Privileged Users to Remove Ban - Pay Violation (004).xlsx\n",
      "D:\\Emaratech\\Work\\Privileged Users to Remove Ban - Pay Violation.xlsx\n",
      "D:\\Emaratech\\Work\\PRO Stats.xlsx\n",
      "D:\\Emaratech\\Work\\Problem tickets.txt\n",
      "D:\\Emaratech\\Work\\proc calls.sql\n",
      "D:\\Emaratech\\Work\\Processing time (1).xlsx\n",
      "D:\\Emaratech\\Work\\processint time.sql\n",
      "D:\\Emaratech\\Work\\Proc_correct_rev_no.prc\n",
      "D:\\Emaratech\\Work\\proc_get_moi_active_files.prc\n",
      "D:\\Emaratech\\Work\\proc_get_shenghen_remain_day.sql\n",
      "D:\\Emaratech\\Work\\PROC_MOIPERSON_DETAILS_LOG.prc\n",
      "D:\\Emaratech\\Work\\proc_undo_violation_pymnt_fis.prc\n",
      "D:\\Emaratech\\Work\\Productivity for each officer who received Passport from Zajel.xlsx\n",
      "D:\\Emaratech\\Work\\Productivity report 2016.xlsx\n",
      "D:\\Emaratech\\Work\\profe.xls\n",
      "D:\\Emaratech\\Work\\Profession Comparison - 30 Apr 2018.xlsx\n",
      "D:\\Emaratech\\Work\\Profession Comparison - Legacy and Vision.xlsx\n",
      "D:\\Emaratech\\Work\\Profession Comparison - Vision Vs ESB Mapping Professions.xls\n",
      "D:\\Emaratech\\Work\\Professions_ESB_Mappings.xls\n",
      "D:\\Emaratech\\Work\\Professions_ESB_Mappings.zip\n",
      "D:\\Emaratech\\Work\\ProfessionUnArchive.sql\n",
      "D:\\Emaratech\\Work\\ProfessionUnArchiveValueMapping.sql\n",
      "D:\\Emaratech\\Work\\Profession_in legacy not in vision with arabic name comparison.xls\n",
      "D:\\Emaratech\\Work\\Profession_in legacy not in vision with profession id comparison.xls\n",
      "D:\\Emaratech\\Work\\profession_lk.csv\n",
      "D:\\Emaratech\\Work\\profession_lk.xls\n",
      "D:\\Emaratech\\Work\\profession_lk.xlsx\n",
      "D:\\Emaratech\\Work\\profession_lk.zip\n",
      "D:\\Emaratech\\Work\\PROFESSION_LK_06022018_Eform Mapping.xls\n",
      "D:\\Emaratech\\Work\\profession_lk_legacy.xls\n",
      "D:\\Emaratech\\Work\\Profile Micro Service - Datafix Trigger on BI DB.sql\n",
      "D:\\Emaratech\\Work\\Profile profession correction.xls\n",
      "D:\\Emaratech\\Work\\Profile profession correction.xlsx\n",
      "D:\\Emaratech\\Work\\Profile Pull cases on Visa from 17th Mar 2020 and Cancelled by MOI on 17th Mar 2020.xlsx\n",
      "D:\\Emaratech\\Work\\Profile Pull Comparison - 01Aug to 10Aug 2016.xlsx\n",
      "D:\\Emaratech\\Work\\Profile Pull Comparison - 20Jul to 20Aug 2016.xlsx\n",
      "D:\\Emaratech\\Work\\Profile Pull Comparison - 23Jul to 27 Jul 2016.xlsx\n",
      "D:\\Emaratech\\Work\\Profile Pull Comparison - Last 3 months - till 24 June - 23 Sep 2017.xlsx\n",
      "D:\\Emaratech\\Work\\Profile Pull Comparison- pending service types - 23Jul to 27 Jul 2016.xlsx\n",
      "D:\\Emaratech\\Work\\Profile pull Pending Transactions 01 Aug 2016 - 10 Aug 2016.zip\n",
      "D:\\Emaratech\\Work\\Profile pull Pending Transactions 11 Aug 2016 20 Aug 2016.xlsx\n",
      "D:\\Emaratech\\Work\\Profile pull Pending Transactions 11 Aug 2016 20 Aug 2016.zip\n",
      "D:\\Emaratech\\Work\\Profile Pull Service Type - UAE Locals.xlsx\n",
      "D:\\Emaratech\\Work\\Profile Pull Travel Comparison - 23th December 2019.xlsx\n",
      "D:\\Emaratech\\Work\\Profile Pull Travel Comparison - 4th December 2019.xlsx\n",
      "D:\\Emaratech\\Work\\Profile sync compariosn tables.txt\n",
      "D:\\Emaratech\\Work\\Profile With Multiple Active Residencies in vision  - Comparison with MOI.xlsx\n",
      "D:\\Emaratech\\Work\\Profile With Multiple Active Residencies in Vision.xlsx\n",
      "D:\\Emaratech\\Work\\Profile With Multiple Active Residencies in Vision_v002.xlsx\n",
      "D:\\Emaratech\\Work\\Profile With Multiple Active VISA under inside country status in vision  - Comparison with MOI -  28_08_2019.xlsx\n",
      "D:\\Emaratech\\Work\\ProfilePull Comparison - Sep 2018 Vs Apr 2019.xlsx\n",
      "D:\\Emaratech\\Work\\ProfilePull Comparison Report - 1 week.xlsx\n",
      "D:\\Emaratech\\Work\\ProfilePull Entry Through Vision but Cancel before Entry in MOI - 25 Apr 2019.xlsx\n",
      "D:\\Emaratech\\Work\\ProfilePull Failures Till 14 May 2019.xlsx\n",
      "D:\\Emaratech\\Work\\ProfilePull Failures Till 19 May 2019.xlsx\n",
      "D:\\Emaratech\\Work\\ProfilePull Failures Till 19 May 2019_914 Files - Status After fix.xlsx\n",
      "D:\\Emaratech\\Work\\ProfilePull Failures Till 19 May 2019_914 Files - Status After fix_v001.xlsx\n",
      "D:\\Emaratech\\Work\\ProfilePull Failures Till 19 May 2019_v002.xlsx\n",
      "D:\\Emaratech\\Work\\ProfilePull Proc TestCases - 5 Apr 2020.xlsx\n",
      "D:\\Emaratech\\Work\\ProfilePull Proc TestCases - QMG - 6 Apr 2020.xlsx\n",
      "D:\\Emaratech\\Work\\ProfilePull Travels  - Cancel before Entry in MOI  with profilePull Entry and Exit through vision.xlsx\n",
      "D:\\Emaratech\\Work\\ProfilePull Travels  - Cancel before Entry in MOI  with profilePull Entry and No ProfilePull Exit through vision.xlsx\n",
      "D:\\Emaratech\\Work\\PROFILEPULL_BYPASS_TIMING.sql\n",
      "D:\\Emaratech\\Work\\PROFILEPULL_VISA_SKIPLIST.sql\n",
      "D:\\Emaratech\\Work\\Profiles stats Dashboard - 4th Oct 2020.xml\n",
      "D:\\Emaratech\\Work\\Profiles with Unknown Profession Samples.xlsx\n",
      "D:\\Emaratech\\Work\\Profiles with Unknown Profession.xlsx\n",
      "D:\\Emaratech\\Work\\profile_required_doc_configf.txt\n",
      "D:\\Emaratech\\Work\\PROFILE_RESTRICTION_POI_PROD.csv\n",
      "D:\\Emaratech\\Work\\PROFILE_RESTRICTION_POI_PROD_V2-08Oct2020.csv\n",
      "D:\\Emaratech\\Work\\PROFILE_RESTRICTION_POI_PROD_V3-01Nov2020.csv\n",
      "D:\\Emaratech\\Work\\progress bar.gif\n",
      "D:\\Emaratech\\Work\\Progress Bar.html\n",
      "D:\\Emaratech\\Work\\q1_ar.sql\n",
      "D:\\Emaratech\\Work\\q2_ar_en.sql\n",
      "D:\\Emaratech\\Work\\q2_en.sql\n",
      "D:\\Emaratech\\Work\\QB ip.jpg\n",
      "D:\\Emaratech\\Work\\QMG-05-F-03-PPR-SignOff-010818-Vision_Production_Release_1.32.006.00_v1.0.xlsx\n",
      "D:\\Emaratech\\Work\\QMG-05-F-03-PPR-SignOff-010818-Vision_Production_Release_1.32.007.00_v1.0.xlsx\n"
     ]
    },
    {
     "name": "stdout",
     "output_type": "stream",
     "text": [
      "D:\\Emaratech\\Work\\QMG-05-F-03-PPR-SignOff-010818-Vision_Production_Release_1.35.001.00_v1.0.xlsx\n",
      "D:\\Emaratech\\Work\\QMG-05-F-03-PPR-SignOff-090418-Vision_Production_Canary_Release_1.36.010.00_v1.0.xlsx\n",
      "D:\\Emaratech\\Work\\QMG-05-F-03-PPR-SignOff-092617-Vision_Production_Release_1.26.010.01.xlsx\n",
      "D:\\Emaratech\\Work\\QMG-05-F-03-PPR-SignOff-092618-Vision_Production_Release_2.06.002.00.xlsx\n",
      "D:\\Emaratech\\Work\\QMG-05-F-03-PPR-SignOff-101617-Vision_Production_Release_1.27.002.02_v2.0.xlsx\n",
      "D:\\Emaratech\\Work\\QMG-05-F-03-PPR-SignOff-101618-Vision_Production_Release_2.06.003.03.xlsx\n",
      "D:\\Emaratech\\Work\\QMG-05-F-03-PPR-SignOff-101917-Vision_Production_Release_1.27.002.03_v2.0.xlsx\n",
      "D:\\Emaratech\\Work\\QMG-05-F-03-PPR-SignOff-11152018-Vision_Production_Release_2.08.003.03.xlsx\n",
      "D:\\Emaratech\\Work\\QMG-05-F-03-PPR-SignOff-13022018-Vision_Production_Release_2.13.008.00.xlsx\n",
      "D:\\Emaratech\\Work\\QMG-05-F-03-PPR-SignOff-181117-Vision_Production_Canary_Release_1.32.003.00_v1.0.xlsx\n",
      "D:\\Emaratech\\Work\\QMG-05-F-03-PPR-SignOff-23042018-Vision_Production_Canary_Release_1.37.003.00_v1.0.xlsx\n",
      "D:\\Emaratech\\Work\\QMG-05-F-03-PPR-SignOff-q00418-Vision_Production_Canary_Release_1.36.011.00_v1.0.xlsx\n",
      "D:\\Emaratech\\Work\\QMG-05-F-03-PPR-SignOff-q120418-Vision_Production_Canary_Release_1.36.012.00_v1.0.xlsx\n",
      "D:\\Emaratech\\Work\\QMQ2_SYNC_SCRIPTS.RAR\n",
      "D:\\Emaratech\\Work\\QM_IP.csv\n",
      "D:\\Emaratech\\Work\\QM_IP_1.csv\n",
      "D:\\Emaratech\\Work\\queries-ded.sql\n",
      "D:\\Emaratech\\Work\\Queries.zip\n",
      "D:\\Emaratech\\Work\\Query - Apps Medical.txt\n",
      "D:\\Emaratech\\Work\\Query - eGate and File number details for crew member.sql\n",
      "D:\\Emaratech\\Work\\Query - Name Arabic Issue.sql\n",
      "D:\\Emaratech\\Work\\Query - Travel Summary (Entry)  grouped on nationality visa type and port type.sql.txt\n",
      "D:\\Emaratech\\Work\\Query - Travel Summary (Exit) grouped on nationality visa type and port type.sql - Copy.txt\n",
      "D:\\Emaratech\\Work\\Query-OnArrival.sql\n",
      "D:\\Emaratech\\Work\\query-parameters-23rdjuly17.xls\n",
      "D:\\Emaratech\\Work\\Query.docx\n",
      "D:\\Emaratech\\Work\\query.sql\n",
      "D:\\Emaratech\\Work\\query.txt\n",
      "D:\\Emaratech\\Work\\Query1.sql\n",
      "D:\\Emaratech\\Work\\Query1_v3.sql\n",
      "D:\\Emaratech\\Work\\Query2.sql\n",
      "D:\\Emaratech\\Work\\Query2_v3.sql\n",
      "D:\\Emaratech\\Work\\Query_visa type missmatch.sql\n",
      "D:\\Emaratech\\Work\\RCA-Eform Application Failure in ETL-09-August-2016-1.0.doc\n",
      "D:\\Emaratech\\Work\\RCA-Marking Travel Failure in Border Control-17-October-2016-1.0.doc\n",
      "D:\\Emaratech\\Work\\RCA-Marking Travel Failure in Border Control-17-October-2016-3.0.doc\n",
      "D:\\Emaratech\\Work\\RCA-On-Arrival Visa Sequence Exceeds MAXVALUE-20-October-2016-1.0.doc\n",
      "D:\\Emaratech\\Work\\RCA-Vision Slowness-11-October-2016-1.0.doc\n",
      "D:\\Emaratech\\Work\\RCA-vision_BC_slowness-14-Jan-2018_v2.doc\n",
      "D:\\Emaratech\\Work\\RE  - Not reached GDRFA system معاملات معلقة ( لا توجد سجلات) تذكير للاهمية.msg\n",
      "D:\\Emaratech\\Work\\RE  سحب مكررInteraction - SD418566 - PM15591.msg\n",
      "D:\\Emaratech\\Work\\RE  سحب مكررInteraction - SD418566.msg\n",
      "D:\\Emaratech\\Work\\RE Allow restricted professions to submit applications.msg\n",
      "D:\\Emaratech\\Work\\RE Amnesty 2020.msg\n",
      "D:\\Emaratech\\Work\\RE Annual Leave Plan Approval.msg\n",
      "D:\\Emaratech\\Work\\RE Approved in VC - Sent to e-channel in IQC  17-Jul-2018.msg\n",
      "D:\\Emaratech\\Work\\RE Border Control Release.msg\n",
      "D:\\Emaratech\\Work\\RE Border Control Transaction Report Dynamic design.msg\n",
      "D:\\Emaratech\\Work\\RE Can't process app in VC - error while approving  - You can't send app back to IQC.msg\n",
      "D:\\Emaratech\\Work\\Re change status .msg\n",
      "D:\\Emaratech\\Work\\RE Critical Dynatrace IQC Save Application - BT  - high response time--FTS_ON_APPLICATION.msg\n",
      "D:\\Emaratech\\Work\\RE Critical OEm 10.0.41.11 SQL is using 21 GB of temp Tablespace.msg\n",
      "D:\\Emaratech\\Work\\RE CRM is not accessible.msg\n",
      "D:\\Emaratech\\Work\\RE Data Issue with SAS reports - Urgently.msg\n",
      "D:\\Emaratech\\Work\\RE DB job 523 in Vision Integration database  has not refreshed since 3 hours.msg\n",
      "D:\\Emaratech\\Work\\RE dummy sponsor.msg\n",
      "D:\\Emaratech\\Work\\RE EAP  UC OnArrival visa extension - Extension details sync issue in Unified Channel Integration DB.msg\n",
      "D:\\Emaratech\\Work\\Re EDNRD Application ETL Failure - Service Missing .msg\n",
      "D:\\Emaratech\\Work\\RE EDNRD Application ETL Failures - 10 Dec 2018.msg\n",
      "D:\\Emaratech\\Work\\RE Eform  ETL Failures - 14 Oct 2018.msg\n",
      "D:\\Emaratech\\Work\\Re eGate and File number details for crew member.msg\n",
      "D:\\Emaratech\\Work\\RE EK case follow up  - unable to print the visa copy.msg\n",
      "D:\\Emaratech\\Work\\RE EM Event Criticalvsnprod_vsnprod1 - Below SQL.msg\n",
      "D:\\Emaratech\\Work\\RE EM Event Criticalvsnprod_vsnprod2 - Below SQL is using  27.9580078125 GB of temporary tablespace . Please check asap..msg\n",
      "D:\\Emaratech\\Work\\RE EP-3457 Residencies extension whose validities expired between 132020 to 1542020.msg\n",
      "D:\\Emaratech\\Work\\RE Establishment names difference .msg\n",
      "D:\\Emaratech\\Work\\RE ETL Dashboard (Vision Tracker)  usage notes 2509.msg\n",
      "D:\\Emaratech\\Work\\RE ETL Dashboard (Vision Tracker)  usage notes as of early  78.msg\n",
      "D:\\Emaratech\\Work\\RE ETL Dashboard (Vision Tracker)  usage notes as of early 228.msg\n",
      "D:\\Emaratech\\Work\\RE ETL Dashboard (Vision Tracker)  usage notes as of early 317.msg\n",
      "D:\\Emaratech\\Work\\RE ETL Dashboard (Vision Tracker)  usage notes as of early 38.msg\n",
      "D:\\Emaratech\\Work\\RE Files with temp closure closed in bulk.msg\n",
      "D:\\Emaratech\\Work\\RE High Response Query Identified on Core Production.msg\n",
      "D:\\Emaratech\\Work\\RE httpsjira.emaratech.aebrowseSDCS-67226 - Urgent.msg\n",
      "D:\\Emaratech\\Work\\RE IM136853-Visa_No_For_MOL null issue .msg\n",
      "D:\\Emaratech\\Work\\RE IM213120 with the title Update and push Travels to MOI .msg\n",
      "D:\\Emaratech\\Work\\RE IM248909 Applications processing issue.msg\n",
      "D:\\Emaratech\\Work\\RE IM66677IM66699 - Cannot upload any document .msg\n",
      "D:\\Emaratech\\Work\\RE IM75482 Emarati is holding residency .msg\n",
      "D:\\Emaratech\\Work\\RE IM98380 T3-DEP  Cannot delete violation and need explain.pdf\n",
      "D:\\Emaratech\\Work\\RE Incident - IM218098 ( Urgent case) -  PM15568.msg\n",
      "D:\\Emaratech\\Work\\RE incident IM218322 .msg\n",
      "D:\\Emaratech\\Work\\RE Incorrect validity date in Vision.msg\n",
      "D:\\Emaratech\\Work\\Re Individual Person No Table Deduplication.msg\n",
      "D:\\Emaratech\\Work\\RE Integration pending applications DP  6 June  2016 Problem - PM11911.msg\n",
      "D:\\Emaratech\\Work\\RE IQC status Failed to send .msg\n",
      "D:\\Emaratech\\Work\\RE Iran National - Dubai Permit  Res Cancelled by MOI in last 1 month - Analysis.msg\n",
      "D:\\Emaratech\\Work\\RE Long Running Queries observed on vision core production.msg\n",
      "D:\\Emaratech\\Work\\RE NGA in T2.msg\n",
      "D:\\Emaratech\\Work\\RE NGE Entry KPI's_30-July-2016.msg\n",
      "D:\\Emaratech\\Work\\RE Nigeria reinstated visas.msg\n",
      "D:\\Emaratech\\Work\\RE OverstayViolationService - Failure in pooler job.msg\n",
      "D:\\Emaratech\\Work\\RE Passport Issue Place.msg\n",
      "D:\\Emaratech\\Work\\RE PM11831 - Residency cancellation outside the country.msg\n",
      "D:\\Emaratech\\Work\\RE PM12053.msg\n",
      "D:\\Emaratech\\Work\\RE Prepare list for DB static objects included in BC.msg\n",
      "D:\\Emaratech\\Work\\RE print visa (IM219182) CRITICAL.msg\n",
      "D:\\Emaratech\\Work\\RE Reg. APP ID 3336196 stuck in Permit request received state.-  PM12924.msg\n",
      "D:\\Emaratech\\Work\\RE Schengen OLD permits closure - Day 7.msg\n",
      "D:\\Emaratech\\Work\\RE Schengen OLD permits closure - Day10 - Activity Completed!!!.msg\n",
      "D:\\Emaratech\\Work\\RE Schengen with Single entry .msg\n",
      "D:\\Emaratech\\Work\\RE SD132980 DXB T2 Dep Officer can't mark undo violation from other emirates permits. (previlige issue).msg\n",
      "D:\\Emaratech\\Work\\RE SDCS-65857 permit validity outside the country .msg\n",
      "D:\\Emaratech\\Work\\RE SDIMD-5424Monitor Green_vsn_srvcs_node2_01  Status timed out reading (200104137270c3cb617d1f5fbcd93).msg\n",
      "D:\\Emaratech\\Work\\RE Sponsorship Registration Privilege.msg\n",
      "D:\\Emaratech\\Work\\RE T3 arrival Privileges.msg\n",
      "D:\\Emaratech\\Work\\RE Time taken to delete single LR user from Application_user -SD64713'   -- Reminder.msg\n",
      "D:\\Emaratech\\Work\\RE TOP URGENT.msg\n",
      "D:\\Emaratech\\Work\\RE TRKMGR-8327 - Extend Cancelled before entry Permits (Kenya and Pakistan).msg\n",
      "D:\\Emaratech\\Work\\Re Twins case .msg\n",
      "D:\\Emaratech\\Work\\RE URGENT STATISTICS REQUEST!.msg\n",
      "D:\\Emaratech\\Work\\RE Urgent Statistics.msg\n",
      "D:\\Emaratech\\Work\\RE Validity date is not updated.msg\n",
      "D:\\Emaratech\\Work\\Re Violation replication issue from eform to Core Incident - IM49337.msg\n",
      "D:\\Emaratech\\Work\\RE Visa 76.msg\n",
      "D:\\Emaratech\\Work\\RE visa type 17 got closed .msg\n",
      "D:\\Emaratech\\Work\\RE Vision 2015 UAE FIS Case Reference Data.msg\n",
      "D:\\Emaratech\\Work\\RE Vision Core 2.37 DB Changes Review.msg\n",
      "D:\\Emaratech\\Work\\RE حسين احمد علي احمد النهام - الجنسية بحريني - رقم البطاقه 760804745.msg\n",
      "D:\\Emaratech\\Work\\Re كشف موظفي الاحوال .msg\n",
      "D:\\Emaratech\\Work\\Re كشف موظفي الاحوال مطار ال مكتوم.msg\n",
      "D:\\Emaratech\\Work\\RE محمد محمد بن مخيزي القايدي الجنسية العمانية رقم الشخصي 6669244.msg\n",
      "D:\\Emaratech\\Work\\Reactivate cases 10-02-2019 - Vision Comparison.xlsx\n",
      "D:\\Emaratech\\Work\\Reactivate cases 10-02-2019 - Vision Comparison_v(002).xlsx\n",
      "D:\\Emaratech\\Work\\Reactivated application details.xlsx\n",
      "D:\\Emaratech\\Work\\Reactivated SC applications from IQCs - Feb 2020.xlsx\n",
      "D:\\Emaratech\\Work\\Reactvate Application Rejected by auto IQC.xlsx\n",
      "D:\\Emaratech\\Work\\Recall application status.xls\n",
      "D:\\Emaratech\\Work\\Received Order.jpg\n",
      "D:\\Emaratech\\Work\\reci.xls\n",
      "D:\\Emaratech\\Work\\Reciprocity21Visa4MaldivesDiplomatOfficialNormalPassport_execute at 11 55pm 27 Dec 2018.sql\n",
      "D:\\Emaratech\\Work\\ReciprocityVisa4Georgia.sql\n",
      "D:\\Emaratech\\Work\\recusrion.png\n",
      "D:\\Emaratech\\Work\\References Tables -lookup_ref.country_lk.country_id=272 - 12May2019.zip\n",
      "D:\\Emaratech\\Work\\Rejected - IQC Apps Pending Reject Review Required - App Date Till 17 Oct 2018.xlsx\n",
      "D:\\Emaratech\\Work\\Rejected - IQC Apps Pending Sponsor Visit Required - App date till 30 Sep 2018.xlsx\n",
      "D:\\Emaratech\\Work\\Rejected - Pending Eform Apps (Applicant did not respond within specified duration) - In progress in IQC and Vision.xlsx\n",
      "D:\\Emaratech\\Work\\Rejected Eform Applications - Last 60 Days.xlsx\n",
      "D:\\Emaratech\\Work\\Rejected_App_in_Last_60_Days.xls\n",
      "D:\\Emaratech\\Work\\relationship_lk.xlsx\n",
      "D:\\Emaratech\\Work\\religion_lk_0.xls\n",
      "D:\\Emaratech\\Work\\religion_lk_0_party.xls\n",
      "D:\\Emaratech\\Work\\Remove MOI BAN Privileged Users in Vision.xlsx\n",
      "D:\\Emaratech\\Work\\remove privilege of HC Member and HC Admin.xlsx\n",
      "D:\\Emaratech\\Work\\Renew Residence - North Koria - NSD stats.xlsx\n",
      "D:\\Emaratech\\Work\\Report - 1 & 2 - Having only one Active File Cases  and IS_OPERATIONAL = 0.xlsx\n",
      "D:\\Emaratech\\Work\\Report - 1 & 2 - Having only one Active File Cases  and IS_OPERATIONAL = 0.zip\n",
      "D:\\Emaratech\\Work\\Report - All Parties Sent for detentions with succeeding Actions -  Between the 1st of Jan 2019 and 30th June 2019.xlsx\n",
      "D:\\Emaratech\\Work\\Report - Assistant Category with Absconding Application type  - 1st Aug 2018 - 27th Sep 2018.xlsx\n",
      "D:\\Emaratech\\Work\\Report - Change Status Applications with violation exemption stats.xlsx\n",
      "D:\\Emaratech\\Work\\report - employee travel summary\n",
      "D:\\Emaratech\\Work\\Report - Hata User Travel Stats 2016.xlsx\n",
      "D:\\Emaratech\\Work\\Report - HC Decision - 18th Jan 2018(V001).xlsx\n",
      "D:\\Emaratech\\Work\\Report - HC Decision - 21th Jan 2018(V001).xlsx\n",
      "D:\\Emaratech\\Work\\Report - HC Decision - 4th Jan 2018(V002).xlsx\n",
      "D:\\Emaratech\\Work\\Report - Privilege On User.xlsx\n",
      "D:\\Emaratech\\Work\\Report - Profile with COMOROS and UAE passports.xlsx\n",
      "D:\\Emaratech\\Work\\Report - Residencies under JAFZA.xlsx\n",
      "D:\\Emaratech\\Work\\Report - Schengen Entry Over Entry Exit Over Exit cases - SD251098.xlsx\n",
      "D:\\Emaratech\\Work\\Report - Script.sql\n",
      "D:\\Emaratech\\Work\\Report - UAE Nationaly passport types - 2, 5, 26, 27, 84.xlsx\n",
      "D:\\Emaratech\\Work\\Report 3.1 - Multiple files in INDIVIDUAL_PERSON_NO table - With Single Active Residencies.xlsx\n",
      "D:\\Emaratech\\Work\\Report 3.1 - Multiple files in INDIVIDUAL_PERSON_NO table - With Single Active Residencies_but has new permits in used status.xlsx\n",
      "D:\\Emaratech\\Work\\Report 3.2 - Multiple files in INDIVIDUAL_PERSON_NO table - With Multiple Active Residencies.xlsx\n",
      "D:\\Emaratech\\Work\\Report 3.3a - Multiple files in INDIVIDUAL_PERSON_NO table - With Multiple Active Permits and Single Permit in Inside Coutry Status.xlsx\n",
      "D:\\Emaratech\\Work\\Report 3.3b - Multiple files in INDIVIDUAL_PERSON_NO table - With Multiple Active Permits and Multiple Permit in Inside Coutry Status.xlsx\n",
      "D:\\Emaratech\\Work\\Report Active Permits under Citizen sponsor(2).xlsx\n",
      "D:\\Emaratech\\Work\\Report Active Residents under Citizen sponsor(2).xlsx\n",
      "D:\\Emaratech\\Work\\Report Active Residents under establishments(2).xlsx\n",
      "D:\\Emaratech\\Work\\Report Estab Active Permits(2).xlsx\n",
      "D:\\Emaratech\\Work\\report estract.csv\n",
      "D:\\Emaratech\\Work\\Report Extract.rar\n",
      "D:\\Emaratech\\Work\\Report for Qatari incoming and outgoing.xlsx\n",
      "D:\\Emaratech\\Work\\Report for Temp closure - Dubai Files.xlsx\n",
      "D:\\Emaratech\\Work\\report outpass.pdf\n",
      "D:\\Emaratech\\Work\\Report Script  - Smartgate Registration stats.sql\n",
      "D:\\Emaratech\\Work\\Report Scripts (1).sql\n",
      "D:\\Emaratech\\Work\\Report stats per user  v(002).xlsx\n",
      "D:\\Emaratech\\Work\\Report-Amnesty job seeker visa applied from e-form - 8 - 11 Sep 2018.xlsx\n",
      "D:\\Emaratech\\Work\\report.html\n",
      "D:\\Emaratech\\Work\\Report.rar\n",
      "D:\\Emaratech\\Work\\Report.sql\n",
      "D:\\Emaratech\\Work\\report.xls\n",
      "D:\\Emaratech\\Work\\Report1 (002) (1).xlsx\n",
      "D:\\Emaratech\\Work\\report1.html\n",
      "D:\\Emaratech\\Work\\Report2(1).xlsx\n",
      "D:\\Emaratech\\Work\\Reported Typing Centers 06 JAn 2018.xlsx\n",
      "D:\\Emaratech\\Work\\Reported Typing Centers.xlsx\n",
      "D:\\Emaratech\\Work\\Reports.zip\n",
      "D:\\Emaratech\\Work\\report_query.sql\n",
      "D:\\Emaratech\\Work\\res cons.csv\n",
      "D:\\Emaratech\\Work\\ResCancel.csv\n",
      "D:\\Emaratech\\Work\\ResCancel.rar\n",
      "D:\\Emaratech\\Work\\resd_change(1).sql\n",
      "D:\\Emaratech\\Work\\Resi Trans STR_CODE.jpg\n",
      "D:\\Emaratech\\Work\\Residence - Labour Card No - Junk Value issue - Data migration.xlsx\n",
      "D:\\Emaratech\\Work\\Residence Application Extract Oct 2017.rar\n",
      "D:\\Emaratech\\Work\\Residence Application Extract Oct 2017.xls\n",
      "D:\\Emaratech\\Work\\Residence Cancel Application(v002).xlsx\n",
      "D:\\Emaratech\\Work\\Residence Cancel Application.xlsx\n",
      "D:\\Emaratech\\Work\\Residence cancelation applications (inside or outside the country) .jpg\n",
      "D:\\Emaratech\\Work\\Residence Cancelled and Person Outside Country.xlsx\n",
      "D:\\Emaratech\\Work\\Residence Closed or Cancelled but application pending for MOL cancellation.xlsx\n",
      "D:\\Emaratech\\Work\\Residence Consistency Check - Provided res_nos - 14 Dec 2020.xlsx\n",
      "D:\\Emaratech\\Work\\Residence Consistency Check - Provided UDBs- Set3.xlsx\n",
      "D:\\Emaratech\\Work\\Residence Consistency dasboard _ 2.xml\n",
      "D:\\Emaratech\\Work\\Residence Consistency dasboard.xml\n",
      "D:\\Emaratech\\Work\\residence Consistency dashboard - 16 dec 2020.xml\n",
      "D:\\Emaratech\\Work\\residence consistency.xml\n",
      "D:\\Emaratech\\Work\\Residence created for year 2017 having permit year 2016.xlsx\n",
      "D:\\Emaratech\\Work\\Residence Detail Log missmatch.xlsx\n",
      "D:\\Emaratech\\Work\\Residence Detail Log missmatch_v(2).xlsx\n",
      "D:\\Emaratech\\Work\\Residence Detail Replication Issue - IM217621.msg\n",
      "D:\\Emaratech\\Work\\Residence Expiry Reversal MOI Files - 13 July 2020.xlsx\n",
      "D:\\Emaratech\\Work\\Residence Expiry Update.txt\n",
      "D:\\Emaratech\\Work\\Residence File Extention Til 31st Dec 2020 - Validity Check - Candidate records as of 16 Apr 2020.xlsx\n",
      "D:\\Emaratech\\Work\\Residence File Extention Til 31st Dec 2020 - Validity Check - Candidate records as of 16 Apr 2020_v002.xlsx\n",
      "D:\\Emaratech\\Work\\Residence File Extention Til 31st Dec 2020 - Validity Check - Candidate records as of 16 Apr 2020_v003.xlsx\n",
      "D:\\Emaratech\\Work\\Residence having Expiry between 1st March 2020 and 30 Dec 2020 - as of 5th May 2020.csv\n",
      "D:\\Emaratech\\Work\\Residence having Expiry between 1st March 2020 and 30 Dec 2020 - as of 5th May 2020.xlsx\n",
      "D:\\Emaratech\\Work\\Residence issue date correction.csv\n",
      "D:\\Emaratech\\Work\\Residence Issued for Indian Nationals from Kerala ( 2016 - 2019(till 14th Feb)_v001.xlsx\n",
      "D:\\Emaratech\\Work\\Residence issued on permit of 2016 having residnece year 2017.xlsx\n",
      "D:\\Emaratech\\Work\\Residence list.txt\n",
      "D:\\Emaratech\\Work\\Residence Near Expiry Consistency Check - 22Sep2020.xlsx\n",
      "D:\\Emaratech\\Work\\Residence PP cases with Temporary Closure Status.xls\n",
      "D:\\Emaratech\\Work\\Residence Printed on 30 Sep 2020.xlsx\n",
      "D:\\Emaratech\\Work\\Residence res type and visa type Correction - POLICE HQ DUBAI(22000055).xlsx\n",
      "D:\\Emaratech\\Work\\Residence res type and visa type Correction.xlsx\n",
      "D:\\Emaratech\\Work\\Residence sequence year issue.xlsx\n",
      "D:\\Emaratech\\Work\\Residence Sponsorship Change.xlsx\n",
      "D:\\Emaratech\\Work\\Residence Stats - Age Group - December 2017.xlsx\n",
      "D:\\Emaratech\\Work\\Residence stats 2017.xlsx\n",
      "D:\\Emaratech\\Work\\Residence Stats December 2017.xls\n",
      "D:\\Emaratech\\Work\\Residence Stats December 2017.xlsx\n",
      "D:\\Emaratech\\Work\\Residence Status ISSUED with Cancel Date not Null in vision - 14 May 2019.xlsx\n",
      "D:\\Emaratech\\Work\\Residence Status ISSUED with Close Date not Null in vision - 14 May 2019.xlsx\n",
      "D:\\Emaratech\\Work\\Residence Status Outpass Issued and Outpass Status as Closed - 21 Jan 2020.xlsx\n",
      "D:\\Emaratech\\Work\\Residence Trans on DUBAI File from ESB - July 2020 -1st  Feb 2021.xlsx\n",
      "D:\\Emaratech\\Work\\Residence Travel Failure - Channel.xlsx\n",
      "D:\\Emaratech\\Work\\Residence Under Cancelled in Vision But Closed in MOI.xlsx\n",
      "D:\\Emaratech\\Work\\Residence update-correction applications .jpg\n",
      "D:\\Emaratech\\Work\\Residence updateCorrection applications  - Q2 2019.jpg\n",
      "D:\\Emaratech\\Work\\Residence Validity issue.xlsx\n",
      "D:\\Emaratech\\Work\\Residence Validity missmatch.xlsx\n",
      "D:\\Emaratech\\Work\\Residence Validity Updates.sql\n",
      "D:\\Emaratech\\Work\\Residence with dates missmatch.xlsx\n",
      "D:\\Emaratech\\Work\\Residence with dates missmatch.zip\n",
      "D:\\Emaratech\\Work\\Residence with dates missmatch_v(2).xlsx\n",
      "D:\\Emaratech\\Work\\Residence with dates missmatch_v(2).zip\n",
      "D:\\Emaratech\\Work\\Residence with wrong year.xlsx\n",
      "D:\\Emaratech\\Work\\ResidenceChangeSponsorshipEvent.xml\n",
      "D:\\Emaratech\\Work\\ResidencePermanentFileClosureEvent- IM209890.txt\n",
      "D:\\Emaratech\\Work\\Residences for closure.xlsx\n",
      "D:\\Emaratech\\Work\\Residences having active residence linked to passports which has same passport number linked to different nationalities.xls\n",
      "D:\\Emaratech\\Work\\Residences.txt\n",
      "D:\\Emaratech\\Work\\residence_status_type_lk.csv\n",
      "D:\\Emaratech\\Work\\residence_status_type_lk.xlsx\n",
      "D:\\Emaratech\\Work\\Residencies Missing EIDA in Vision  - 1st July 2019 - Sample.xlsx\n",
      "D:\\Emaratech\\Work\\Residencies Missing EIDA in Vision  - 1st July 2019.xls\n",
      "D:\\Emaratech\\Work\\Residencies Missing EIDA in Vision  - 1st July 2019.xlsx\n",
      "D:\\Emaratech\\Work\\Residency dates missmatch comparison v(3).csv\n",
      "D:\\Emaratech\\Work\\Residency with dates missmatch_v(3).xlsx\n",
      "D:\\Emaratech\\Work\\Resident Profile having Passport with multiple nationalities.xls\n",
      "D:\\Emaratech\\Work\\Resident Profile having Passport with multiple nationalities.xlsx\n",
      "D:\\Emaratech\\Work\\Resident Profile having Passport with multiple nationalities_v002.rar\n",
      "D:\\Emaratech\\Work\\Resident Profile having Passport with multiple nationalities_v002.xlsx\n",
      "D:\\Emaratech\\Work\\Resident Profile having Passport with multiple nationalities_v002.zip\n",
      "D:\\Emaratech\\Work\\Resident Profiles.xlsx\n",
      "D:\\Emaratech\\Work\\resident status.xls\n",
      "D:\\Emaratech\\Work\\residnce_details_1.xls\n",
      "D:\\Emaratech\\Work\\Resisdene dates missmatch comparison v(2).csv\n",
      "D:\\Emaratech\\Work\\Resisdene dates missmatch comparison.csv\n",
      "D:\\Emaratech\\Work\\RESI_MASTER.sql\n",
      "D:\\Emaratech\\Work\\RESI_MASTER.xls\n",
      "D:\\Emaratech\\Work\\res_closure_moi_outside_6months.html\n",
      "D:\\Emaratech\\Work\\res_consis_emailContent.html\n",
      "D:\\Emaratech\\Work\\res_details.csv\n",
      "D:\\Emaratech\\Work\\res_details_2.xls\n",
      "D:\\Emaratech\\Work\\Return Permit intake approved and Used.rar\n",
      "D:\\Emaratech\\Work\\Return Permit intake approved and Used.xls\n",
      "D:\\Emaratech\\Work\\return permit.csv\n",
      "D:\\Emaratech\\Work\\Revert Script2 - update vilation_paid date.txt\n",
      "D:\\Emaratech\\Work\\rideon.jpg\n",
      "D:\\Emaratech\\Work\\role user list.xlsx\n",
      "D:\\Emaratech\\Work\\role_creation_from_SQL NORMAL.sql\n",
      "D:\\Emaratech\\Work\\role_creation_from_SQL NORMAL_new.sql\n",
      "D:\\Emaratech\\Work\\role_creation_from_SQL.sql\n",
      "D:\\Emaratech\\Work\\role_privilege_bkp.sql\n",
      "D:\\Emaratech\\Work\\ROMOVE OTHER EMIRATES BAN.pdf\n",
      "D:\\Emaratech\\Work\\ROMOVE OTHER EMIRATES BAN.ppt\n",
      "D:\\Emaratech\\Work\\ROMOVE OTHER EMIRATES BAN.pptx\n",
      "D:\\Emaratech\\Work\\RSA renewal Jan 2019 stats.xls\n",
      "D:\\Emaratech\\Work\\RSA renewal Jan 2019 stats_v(002).xls\n",
      "D:\\Emaratech\\Work\\sample_html.html\n",
      "D:\\Emaratech\\Work\\sample_html_01.html\n",
      "D:\\Emaratech\\Work\\sample_indv_profile.json\n",
      "D:\\Emaratech\\Work\\SAS & Certificate of Entry and Exist - Q2 2019.jpg\n",
      "D:\\Emaratech\\Work\\SAVE_TRANSACTION_WITH_REJECT_REASON_FOR_AUDITING.sql\n",
      "D:\\Emaratech\\Work\\SC intake report _Daily (expected) (1).xlsx\n",
      "D:\\Emaratech\\Work\\SC intake report _Daily (expected).xlsx\n",
      "D:\\Emaratech\\Work\\SC intake report _Daily (expected)_v2.xlsx\n",
      "D:\\Emaratech\\Work\\sc prod payment reference number correction.sql\n",
      "D:\\Emaratech\\Work\\SCAN_20151210023935-page-001.jpg\n",
      "D:\\Emaratech\\Work\\SCAN_20151210023935.PDF\n",
      "D:\\Emaratech\\Work\\SCAN_20160118234913.PDF\n",
      "D:\\Emaratech\\Work\\sch.xlsx\n",
      "D:\\Emaratech\\Work\\schemas.txt\n",
      "D:\\Emaratech\\Work\\schengen calculation sheet.xlsx\n",
      "D:\\Emaratech\\Work\\Schengen permit status missmatch.xlsx\n",
      "D:\\Emaratech\\Work\\Schengen Permits invalid Permit status issue.xlsx\n",
      "D:\\Emaratech\\Work\\Schengen person with multiple active permits.xlsx\n",
      "D:\\Emaratech\\Work\\Schengen travels having active residency.xlsx\n",
      "D:\\Emaratech\\Work\\Schengen Violation Calc funtion - performance testing.sql\n",
      "D:\\Emaratech\\Work\\Schengen Violation Calc Queries.txt\n",
      "D:\\Emaratech\\Work\\Schengen Violation Calc Queries_20427170568040.sql\n",
      "D:\\Emaratech\\Work\\Schengen Violation Exemption.jpg\n",
      "D:\\Emaratech\\Work\\schengen visa pending stay days correction_v4.sql\n",
      "D:\\Emaratech\\Work\\Schengen-BrazilianOnArrival-Amnesty-TestCases.xlsx\n",
      "D:\\Emaratech\\Work\\Schengen-BrazilianOnArrival-Amnesty-TestCases_Stagging.xlsx\n",
      "D:\\Emaratech\\Work\\SchengenPermits.xlsx\n",
      "D:\\Emaratech\\Work\\Scirpt - Delete violation.txt\n",
      "D:\\Emaratech\\Work\\Scirpt - work permit establishent correction.sql\n",
      "D:\\Emaratech\\Work\\ScreenShot - Correct Violation.jpg\n",
      "D:\\Emaratech\\Work\\screenshot-udemy.png\n",
      "D:\\Emaratech\\Work\\screenshot.jpg\n",
      "D:\\Emaratech\\Work\\screenshotRDPaccess.jpg\n",
      "D:\\Emaratech\\Work\\ScreenShots - Q2 2019 - Reports.zip\n",
      "D:\\Emaratech\\Work\\Screenshots.zip\n",
      "D:\\Emaratech\\Work\\Script  - Correct EDNRD Violation Payment.sql\n",
      "D:\\Emaratech\\Work\\Script  - delete Activity.sql\n",
      "D:\\Emaratech\\Work\\Script  - Delete Violation Duplicates.sql\n",
      "D:\\Emaratech\\Work\\Script  - Delete Violation.sql\n",
      "D:\\Emaratech\\Work\\Script  - Delete violation.txt\n",
      "D:\\Emaratech\\Work\\Script  - ETL Failure.sql\n",
      "D:\\Emaratech\\Work\\Script  - ETL integration.txt\n",
      "D:\\Emaratech\\Work\\Script  - iqcs application update.sql\n",
      "D:\\Emaratech\\Work\\Script  - Payment paid created by 0 issue.txt\n",
      "D:\\Emaratech\\Work\\Script  - Permit Visa Type update.txt\n",
      "D:\\Emaratech\\Work\\Script  - Sync Profession Lk in FIS with Vision.sql\n",
      "D:\\Emaratech\\Work\\Script  - Update Violation.sql\n",
      "D:\\Emaratech\\Work\\Script (2).txt\n",
      "D:\\Emaratech\\Work\\Script (2)_update.txt\n",
      "D:\\Emaratech\\Work\\Script (intdb) - ETL issues - 18Feb2018.sql\n",
      "D:\\Emaratech\\Work\\Script (intdb) - ETL issues - 25Feb2018.sql\n",
      "D:\\Emaratech\\Work\\Script -  Delete Draft transactions from Establishment.txt\n",
      "D:\\Emaratech\\Work\\Script -  Delete Draft transactions from Establishment_correction.txt\n",
      "D:\\Emaratech\\Work\\Script -  Profession Mapping Insert.sql\n",
      "D:\\Emaratech\\Work\\Script -  Residence Renewal 20120073083755.txt\n",
      "D:\\Emaratech\\Work\\Script -  unmerge Profile.txt\n",
      "D:\\Emaratech\\Work\\Script - .Permit  - Entry  - Multiple travels  - Undo Previous Travel.txt\n",
      "D:\\Emaratech\\Work\\Script - .txt\n",
      "D:\\Emaratech\\Work\\Script - 21101484 Add estab to exemption table.sql\n",
      "D:\\Emaratech\\Work\\Script - 6 month Payment Load.sql\n",
      "D:\\Emaratech\\Work\\Script - Accompany corection.sql\n",
      "D:\\Emaratech\\Work\\Script - Accompnay individual person.sql\n",
      "D:\\Emaratech\\Work\\Script - Accompnay individual person.txt\n",
      "D:\\Emaratech\\Work\\Script - activiti Correction (1).sql\n",
      "D:\\Emaratech\\Work\\Script - activiti Correction.sql\n",
      "D:\\Emaratech\\Work\\Script - Activiti Deletion.txt\n",
      "D:\\Emaratech\\Work\\Script - Activiti Updates.sql\n",
      "D:\\Emaratech\\Work\\Script - Activity Backup.sql\n",
      "D:\\Emaratech\\Work\\Script - activity update.txt\n",
      "D:\\Emaratech\\Work\\Script - activity variable deletion.sql\n",
      "D:\\Emaratech\\Work\\Script - act_ru_variable.txt\n",
      "D:\\Emaratech\\Work\\Script - applicant gender correction.sql\n",
      "D:\\Emaratech\\Work\\Script - applicant name update.txt\n",
      "D:\\Emaratech\\Work\\Script - Applicant passport issue date update.txt\n",
      "D:\\Emaratech\\Work\\Script - Applicant Profession.sql\n",
      "D:\\Emaratech\\Work\\Script - application document correction.txt\n",
      "D:\\Emaratech\\Work\\Script - application document.txt\n",
      "D:\\Emaratech\\Work\\Script - Application iqcs update_Im104307.txt\n",
      "D:\\Emaratech\\Work\\Script - Application resent to echannel.sql\n",
      "D:\\Emaratech\\Work\\Script - Application status send back to echannel.txt\n",
      "D:\\Emaratech\\Work\\Script - application stcuk.sql\n",
      "D:\\Emaratech\\Work\\Script - Application stuck in integration.sql\n",
      "D:\\Emaratech\\Work\\Script - Application update MOL Visa.txt\n",
      "D:\\Emaratech\\Work\\Script - Application Update.sql\n",
      "D:\\Emaratech\\Work\\Script - Application User Disable.sql\n",
      "D:\\Emaratech\\Work\\Script - Application Warranty update.sql\n",
      "D:\\Emaratech\\Work\\Script - Apply estab quota.sql\n",
      "D:\\Emaratech\\Work\\Script - Archive lookup Values.sql\n",
      "D:\\Emaratech\\Work\\Script - Assign Privilege to users-Amnesty - (3).sql\n",
      "D:\\Emaratech\\Work\\Script - Assign Privilege to users-Amnesty.sql\n",
      "D:\\Emaratech\\Work\\Script - Assign Terminal for users.txt\n",
      "D:\\Emaratech\\Work\\Script - Assin Privilege to users - RESIDENCE_OUTSIDE_6MONTHS.sql\n",
      "D:\\Emaratech\\Work\\Script - Assin Privilege to users based on privilege_id - (2).sql\n",
      "D:\\Emaratech\\Work\\Script - Assin Privilege to users based on privilege_id - (3).sql\n",
      "D:\\Emaratech\\Work\\Script - Assin user role to users (2).sql\n",
      "D:\\Emaratech\\Work\\Script - Attach Accompnay.sql\n",
      "D:\\Emaratech\\Work\\Script - Batch Step Execution 1.sql\n",
      "D:\\Emaratech\\Work\\Script - Batch Step Execution.sql\n",
      "D:\\Emaratech\\Work\\script - BCLite changes.sql\n",
      "D:\\Emaratech\\Work\\Script - Birth country update.txt\n",
      "D:\\Emaratech\\Work\\Script - Birth Place Correction.sql\n",
      "D:\\Emaratech\\Work\\Script - Change Permit Status - Schengen.txt\n",
      "D:\\Emaratech\\Work\\Script - Change permit Status.txt\n",
      "D:\\Emaratech\\Work\\Script - Change Residence number to new number.txt\n",
      "D:\\Emaratech\\Work\\Script - Clear ETL Log Failure.txt\n",
      "D:\\Emaratech\\Work\\Script - client_mast.sql\n",
      "D:\\Emaratech\\Work\\Script - core update documen type.sql\n"
     ]
    },
    {
     "name": "stdout",
     "output_type": "stream",
     "text": [
      "D:\\Emaratech\\Work\\Script - correct Document.sql\n",
      "D:\\Emaratech\\Work\\Script - correct iqc application.sql\n",
      "D:\\Emaratech\\Work\\Script - Correct Permit profile.txt\n",
      "D:\\Emaratech\\Work\\Script - Correct Violation Days.sql\n",
      "D:\\Emaratech\\Work\\Script - correction.sql\n",
      "D:\\Emaratech\\Work\\Script - Correction.txt\n",
      "D:\\Emaratech\\Work\\Script - Create New Permit as Issued and Closure.sql\n",
      "D:\\Emaratech\\Work\\Script - Create Permit and travel from MOI_2013614056775.txt\n",
      "D:\\Emaratech\\Work\\Script - Create Permit and travel from MOI_5010714005831.txt\n",
      "D:\\Emaratech\\Work\\Script - Create User - HUSSAM_v2.sql\n",
      "D:\\Emaratech\\Work\\Script - Create Users - set2.sql\n",
      "D:\\Emaratech\\Work\\Script - Create Users.sql\n",
      "D:\\Emaratech\\Work\\Script - Created by 0 issue in payment table for profile pull cases - IM81934.txt\n",
      "D:\\Emaratech\\Work\\Script - Credit card Payment correction.txt\n",
      "D:\\Emaratech\\Work\\Script - creditcard payment update.txt\n",
      "D:\\Emaratech\\Work\\Script - Creditpayment issue.txt\n",
      "D:\\Emaratech\\Work\\Script - Custom Report Config Query.sql\n",
      "D:\\Emaratech\\Work\\Script - Custom Report Config.sql\n",
      "D:\\Emaratech\\Work\\Script - Del Sponsor and Reset Sequence.sql\n",
      "D:\\Emaratech\\Work\\Script - Del Violation.txt\n",
      "D:\\Emaratech\\Work\\Script - Delete Acitivty.txt\n",
      "D:\\Emaratech\\Work\\Script - Delete Activity Rec.txt\n",
      "D:\\Emaratech\\Work\\Script - Delete Dup id.sql\n",
      "D:\\Emaratech\\Work\\Script - Delete duplicate case party charge - NEW FIS.sql\n",
      "D:\\Emaratech\\Work\\Script - Delete duplicate permit transaction.txt\n",
      "D:\\Emaratech\\Work\\script - delete duplicate pps mapping in iqcs.txt\n",
      "D:\\Emaratech\\Work\\Script - Delete Duplicate Profile Document.sql\n",
      "D:\\Emaratech\\Work\\Script - Delete duplicate sponsor from IQC.txt\n",
      "D:\\Emaratech\\Work\\Script - Delete duplicate travel.txt\n",
      "D:\\Emaratech\\Work\\Script - Delete Establishment Application.sql\n",
      "D:\\Emaratech\\Work\\Script - Delete Establishment Application_backup.sql\n",
      "D:\\Emaratech\\Work\\Script - Delete in process application.txt\n",
      "D:\\Emaratech\\Work\\Script - Delete Individual sponsor.sql\n",
      "D:\\Emaratech\\Work\\Script - Delete Individual Uae ID duplicate.sql\n",
      "D:\\Emaratech\\Work\\Script - Delete indv udb.sql\n",
      "D:\\Emaratech\\Work\\Script - Delete New Born Violation .sql\n",
      "D:\\Emaratech\\Work\\Script - Delete Outpass Extension - IM81928.txt\n",
      "D:\\Emaratech\\Work\\Script - Delete Outpass Extension.txt\n",
      "D:\\Emaratech\\Work\\Script - Delete outpass violation and payment.txt\n",
      "D:\\Emaratech\\Work\\Script - delete permit partial cdc .sql\n",
      "D:\\Emaratech\\Work\\Script - delete permit transaction log duplicates.txt\n",
      "D:\\Emaratech\\Work\\Script - delete permit.sql\n",
      "D:\\Emaratech\\Work\\Script - delete Permit.txt\n",
      "D:\\Emaratech\\Work\\Script - delete privilege.sql\n",
      "D:\\Emaratech\\Work\\Script - Delete Residence and Permit Cancel.txt\n",
      "D:\\Emaratech\\Work\\Script - Delete Residence.sql\n",
      "D:\\Emaratech\\Work\\Script - Delete Travel Log.sql\n",
      "D:\\Emaratech\\Work\\Script - Delete User Privilege.sql\n",
      "D:\\Emaratech\\Work\\Script - Delete User terminal Info duplicates.sql\n",
      "D:\\Emaratech\\Work\\Script - delete violation (2).txt\n",
      "D:\\Emaratech\\Work\\Script - delete violation - (2) - correction.txt\n",
      "D:\\Emaratech\\Work\\Script - delete violation - (2).txt\n",
      "D:\\Emaratech\\Work\\Script - delete violation - (3).txt\n",
      "D:\\Emaratech\\Work\\Script - delete violation - (4).txt\n",
      "D:\\Emaratech\\Work\\Script - delete violation - (5).txt\n",
      "D:\\Emaratech\\Work\\Script - Delete Violation Eform.sql\n",
      "D:\\Emaratech\\Work\\Script - Delete Violation Paid duplicate .sql\n",
      "D:\\Emaratech\\Work\\Script - Delete violation sponsor.sql\n",
      "D:\\Emaratech\\Work\\Script - delete violation.txt\n",
      "D:\\Emaratech\\Work\\Script - Delete VST User Privilege.sql\n",
      "D:\\Emaratech\\Work\\Script - delete warranty payment.txt\n",
      "D:\\Emaratech\\Work\\Script - Deploy After Tonight Release - 10th Aug 2018 12AM.sql\n",
      "D:\\Emaratech\\Work\\Script - Deploy Tomorrow Night - 10th Aug 2018 11 30 PM.sql\n",
      "D:\\Emaratech\\Work\\Script - disable L2Support user.sql\n",
      "D:\\Emaratech\\Work\\Script - document mapping issue.sql\n",
      "D:\\Emaratech\\Work\\Script - document mapping issue_2.sql\n",
      "D:\\Emaratech\\Work\\Script - Document reference thumb update.sql\n",
      "D:\\Emaratech\\Work\\Script - Document type id null.sql\n",
      "D:\\Emaratech\\Work\\Script - document update.sql\n",
      "D:\\Emaratech\\Work\\Script - Double records in travel detail for pps_id.txt\n",
      "D:\\Emaratech\\Work\\Script - Dummy violation payment.txt\n",
      "D:\\Emaratech\\Work\\Script - Duplicate travels.txt\n",
      "D:\\Emaratech\\Work\\Script - Echannel Request Re-pick.sql\n",
      "D:\\Emaratech\\Work\\Script - Echannel Request.txt\n",
      "D:\\Emaratech\\Work\\Script - ednrd app document missing.sql\n",
      "D:\\Emaratech\\Work\\Script - ednrd app repick etl.sql\n",
      "D:\\Emaratech\\Work\\Script - Ednrd App status Module Issue.sql\n",
      "D:\\Emaratech\\Work\\Script - ednrd applications reposting - sponsor visit and pp verification pending.sql\n",
      "D:\\Emaratech\\Work\\Script - ednrd ETL document missing.txt\n",
      "D:\\Emaratech\\Work\\Script - Ednrd Insert Online User.sql\n",
      "D:\\Emaratech\\Work\\Script - Ednrd More documents application issue.sql\n",
      "D:\\Emaratech\\Work\\Script - Eform delete violation.sql\n",
      "D:\\Emaratech\\Work\\Script - Eform New Born violation.sql\n",
      "D:\\Emaratech\\Work\\Script - Eform Re-Pick Application.txt\n",
      "D:\\Emaratech\\Work\\Script - Eform Repick Application.txt\n",
      "D:\\Emaratech\\Work\\Script - Eform replication closed file.txt\n",
      "D:\\Emaratech\\Work\\Script - Eform Serial Mapping Error.sql\n",
      "D:\\Emaratech\\Work\\Script - Eform Value Mapping.sql\n",
      "D:\\Emaratech\\Work\\Script - Eform violation update.sql\n",
      "D:\\Emaratech\\Work\\Script - Eform Warranty Update.txt\n",
      "D:\\Emaratech\\Work\\Script - Embassy event details(1).sql\n",
      "D:\\Emaratech\\Work\\Script - Embassy event details.sql\n",
      "D:\\Emaratech\\Work\\Script - Emirates department lk.sql\n",
      "D:\\Emaratech\\Work\\Script - employee.sql\n",
      "D:\\Emaratech\\Work\\Script - Error log.txt\n",
      "D:\\Emaratech\\Work\\Script - ESB undo travel errors.txt\n",
      "D:\\Emaratech\\Work\\Script - Estab Arabic Update.sql\n",
      "D:\\Emaratech\\Work\\Script - Estab Name AR sync.sql\n",
      "D:\\Emaratech\\Work\\Script - estab Name correction.sql\n",
      "D:\\Emaratech\\Work\\Script - estab pro.sql\n",
      "D:\\Emaratech\\Work\\Script - Estab Quota Consumption Update .sql\n",
      "D:\\Emaratech\\Work\\Script - Estab user activate.sql\n",
      "D:\\Emaratech\\Work\\Script - Establishment Deletion-estcode - 30101217112.sql\n",
      "D:\\Emaratech\\Work\\Script - Establishment Deletion.sql\n",
      "D:\\Emaratech\\Work\\Script - Establishment Deletion_BACKUP-ESTCODE-30101217112.sql\n",
      "D:\\Emaratech\\Work\\Script - Establishment Profile Creation.sql\n",
      "D:\\Emaratech\\Work\\Script - Establishment Profile Name Space Correction.sql\n",
      "D:\\Emaratech\\Work\\Script - Establishment Sponsor Change.sql\n",
      "D:\\Emaratech\\Work\\Script - Establishment Trans.sql\n",
      "D:\\Emaratech\\Work\\Script - establishment trans.txt\n",
      "D:\\Emaratech\\Work\\Script - ETL - VisionCore - 4 Dec 2017.sql\n",
      "D:\\Emaratech\\Work\\Script - ETL - VisionCore - 6 Dec 2017.sql\n",
      "D:\\Emaratech\\Work\\Script - ETL - VisionCore.sql\n",
      "D:\\Emaratech\\Work\\Script - ETL application repost.sql\n",
      "D:\\Emaratech\\Work\\Script - ETL errors.txt\n",
      "D:\\Emaratech\\Work\\Script - ETl Failure - 01Oct2017.sql\n",
      "D:\\Emaratech\\Work\\Script - ETl Failure - 02Oct2017.sql\n",
      "D:\\Emaratech\\Work\\Script - ETL Failure - 03 Mar 2019.sql\n",
      "D:\\Emaratech\\Work\\Script - ETl Failure - 03Oct2017.sql\n",
      "D:\\Emaratech\\Work\\Script - ETl Failure - 03Oct2017_.sql\n",
      "D:\\Emaratech\\Work\\Script - ETL Failure - 04 Mar 2019.sql\n",
      "D:\\Emaratech\\Work\\Script - ETl Failure - 04June2018.sql\n",
      "D:\\Emaratech\\Work\\Script - ETl Failure - 04Oct2017.sql\n",
      "D:\\Emaratech\\Work\\Script - ETl Failure - 04Sep2017.sql\n",
      "D:\\Emaratech\\Work\\Script - ETL Failure - 05 Mar 2019.sql\n",
      "D:\\Emaratech\\Work\\Script - ETl Failure - 05 Nov 2017(2).sql\n",
      "D:\\Emaratech\\Work\\Script - ETl Failure - 05 Nov 2017.sql\n",
      "D:\\Emaratech\\Work\\Script - ETl Failure - 05Oct2017.sql\n",
      "D:\\Emaratech\\Work\\Script - ETl Failure - 05Sep2017.sql\n",
      "D:\\Emaratech\\Work\\Script - ETl Failure - 06Sep2017 -2.sql\n",
      "D:\\Emaratech\\Work\\Script - ETL Failure - 07 Mar 2019.sql\n",
      "D:\\Emaratech\\Work\\Script - ETl Failure - 07 Nov 2017(1).sql\n",
      "D:\\Emaratech\\Work\\Script - ETl Failure - 08 Nov 2017.sql\n",
      "D:\\Emaratech\\Work\\Script - ETl Failure - 08Oct2017.sql\n",
      "D:\\Emaratech\\Work\\Script - ETl Failure - 09 Nov 2017(1).sql\n",
      "D:\\Emaratech\\Work\\Script - ETl Failure - 09Oct2017.sql\n",
      "D:\\Emaratech\\Work\\Script - ETl Failure - 10Oct2017.sql\n",
      "D:\\Emaratech\\Work\\Script - ETl Failure - 10Sep2017.sql\n",
      "D:\\Emaratech\\Work\\Script - ETL Failure - 11 Mar 2019.sql\n",
      "D:\\Emaratech\\Work\\Script - ETl Failure - 11Oct2017.sql\n",
      "D:\\Emaratech\\Work\\Script - ETl Failure - 11Sep2017.sql\n",
      "D:\\Emaratech\\Work\\Script - ETl Failure - 12Oct2017.sql\n",
      "D:\\Emaratech\\Work\\Script - ETl Failure - 12Sep2017.sql\n",
      "D:\\Emaratech\\Work\\Script - ETl Failure - 13Nov2017.sql\n",
      "D:\\Emaratech\\Work\\Script - ETl Failure - 15Oct2017.sql\n",
      "D:\\Emaratech\\Work\\Script - ETl Failure - 16 Nov 2017.sql\n",
      "D:\\Emaratech\\Work\\Script - ETl Failure - 16Oct2017.sql\n",
      "D:\\Emaratech\\Work\\Script - ETl Failure - 17Oct2017.sql\n",
      "D:\\Emaratech\\Work\\Script - ETl Failure - 17Sep2017.sql\n",
      "D:\\Emaratech\\Work\\Script - ETl Failure - 18Sep2017.sql\n",
      "D:\\Emaratech\\Work\\Script - ETl Failure - 19Sep2017.sql\n",
      "D:\\Emaratech\\Work\\Script - ETl Failure - 20Oct2017.sql\n",
      "D:\\Emaratech\\Work\\Script - ETl Failure - 20Oct2017_2.sql\n",
      "D:\\Emaratech\\Work\\Script - ETl Failure - 24Sep2017.sql\n",
      "D:\\Emaratech\\Work\\Script - ETl Failure - 25Oct2017.sql\n",
      "D:\\Emaratech\\Work\\Script - ETl Failure - 25Sep2017.sql\n",
      "D:\\Emaratech\\Work\\Script - ETL Failure - 26 Feb 2019.sql\n",
      "D:\\Emaratech\\Work\\Script - ETL Failure - 27 Feb 2019.sql\n",
      "D:\\Emaratech\\Work\\Script - ETl Failure - 28Aug2017.sql\n",
      "D:\\Emaratech\\Work\\Script - ETl Failure - 28Sep2017.sql\n",
      "D:\\Emaratech\\Work\\Script - ETL Failure - 31 Mar 2019.sql\n",
      "D:\\Emaratech\\Work\\Script - Etl failure.sql\n",
      "D:\\Emaratech\\Work\\Script - ETL failure.txt\n",
      "D:\\Emaratech\\Work\\Script - ETL Failures  - 29 May 2019.sql\n",
      "D:\\Emaratech\\Work\\Script - ETL Failures  - 30 May 2019.sql\n",
      "D:\\Emaratech\\Work\\Script - ETL Failures - 11 Nov 2017.sql\n",
      "D:\\Emaratech\\Work\\Script - ETL Failures- 18Dec2016.txt\n",
      "D:\\Emaratech\\Work\\Script - ETL Failures.sql\n",
      "D:\\Emaratech\\Work\\Script - ETL Failures_GCC Fee Exemption.sql\n",
      "D:\\Emaratech\\Work\\Script - ETl issue - Serial mapping.sql\n",
      "D:\\Emaratech\\Work\\Script - ETL issue 22Dec2016-Set1.txt\n",
      "D:\\Emaratech\\Work\\Script - ETL issue 22Dec2016-Set2.txt\n",
      "D:\\Emaratech\\Work\\Script - ETL issue.sql\n",
      "D:\\Emaratech\\Work\\Script - ETL issue.txt\n",
      "D:\\Emaratech\\Work\\Script - ETL issues 08Mar2017 -set2.txt\n",
      "D:\\Emaratech\\Work\\Script - ETL issues 08Mar2017 -set3.txt\n",
      "D:\\Emaratech\\Work\\Script - ETL issues 09Mar2017 -set1.txt\n",
      "D:\\Emaratech\\Work\\Script - ETL issues 09Mar2017 -set2.txt\n",
      "D:\\Emaratech\\Work\\Script - ETL issues 13Mar2017 -set1.txt\n",
      "D:\\Emaratech\\Work\\Script - ETL issues.sql\n",
      "D:\\Emaratech\\Work\\Script - ETL issues.txt\n",
      "D:\\Emaratech\\Work\\Script - ETL issue_new.txt\n",
      "D:\\Emaratech\\Work\\Script - ETL Re-pick application - 21 May 2019.sql\n",
      "D:\\Emaratech\\Work\\Script - ETL Re-pick application - 23 May 2019.sql\n",
      "D:\\Emaratech\\Work\\Script - ETL Re-pick application - appno34801803.sql\n",
      "D:\\Emaratech\\Work\\Script - ETL Re-pick application - appno34827319, 34826772, 34826624.sql\n",
      "D:\\Emaratech\\Work\\Script - ETL Re-pick application - appno34848341.sql\n",
      "D:\\Emaratech\\Work\\Script - ETL Re-pick application - appno34852126,34988194,34983270,34946434.sql\n",
      "D:\\Emaratech\\Work\\Script - ETL Re-pick application - appno34950297,34950863.sql\n",
      "D:\\Emaratech\\Work\\Script - ETL Re-pick application - appno34958277.sql\n",
      "D:\\Emaratech\\Work\\Script - ETL re-pick.sql\n",
      "D:\\Emaratech\\Work\\Script - ETL repick.sql\n",
      "D:\\Emaratech\\Work\\Script - ETL repick.txt\n",
      "D:\\Emaratech\\Work\\Script - ETL skip apps.sql\n",
      "D:\\Emaratech\\Work\\Script - ETL Value mapping missing - 1.txt\n",
      "D:\\Emaratech\\Work\\Script - ETL Value mapping missing.txt\n",
      "D:\\Emaratech\\Work\\Script - ETL Value Mapping.txt\n",
      "D:\\Emaratech\\Work\\Script - fee type update.sql\n",
      "D:\\Emaratech\\Work\\Script - firstTime traveller.sql\n",
      "D:\\Emaratech\\Work\\Script - HC privilege.txt\n",
      "D:\\Emaratech\\Work\\Script - IM122545.sql\n",
      "D:\\Emaratech\\Work\\Script - IM122545.sql.txt\n",
      "D:\\Emaratech\\Work\\Script - Individual Contact(3).sql\n",
      "D:\\Emaratech\\Work\\Script - Individual Contact(4).sql\n",
      "D:\\Emaratech\\Work\\Script - Individual Contact(5).sql\n",
      "D:\\Emaratech\\Work\\Script - Individual Contact.sql\n",
      "D:\\Emaratech\\Work\\Script - individual contact.txt\n",
      "D:\\Emaratech\\Work\\Script - Individual person no is operational change.txt\n",
      "D:\\Emaratech\\Work\\Script - individual person no.txt\n",
      "D:\\Emaratech\\Work\\Script - Individual Sponsor Active.txt\n",
      "D:\\Emaratech\\Work\\Script - Individual UAE id - IM104773.sql\n",
      "D:\\Emaratech\\Work\\Script - Individual UAE ID fileds.sql\n",
      "D:\\Emaratech\\Work\\Script - Individual_sponsor_no Insert.txt\n",
      "D:\\Emaratech\\Work\\Script - Individual_sponsor_no update.txt\n",
      "D:\\Emaratech\\Work\\Script - Insert Accompnay Passport Person Info.sql\n",
      "D:\\Emaratech\\Work\\Script - Insert Application fee - req by Khurram - app_no 201820103777888.sql\n",
      "D:\\Emaratech\\Work\\Script - Insert Credit Card payment.sql\n",
      "D:\\Emaratech\\Work\\Script - Insert Dummy violation.sql\n",
      "D:\\Emaratech\\Work\\Script - Insert Individual Language.txt\n",
      "D:\\Emaratech\\Work\\Script - Insert NSD REQUEST.sql\n",
      "D:\\Emaratech\\Work\\Script - Insert Permit Transaction Outpass.sql\n",
      "D:\\Emaratech\\Work\\Script - Insert Travel.txt\n",
      "D:\\Emaratech\\Work\\Script - Insert Violation Payment.sql\n",
      "D:\\Emaratech\\Work\\Script - Insert Zajel Application fee - req by Khurram - app_no 201820103815328.sql\n",
      "D:\\Emaratech\\Work\\Script - intdb.txt\n",
      "D:\\Emaratech\\Work\\Script - IQC Applicant.sql\n",
      "D:\\Emaratech\\Work\\Script - IQC Application correction.sql\n",
      "D:\\Emaratech\\Work\\Script - iqc app_poolar.sql\n",
      "D:\\Emaratech\\Work\\Script - IQC duplicate sponsor.txt\n",
      "D:\\Emaratech\\Work\\Script - IQC Rejected Application status post to vision.txt\n",
      "D:\\Emaratech\\Work\\Script - IQC remove group id.txt\n",
      "D:\\Emaratech\\Work\\Script - IQCS Accompnay Insert.sql\n",
      "D:\\Emaratech\\Work\\Script - IRIS enrollment privilege to all BC user.sql\n",
      "D:\\Emaratech\\Work\\Script - Is operational Analysis.sql\n",
      "D:\\Emaratech\\Work\\Script - Job closure job.txt\n",
      "D:\\Emaratech\\Work\\Script - job Execution.sql\n",
      "D:\\Emaratech\\Work\\Script - Junk document Deleteion.sql\n",
      "D:\\Emaratech\\Work\\Script - Labout Card junk.txt\n",
      "D:\\Emaratech\\Work\\Script - Licensing autority name correction.txt\n",
      "D:\\Emaratech\\Work\\Script - Licensing autority update.sql\n",
      "D:\\Emaratech\\Work\\Script - Lift Permit closure  in process application.txt\n",
      "D:\\Emaratech\\Work\\Script - Lift permit closure - 1520216020625.txt\n",
      "D:\\Emaratech\\Work\\Script - Lift permit closure - 2010215726085.txt\n",
      "D:\\Emaratech\\Work\\Script - Lift permit closure - 2142716848975.txt\n",
      "D:\\Emaratech\\Work\\Script - Lift permit closure - Schenegn.txt\n",
      "D:\\Emaratech\\Work\\Script - Lift permit closure -2143516000417.txt\n",
      "D:\\Emaratech\\Work\\Script - Lift permit closure 1.txt\n",
      "D:\\Emaratech\\Work\\Script - Lift Permit Closure MOI visas.txt\n",
      "D:\\Emaratech\\Work\\Script - Lift permit closure.txt\n",
      "D:\\Emaratech\\Work\\Script - Lift Permit Closure_2017716136329.sql\n",
      "D:\\Emaratech\\Work\\Script - Lift Residence Cancellation- 20120143143543.txt\n",
      "D:\\Emaratech\\Work\\Script - Lift Residence Cancellation.txt\n",
      "D:\\Emaratech\\Work\\Script - Lift Residence Closure - 20120133078426.txt\n",
      "D:\\Emaratech\\Work\\Script - Lift Residence Closure - 20120143212421.txt\n",
      "D:\\Emaratech\\Work\\Script - Lift Residence Closure - 40120143009860 .txt\n",
      "D:\\Emaratech\\Work\\Script - Lift Residence Closure - 40120143009861.txt\n",
      "D:\\Emaratech\\Work\\Script - Lift Residence Closure_20120083174606.txt\n",
      "D:\\Emaratech\\Work\\Script - Link Accompany to Residence.sql\n",
      "D:\\Emaratech\\Work\\Script - Mark Profile Merge Duplicate Records.sql\n",
      "D:\\Emaratech\\Work\\Script - Merge Profile.sql\n",
      "D:\\Emaratech\\Work\\Script - Merge Request Repush.sql\n",
      "D:\\Emaratech\\Work\\Script - Merge Travel.txt\n",
      "D:\\Emaratech\\Work\\Script - Missing Doc ref Id - require more docs issue.sql\n",
      "D:\\Emaratech\\Work\\Script - Missing permit Detail Records.sql\n",
      "D:\\Emaratech\\Work\\Script - MOI Permit validity Correction.txt\n",
      "D:\\Emaratech\\Work\\Script - MOI sponsor correction to Dubai Sponsor file.sql\n",
      "D:\\Emaratech\\Work\\Script - MOL Permit Header Establishment Code.txt\n",
      "D:\\Emaratech\\Work\\Script - New FIS User Lock Issue.sql\n",
      "D:\\Emaratech\\Work\\Script - Nge Preclearance user privilege.txt\n",
      "D:\\Emaratech\\Work\\Script - NSD Application Document issue.sql\n",
      "D:\\Emaratech\\Work\\Script - NSD application.txt\n",
      "D:\\Emaratech\\Work\\Script - NSD Lock Reset.sql\n",
      "D:\\Emaratech\\Work\\Script - NSD Pending - Update App status sub type - In progress.sql\n",
      "D:\\Emaratech\\Work\\Script - On Arrival status change.txt\n",
      "D:\\Emaratech\\Work\\Script - Outpass Application fee deletion.sql\n",
      "D:\\Emaratech\\Work\\Script - Outpass Appplication Insert.sql\n",
      "D:\\Emaratech\\Work\\Script - outpass closure_201620100042764.txt\n",
      "D:\\Emaratech\\Work\\Script - outpass closure_201620100090099.txt\n",
      "D:\\Emaratech\\Work\\Script - outpass closure_201620100090100.txt\n",
      "D:\\Emaratech\\Work\\Script - outpass closure_201640100011711.txt\n",
      "D:\\Emaratech\\Work\\Script - outpass.txt\n",
      "D:\\Emaratech\\Work\\Script - Passport Correction.sql\n",
      "D:\\Emaratech\\Work\\Script - Passport Nat update 17429265.txt\n",
      "D:\\Emaratech\\Work\\Script - Passport Nat update.txt\n",
      "D:\\Emaratech\\Work\\Script - Passport No Caps update 22325196.txt\n",
      "D:\\Emaratech\\Work\\Script - passport person info inserts.sql\n",
      "D:\\Emaratech\\Work\\Script - Passport PPS Update.sql\n",
      "D:\\Emaratech\\Work\\Script - Passport update _IM103146.txt\n",
      "D:\\Emaratech\\Work\\Script - Passport update _IM95937.txt\n",
      "D:\\Emaratech\\Work\\Script - Passport Update.sql\n",
      "D:\\Emaratech\\Work\\Script - passport.txt\n",
      "D:\\Emaratech\\Work\\Script - payment - new.txt\n",
      "D:\\Emaratech\\Work\\Script - payment user update.txt\n",
      "D:\\Emaratech\\Work\\Script - Permit  MOL Cancellation Application udpate.txt\n",
      "D:\\Emaratech\\Work\\Script - Permit and Residence profile change.txt\n",
      "D:\\Emaratech\\Work\\Script - Permit Closure -  Job Failure.txt\n",
      "D:\\Emaratech\\Work\\Script - Permit Closure - 2144916146712.txt\n",
      "D:\\Emaratech\\Work\\Script - Permit Closure - outpass closed.txt\n",
      "D:\\Emaratech\\Work\\Script - Permit closure 2010714904232.txt\n",
      "D:\\Emaratech\\Work\\Script - Permit closure Bulk.txt\n",
      "D:\\Emaratech\\Work\\Script - Permit closure restart.txt\n",
      "D:\\Emaratech\\Work\\Script - permit closure-1571115008441.txt\n",
      "D:\\Emaratech\\Work\\Script - permit closure-1571115011992.txt\n",
      "D:\\Emaratech\\Work\\Script - permit closure-old onarrival permits.txt\n",
      "D:\\Emaratech\\Work\\Script - permit closure.txt\n",
      "D:\\Emaratech\\Work\\Script - Permit Correction.sql\n",
      "D:\\Emaratech\\Work\\Script - Permit deletion.txt\n",
      "D:\\Emaratech\\Work\\Script - Permit Passport Update.sql\n",
      "D:\\Emaratech\\Work\\Script - Permit profile change.txt\n",
      "D:\\Emaratech\\Work\\Script - permit status cancel after entry.txt\n",
      "D:\\Emaratech\\Work\\Script - Permit Status Change - 2082715216835.txt\n",
      "D:\\Emaratech\\Work\\Script - Permit status Issued and Person inside country.txt\n",
      "D:\\Emaratech\\Work\\Script - permit Transaction Update.sql\n",
      "D:\\Emaratech\\Work\\Script - Permit update.txt\n",
      "D:\\Emaratech\\Work\\Script - permit validity update.txt\n",
      "D:\\Emaratech\\Work\\Script - Permit-Residence profile re-assign.txt\n",
      "D:\\Emaratech\\Work\\Script - Permit2 closure.txt\n",
      "D:\\Emaratech\\Work\\Script - person info undate.txt\n",
      "D:\\Emaratech\\Work\\Script - pps_merge.txt\n",
      "D:\\Emaratech\\Work\\Script - Pre-clearance Privilege- v2.txt\n",
      "D:\\Emaratech\\Work\\Script - Pre-clearance Privilege.txt\n",
      "D:\\Emaratech\\Work\\Script - Pre-clearance Privilege_all.txt\n",
      "D:\\Emaratech\\Work\\Script - Pre-clearance.sql\n",
      "D:\\Emaratech\\Work\\Script - Pre-clearance_v2.sql\n",
      "D:\\Emaratech\\Work\\Script - Privilege Arabic update.sql\n",
      "D:\\Emaratech\\Work\\Script - PRO.txt\n",
      "D:\\Emaratech\\Work\\Script - Profession ETL mapping.txt\n",
      "D:\\Emaratech\\Work\\Script - Profession ETL mapping_1.txt\n",
      "D:\\Emaratech\\Work\\Script - Profession Insert.sql\n",
      "D:\\Emaratech\\Work\\Script - Profession Update - 3.sql\n",
      "D:\\Emaratech\\Work\\Script - Profession Update.sql\n",
      "D:\\Emaratech\\Work\\Script - Proffile Merge Error.txt\n",
      "D:\\Emaratech\\Work\\Script - Profile Merge Incomplete - 1.txt\n",
      "D:\\Emaratech\\Work\\Script - Profile Merge Incomplete.txt\n",
      "D:\\Emaratech\\Work\\Script - Profile Merge Incomplete_correction.txt\n",
      "D:\\Emaratech\\Work\\Script - Profile Merge Re-pick Failure.sql\n",
      "D:\\Emaratech\\Work\\Script - profile pull bypass time.txt\n",
      "D:\\Emaratech\\Work\\Script - Profile Pull Wrong Transaction Update.sql\n",
      "D:\\Emaratech\\Work\\Script - ProfilePull Bypass Timing.txt\n",
      "D:\\Emaratech\\Work\\Script - ProfilePull Bypass Timing_2.txt\n",
      "D:\\Emaratech\\Work\\Script - ProfilePull disable 11.sql\n",
      "D:\\Emaratech\\Work\\Script - ProfilePull Travel comparison with VBC and NGE.sql\n",
      "D:\\Emaratech\\Work\\Script - Re-post IQC Application Res Year Issue.sql\n",
      "D:\\Emaratech\\Work\\Script - Re-submit application.txt\n",
      "D:\\Emaratech\\Work\\Script - Re-submit Eform Application.sql\n",
      "D:\\Emaratech\\Work\\Script - Recall Application Issue - (2).sql\n",
      "D:\\Emaratech\\Work\\Script - Recall Application Issue - (3).sql\n",
      "D:\\Emaratech\\Work\\Script - Recall Application Issue - (4).sql\n",
      "D:\\Emaratech\\Work\\Script - Recall Application Issue - (5).sql\n",
      "D:\\Emaratech\\Work\\Script - Recall Application Issue.sql\n",
      "D:\\Emaratech\\Work\\Script - Reject IQC application .sql\n",
      "D:\\Emaratech\\Work\\Script - REject Merge Cases.txt\n",
      "D:\\Emaratech\\Work\\Script - Reject Vision Application.txt\n",
      "D:\\Emaratech\\Work\\Script - Remove Add Mast Duplicates.sql\n",
      "D:\\Emaratech\\Work\\Script - Remove duplicate payment.txt\n",
      "D:\\Emaratech\\Work\\Script - remove duplicate violation payment - new.txt\n",
      "D:\\Emaratech\\Work\\Script - Remove individual address Duplication.txt\n",
      "D:\\Emaratech\\Work\\Script - remove individual contact duplicates.txt\n",
      "D:\\Emaratech\\Work\\Script - Remove Privilege.sql\n",
      "D:\\Emaratech\\Work\\Script - remove user role & user id update.txt\n",
      "D:\\Emaratech\\Work\\Script - Remove User-Role Privilege.sql\n",
      "D:\\Emaratech\\Work\\Script - Repick application in ETL.txt\n",
      "D:\\Emaratech\\Work\\Script - Repick application in ETL1.txt\n",
      "D:\\Emaratech\\Work\\Script - Repick application.txt\n",
      "D:\\Emaratech\\Work\\Script - Replicate Violation Paid - Job seeker Visa - (003).sql\n",
      "D:\\Emaratech\\Work\\Script - Replicate Violation Paid - Job seeker Visa.sql\n",
      "D:\\Emaratech\\Work\\Script - Report script.sql\n",
      "D:\\Emaratech\\Work\\Script - Rerun Eform application in ETL.txt\n",
      "D:\\Emaratech\\Work\\Script - Resend App status to Echannel - (1).txt\n",
      "D:\\Emaratech\\Work\\Script - Resend App status to Echannel - (2).txt\n",
      "D:\\Emaratech\\Work\\Script - Resend App status to Echannel - (3).txt\n",
      "D:\\Emaratech\\Work\\Script - Resend App status to Echannel.txt\n",
      "D:\\Emaratech\\Work\\Script - Resend Application from IQC to Echannel.txt\n",
      "D:\\Emaratech\\Work\\script - Reset application pick flag - ednrd appln - visa type 49 - app_type 1.txt\n",
      "D:\\Emaratech\\Work\\Script - Reset Flag to update validity for violation payment.txt\n",
      "D:\\Emaratech\\Work\\Script - Residence Closure - 30120153020082.txt\n",
      "D:\\Emaratech\\Work\\Script - Residence Closure - outpass closed.txt\n",
      "D:\\Emaratech\\Work\\Script - Residence Closure.txt\n",
      "D:\\Emaratech\\Work\\Script - Residence Correction.sql\n",
      "D:\\Emaratech\\Work\\Script - Residence Passport Update.sql\n",
      "D:\\Emaratech\\Work\\Script - Residence passport update.txt\n",
      "D:\\Emaratech\\Work\\Script - Residence passport update_REVERT(EXECUTE ONLY ON REQUEST).txt\n",
      "D:\\Emaratech\\Work\\Script - Residence Relationship Update.sql\n",
      "D:\\Emaratech\\Work\\Script - Residence Renewal Update - 20120107205705.txt\n",
      "D:\\Emaratech\\Work\\Script - Residence res type and visa type update.txt\n",
      "D:\\Emaratech\\Work\\Script - Residence Sponsor Update.txt\n",
      "D:\\Emaratech\\Work\\Script - Residence Type Update.sql\n",
      "D:\\Emaratech\\Work\\Script - Residence Update - (7) .sql\n",
      "D:\\Emaratech\\Work\\Script - Residence Update - 20120153187499.txt\n",
      "D:\\Emaratech\\Work\\Script - Residence Validity Update 20120083131776.txt\n",
      "D:\\Emaratech\\Work\\Script - Residence Validity Update _.txt\n",
      "D:\\Emaratech\\Work\\Script - Residence Validity Update _20119920016224.sql\n",
      "D:\\Emaratech\\Work\\Script - Residence Validity Update _20120167111992.txt\n",
      "D:\\Emaratech\\Work\\Script - Residence validity update.txt\n",
      "D:\\Emaratech\\Work\\Script - Restart Job.sql\n",
      "D:\\Emaratech\\Work\\Script - Restore last Travel from Log to TRAVEL_DETAIL table_3017717237944.sql\n",
      "D:\\Emaratech\\Work\\Script - Restore Passport Info.sql\n",
      "D:\\Emaratech\\Work\\Script - Restore Passport Info_1.sql\n",
      "D:\\Emaratech\\Work\\Script - Restore Profile.sql\n",
      "D:\\Emaratech\\Work\\Script - Restore Residence Renewal.txt\n",
      "D:\\Emaratech\\Work\\Script - Restore VST_USER_PRIVILEGE.sql\n",
      "D:\\Emaratech\\Work\\Script - Resubmit application to echannel.sql\n",
      "D:\\Emaratech\\Work\\Script - Revert privilege.txt\n",
      "D:\\Emaratech\\Work\\Script - Revert Revison Archival - v(2).sql\n",
      "D:\\Emaratech\\Work\\Script - Revert Revison Archival.sql\n",
      "D:\\Emaratech\\Work\\Script - Revoke privilege.txt\n",
      "D:\\Emaratech\\Work\\Script - Role Privilege - 813 814 backup.sql\n",
      "D:\\Emaratech\\Work\\Script - seq and travel_override rule BL.txt\n",
      "D:\\Emaratech\\Work\\Script - SEQ_ESTCODE_ESTTP1 Bump Job.sql\n",
      "D:\\Emaratech\\Work\\Script - Settle EDNRD ETL APP Status.sql\n",
      "D:\\Emaratech\\Work\\Script - Settle Travel.sql\n",
      "D:\\Emaratech\\Work\\Script - Sponsor Correction - In Progress apps.sql\n",
      "D:\\Emaratech\\Work\\Script - Sponsor Correction .sql\n",
      "D:\\Emaratech\\Work\\Script - Sponsor File to Establishment transfer with residence type change.sql\n",
      "D:\\Emaratech\\Work\\Script - Stop Job execution.sql\n",
      "D:\\Emaratech\\Work\\Script - Sync IQC status.sql\n",
      "D:\\Emaratech\\Work\\Script - T2 pre-clearance privileges.txt\n",
      "D:\\Emaratech\\Work\\Script - Temp Closure Reports.sql\n",
      "D:\\Emaratech\\Work\\Script - Temp Closure Reports.txt\n",
      "D:\\Emaratech\\Work\\Script - Temp Table For Individual Person No De-duplication.sql\n",
      "D:\\Emaratech\\Work\\Script - Temporary Work Card Closure.sql\n",
      "D:\\Emaratech\\Work\\Script - terminal.sql\n",
      "D:\\Emaratech\\Work\\Script - Travel Correction.sql\n",
      "D:\\Emaratech\\Work\\Script - Travel correction.txt\n",
      "D:\\Emaratech\\Work\\Script - Travel Detail Port Update.sql\n",
      "D:\\Emaratech\\Work\\Script - travel license trans.sql\n"
     ]
    },
    {
     "name": "stdout",
     "output_type": "stream",
     "text": [
      "D:\\Emaratech\\Work\\Script - Travel Merge and Legality update.txt\n",
      "D:\\Emaratech\\Work\\Script - Travel Port Correction.sql\n",
      "D:\\Emaratech\\Work\\Script - Travel settlement.txt\n",
      "D:\\Emaratech\\Work\\Script - udpate.txt\n",
      "D:\\Emaratech\\Work\\Script - Un Merge profile.txt\n",
      "D:\\Emaratech\\Work\\Script - Un-Merge profile.sql\n",
      "D:\\Emaratech\\Work\\Script - Undo Last entry.txt\n",
      "D:\\Emaratech\\Work\\Script - Undo Outpass Fee Only.sql\n",
      "D:\\Emaratech\\Work\\Script - Undo Outpass violation and payment.txt\n",
      "D:\\Emaratech\\Work\\Script - undo previous travel.txt\n",
      "D:\\Emaratech\\Work\\Script - Undo residence travel.txt\n",
      "D:\\Emaratech\\Work\\Script - undo travel (2).sql\n",
      "D:\\Emaratech\\Work\\Script - undo travel + Permit1 closure.txt\n",
      "D:\\Emaratech\\Work\\Script - undo Travel - 2142716242909.txt\n",
      "D:\\Emaratech\\Work\\Script - undo Travel - permit (2).txt\n",
      "D:\\Emaratech\\Work\\Script - undo Travel - permit -(1).txt\n",
      "D:\\Emaratech\\Work\\Script - undo Travel - permit.txt\n",
      "D:\\Emaratech\\Work\\Script - undo travel permit.txt\n",
      "D:\\Emaratech\\Work\\Script - undo travel permit_1.txt\n",
      "D:\\Emaratech\\Work\\Script - undo travel residence (3).txt\n",
      "D:\\Emaratech\\Work\\Script - undo travel Residence - 1.txt\n",
      "D:\\Emaratech\\Work\\Script - undo travel Residence - 20120152192777.txt\n",
      "D:\\Emaratech\\Work\\Script - undo travel Residence -(2).txt\n",
      "D:\\Emaratech\\Work\\Script - undo travel Residence.txt\n",
      "D:\\Emaratech\\Work\\Script - Undo travel rev.sql\n",
      "D:\\Emaratech\\Work\\Script - Undo Travel Schengen .sql\n",
      "D:\\Emaratech\\Work\\Script - undo Travel.sql\n",
      "D:\\Emaratech\\Work\\Script - undo travel.txt\n",
      "D:\\Emaratech\\Work\\Script - Undo Violation and Outpass Fee.sql\n",
      "D:\\Emaratech\\Work\\Script - Undo violation and outpass payment.txt\n",
      "D:\\Emaratech\\Work\\Script - Undo Violation Payment Only.sql\n",
      "D:\\Emaratech\\Work\\Script - UnMerge Profile - (2).txt\n",
      "D:\\Emaratech\\Work\\Script - UnMerge Profile(1).txt\n",
      "D:\\Emaratech\\Work\\Script - UnMerge Profile.sql\n",
      "D:\\Emaratech\\Work\\Script - UnMerge Profile.txt\n",
      "D:\\Emaratech\\Work\\Script - Unmerge.txt\n",
      "D:\\Emaratech\\Work\\Script - update abroad address.sql\n",
      "D:\\Emaratech\\Work\\Script - Update application status in IQC.txt\n",
      "D:\\Emaratech\\Work\\Script - update application status.txt\n",
      "D:\\Emaratech\\Work\\Script - Update as Locals.txt\n",
      "D:\\Emaratech\\Work\\Script - Update as Resident.txt\n",
      "D:\\Emaratech\\Work\\Script - Update Client Mast Status.sql\n",
      "D:\\Emaratech\\Work\\Script - Update client Mast.sql\n",
      "D:\\Emaratech\\Work\\Script - Update dates.txt\n",
      "D:\\Emaratech\\Work\\Script - Update Echannel Request.sql\n",
      "D:\\Emaratech\\Work\\Script - update estab status.txt\n",
      "D:\\Emaratech\\Work\\Script - update Estab.sql\n",
      "D:\\Emaratech\\Work\\Script - update Individual contact.sql\n",
      "D:\\Emaratech\\Work\\Script - update individual contact.txt\n",
      "D:\\Emaratech\\Work\\Script - Update individual person no.sql\n",
      "D:\\Emaratech\\Work\\Script - Update IQC application status.sql\n",
      "D:\\Emaratech\\Work\\Script - Update Menu.sql\n",
      "D:\\Emaratech\\Work\\Script - update name.txt\n",
      "D:\\Emaratech\\Work\\Script - Update New Residence - (1).sql\n",
      "D:\\Emaratech\\Work\\Script - Update New Residence - 301199675568560.sql\n",
      "D:\\Emaratech\\Work\\Script - Update New Residence - custom.sql\n",
      "D:\\Emaratech\\Work\\Script - Update New Residence.sql\n",
      "D:\\Emaratech\\Work\\Script - Update Non Terminal.txt\n",
      "D:\\Emaratech\\Work\\Script - Update Notification Template - revert.sql\n",
      "D:\\Emaratech\\Work\\Script - Update Notification Template.sql\n",
      "D:\\Emaratech\\Work\\Script - Update passport.sql\n",
      "D:\\Emaratech\\Work\\Script - Update payment user.txt\n",
      "D:\\Emaratech\\Work\\Script - Update Permit Validity for Payment done and validity not extended.txt\n",
      "D:\\Emaratech\\Work\\Script - update person type.txt\n",
      "D:\\Emaratech\\Work\\Script - update Profession - 2.sql\n",
      "D:\\Emaratech\\Work\\Script - update Profession - 3.sql\n",
      "D:\\Emaratech\\Work\\Script - update Profession.sql\n",
      "D:\\Emaratech\\Work\\Script - Update Profile Photo.sql\n",
      "D:\\Emaratech\\Work\\Script - update profile.txt\n",
      "D:\\Emaratech\\Work\\Script - update Random.sql\n",
      "D:\\Emaratech\\Work\\Script - Update Residence Validity for Payment done and validity not extended (10).txt\n",
      "D:\\Emaratech\\Work\\Script - Update Residence Validity for Payment done and validity not extended.txt\n",
      "D:\\Emaratech\\Work\\Script - Update Residence Validity for Renew cases and validity is still old (7).txt\n",
      "D:\\Emaratech\\Work\\Script - Update Residence Validity for Renew cases and validity is still old.txt\n",
      "D:\\Emaratech\\Work\\Script - update residence validity.txt\n",
      "D:\\Emaratech\\Work\\Script - update status.txt\n",
      "D:\\Emaratech\\Work\\Script - update travel.txt\n",
      "D:\\Emaratech\\Work\\Script - Update Vision User Validity.sql\n",
      "D:\\Emaratech\\Work\\SCRIPT - UPDATE.SQL\n",
      "D:\\Emaratech\\Work\\Script - update.txt\n",
      "D:\\Emaratech\\Work\\Script - Updates_application failures.txt\n",
      "D:\\Emaratech\\Work\\Script - User allowed Emirate.txt\n",
      "D:\\Emaratech\\Work\\Script - User Privilege - 813 814 backup.sql\n",
      "D:\\Emaratech\\Work\\Script - User Privilege.txt\n",
      "D:\\Emaratech\\Work\\Script - Value Mapping Eform.txt\n",
      "D:\\Emaratech\\Work\\Script - Value Mapping Eform_Upt.txt\n",
      "D:\\Emaratech\\Work\\Script - Violation Event Eform.txt\n",
      "D:\\Emaratech\\Work\\Script - Violation Event.sql\n",
      "D:\\Emaratech\\Work\\Script - violation new born.sql\n",
      "D:\\Emaratech\\Work\\Script - Violation Payment - ESB - Other Fee types.sql\n",
      "D:\\Emaratech\\Work\\Script - violation payment issues.txt\n",
      "D:\\Emaratech\\Work\\Script - Violation payment replication to eform.txt\n",
      "D:\\Emaratech\\Work\\Script - Violation Payment with Exemption in Vision.xlsx\n",
      "D:\\Emaratech\\Work\\Script - violation payment.sql\n",
      "D:\\Emaratech\\Work\\Script - violation payment.txt\n",
      "D:\\Emaratech\\Work\\Script - Violation PPS Change - Merge Issue.sql\n",
      "D:\\Emaratech\\Work\\Script - Violation PPS Change.sql\n",
      "D:\\Emaratech\\Work\\Script - violation pps correction.sql\n",
      "D:\\Emaratech\\Work\\Script - Violation Update.sql\n",
      "D:\\Emaratech\\Work\\Script - violation_payement ETL status reset.txt\n",
      "D:\\Emaratech\\Work\\Script - Visa Sequence Skip list.sql\n",
      "D:\\Emaratech\\Work\\Script - vision app config.sql\n",
      "D:\\Emaratech\\Work\\Script - vision.sql\n",
      "D:\\Emaratech\\Work\\Script - VisionCore - update Profession.sql\n",
      "D:\\Emaratech\\Work\\Script - vision_intg@eform.txt\n",
      "D:\\Emaratech\\Work\\Script - visoniqcs old res no update - cancel.txt\n",
      "D:\\Emaratech\\Work\\Script - visoniqcs old res no update.txt\n",
      "D:\\Emaratech\\Work\\Script - visoniqcs old visa no update.txt\n",
      "D:\\Emaratech\\Work\\Script - waranty payment.sql\n",
      "D:\\Emaratech\\Work\\Script - Warranty Amount update(2).txt\n",
      "D:\\Emaratech\\Work\\Script - Warranty Amount update(3).txt\n",
      "D:\\Emaratech\\Work\\Script - Warranty Amount update(4).txt\n",
      "D:\\Emaratech\\Work\\Script - Warranty Amount update(5).txt\n",
      "D:\\Emaratech\\Work\\Script - Warranty Amount update(6).txt\n",
      "D:\\Emaratech\\Work\\Script - Warranty Amount update.txt\n",
      "D:\\Emaratech\\Work\\Script - Warranty Amount zero issue.txt\n",
      "D:\\Emaratech\\Work\\Script - Warranty Issue Fix.txt\n",
      "D:\\Emaratech\\Work\\Script - Work Permit Duplicate in HDR Temp.sql\n",
      "D:\\Emaratech\\Work\\Script - Wrong violation days.sql\n",
      "D:\\Emaratech\\Work\\Script -Residence  MOL Cancellation Application udpate.txt\n",
      "D:\\Emaratech\\Work\\Script -Residence update - 20120113045903.txt\n",
      "D:\\Emaratech\\Work\\Script 1 - Assign Privilege to users - 06jan2018.sql\n",
      "D:\\Emaratech\\Work\\Script 1 - Assign Remove  Editing Ban Type Privilege to users.sql\n",
      "D:\\Emaratech\\Work\\Script 1 - create temp table for blacklist report.sql\n",
      "D:\\Emaratech\\Work\\Script 1 - Establishment Sponsor Change - Residence files - 22000064.sql\n",
      "D:\\Emaratech\\Work\\Script 1 - ETL issues - 01Mar2018.sql\n",
      "D:\\Emaratech\\Work\\Script 1 - ETL issues - 05Feb2018.sql\n",
      "D:\\Emaratech\\Work\\Script 1 - ETL issues - 06Mar2018.sql\n",
      "D:\\Emaratech\\Work\\Script 1 - ETL issues - 07Mar2018.sql\n",
      "D:\\Emaratech\\Work\\Script 1 - ETL issues - 08Feb2018 -2.sql\n",
      "D:\\Emaratech\\Work\\Script 1 - ETL issues - 08Feb2018.sql\n",
      "D:\\Emaratech\\Work\\Script 1 - ETL issues - 11Feb2018.sql\n",
      "D:\\Emaratech\\Work\\Script 1 - ETL issues - 15Feb2018.sql\n",
      "D:\\Emaratech\\Work\\Script 1 - ETL issues - 18Mar2018.sql\n",
      "D:\\Emaratech\\Work\\Script 1 - ETL issues - 20Mar2018.sql\n",
      "D:\\Emaratech\\Work\\Script 1 - ETL issues - 22Feb2018.sql\n",
      "D:\\Emaratech\\Work\\Script 1 - ETL issues - 26Feb2018.sql\n",
      "D:\\Emaratech\\Work\\Script 1 - ETL issues - 26Mar2018.sql\n",
      "D:\\Emaratech\\Work\\Script 1 - ETL issues - 27Feb2018.sql\n",
      "D:\\Emaratech\\Work\\Script 1 - ETL issues - 28Feb2018.sql\n",
      "D:\\Emaratech\\Work\\Script 1 - ETL issues 16Feb2017 -set1.txt\n",
      "D:\\Emaratech\\Work\\Script 1 - IQCS Accompnay Insert_2.sql\n",
      "D:\\Emaratech\\Work\\Script 1 - IQCS Accompnay Insert_3.sql\n",
      "D:\\Emaratech\\Work\\Script 1 - Outpass Update.sql\n",
      "D:\\Emaratech\\Work\\Script 1 - Permit Closure  - Non MOI Event Files.sql\n",
      "D:\\Emaratech\\Work\\Script 1 - Visa type 35 Lift closure.txt\n",
      "D:\\Emaratech\\Work\\Script 1- Residence Update - (2).txt\n",
      "D:\\Emaratech\\Work\\Script 2  - ETL issues 31-Jan - 2018.sql\n",
      "D:\\Emaratech\\Work\\Script 2 - Assign Privilege to users - nge.sql\n",
      "D:\\Emaratech\\Work\\Script 2 - Assign Privilege to users.sql\n",
      "D:\\Emaratech\\Work\\Script 2 - Establishment Sponsor Change - Residence files - 22000039.sql\n",
      "D:\\Emaratech\\Work\\Script 2 - ETL Failures  - 29 May 2019.sql\n",
      "D:\\Emaratech\\Work\\Script 2 - ETL issues - 18Mar2018.sql\n",
      "D:\\Emaratech\\Work\\Script 2 - ETL issues - 20Mar2018.sql\n",
      "D:\\Emaratech\\Work\\Script 2 - ETL issues - 26Feb2018.sql\n",
      "D:\\Emaratech\\Work\\Script 2 - Extract Blacklist Report.sql\n",
      "D:\\Emaratech\\Work\\Script 2 - Permit Closure -3041117003872.txt\n",
      "D:\\Emaratech\\Work\\Script 2 - Verification Scripts.sql\n",
      "D:\\Emaratech\\Work\\Script 2 - Visa type 35 Validity Update.txt\n",
      "D:\\Emaratech\\Work\\Script 2 - VisionCore document Correction.sql\n",
      "D:\\Emaratech\\Work\\Script 2- ETL issues - 22Feb2018.sql\n",
      "D:\\Emaratech\\Work\\Script 2- validity and data correction.txt\n",
      "D:\\Emaratech\\Work\\Script 2.txt\n",
      "D:\\Emaratech\\Work\\Script 3 - correction(1).txt\n",
      "D:\\Emaratech\\Work\\Script 3 - Correction.txt\n",
      "D:\\Emaratech\\Work\\Script 3 - Dubai Ban-Absconding.sql\n",
      "D:\\Emaratech\\Work\\Script 3 - ETL issues - 18Mar2018.sql\n",
      "D:\\Emaratech\\Work\\Script 3 - Extract Blacklist Report Stats.sql\n",
      "D:\\Emaratech\\Work\\Script 3 - vision.sql\n",
      "D:\\Emaratech\\Work\\Script 3 -ETL issues 5-Jan-2018 - 1.sql\n",
      "D:\\Emaratech\\Work\\Script 4 - MOI Blacklist Stats.sql\n",
      "D:\\Emaratech\\Work\\script 4.txt\n",
      "D:\\Emaratech\\Work\\script 4_v1.sql\n",
      "D:\\Emaratech\\Work\\Script 5 - Dubai Blacklist Stats.sql\n",
      "D:\\Emaratech\\Work\\script 5_v1.sql\n",
      "D:\\Emaratech\\Work\\Script Day1 - Schengen Permit closure.txt\n",
      "D:\\Emaratech\\Work\\Script Day10 - Schengen Permit closure.txt\n",
      "D:\\Emaratech\\Work\\Script Day2 - Schengen Permit closure.txt\n",
      "D:\\Emaratech\\Work\\Script Day3 - Schengen Permit closure.txt\n",
      "D:\\Emaratech\\Work\\Script Day4 - Schengen Permit closure.txt\n",
      "D:\\Emaratech\\Work\\Script Day5 - Schengen Permit closure.txt\n",
      "D:\\Emaratech\\Work\\Script Day6 - Schengen Permit closure.txt\n",
      "D:\\Emaratech\\Work\\Script Day7 - Schengen Permit closure.txt\n",
      "D:\\Emaratech\\Work\\Script Day8 - Schengen Permit closure.txt\n",
      "D:\\Emaratech\\Work\\Script Day9 - Schengen Permit closure.txt\n",
      "D:\\Emaratech\\Work\\Script Establishment Insurance deletion.sql\n",
      "D:\\Emaratech\\Work\\Script REvision archiving.sql\n",
      "D:\\Emaratech\\Work\\Script vio payment flag reset.txt\n",
      "D:\\Emaratech\\Work\\Script(vc)- Individual Contact(6).sql\n",
      "D:\\Emaratech\\Work\\Script- Application status change to approve.txt\n",
      "D:\\Emaratech\\Work\\Script- Payment collection credit card payments.sql\n",
      "D:\\Emaratech\\Work\\Script- Revoke T2 pre-clearance privilege.txt\n",
      "D:\\Emaratech\\Work\\Script- Undo violation and Outpass payment - Residence - 02.txt\n",
      "D:\\Emaratech\\Work\\Script- Undo violation payment - Outpass- 01.txt\n",
      "D:\\Emaratech\\Work\\Script- update residence sponsor.sql\n",
      "D:\\Emaratech\\Work\\Script-.txt\n",
      "D:\\Emaratech\\Work\\Script-Application Resubmission.txt\n",
      "D:\\Emaratech\\Work\\Script-ApplicationResetFlag.txt\n",
      "D:\\Emaratech\\Work\\Script-Assign Privilege for user.txt\n",
      "D:\\Emaratech\\Work\\Script-corrections.sql\n",
      "D:\\Emaratech\\Work\\Script-Delete privilege.sql\n",
      "D:\\Emaratech\\Work\\Script-Delete privilege_backup.sql\n",
      "D:\\Emaratech\\Work\\Script-Duplicate sponsor record in iqcs.txt\n",
      "D:\\Emaratech\\Work\\Script-Eform Repick application.txt\n",
      "D:\\Emaratech\\Work\\Script-ETL Log Update Success.txt\n",
      "D:\\Emaratech\\Work\\Script-ETL_EformSerialMapInsert.sql\n",
      "D:\\Emaratech\\Work\\Script-IM62847- insert violation payment-residence.sql\n",
      "D:\\Emaratech\\Work\\Script-payment_paid.txt\n",
      "D:\\Emaratech\\Work\\Script-Permit status change to issued.txt\n",
      "D:\\Emaratech\\Work\\Script-settle pemit log.txt\n",
      "D:\\Emaratech\\Work\\Script.sql\n",
      "D:\\Emaratech\\Work\\Script.txt\n",
      "D:\\Emaratech\\Work\\Script1  - ETL issues 04-Feb2018_2.sql\n",
      "D:\\Emaratech\\Work\\Script1 - Activiti.txt\n",
      "D:\\Emaratech\\Work\\Script1 - Assign Privilege Ahwal officers.txt\n",
      "D:\\Emaratech\\Work\\Script1 - Assign Privilege to users - (1).sql\n",
      "D:\\Emaratech\\Work\\Script1 - Assign Privilege to users - Amnesty Privileges.sql\n",
      "D:\\Emaratech\\Work\\Script1 - Assign Privilege to users.sql\n",
      "D:\\Emaratech\\Work\\Script1 - Assign Privilege-ML4268.txt\n",
      "D:\\Emaratech\\Work\\Script1 - Assign Privilege.txt\n",
      "D:\\Emaratech\\Work\\Script1 - Assin Privilege to users based on privilege_id - users.sql\n",
      "D:\\Emaratech\\Work\\Script1 - Backup RoleUser Privileges.sql\n",
      "D:\\Emaratech\\Work\\Script1 - Birth Place Correction.sql\n",
      "D:\\Emaratech\\Work\\Script1 - BulkFix - Change Sponsor - table Creation.sql\n",
      "D:\\Emaratech\\Work\\Script1 - Change Sponsor(2).txt\n",
      "D:\\Emaratech\\Work\\Script1 - Change Sponsor.txt\n",
      "D:\\Emaratech\\Work\\Script1 - Create new residence - 10120153091919.txt\n",
      "D:\\Emaratech\\Work\\Script1 - Create Temp table Candidate records.sql\n",
      "D:\\Emaratech\\Work\\Script1 - Create Temp Table.txt\n",
      "D:\\Emaratech\\Work\\Script1 - Create Users - set3.sql\n",
      "D:\\Emaratech\\Work\\Script1 - Create Users - set4.sql\n",
      "D:\\Emaratech\\Work\\Script1 - Delete privilege_jan 1st 2019 12am.sql\n",
      "D:\\Emaratech\\Work\\Script1 - Ednrd Application Re-pick.sql\n",
      "D:\\Emaratech\\Work\\Script1 - Embassy Configuration.sql\n",
      "D:\\Emaratech\\Work\\Script1 - Estab Correction on Client Mast - 21216793 Estab Correction.sql\n",
      "D:\\Emaratech\\Work\\Script1 - ETL - iNTDB -  issues 17 Jan 2018.sql\n",
      "D:\\Emaratech\\Work\\Script1 - ETL - iNTDB -  issues 18 Jan 2018.sql\n",
      "D:\\Emaratech\\Work\\Script1 - ETL - iNTDB -  issues 23 Jan 2018.sql\n",
      "D:\\Emaratech\\Work\\Script1 - ETL - Integration - 14 Jan 2018.sql\n",
      "D:\\Emaratech\\Work\\Script1 - ETL Failures- 19Dec2016.txt\n",
      "D:\\Emaratech\\Work\\Script1 - ETL Failures- 20Dec2016.txt\n",
      "D:\\Emaratech\\Work\\Script1 - ETL issue .txt\n",
      "D:\\Emaratech\\Work\\Script1 - ETL issues - 22Mar2018.sql\n",
      "D:\\Emaratech\\Work\\Script1 - ETL issues - 28 Feb 2019.sql\n",
      "D:\\Emaratech\\Work\\Script1 - ETL issues 01 APR 2018.sql\n",
      "D:\\Emaratech\\Work\\Script1 - ETL issues 01Feb2017 -set1.txt\n",
      "D:\\Emaratech\\Work\\Script1 - ETL issues 02 Jan 2017.sql\n",
      "D:\\Emaratech\\Work\\Script1 - ETL issues 02 May 2018 - (2).sql\n",
      "D:\\Emaratech\\Work\\Script1 - ETL issues 02 May 2018.sql\n",
      "D:\\Emaratech\\Work\\Script1 - ETL issues 02 Sep 2018.sql\n",
      "D:\\Emaratech\\Work\\Script1 - ETL issues 02Feb2017 -set1.txt\n",
      "D:\\Emaratech\\Work\\Script1 - ETL issues 03 Jan 2018.sql\n",
      "D:\\Emaratech\\Work\\Script1 - ETL issues 03 July 2018.sql\n",
      "D:\\Emaratech\\Work\\Script1 - ETL issues 03 Sep 2018.sql\n",
      "D:\\Emaratech\\Work\\Script1 - ETL issues 04 APR 2018.sql\n",
      "D:\\Emaratech\\Work\\Script1 - ETL issues 04 Jan 2018.sql\n",
      "D:\\Emaratech\\Work\\Script1 - ETL issues 04 Sep 2018.sql\n",
      "D:\\Emaratech\\Work\\Script1 - ETL issues 04May2017 -set1.txt\n",
      "D:\\Emaratech\\Work\\Script1 - ETL issues 04May2017 -set2 (2).txt\n",
      "D:\\Emaratech\\Work\\Script1 - ETL issues 04May2017 -set2.txt\n",
      "D:\\Emaratech\\Work\\Script1 - ETL issues 05 MAR-2017.sql\n",
      "D:\\Emaratech\\Work\\Script1 - ETL issues 05 Sep 2018.sql\n",
      "D:\\Emaratech\\Work\\Script1 - ETL issues 05Feb2017 -set2.txt\n",
      "D:\\Emaratech\\Work\\Script1 - ETL issues 05Mar2017 -set1.txt\n",
      "D:\\Emaratech\\Work\\Script1 - ETL issues 05Mar2017 -set2.txt\n",
      "D:\\Emaratech\\Work\\Script1 - ETL issues 05Mar2017 -set4.txt\n",
      "D:\\Emaratech\\Work\\Script1 - ETL issues 06 Dec 2018.sql\n",
      "D:\\Emaratech\\Work\\Script1 - ETL issues 06 Sep 2018.sql\n",
      "D:\\Emaratech\\Work\\Script1 - ETL issues 06Mar2017 -set5.txt\n",
      "D:\\Emaratech\\Work\\Script1 - ETL issues 07Feb2017 -set1.txt\n",
      "D:\\Emaratech\\Work\\Script1 - ETL issues 07Mar2017 -set1.txt\n",
      "D:\\Emaratech\\Work\\Script1 - ETL issues 08 May 2018.sql\n",
      "D:\\Emaratech\\Work\\Script1 - ETL issues 08Feb2017 -set1.sql\n",
      "D:\\Emaratech\\Work\\Script1 - ETL issues 09 Dec 2018.sql\n",
      "D:\\Emaratech\\Work\\Script1 - ETL issues 10 Dec 2018.sql\n",
      "D:\\Emaratech\\Work\\Script1 - ETL issues 10 Dec-2017.sql\n",
      "D:\\Emaratech\\Work\\Script1 - ETL issues 10Jan2017 -set1.txt\n",
      "D:\\Emaratech\\Work\\Script1 - ETL issues 11 Dec-2017.sql\n",
      "D:\\Emaratech\\Work\\Script1 - ETL issues 11 July 2018.sql\n",
      "D:\\Emaratech\\Work\\Script1 - ETL issues 11 MAR-2018.sql\n",
      "D:\\Emaratech\\Work\\Script1 - ETL issues 11 Sep 2018.sql\n",
      "D:\\Emaratech\\Work\\Script1 - ETL issues 12 Dec 2018.sql\n",
      "D:\\Emaratech\\Work\\Script1 - ETL issues 12 Dec-2017.sql\n",
      "D:\\Emaratech\\Work\\Script1 - ETL issues 12 July 2018.sql\n",
      "D:\\Emaratech\\Work\\Script1 - ETL issues 12Feb2017 -set1.txt\n",
      "D:\\Emaratech\\Work\\Script1 - ETL issues 12Jan2017 -set1.txt\n",
      "D:\\Emaratech\\Work\\Script1 - ETL issues 12Mar2017 -set1.txt\n",
      "D:\\Emaratech\\Work\\Script1 - ETL issues 13 Dec-2017.sql\n",
      "D:\\Emaratech\\Work\\Script1 - ETL issues 13 Feb 2019.sql\n",
      "D:\\Emaratech\\Work\\Script1 - ETL issues 13Feb2017 -set1.txt\n",
      "D:\\Emaratech\\Work\\Script1 - ETL issues 13Mar2017 -set4.txt\n",
      "D:\\Emaratech\\Work\\Script1 - ETL issues 14 Dec-2017.sql\n",
      "D:\\Emaratech\\Work\\Script1 - ETL issues 14 Oct 2018.sql\n",
      "D:\\Emaratech\\Work\\Script1 - ETL issues 14Mar2017 -set1.txt\n",
      "D:\\Emaratech\\Work\\Script1 - ETL issues 16 APR 2018.sql\n",
      "D:\\Emaratech\\Work\\Script1 - ETL issues 16 Dec 2018.sql\n",
      "D:\\Emaratech\\Work\\Script1 - ETL issues 16 Sep 2018.sql\n",
      "D:\\Emaratech\\Work\\Script1 - ETL issues 16Mar2017 -set1.txt\n"
     ]
    },
    {
     "name": "stdout",
     "output_type": "stream",
     "text": [
      "D:\\Emaratech\\Work\\Script1 - ETL issues 17 APR 2018.sql\n",
      "D:\\Emaratech\\Work\\Script1 - ETL issues 17 Dec 2018.sql\n",
      "D:\\Emaratech\\Work\\Script1 - ETL issues 18 Dec 2018.sql\n",
      "D:\\Emaratech\\Work\\Script1 - ETL issues 18 July 2018.sql\n",
      "D:\\Emaratech\\Work\\Script1 - ETL issues 18 Sep 2018.sql\n",
      "D:\\Emaratech\\Work\\Script1 - ETL issues 19 APR 2018.sql\n",
      "D:\\Emaratech\\Work\\Script1 - ETL issues 19 Feb 2019.sql\n",
      "D:\\Emaratech\\Work\\Script1 - ETL issues 19Jan2017 -set1.txt\n",
      "D:\\Emaratech\\Work\\Script1 - ETL issues 19Mar2017 -set1.txt\n",
      "D:\\Emaratech\\Work\\Script1 - ETL issues 21 Feb 2019.sql\n",
      "D:\\Emaratech\\Work\\Script1 - ETL issues 21Jan2017 -set1.txt\n",
      "D:\\Emaratech\\Work\\Script1 - ETL issues 22Mar2017 -set1.txt\n",
      "D:\\Emaratech\\Work\\Script1 - ETL issues 23Jan2017 -set1.txt\n",
      "D:\\Emaratech\\Work\\Script1 - ETL issues 23Mar2017 -set2.txt\n",
      "D:\\Emaratech\\Work\\Script1 - ETL issues 24 APR 2018.sql\n",
      "D:\\Emaratech\\Work\\Script1 - ETL issues 24 Feb 2019.sql\n",
      "D:\\Emaratech\\Work\\Script1 - ETL issues 24 July 2018.sql\n",
      "D:\\Emaratech\\Work\\Script1 - ETL issues 24apr2017 -set1.txt\n",
      "D:\\Emaratech\\Work\\Script1 - ETL issues 24Jan2017 -set1.txt\n",
      "D:\\Emaratech\\Work\\Script1 - ETL issues 24Jan2017 -set2.txt\n",
      "D:\\Emaratech\\Work\\Script1 - ETL issues 25 Feb 2019.sql\n",
      "D:\\Emaratech\\Work\\Script1 - ETL issues 25Apr2017 -set1.txt\n",
      "D:\\Emaratech\\Work\\Script1 - ETL issues 25Apr2017 -set2.txt\n",
      "D:\\Emaratech\\Work\\Script1 - ETL issues 25Jan2017 -set2.txt\n",
      "D:\\Emaratech\\Work\\Script1 - ETL issues 26 Aug 2018.sql\n",
      "D:\\Emaratech\\Work\\Script1 - ETL issues 26 Dec-2017 -(2).sql\n",
      "D:\\Emaratech\\Work\\Script1 - ETL issues 26 Dec-2017.sql\n",
      "D:\\Emaratech\\Work\\Script1 - ETL issues 26 Sep 2018.sql\n",
      "D:\\Emaratech\\Work\\Script1 - ETL issues 26Dec 2016 -set1.txt\n",
      "D:\\Emaratech\\Work\\Script1 - ETL issues 26Dec 2016 -set2.txt\n",
      "D:\\Emaratech\\Work\\Script1 - ETL issues 26Jan2017 -set2.txt\n",
      "D:\\Emaratech\\Work\\Script1 - ETL issues 26Mar2017 -set1.txt\n",
      "D:\\Emaratech\\Work\\Script1 - ETL issues 26Mar2017 -set2.txt\n",
      "D:\\Emaratech\\Work\\Script1 - ETL issues 26Mar2017 -set3.txt\n",
      "D:\\Emaratech\\Work\\Script1 - ETL issues 27 Aug 2018.sql\n",
      "D:\\Emaratech\\Work\\Script1 - ETL issues 27Dec 2016 -set1.txt\n",
      "D:\\Emaratech\\Work\\Script1 - ETL issues 27Mar2017 -set1.txt\n",
      "D:\\Emaratech\\Work\\Script1 - ETL issues 28 Dec-2017.sql\n",
      "D:\\Emaratech\\Work\\Script1 - ETL issues 28 Dec-2017_2.sql\n",
      "D:\\Emaratech\\Work\\Script1 - ETL issues 28Dec 2016 -set1.txt\n",
      "D:\\Emaratech\\Work\\Script1 - ETL issues 28Mar2017 -set1.txt\n",
      "D:\\Emaratech\\Work\\Script1 - ETL issues 28Mar2017 -set2.txt\n",
      "D:\\Emaratech\\Work\\Script1 - ETL issues 29 APR 2018.sql\n",
      "D:\\Emaratech\\Work\\Script1 - ETL issues 29 Aug 2018 - Copy.sql\n",
      "D:\\Emaratech\\Work\\Script1 - ETL issues 29 Aug 2018.sql\n",
      "D:\\Emaratech\\Work\\Script1 - ETL issues 29 MAR-2018.sql\n",
      "D:\\Emaratech\\Work\\Script1 - ETL issues 29Dec 2016 -set1.txt\n",
      "D:\\Emaratech\\Work\\Script1 - ETL issues 29Jan2017 -set1.txt\n",
      "D:\\Emaratech\\Work\\Script1 - ETL issues 30 Aug 2018.sql\n",
      "D:\\Emaratech\\Work\\Script1 - ETL issues 30 July 2018.sql\n",
      "D:\\Emaratech\\Work\\Script1 - ETL issues 30 Sep 2018.sql\n",
      "D:\\Emaratech\\Work\\Script1 - ETL issues 30Apr2017 -set1.txt\n",
      "D:\\Emaratech\\Work\\Script1 - ETL issues 31 Dec 2018.sql\n",
      "D:\\Emaratech\\Work\\Script1 - ETL issues 31Jan2017 -set1.txt\n",
      "D:\\Emaratech\\Work\\Script1 - ETL issues 31Jan2017 -set2.txt\n",
      "D:\\Emaratech\\Work\\Script1 - ETL issues 7 Dec-2017 _ 3.sql\n",
      "D:\\Emaratech\\Work\\Script1 - ETL issues 7 Dec-2017.sql\n",
      "D:\\Emaratech\\Work\\Script1 - ETL issues Nov 14 2018.sql\n",
      "D:\\Emaratech\\Work\\Script1 - ETL issues Nov 15 2018.sql\n",
      "D:\\Emaratech\\Work\\Script1 - ETL issues Nov 21 2018.sql\n",
      "D:\\Emaratech\\Work\\Script1 - ETL issues Nov 29 2018.sql\n",
      "D:\\Emaratech\\Work\\Script1 - ETL issues Oct 08 2018.sql\n",
      "D:\\Emaratech\\Work\\Script1 - ETL issues Oct 10 2018.sql\n",
      "D:\\Emaratech\\Work\\Script1 - in process application.txt\n",
      "D:\\Emaratech\\Work\\Script1 - Insert Travel -IM121494.sql\n",
      "D:\\Emaratech\\Work\\Script1 - Insert Violation Payment.txt\n",
      "D:\\Emaratech\\Work\\Script1 - Iqc document type update.sql\n",
      "D:\\Emaratech\\Work\\Script1 - Lift Permit Closure_2017717140274.sql\n",
      "D:\\Emaratech\\Work\\Script1 - Lift Permit Closure_2017717192469.sql\n",
      "D:\\Emaratech\\Work\\Script1 - Lift Residence Closure - 20120133031532.txt\n",
      "D:\\Emaratech\\Work\\Script1 - Lift Residence Closure - 30120133016625.txt\n",
      "D:\\Emaratech\\Work\\Script1 - Lift Residence Closure_20120133003917.sql\n",
      "D:\\Emaratech\\Work\\Script1 - Outpass Application fee deletion -IM105762.sql\n",
      "D:\\Emaratech\\Work\\Script1 - Passport Deletion.sql\n",
      "D:\\Emaratech\\Work\\Script1 - Passport update.txt\n",
      "D:\\Emaratech\\Work\\Script1 - Permit Closure_2042717901883.txt\n",
      "D:\\Emaratech\\Work\\Script1 - Permit Closure_2148517026463.txt\n",
      "D:\\Emaratech\\Work\\Script1 - Permit Detail insert.txt\n",
      "D:\\Emaratech\\Work\\Script1 - permit details id correction.sql\n",
      "D:\\Emaratech\\Work\\Script1 - Permit Relationship Update.sql\n",
      "D:\\Emaratech\\Work\\Script1 - Permit status Change_3010717038503.sql\n",
      "D:\\Emaratech\\Work\\Script1 - Permit Validity update -1041116314728.txt\n",
      "D:\\Emaratech\\Work\\Script1 - Permit visa type update - Copy.txt\n",
      "D:\\Emaratech\\Work\\Script1 - Permit visa type update.txt\n",
      "D:\\Emaratech\\Work\\Script1 - profile pull.txt\n",
      "D:\\Emaratech\\Work\\Script1 - Reject Vision Application_IM135258.sql\n",
      "D:\\Emaratech\\Work\\Script1 - Reject Vision Application_IM95854.sql\n",
      "D:\\Emaratech\\Work\\Script1 - Remove NGE Privilge.sql\n",
      "D:\\Emaratech\\Work\\Script1 - Remove Privilege.txt\n",
      "D:\\Emaratech\\Work\\Script1 - Replicate Violation Paid - Job seeker Visa - (005).sql\n",
      "D:\\Emaratech\\Work\\Script1 - Replicate Violation Paid - Job seeker Visa - (006).sql\n",
      "D:\\Emaratech\\Work\\Script1 - Replicate Violation Paid - Job seeker Visa - (007).sql\n",
      "D:\\Emaratech\\Work\\Script1 - Replicate Violation Paid - Job seeker Visa - (008).sql\n",
      "D:\\Emaratech\\Work\\Script1 - Replicate Violation Paid - Job seeker Visa - (009).sql\n",
      "D:\\Emaratech\\Work\\Script1 - Replicate Violation Paid - Job seeker Visa - (011).sql\n",
      "D:\\Emaratech\\Work\\Script1 - Replicate Violation Paid- (010).sql\n",
      "D:\\Emaratech\\Work\\Script1 - Replicate Violation Paid- (011).sql\n",
      "D:\\Emaratech\\Work\\Script1 - Residence Accompany -1.txt\n",
      "D:\\Emaratech\\Work\\Script1 - Residence Accompany.txt\n",
      "D:\\Emaratech\\Work\\Script1 - Residence Closure - 10120083025402.txt\n",
      "D:\\Emaratech\\Work\\Script1 - Residence Closure - 20120162194299.txt\n",
      "D:\\Emaratech\\Work\\Script1 - Residence Closure_15220142011986.sql\n",
      "D:\\Emaratech\\Work\\Script1 - Residence Passport Update.txt\n",
      "D:\\Emaratech\\Work\\Script1 - Residence Update - (2).txt\n",
      "D:\\Emaratech\\Work\\Script1 - Residence validity update.txt\n",
      "D:\\Emaratech\\Work\\Script1 - Restore any Travel from Log to TRAVEL_DETAIL table - Copy.sql\n",
      "D:\\Emaratech\\Work\\Script1 - Restore any Travel from Log to TRAVEL_DETAIL table.sql\n",
      "D:\\Emaratech\\Work\\Script1 - Rollback Group Application on Child Failure.txt\n",
      "D:\\Emaratech\\Work\\Script1 - Send Rejected status from Vision to echannel(1).sql\n",
      "D:\\Emaratech\\Work\\Script1 - Undo Travel Schengen.sql\n",
      "D:\\Emaratech\\Work\\Script1 - update permit transaction.txt\n",
      "D:\\Emaratech\\Work\\Script1 - update vilation_paid date - Copy.txt\n",
      "D:\\Emaratech\\Work\\Script1 - update violation_paid date.txt\n",
      "D:\\Emaratech\\Work\\Script1 - violation_lockdown_extension-Echannel.sql\n",
      "D:\\Emaratech\\Work\\Script1 - violation_lockdown_extension.sql\n",
      "D:\\Emaratech\\Work\\Script1 - vision core .sql\n",
      "D:\\Emaratech\\Work\\Script1 - Vision Core Violation correction.sql\n",
      "D:\\Emaratech\\Work\\Script1 - Warranty Amount update(8).sql\n",
      "D:\\Emaratech\\Work\\Script1 -Birth Country Update.sql\n",
      "D:\\Emaratech\\Work\\Script1-  Delete Travel.sql\n",
      "D:\\Emaratech\\Work\\Script1- ETL issues 02Mar2017 -set4-correction.txt\n",
      "D:\\Emaratech\\Work\\Script1- ETL issues 02Mar2017 -set4.txt\n",
      "D:\\Emaratech\\Work\\Script1- ETL issues 13Mar2017 -set2.txt\n",
      "D:\\Emaratech\\Work\\Script1- ETL issues 13Mar2017 -set3.txt\n",
      "D:\\Emaratech\\Work\\Script1- Residence Validity Update - 20120137269258.txt\n",
      "D:\\Emaratech\\Work\\Script1- UnMerge Profile(3).txt\n",
      "D:\\Emaratech\\Work\\Script1- UnMerge Profile(4).txt\n",
      "D:\\Emaratech\\Work\\Script1- UnMerge Profile(5).txt\n",
      "D:\\Emaratech\\Work\\Script1-violation exemption visioncore.sql\n",
      "D:\\Emaratech\\Work\\Script1.5 - activiti\n",
      "D:\\Emaratech\\Work\\Script1.sql\n",
      "D:\\Emaratech\\Work\\Script1.txt\n",
      "D:\\Emaratech\\Work\\Script2  - ETL - VisionCore - 7 Dec 2017.sql\n",
      "D:\\Emaratech\\Work\\Script2 (after ETL) -  reset back.sql\n",
      "D:\\Emaratech\\Work\\Script2 -  Is Operational Flag Correction- One Active File.sql\n",
      "D:\\Emaratech\\Work\\Script2 -  Is Operational Flag Correction.sql\n",
      "D:\\Emaratech\\Work\\Script2 - application iqcs update.txt\n",
      "D:\\Emaratech\\Work\\Script2 - Application stuck in integration.sql\n",
      "D:\\Emaratech\\Work\\Script2 - Assign Privilege to users.sql\n",
      "D:\\Emaratech\\Work\\Script2 - Assign Role to users - (1).sql\n",
      "D:\\Emaratech\\Work\\Script2 - Assin Privilege to users based on privilege_id - superusers.sql\n",
      "D:\\Emaratech\\Work\\Script2 - BulkFix - Change Sponsor - Set1.sql\n",
      "D:\\Emaratech\\Work\\Script2 - Change Sponsor (2).txt\n",
      "D:\\Emaratech\\Work\\Script2 - Change Sponsor.txt\n",
      "D:\\Emaratech\\Work\\Script2 - Correct Unknown Profession - Bulk Fix.txt\n",
      "D:\\Emaratech\\Work\\Script2 - Create Dummy application.sql\n",
      "D:\\Emaratech\\Work\\Script2 - Delete duplicate case party charge - NEW FIS.sql\n",
      "D:\\Emaratech\\Work\\Script2 - Estab Correction on Client Mast.sql\n",
      "D:\\Emaratech\\Work\\Script2 - establishment quota.sql\n",
      "D:\\Emaratech\\Work\\Script2 - ETL (2).txt\n",
      "D:\\Emaratech\\Work\\Script2 - ETL - VisionCore - 11 Dec 2017.sql\n",
      "D:\\Emaratech\\Work\\Script2 - ETL - VisionCore - 12 Dec 2017.sql\n",
      "D:\\Emaratech\\Work\\Script2 - ETL - VisionCore - 14 Jan 2018.sql\n",
      "D:\\Emaratech\\Work\\Script2 - ETL - VisionCore - 17 Jan 2018.sql\n",
      "D:\\Emaratech\\Work\\Script2 - ETl Failure - 06Sep2017.sql\n",
      "D:\\Emaratech\\Work\\Script2 - ETL Failures- 18Dec2016.txt\n",
      "D:\\Emaratech\\Work\\Script2 - ETL Failures- 20Dec2016.txt\n",
      "D:\\Emaratech\\Work\\Script2 - ETL issue - execute only after ETL  - visioniqcs.txt\n",
      "D:\\Emaratech\\Work\\Script2 - ETL issue - execute only after ETL .txt\n",
      "D:\\Emaratech\\Work\\Script2 - ETL issues - 21Mar2018.sql\n",
      "D:\\Emaratech\\Work\\Script2 - ETL issues 01 APR 2018.sql\n",
      "D:\\Emaratech\\Work\\Script2 - ETL issues 02 Sep 2018.sql\n",
      "D:\\Emaratech\\Work\\Script2 - ETL issues 02Mar2017 -set1.txt\n",
      "D:\\Emaratech\\Work\\Script2 - ETL issues 02Mar2017 -set2.txt\n",
      "D:\\Emaratech\\Work\\Script2 - ETL issues 02May2017 -set1.txt\n",
      "D:\\Emaratech\\Work\\Script2 - ETL issues 03 Sep 2018.sql\n",
      "D:\\Emaratech\\Work\\Script2 - ETL issues 04 APR 2018.sql\n",
      "D:\\Emaratech\\Work\\Script2 - ETL issues 06 Dec 2018.sql\n",
      "D:\\Emaratech\\Work\\Script2 - ETL issues 08 May 2018.sql\n",
      "D:\\Emaratech\\Work\\Script2 - ETL issues 11 July 2018.sql\n",
      "D:\\Emaratech\\Work\\Script2 - ETL issues 11 MAR-2018.sql\n",
      "D:\\Emaratech\\Work\\Script2 - ETL issues 16 Dec 2018.sql\n",
      "D:\\Emaratech\\Work\\Script2 - ETL issues 17 Dec 2018.sql\n",
      "D:\\Emaratech\\Work\\Script2 - ETL issues 19Mar2017 -set2.txt\n",
      "D:\\Emaratech\\Work\\Script2 - ETL issues 26 Aug 2018.sql\n",
      "D:\\Emaratech\\Work\\Script2 - ETL issues 30 Aug 2018.sql\n",
      "D:\\Emaratech\\Work\\Script2 - ETL issues 30 July 2018.sql\n",
      "D:\\Emaratech\\Work\\Script2 - ETL skip apps.sql\n",
      "D:\\Emaratech\\Work\\Script2 - ETL.txt\n",
      "D:\\Emaratech\\Work\\Script2 - IM190369_Merge_Req_XML_Update.sql\n",
      "D:\\Emaratech\\Work\\Script2 - Individual Contact.sql\n",
      "D:\\Emaratech\\Work\\Script2 - individual Language.txt\n",
      "D:\\Emaratech\\Work\\Script2 - Insert New Travel.sql\n",
      "D:\\Emaratech\\Work\\Script2 - Integration.sql\n",
      "D:\\Emaratech\\Work\\Script2 - Iqc document type update - intdb.sql\n",
      "D:\\Emaratech\\Work\\Script2 - Licensing Authority-Archive.sql\n",
      "D:\\Emaratech\\Work\\Script2 - Lift Permit Closure - 2012716097795.txt\n",
      "D:\\Emaratech\\Work\\Script2 - Lift Permit Closure_1042715029726.txt\n",
      "D:\\Emaratech\\Work\\Script2 - Lift Residence cancellation- 20120083040029.txt\n",
      "D:\\Emaratech\\Work\\Script2 - Lift Residence Closure - 15220143000955.txt\n",
      "D:\\Emaratech\\Work\\Script2 - Lift Residence Closure - 20120103162154.txt\n",
      "D:\\Emaratech\\Work\\Script2 - Lift Residence Closure - 2142716848975.txt\n",
      "D:\\Emaratech\\Work\\Script2 - Lift Residence Closure_20120162063054.sql\n",
      "D:\\Emaratech\\Work\\Script2 - Others(1).txt\n",
      "D:\\Emaratech\\Work\\Script2 - Others.txt\n",
      "D:\\Emaratech\\Work\\Script2 - Outpass Application fee deletion -IM105493.sql\n",
      "D:\\Emaratech\\Work\\Script2 - permi detail id correction.txt\n",
      "D:\\Emaratech\\Work\\Script2 - Permit Correction_3permits.sql\n",
      "D:\\Emaratech\\Work\\Script2 - Permit Detail Correction.txt\n",
      "D:\\Emaratech\\Work\\Script2 - Re-pick application.txt\n",
      "D:\\Emaratech\\Work\\Script2 - Reject Vision Application_IM86255.txt\n",
      "D:\\Emaratech\\Work\\Script2 - Remove Add Mast Duplicates.sql\n",
      "D:\\Emaratech\\Work\\Script2 - Repick NSD application.txt\n",
      "D:\\Emaratech\\Work\\Script2 - Replicate Violation Paid - Job seeker Visa - (004).sql\n",
      "D:\\Emaratech\\Work\\Script2 - Residence Type Update.sql\n",
      "D:\\Emaratech\\Work\\Script2 - Residence Update - (3).txt\n",
      "D:\\Emaratech\\Work\\Script2 - Residence Update - (4).txt\n",
      "D:\\Emaratech\\Work\\Script2 - Residence Update - (5).txt\n",
      "D:\\Emaratech\\Work\\Script2 - Residence Update visa type.sql\n",
      "D:\\Emaratech\\Work\\Script2 - Residence Update visa type.txt\n",
      "D:\\Emaratech\\Work\\Script2 - residence-outpass closure_201620100975746.txt\n",
      "D:\\Emaratech\\Work\\Script2 - Restore any Travel from Log to TRAVEL_DETAIL table.sql\n",
      "D:\\Emaratech\\Work\\Script2 - Restore NGE Privilge.sql\n",
      "D:\\Emaratech\\Work\\Script2 - Restore RoleUser Privileges.sql\n",
      "D:\\Emaratech\\Work\\Script2 - Revert update.txt\n",
      "D:\\Emaratech\\Work\\Script2 - Rollback Group Application on Child Failure - 1.txt\n",
      "D:\\Emaratech\\Work\\Script2 - Rollback Group Application on Child Failure.txt\n",
      "D:\\Emaratech\\Work\\Script2 - Send Rejected status from Vision to echannel.sql\n",
      "D:\\Emaratech\\Work\\Script2 - Undo Travel Schengen.sql\n",
      "D:\\Emaratech\\Work\\Script2 - Update Data with Archive Gambia Nationality.sql\n",
      "D:\\Emaratech\\Work\\Script2 - Update MobileNo.sql\n",
      "D:\\Emaratech\\Work\\Script2 - update sponsor pps id.txt\n",
      "D:\\Emaratech\\Work\\Script2 - update travel.txt\n",
      "D:\\Emaratech\\Work\\Script2 - violation_lockdown_extension-Echannel.sql\n",
      "D:\\Emaratech\\Work\\Script2 - Warranty Update.sql\n",
      "D:\\Emaratech\\Work\\Script2 -Activity Duplicate removal.txt\n",
      "D:\\Emaratech\\Work\\Script2- Reject application.txt\n",
      "D:\\Emaratech\\Work\\Script2- Residence Validity Update - 20120147169606.txt\n",
      "D:\\Emaratech\\Work\\Script2- Undo residence Travel.txt\n",
      "D:\\Emaratech\\Work\\Script2- Update new Permit No.sql\n",
      "D:\\Emaratech\\Work\\Script2-ETL.sql\n",
      "D:\\Emaratech\\Work\\Script2-individual address trim.txt\n",
      "D:\\Emaratech\\Work\\Script2-integration.sql\n",
      "D:\\Emaratech\\Work\\Script2-Undo Travel on outpass.txt\n",
      "D:\\Emaratech\\Work\\Script2-update extended validity date.txt\n",
      "D:\\Emaratech\\Work\\Script2-violation exemption eform.sql\n",
      "D:\\Emaratech\\Work\\Script2-Violation Paid.txt\n",
      "D:\\Emaratech\\Work\\Script2.sql\n",
      "D:\\Emaratech\\Work\\Script2.txt\n",
      "D:\\Emaratech\\Work\\Script2_correction.sql\n",
      "D:\\Emaratech\\Work\\Script2_estab.txt\n",
      "D:\\Emaratech\\Work\\Script3 -  Is Operational Flag Correction- Multiple Active with One Active Residence File.sql\n",
      "D:\\Emaratech\\Work\\Script3 - Applicant passport place trim.txt\n",
      "D:\\Emaratech\\Work\\Script3 - Approved IQC application.txt\n",
      "D:\\Emaratech\\Work\\Script3 - BulkFix - Change Sponsor - Set2.sql\n",
      "D:\\Emaratech\\Work\\Script3 - Change Sponsor.txt\n",
      "D:\\Emaratech\\Work\\Script3 - correct client mast names.sql\n",
      "D:\\Emaratech\\Work\\Script3 - Delete duplicate case party charge - NEW FIS.sql\n",
      "D:\\Emaratech\\Work\\Script3 - DropTemp Table.txt\n",
      "D:\\Emaratech\\Work\\Script3 - Eform application re-submit.sql\n",
      "D:\\Emaratech\\Work\\Script3 - ETL issues 05Mar2017 -set3.txt\n",
      "D:\\Emaratech\\Work\\Script3 - ETL issues 11 MAR-2018.sql\n",
      "D:\\Emaratech\\Work\\Script3 - ETL issues 23Mar2017 -set1.txt\n",
      "D:\\Emaratech\\Work\\Script3 - ETL skip apps.sql\n",
      "D:\\Emaratech\\Work\\Script3 - Insert Travel - IM73480.txt\n",
      "D:\\Emaratech\\Work\\Script3 - Lift Residence Closure - 10120122213476.txt\n",
      "D:\\Emaratech\\Work\\Script3 - Permit Update - (1).txt\n",
      "D:\\Emaratech\\Work\\Script3 - Permit Update - (2).txt\n",
      "D:\\Emaratech\\Work\\Script3 - Religion update.txt\n",
      "D:\\Emaratech\\Work\\Script3 - Residence Number change.sql\n",
      "D:\\Emaratech\\Work\\Script3 - Residence Update - (6).txt\n",
      "D:\\Emaratech\\Work\\Script3 - Residence Update visa type.txt\n",
      "D:\\Emaratech\\Work\\Script3 - Send Rejected status from iqc to echannel.sql\n",
      "D:\\Emaratech\\Work\\Script3 - Update Data with Archive Gambia Nationality.sql\n",
      "D:\\Emaratech\\Work\\Script3 - Warranty Amount update(7).txt\n",
      "D:\\Emaratech\\Work\\Script3 -Residence Cancellation - 20120162063054.txt\n",
      "D:\\Emaratech\\Work\\Script3- ETL issues 02 Sep 2018.sql\n",
      "D:\\Emaratech\\Work\\Script3- Residence Validity Update - 20120093105261_correction.txt\n",
      "D:\\Emaratech\\Work\\Script3-Delete violation.txt\n",
      "D:\\Emaratech\\Work\\Script3-profile document.txt\n",
      "D:\\Emaratech\\Work\\Script3-Work permit update.txt\n",
      "D:\\Emaratech\\Work\\Script3.txt\n",
      "D:\\Emaratech\\Work\\Script3_new.sql\n",
      "D:\\Emaratech\\Work\\Script4  - ETL issues 29 -Jan - 2018.sql\n",
      "D:\\Emaratech\\Work\\Script4 -  Is Operational Flag Correction- Multiple Active with One Used Permit File.sql\n",
      "D:\\Emaratech\\Work\\Script4 - BulkFix - Change Sponsor - Set4.sql\n",
      "D:\\Emaratech\\Work\\Script4 - echannel request.txt\n",
      "D:\\Emaratech\\Work\\Script4 - Eform Application Repick.txt\n",
      "D:\\Emaratech\\Work\\Script4 - ETL issues 27Feb2017 -set1.txt\n",
      "D:\\Emaratech\\Work\\Script4 - Send Rejected status from Vision to echannel.sql\n",
      "D:\\Emaratech\\Work\\Script4 - undo travel Residence.txt\n",
      "D:\\Emaratech\\Work\\Script5 - ETL issues 27Feb2017 -set1.txt\n",
      "D:\\Emaratech\\Work\\Scripts.sql\n",
      "D:\\Emaratech\\Work\\Scripts_visa_residence.sql\n",
      "D:\\Emaratech\\Work\\Script_03.txt\n",
      "D:\\Emaratech\\Work\\Script_03_new.txt\n",
      "D:\\Emaratech\\Work\\Script_1.txt\n",
      "D:\\Emaratech\\Work\\Script_2.txt\n",
      "D:\\Emaratech\\Work\\Script_201620103398598 repick in ETL.txt\n",
      "D:\\Emaratech\\Work\\Script_bo_constantdata.sql\n",
      "D:\\Emaratech\\Work\\script_new res.sql\n",
      "D:\\Emaratech\\Work\\Scrpt - New born violation.sql\n",
      "D:\\Emaratech\\Work\\SDCS-64800_Optimize_query_for_Udb_2880320 (002).sql\n",
      "D:\\Emaratech\\Work\\self.jpg\n",
      "D:\\Emaratech\\Work\\seqport.sql\n",
      "D:\\Emaratech\\Work\\SEQ_FIS_CASE Sequence bump.sql\n",
      "D:\\Emaratech\\Work\\Services for applications failing due to profession null.xlsx\n",
      "D:\\Emaratech\\Work\\Services free of Emaratech fees charges - 01 Jan 2018 - 31 Dec 2020.xlsx\n",
      "D:\\Emaratech\\Work\\Services Stats - 2018.xlsx\n",
      "D:\\Emaratech\\Work\\Services Stats - 2018_v002.xlsx\n",
      "D:\\Emaratech\\Work\\SERVICE_TYPE_LK.xlsx\n",
      "D:\\Emaratech\\Work\\Set 1 - Issued Permits - Grace Period.sql\n",
      "D:\\Emaratech\\Work\\Set 1 - Residence File Extention Til 31st Dec 2020 - Candidate records as of 15 Apr 2020.zip\n",
      "D:\\Emaratech\\Work\\Set 1 Execution Log - 10 cases.txt\n",
      "D:\\Emaratech\\Work\\Set 2 - Residence File Extention Til 31st Dec 2020 - Candidate records as of 15 Apr 2020.zip\n",
      "D:\\Emaratech\\Work\\Set 2 - Used Permits - Grace Period.sql\n",
      "D:\\Emaratech\\Work\\Set 3 - ClosedPermits - Grace Period.sql\n",
      "D:\\Emaratech\\Work\\Set 3 - Used Permits - Grace Period.sql\n",
      "D:\\Emaratech\\Work\\Set1 - EntryPermitCancelPermanentFileClosureEvent - Closure Lifted Permits - 2 Jan 2018.xml\n",
      "D:\\Emaratech\\Work\\Set1 - EntryPermitCancelPermanentFileClosureEvent.txt\n",
      "D:\\Emaratech\\Work\\Set1 - entryPermitPermanentClosedEvent - Single Entry.txt\n",
      "D:\\Emaratech\\Work\\Set1 - entryPermitPermanentClosedEvent - Single Entry.zip\n",
      "D:\\Emaratech\\Work\\Set1 - UpdateEntryPermitReq - Issued Permits.xml\n",
      "D:\\Emaratech\\Work\\Set1 - UpdateEntryPermitReq - Issued Permits_v(002).xml\n",
      "D:\\Emaratech\\Work\\Set2 - 25 Est_codes.zip\n",
      "D:\\Emaratech\\Work\\Set2 - EntryPermitExpiryDate.txt\n",
      "D:\\Emaratech\\Work\\Set2 - UpdateEntryPermitReq - 02 Jan 2018.xml\n"
     ]
    },
    {
     "name": "stdout",
     "output_type": "stream",
     "text": [
      "D:\\Emaratech\\Work\\Set2 - UpdateEntryPermitReq - Used Permits.xml\n",
      "D:\\Emaratech\\Work\\Set2 - UpdateEntryPermitReq - Used Permits_v(002).rar\n",
      "D:\\Emaratech\\Work\\Set2 - UpdateEntryPermitReq - Used Permits_v(002).xml\n",
      "D:\\Emaratech\\Work\\Set3 - 12 Est_codes.zip\n",
      "D:\\Emaratech\\Work\\Set3 - EntryPermitCancelPermanentFileClosureEvent - Closure Lifted Permits.xml\n",
      "D:\\Emaratech\\Work\\Set4 - UpdateEntryPermitReq - Clossure Lifted Permits.xml\n",
      "D:\\Emaratech\\Work\\Set4 - UpdateEntryPermitReq - Clossure Lifted Permits_v(002).xml\n",
      "D:\\Emaratech\\Work\\SFU_CODE-STR_CODE.xlsx\n",
      "D:\\Emaratech\\Work\\SHA571-course-project.docx\n",
      "D:\\Emaratech\\Work\\SHA575_course-project.docx\n",
      "D:\\Emaratech\\Work\\Sheet.xlsx\n",
      "D:\\Emaratech\\Work\\Sheet1 change Status apps pending with merge.xlsx\n",
      "D:\\Emaratech\\Work\\Single entry Active with Chnage status application.xlsx\n",
      "D:\\Emaratech\\Work\\Single Entry permits still active , having entry and no exit in vision , but person travelled on another permit or residence later..xlsx\n",
      "D:\\Emaratech\\Work\\Single Entry permits still active , having entry and no exit in vision , but person travelled on another permit or residence later.xls\n",
      "D:\\Emaratech\\Work\\Single Entry permits still active , having entry and no exit in vision , but person travelled on another permit or residence later_v(002) -  9th April 2019.xls\n",
      "D:\\Emaratech\\Work\\Single Entry permits still active , having entry and no exit in vision , but person travelled on another permit or residence later_v(002) -  9th April 2019.xlsx\n",
      "D:\\Emaratech\\Work\\Single Entry permits still active , having entry and no exit in vision , but person travelled on another permit or residence later_v(003) -  9th April 2019.xlsx\n",
      "D:\\Emaratech\\Work\\Smart Channel Application Stats - Till date 8th Sep 2019 12PM.xlsx\n",
      "D:\\Emaratech\\Work\\Smart Channel Application Stats - Till date 8th Sep 2019 12PM_v002.xlsx\n",
      "D:\\Emaratech\\Work\\Smart Tunnel Teams Performance - Tavel and IRIS Reg Stats.xlsx\n",
      "D:\\Emaratech\\Work\\Smartgate & Egate Registered user count.xlsx\n",
      "D:\\Emaratech\\Work\\SmartGate - VisionTravelTransaction.xlsx\n",
      "D:\\Emaratech\\Work\\smartgate objects.txt\n",
      "D:\\Emaratech\\Work\\Smartgate VS conventional transactions 2018 (till 12th Nov 2018) _v(001).xlsx\n",
      "D:\\Emaratech\\Work\\Smartgate VS conventional_vAPR18(v1).xlsx\n",
      "D:\\Emaratech\\Work\\Smartgate VS conventional_vMAY18.xlsx\n",
      "D:\\Emaratech\\Work\\SMS Revised Noelle 12 Jan 2017 (002).xlsx\n",
      "D:\\Emaratech\\Work\\SMS.xls\n",
      "D:\\Emaratech\\Work\\SOCIAL_STATUS_LK.xlsx\n",
      "D:\\Emaratech\\Work\\Solver.xlsx\n",
      "D:\\Emaratech\\Work\\source.zip\n",
      "D:\\Emaratech\\Work\\span.html\n",
      "D:\\Emaratech\\Work\\Spark Modules.png\n",
      "D:\\Emaratech\\Work\\sPLUNK COMPARISON.xlsx\n",
      "D:\\Emaratech\\Work\\splunk dash 28Pct2020 _1.xml\n",
      "D:\\Emaratech\\Work\\splunk dash 28Pct2020 _2.xml\n",
      "D:\\Emaratech\\Work\\splunk dash 29Oct2020 _1.xml\n",
      "D:\\Emaratech\\Work\\splunk dash 29Oct2020 _2.xml\n",
      "D:\\Emaratech\\Work\\splunk dash 29Oct2020 _final.xml\n",
      "D:\\Emaratech\\Work\\splunk dash 29Oct2020 _final1.xml\n",
      "D:\\Emaratech\\Work\\splunk logs.txt\n",
      "D:\\Emaratech\\Work\\Splunk_xml_backup_12Aug2020_NewDash_1.xml\n",
      "D:\\Emaratech\\Work\\Splunk_xml_backup_14Sep2020_NewDash_1.xml\n",
      "D:\\Emaratech\\Work\\Splunk_xml_backup_15Aug2020_NewDash_1.xml\n",
      "D:\\Emaratech\\Work\\Splunk_xml_backup_15Jul2020..xml\n",
      "D:\\Emaratech\\Work\\Splunk_xml_backup_15Sep2020_NewDash_1.xml\n",
      "D:\\Emaratech\\Work\\Splunk_xml_backup_16Jul2020..xml\n",
      "D:\\Emaratech\\Work\\Splunk_xml_backup_17Aug2020_NewDash_1.xml\n",
      "D:\\Emaratech\\Work\\Splunk_xml_backup_17Aug2020_OldDash_1.xml\n",
      "D:\\Emaratech\\Work\\Splunk_xml_backup_18Aug2020_NewDash_1.xml\n",
      "D:\\Emaratech\\Work\\Splunk_xml_backup_18Jul2020..xml\n",
      "D:\\Emaratech\\Work\\Splunk_xml_backup_19Jul2020_1..xml\n",
      "D:\\Emaratech\\Work\\Splunk_xml_backup_19Jul2020_2..xml\n",
      "D:\\Emaratech\\Work\\Splunk_xml_backup_19Jul2020_3..xml\n",
      "D:\\Emaratech\\Work\\Splunk_xml_backup_20Aug2020_NewDash_1.xml\n",
      "D:\\Emaratech\\Work\\Splunk_xml_backup_20Aug2020_NewDash_2.xml\n",
      "D:\\Emaratech\\Work\\Splunk_xml_backup_20Jul2020_1..xml\n",
      "D:\\Emaratech\\Work\\Splunk_xml_backup_20Jul2020_2..xml\n",
      "D:\\Emaratech\\Work\\Splunk_xml_backup_21Aug2020_NewDash_1.xml\n",
      "D:\\Emaratech\\Work\\Splunk_xml_backup_21Jul2020_1..xml\n",
      "D:\\Emaratech\\Work\\Splunk_xml_backup_22Jul2020_1..xml\n",
      "D:\\Emaratech\\Work\\Splunk_xml_backup_22Jul2020_2..xml\n",
      "D:\\Emaratech\\Work\\Splunk_xml_backup_22Sep2020_NewDash_1.xml\n",
      "D:\\Emaratech\\Work\\Splunk_xml_backup_23Jul2020_1..xml\n",
      "D:\\Emaratech\\Work\\Splunk_xml_backup_23Jul2020_2..xml\n",
      "D:\\Emaratech\\Work\\Splunk_xml_backup_24Jul2020_1..xml\n",
      "D:\\Emaratech\\Work\\Splunk_xml_backup_24Jul2020_2..xml\n",
      "D:\\Emaratech\\Work\\Splunk_xml_backup_24Jul2020_3..xml\n",
      "D:\\Emaratech\\Work\\Splunk_xml_backup_25Jul2020_stable..xml\n",
      "D:\\Emaratech\\Work\\Splunk_xml_backup_27Jul2020_stable..xml\n",
      "D:\\Emaratech\\Work\\Splunk_xml_backup_27Jul2020_stable_2..xml\n",
      "D:\\Emaratech\\Work\\Splunk_xml_backup_28Sep2020_NewDash_1.xml\n",
      "D:\\Emaratech\\Work\\Sponsor Correction.sql\n",
      "D:\\Emaratech\\Work\\Sponsor Correction.xlsx\n",
      "D:\\Emaratech\\Work\\Sponsor Correction_(002).xlsx\n",
      "D:\\Emaratech\\Work\\Sponsor Files made inactive(002).xlsx\n",
      "D:\\Emaratech\\Work\\Sponsor Files made inactive.xlsx\n",
      "D:\\Emaratech\\Work\\Sponsor not sponsored by establishment - from 1st jan 2018 till 19 Nov 2018.xlsx\n",
      "D:\\Emaratech\\Work\\Sponsor Passport Page 1.jpg\n",
      "D:\\Emaratech\\Work\\sponsor sponsored report performance enhancement.sql\n",
      "D:\\Emaratech\\Work\\Sponsored Details - Dubai Police.xlsx\n",
      "D:\\Emaratech\\Work\\Sponsored Photo.jpg\n",
      "D:\\Emaratech\\Work\\Sponsorship Transfer - UDB.xlsx\n",
      "D:\\Emaratech\\Work\\Sponsorship Transfer.xlsx\n",
      "D:\\Emaratech\\Work\\spon_estb_person.sql\n",
      "D:\\Emaratech\\Work\\SPON_ESTB_VIP.sql\n",
      "D:\\Emaratech\\Work\\Stacked Bar Chart.html\n",
      "D:\\Emaratech\\Work\\Staging DB - Rule id -1 and -3 Comparison - Dubai Ban Absconding.jpg\n",
      "D:\\Emaratech\\Work\\Staging DB - Rule id -1 and -3 Comparison - Dubai BL.jpg\n",
      "D:\\Emaratech\\Work\\Staging DB - Rule id -1 and -3 Comparison - MOI BL.jpg\n",
      "D:\\Emaratech\\Work\\Stats and Figures Dashboard.jpg\n",
      "D:\\Emaratech\\Work\\Stats of entry across all terminals (23Aug 2016) grouped by passenger type.xlsx\n",
      "D:\\Emaratech\\Work\\Stats Queries.sql\n",
      "D:\\Emaratech\\Work\\STATS2 (1).xls\n",
      "D:\\Emaratech\\Work\\STATS2 (2).xls\n",
      "D:\\Emaratech\\Work\\STATS2 (3).xls\n",
      "D:\\Emaratech\\Work\\STATS2 (4).xls\n",
      "D:\\Emaratech\\Work\\STATS2 (5).xls\n",
      "D:\\Emaratech\\Work\\STATS2.xls\n",
      "D:\\Emaratech\\Work\\Status List.xlsx\n",
      "D:\\Emaratech\\Work\\Stay Days Calc.jpg\n",
      "D:\\Emaratech\\Work\\stolen_passport (2).xls\n",
      "D:\\Emaratech\\Work\\STOLEN_PASSPORT.sql\n",
      "D:\\Emaratech\\Work\\STOLEN_PASSPORT.xls\n",
      "D:\\Emaratech\\Work\\stolen_passport.xlsx\n",
      "D:\\Emaratech\\Work\\STR_CODE - Resi_trans.xlsx\n",
      "D:\\Emaratech\\Work\\Summary of Applications for Amnesty - 1st Aug 2018 - 10 Oct 2018.xlsx\n",
      "D:\\Emaratech\\Work\\Summary Report - Residence File Extention Til 31st Dec 2020.xlsx\n",
      "D:\\Emaratech\\Work\\Suspicious Query.sql\n",
      "D:\\Emaratech\\Work\\SWSAN NABEEL ABDULHADI.pdf\n",
      "D:\\Emaratech\\Work\\Syrian Nationality with Palestine passport.xlsx\n",
      "D:\\Emaratech\\Work\\T1 Stats.xlsx\n",
      "D:\\Emaratech\\Work\\t1.pdf\n",
      "D:\\Emaratech\\Work\\T3 Travel count in every 30 mins duration.xlsx\n",
      "D:\\Emaratech\\Work\\T3 Travels.sql\n",
      "D:\\Emaratech\\Work\\T3(v1).xlsx\n",
      "D:\\Emaratech\\Work\\tab click.html\n",
      "D:\\Emaratech\\Work\\table dependency.xls\n",
      "D:\\Emaratech\\Work\\Table list.xlsx\n",
      "D:\\Emaratech\\Work\\table.html\n",
      "D:\\Emaratech\\Work\\table2.html\n",
      "D:\\Emaratech\\Work\\table3.html\n",
      "D:\\Emaratech\\Work\\tablestyle.html\n",
      "D:\\Emaratech\\Work\\temp.proc\n",
      "D:\\Emaratech\\Work\\temp.txt\n",
      "D:\\Emaratech\\Work\\Temporary Closure  - With Absconding  from vision and Lift Temporary Closure by Legacy.xlsx\n",
      "D:\\Emaratech\\Work\\Temporary Closure  - With Absconding  from vision.xlsx\n",
      "D:\\Emaratech\\Work\\Temporary Closure - File load.xlsx\n",
      "D:\\Emaratech\\Work\\Temporary closure under Ban.xlsx\n",
      "D:\\Emaratech\\Work\\tenancy.bmp\n",
      "D:\\Emaratech\\Work\\Tenancy.jpg\n",
      "D:\\Emaratech\\Work\\tes1111t.html\n",
      "D:\\Emaratech\\Work\\test data_staging.txt\n",
      "D:\\Emaratech\\Work\\test.html\n",
      "D:\\Emaratech\\Work\\test.PDF\n",
      "D:\\Emaratech\\Work\\TEST.txt\n",
      "D:\\Emaratech\\Work\\test1.html\n",
      "D:\\Emaratech\\Work\\testhtml.html\n",
      "D:\\Emaratech\\Work\\test_case.sql\n",
      "D:\\Emaratech\\Work\\test_email.html\n",
      "D:\\Emaratech\\Work\\test_hmtl.html\n",
      "D:\\Emaratech\\Work\\test_html1.html\n",
      "D:\\Emaratech\\Work\\Thumbs.db\n",
      "D:\\Emaratech\\Work\\Top 10 Nationalities - 2017 - Entry Travels - On Dubai Counters -  Stats.xlsx\n",
      "D:\\Emaratech\\Work\\Top 10 Nationalities - 2017 - Entry Travels - On Dubai Counters - on distinct profile -  Stats.xlsx\n",
      "D:\\Emaratech\\Work\\Top 10 Nationalities - 2017 - Entry Travels - Stats.xlsx\n",
      "D:\\Emaratech\\Work\\topic-2-visual-data-analysis_ASSIGNMENT (2).ipynb\n",
      "D:\\Emaratech\\Work\\topic-2-visual-data-analysis_ASSIGNMENT.ipynb\n",
      "D:\\Emaratech\\Work\\Total entry transaction on NGA for 2015,2016,2017 on the counters.xlsx\n",
      "D:\\Emaratech\\Work\\Total exit transaction on NGE - Hybrid in Terminal 1 from 1-3-2018 till 27-3-018.xlsx\n",
      "D:\\Emaratech\\Work\\Total exit transaction on NGE - Hybrid in Terminal 2 from 1-11-2017 till 27-3-2018.xlsx\n",
      "D:\\Emaratech\\Work\\Total GCC iqcs aplications under hold.csv\n",
      "D:\\Emaratech\\Work\\Total of approved pre-issued visas 2015,2016 and 2017.xlsx\n",
      "D:\\Emaratech\\Work\\Total of automation of specific services in vision and IQC 2015 , 2016 ,2017.xlsx\n",
      "D:\\Emaratech\\Work\\Total Violators Before 1st Aug 2018 - (Syria , Libya and Yemen) - Details.xlsx\n",
      "D:\\Emaratech\\Work\\Total Violators Before 1st Aug 2018 - (Syria , Libya and Yemen) - Details_v(002).xlsx\n",
      "D:\\Emaratech\\Work\\totext.jpg\n",
      "D:\\Emaratech\\Work\\Tourist Cabin Crew Entry Permit Validity Correction _ V(002) (002).xlsx\n",
      "D:\\Emaratech\\Work\\Tourist Cabin Crew Entry Permit Validity Correction _ V(002).xlsx\n",
      "D:\\Emaratech\\Work\\Tourist Cabin Crew Entry Permit Validity Correction.xlsx\n",
      "D:\\Emaratech\\Work\\Tourist Entry Permit Issued for Indian Nationals from Kerala ( 2016 - 2019(till 14th Feb)_v002.xlsx\n",
      "D:\\Emaratech\\Work\\Tourist Establishments.xls\n",
      "D:\\Emaratech\\Work\\Tourist Establishments_stats as of 23 Oct 2018.xlsx\n",
      "D:\\Emaratech\\Work\\Tourist Permits with Grace Period Validity Correction -Permits in CLOSED Status.xlsx\n",
      "D:\\Emaratech\\Work\\Tourist Permits with Grace Period Validity Correction -Permits in ISSUED Status.xlsx\n",
      "D:\\Emaratech\\Work\\Tourist Permits with Grace Period Validity Correction -Permits in USED Status.xlsx\n",
      "D:\\Emaratech\\Work\\Tourist Visa Stats - Dubai Vs MOI -( Jan - April )- 2017 Vs 2018.xlsx\n",
      "D:\\Emaratech\\Work\\to_do.txt\n",
      "D:\\Emaratech\\Work\\trace.rar\n",
      "D:\\Emaratech\\Work\\tracker issue.docx\n",
      "D:\\Emaratech\\Work\\Trade License Expiry Correction.xlsx\n",
      "D:\\Emaratech\\Work\\Trade License Expiry Correction_v2.xlsx\n",
      "D:\\Emaratech\\Work\\training env errors.sql\n",
      "D:\\Emaratech\\Work\\Transaction from User c3310 - 12 Jan 2021 - 15 Jan 2021.xlsx\n",
      "D:\\Emaratech\\Work\\transaction log.jpg\n",
      "D:\\Emaratech\\Work\\Transaction types impacting quota_v1.xlsx\n",
      "D:\\Emaratech\\Work\\Transaction types impacting quota_v2.xlsx\n",
      "D:\\Emaratech\\Work\\Transactions - Sent to GDRFA (16-07-2018)(002).xlsx\n",
      "D:\\Emaratech\\Work\\Transfer to Ahwal cases - 06 Jan 2018_v002.xlsx\n",
      "D:\\Emaratech\\Work\\Transfer to Ahwal cases with Terminal- 06 Jan 2018_v003.xlsx\n",
      "D:\\Emaratech\\Work\\Transfer to Ahwal cases with Terminal- 06 Jan 2018_v004.xlsx\n",
      "D:\\Emaratech\\Work\\Transfer to Ahwal Sep 2018 Vs April 2019.xlsx\n",
      "D:\\Emaratech\\Work\\TRANSFER_ENTITY_LK.xls\n",
      "D:\\Emaratech\\Work\\TRANSFER_FROM-Nov 2019.xls\n",
      "D:\\Emaratech\\Work\\TRANSFER_FROM.xls\n",
      "D:\\Emaratech\\Work\\Transit Visa - 48Hr and 96Hr - Q4 2020-2021.xlsx\n",
      "D:\\Emaratech\\Work\\Travel Consistancy Check - 1st May 2019 till 31 Oct 2019 - As of date 17 Nov 2019_v001.xlsx\n",
      "D:\\Emaratech\\Work\\Travel Consistancy Check - 1st Sep 2019 till 31 Oct 2019 - As of date 17 Nov 2019.xls\n",
      "D:\\Emaratech\\Work\\Travel Consistancy Check - 1st Sep 2019 till 31 Oct 2019 - As of date 17 Nov 2019.xlsx\n",
      "D:\\Emaratech\\Work\\Travel Details  Stats - All Counter Travels - 03 June 2018 (2).xlsx\n",
      "D:\\Emaratech\\Work\\Travel Details  Stats - All Counter Travels - 03 June 2018.XLS\n",
      "D:\\Emaratech\\Work\\Travel Details  Stats - All Counter Travels - 03 June 2018.xlsx\n",
      "D:\\Emaratech\\Work\\Travel Details - All Dubai  Entry Travels (port 200-205)- Dec 28 2017.sql\n",
      "D:\\Emaratech\\Work\\Travel Details - All Dubai  Entry Travels (port 200-205)- Dec 29 2017.xls\n",
      "D:\\Emaratech\\Work\\Travel Details - All Dubai  Entry Travels (port 200-205)- Dec 29 2017.xlsx\n",
      "D:\\Emaratech\\Work\\Travel Details - All Dubai  Entry Travels (port 200-205)- Feb 01 2018.xls\n",
      "D:\\Emaratech\\Work\\Travel Details - All Dubai  Entry Travels (port 200-205)- Feb 01 2018.xlsx\n",
      "D:\\Emaratech\\Work\\Travel Details - All Dubai  Entry Travels (port 200-205)- Feb 02 2018.sql\n",
      "D:\\Emaratech\\Work\\Travel Details - All Dubai  Entry Travels (port 200-205)- Feb 20 2018.sql\n",
      "D:\\Emaratech\\Work\\Travel Details - All Dubai  Entry Travels (port 200-205)- Feb 26 2018.xls\n",
      "D:\\Emaratech\\Work\\Travel Details - All Dubai  Entry Travels (port 200-205)- Feb 26 2018.xlsx\n",
      "D:\\Emaratech\\Work\\Travel Details - All Dubai  Entry Travels (port 200-205)- Jan 02 2018 (002).xls\n",
      "D:\\Emaratech\\Work\\Travel Details - All Dubai  Entry Travels (port 200-205)- Jan 02 2018 (002).xlsx\n",
      "D:\\Emaratech\\Work\\Travel Details - All Dubai  Entry Travels (port 200-205)- Jan 02 2018.sql\n",
      "D:\\Emaratech\\Work\\Travel Details - All Dubai  Entry Travels (port 200-205)- Jan 06 2018.sql\n",
      "D:\\Emaratech\\Work\\Travel Details - All Dubai  Entry Travels (port 200-205)- Jan 06 2018.xls\n",
      "D:\\Emaratech\\Work\\Travel Details - All Dubai  Entry Travels (port 200-205)- Jan 06 2018.xlsx\n",
      "D:\\Emaratech\\Work\\Travel Details - All Dubai  Entry Travels (port 200-205)- Jan 10 2018.sql\n",
      "D:\\Emaratech\\Work\\Travel Details - All Dubai  Entry Travels (port 200-205)- May 13 2018 - Arrival - Only Counters.xlsx\n",
      "D:\\Emaratech\\Work\\Travel Details - All Dubai  Entry Travels (port 200-205)- May 13 2018 - Arrival.xls\n",
      "D:\\Emaratech\\Work\\Travel Details - All Dubai  Entry Travels (port 200-205)- May 13 2018 - Departure - Only Counters.xlsx\n",
      "D:\\Emaratech\\Work\\Travel Details - All Dubai  Entry Travels (port 200-205)- May 13 2018 - Departure.xls\n",
      "D:\\Emaratech\\Work\\Travel Details - All Dubai  Entry Travels (port 200-205)- May 13 2018 - Departure.xlsx\n",
      "D:\\Emaratech\\Work\\Travel Details - All Dubai  Entry Travels (port 200-205)- Nov 5 2017 (004).xlsx\n",
      "D:\\Emaratech\\Work\\Travel Details - All Dubai  Entry Travels (port 200-205)- Nov 5 2017 (005).xlsx\n",
      "D:\\Emaratech\\Work\\Travel Details - All Dubai  Entry Travels (port 200-205)- Nov 5 2017(v3).xls\n",
      "D:\\Emaratech\\Work\\Travel Details - All Dubai  Entry Travels (port 200-205)- Nov 5 2017.xlsx\n",
      "D:\\Emaratech\\Work\\Travel Details - All Dubai  Entry Travels - Nov 5 2017 - Part1(v1).xls\n",
      "D:\\Emaratech\\Work\\Travel Details - All Dubai  Entry Travels - Nov 5 2017 - Part2(v1).xls\n",
      "D:\\Emaratech\\Work\\Travel Details - DXB DWC - 04 Mar 2018 - 10 Mar 18(001).xlsx\n",
      "D:\\Emaratech\\Work\\Travel Details - DXB DWC - 07 Jan 2018 - 14 Jan 18.xlsx\n",
      "D:\\Emaratech\\Work\\Travel Details - DXB DWC - 11 Feb 2018 - 17 Feb 18.xlsx\n",
      "D:\\Emaratech\\Work\\Travel Details - DXB DWC - 14 Jan 2018 - 20 Jan 18.xlsx\n",
      "D:\\Emaratech\\Work\\Travel Details - DXB DWC - 18 Feb 2018 - 24 Feb 18.xlsx\n",
      "D:\\Emaratech\\Work\\Travel Details - DXB DWC - 21 Jan 2018 - 27 Jan 18.xlsx\n",
      "D:\\Emaratech\\Work\\Travel Details - DXB DWC - 25 Feb 2018 - 03 Mar 18(002).xlsx\n",
      "D:\\Emaratech\\Work\\Travel Details - DXB DWC - 25 Feb 2018 - 03 Mar 18(003).xlsx\n",
      "D:\\Emaratech\\Work\\Travel Details - DXB DWC - 25 Feb 2018 - 03 Mar 18.xlsx\n",
      "D:\\Emaratech\\Work\\Travel Details - DXB DWC - 28 Jan 2018 - 03 Feb 18.xlsx\n",
      "D:\\Emaratech\\Work\\Travel Details - DXB DWC - 31 Dec 17 - 06 Jan 18.xlsx\n",
      "D:\\Emaratech\\Work\\Travel Details - DXB DWC - Entry - Nov 5 2017(2).xls\n",
      "D:\\Emaratech\\Work\\Travel Details - DXB DWC - Entry - Nov 5 2017(2).xlsx\n",
      "D:\\Emaratech\\Work\\Travel Details - DXB DWC - Entry - Nov 5 2017.xlsx\n",
      "D:\\Emaratech\\Work\\Travel Details - DXBT1-EE10 - 10.2.37.31 - 14Jul2017.xlsx\n",
      "D:\\Emaratech\\Work\\Travel Details - GCC Local -  27-07-2017 till 29-07-2017 by the user code ML1605.xlsx\n",
      "D:\\Emaratech\\Work\\Travel Details - With Missing Documents - 23rd 12AM till 26th 9AM June 2019.xlsx\n",
      "D:\\Emaratech\\Work\\Travel Details - With Missing Documents - Corrected Cases- from 23 June 2019 - 14 July 2019.xlsx\n",
      "D:\\Emaratech\\Work\\Travel Details - With Missing Documents - Remaining Cases- from 23 June 2019 - 07 July 2019.xlsx\n",
      "D:\\Emaratech\\Work\\Travel Details - With Missing Documents - Remaining Cases- from 23 June 2019 - 14 July 2019.txt\n",
      "D:\\Emaratech\\Work\\Travel Details - With Missing Documents - Remaining Cases- from 23 June 2019 - 14 July 2019.xlsx\n",
      "D:\\Emaratech\\Work\\Travel Details - With Missing Documents - Remaining Cases- from 23 June 2019 - 14 July 2019_v002.xlsx\n",
      "D:\\Emaratech\\Work\\Travel Details -lk.xls\n",
      "D:\\Emaratech\\Work\\Travel Details -lk.xlsx\n",
      "D:\\Emaratech\\Work\\travel document.sql\n",
      "D:\\Emaratech\\Work\\Travel Duplication for Schengen.xlsx\n",
      "D:\\Emaratech\\Work\\Travel Extract - Dubai Travels - Arrivals - 01 Sep 2018.xls\n",
      "D:\\Emaratech\\Work\\Travel Extract - Dubai Travels - Arrivals - 01 Sep 2018.xlsx\n",
      "D:\\Emaratech\\Work\\Travel Extract - For mentioned UDBs - 3rd April 2019.xlsx\n",
      "D:\\Emaratech\\Work\\Travel Extract- Arrival -Dubai  Airport -  01 Sep 2018.xlsx\n",
      "D:\\Emaratech\\Work\\Travel Extract- Arrival -Dubai  BC Counter Only -  17 Sep 2018.xls\n",
      "D:\\Emaratech\\Work\\Travel Extract- Arrival -Dubai  BC Counter Only -  17 Sep 2018.xlsx\n",
      "D:\\Emaratech\\Work\\Travel Extract- Arrival -Dubai  BC Counter Only -  18 Dec 2018.xls\n",
      "D:\\Emaratech\\Work\\Travel Extract- Arrival -Dubai  BC Counter Only -  18 Dec 2018.xlsx\n",
      "D:\\Emaratech\\Work\\Travel Extract- Arrival -Dubai  BC Counter Only -  21 Oct 2018.xls\n",
      "D:\\Emaratech\\Work\\Travel Extract- Arrival -Dubai  BC Counter Only -  27 Sep 2018.xls\n",
      "D:\\Emaratech\\Work\\Travel Extract- Arrival -Dubai  BC Counter Only -  27 Sep 2018.xlsx\n",
      "D:\\Emaratech\\Work\\Travel Extract- Arrival -Dubai  BC Counter Only - 29 Aug 2018 11pm - 30 Aug 2018 3AM.xls\n",
      "D:\\Emaratech\\Work\\Travel Extract- Arrival -Dubai  BC Counter Only - 29 Aug 2018 11pm - 30 Aug 2018 3AM.xlsx\n",
      "D:\\Emaratech\\Work\\Travel Extract- Arrival -Dubai  BC Counter Only -5th July 2018.xls\n",
      "D:\\Emaratech\\Work\\Travel Extract- Arrival -Dubai  BC Counter Only -5th July 2018.xlsx\n",
      "D:\\Emaratech\\Work\\Travel Extract- Arrival -Dubai  BC Counter Only -6th July 2018.xls\n",
      "D:\\Emaratech\\Work\\Travel Extract- Arrival -Dubai  BC Counter Only -6th July 2018.xlsx\n",
      "D:\\Emaratech\\Work\\Travel Extract- Arrival-Dubai  BC Counter Only -  17 Oct 2018.xls\n",
      "D:\\Emaratech\\Work\\Travel Extract- Arrival-Dubai  BC Counter Only -  17 Oct 2018.xlsx\n",
      "D:\\Emaratech\\Work\\Travel Extract- Arrival-Dubai  BC Counter Only -  21 Oct 2018.xls\n",
      "D:\\Emaratech\\Work\\Travel Extract- Arrival-Dubai  BC Counter Only -  21 Oct 2018.xlsx\n",
      "D:\\Emaratech\\Work\\Travel Extract- Departure - Dubai  BC Counter Only -  21 Oct 2018.xls\n",
      "D:\\Emaratech\\Work\\Travel Extract- Departure - Dubai  BC Counter Only -  21 Oct 2018.xlsx\n",
      "D:\\Emaratech\\Work\\Travel Extract- Departure -Dubai  BC Counter Only -  17 Oct 2018.xls\n",
      "D:\\Emaratech\\Work\\Travel Extract- Departure -Dubai  BC Counter Only -  17 Oct 2018.xlsx\n",
      "D:\\Emaratech\\Work\\Travel Extract- Departure -Dubai  BC Counter Only -  17 Sep 2018.xls\n",
      "D:\\Emaratech\\Work\\Travel Extract- Departure -Dubai  BC Counter Only -  17 Sep 2018.xlsx\n",
      "D:\\Emaratech\\Work\\Travel Extract- Departure -Dubai  BC Counter Only -  27 Sep 2018.xlsx\n",
      "D:\\Emaratech\\Work\\Travel Extract- Departure -Dubai  BC Counter Only - 29 Aug 2018 11pm - 30 Aug 2018 3AM.xls\n",
      "D:\\Emaratech\\Work\\Travel Extract- Departure -Dubai  BC Counter Only - 29 Aug 2018 11pm - 30 Aug 2018 3AM.xlsx\n",
      "D:\\Emaratech\\Work\\Travel Extract- Departure -Dubai  BC Counter Only -5th July 2018.xls\n",
      "D:\\Emaratech\\Work\\Travel Extract- Departure -Dubai  BC Counter Only -5th July 2018.xlsx\n",
      "D:\\Emaratech\\Work\\Travel Extract- Departure-Dubai  BC Counter Only -6th July 2018.xls\n",
      "D:\\Emaratech\\Work\\Travel Extract- Departure-Dubai  BC Counter Only -6th July 2018.xlsx\n",
      "D:\\Emaratech\\Work\\Travel Extract- For User ML5249 - With passenger Details - Nov 04 2017.xlsx\n",
      "D:\\Emaratech\\Work\\Travel from MOI on Close Permit or Residence.xlsx\n",
      "D:\\Emaratech\\Work\\Travel Info.jpg\n",
      "D:\\Emaratech\\Work\\Travel list (Land Border 20Nov to 26Nov 2018) _v002.xlsx\n",
      "D:\\Emaratech\\Work\\Travel missing in Vision Due to MOI Cancellation on 17th Mar 2020.xlsx\n",
      "D:\\Emaratech\\Work\\Travel Missmatch  - Aug - 2020.xlsx\n",
      "D:\\Emaratech\\Work\\Travel Port Correction.xlsx\n",
      "D:\\Emaratech\\Work\\Travel Processing Time Analysis - July 2nd 2018.xlsx\n",
      "D:\\Emaratech\\Work\\Travel Report Reprint Peak Hour with Date Stats.xlsx\n",
      "D:\\Emaratech\\Work\\Travel Stats - Dubai Airport - 2017 and 2018 - Person Type Terminal.xlsx\n",
      "D:\\Emaratech\\Work\\Travel Stats - Dubai Airport - 2017 and 2018.xlsx\n",
      "D:\\Emaratech\\Work\\Travel Stats - Dubai Airport - Terminal vise - 1st and 2nd December 2017.xlsx\n",
      "D:\\Emaratech\\Work\\Travel Stats - Dubai Airport - Vision and Legacy (ports 200&205).xlsx\n",
      "D:\\Emaratech\\Work\\Travel Stats - Dubai Airport Arrival - 1st Jan 2018 till 30th Jun 2018 - Only Expats.xlsx\n",
      "D:\\Emaratech\\Work\\Travel Stats - Dubai Airport Departures Only - NGE vs NGB vs BC - 2016 vs 2017 vs 2018.xlsx\n",
      "D:\\Emaratech\\Work\\Travel Stats - Dubai Airports - 2016 (001).xlsx\n",
      "D:\\Emaratech\\Work\\Travel Stats - Dubai Airports - 2016 - 2017 - 2018 (001).xlsx\n",
      "D:\\Emaratech\\Work\\Travel Stats - Dubai Airports - 2017 (002).xlsx\n",
      "D:\\Emaratech\\Work\\Travel Stats - Dubai Airports - 2017.xlsx\n",
      "D:\\Emaratech\\Work\\Travel Stats - Dubai Airports - 2018 (002).xlsx\n",
      "D:\\Emaratech\\Work\\Travel Stats - Dubai Airports - 2018 (003).xlsx\n",
      "D:\\Emaratech\\Work\\Travel Stats - Dubai Airports - 2018.xlsx\n",
      "D:\\Emaratech\\Work\\Travel Stats - Dubai Airports - 205,2016,2017.xlsx\n",
      "D:\\Emaratech\\Work\\Travel Stats - Dubai Ariport - Only Counters - BC and NGE - AgeGroup 6-18 - Jan18-Feb18.xlsx\n",
      "D:\\Emaratech\\Work\\Travel Stats - Dubai Ariports - Terminal Wise - 1st Jan 2018 - 21 Jul 2018.xlsx\n",
      "D:\\Emaratech\\Work\\Travel Stats - eBORDER & Hatta Border - April 2017.xlsx\n",
      "D:\\Emaratech\\Work\\Travel Stats - First Time Traveller - 2017.sql\n",
      "D:\\Emaratech\\Work\\Travel Stats - For Dubai Terminals - 2016.xlsx\n",
      "D:\\Emaratech\\Work\\Travel Stats - Jan - June 2018 - person type,terminal - monthly basis.xlsx\n",
      "D:\\Emaratech\\Work\\Travel Stats - Pre-Issued Visa - Entry Through Dubai Ports - 2017.xlsx\n",
      "D:\\Emaratech\\Work\\Travel Stats - Terminal - 2017.xls\n",
      "D:\\Emaratech\\Work\\Travel Stats - Terminal 3 Arrival - 29 Aug 2018 12AM - 6AM.xlsx\n",
      "D:\\Emaratech\\Work\\Travel Stats - Top 10 Nationalities on  Dubai Terminals -  Entry for 2018 - Till 26 July 2017.xlsx\n",
      "D:\\Emaratech\\Work\\Travel Stats - Top 10 Nationality Entry  for 2017 - Till 18 July 2017.xlsx\n",
      "D:\\Emaratech\\Work\\Travel Stats - User ML4802 - 23 July 2017 - Copy.xlsx\n",
      "D:\\Emaratech\\Work\\Travel Stats - User ML4802 - 23 July 2017.xlsx\n",
      "D:\\Emaratech\\Work\\Travel Stats - vision -  for Terminals - 11 Sep 2017 to 18 Sep 2017.xlsx\n",
      "D:\\Emaratech\\Work\\Travel Stats - Vision - Feb17.xlsx\n",
      "D:\\Emaratech\\Work\\Travel Stats - Vision - From Start of Gates - till  03-Feb-2018.xlsx\n",
      "D:\\Emaratech\\Work\\Travel Stats - Vision - From Start of Gates - till  03-Mar-2018.xlsx\n",
      "D:\\Emaratech\\Work\\Travel Stats - Vision - From Start of Gates - till  17-Feb-2018.xlsx\n",
      "D:\\Emaratech\\Work\\Travel Stats - Vision - From Start of Gates - till  20-Jan-2018.xlsx\n",
      "D:\\Emaratech\\Work\\Travel Stats - Vision - From Start of Gates - till  24-Feb-2018.xlsx\n",
      "D:\\Emaratech\\Work\\Travel Stats - Vision - From Start of Gates - till  27-Jan-2018.xlsx\n",
      "D:\\Emaratech\\Work\\Travel Stats - Vision - From Start of Gates - till 13-Jan-2018.xlsx\n",
      "D:\\Emaratech\\Work\\Travel Stats - Vision - from the start of the gates.xlsx\n",
      "D:\\Emaratech\\Work\\Travel Stats - Vision Boder Control 09-10-2017 till 15-10-2017.xlsx\n",
      "D:\\Emaratech\\Work\\Travel Stats - Vision Only - Max travel count day - last 6 months - Hourly Basis.xlsx\n",
      "D:\\Emaratech\\Work\\Travel Stats - Vision.xlsx\n",
      "D:\\Emaratech\\Work\\Travel Stats for Terminals - 23 April 2017 to 30 April 2017.xlsx\n",
      "D:\\Emaratech\\Work\\Travel Stats for Vision - Person type - Terminal 3 Arrival - 2017 (002).xlsx\n",
      "D:\\Emaratech\\Work\\Travel Stats for Vision - Person type - Terminal 3 Arrival - 2017.xlsx\n",
      "D:\\Emaratech\\Work\\travel stats query.sql\n",
      "D:\\Emaratech\\Work\\Travel Stats Vision - entry statistics for Brazil, Argentina and Khazakhistan.xlsx\n",
      "D:\\Emaratech\\Work\\Travel Stats Vision -On Arrival entry statistics for china and russia.xlsx\n",
      "D:\\Emaratech\\Work\\Travel Stats Vision 01-July-2017 till 30 -Sep-2017 - Person Type (003).xlsx\n",
      "D:\\Emaratech\\Work\\Travel Stats Vision 01-July-2017 till 30 -Sep-2017.xlsx\n",
      "D:\\Emaratech\\Work\\Travel Stats with Flight Schedule comparison (002).xlsx\n",
      "D:\\Emaratech\\Work\\Travel Stats with Flight Schedule comparison.xlsx\n",
      "D:\\Emaratech\\Work\\travel stats.html\n",
      "D:\\Emaratech\\Work\\Travel Status - Exit.xlsx\n",
      "D:\\Emaratech\\Work\\Travel Status - Q1 2018 - DXB counters and gates.xlsx\n",
      "D:\\Emaratech\\Work\\Travel Sumary - Terminal - 08 May 17 till 13 May 17.xlsx\n",
      "D:\\Emaratech\\Work\\Travel Sumary - Terminal - 14 May 17 till 21 May 17.xlsx\n",
      "D:\\Emaratech\\Work\\Travel Sumary - Terminal - 28 May 17 till 04 June 17.xlsx\n",
      "D:\\Emaratech\\Work\\Travel Sumary - Terminal - 30 April 17 till 07 May 17.xlsx\n",
      "D:\\Emaratech\\Work\\Travel Sumary - Vision - By Terminal - 11 Sep 17 till 18 Sep 17.xlsx\n",
      "D:\\Emaratech\\Work\\Travel Summary - 6 months - 01Jan2017 till 27Jul2017 v(2).xlsx\n",
      "D:\\Emaratech\\Work\\Travel Summary - Arrival -Dubai  BC Counter Only - 2017 ( Age Group).xlsx\n",
      "D:\\Emaratech\\Work\\Travel Summary - Arrival -Dubai  BC Counter Only - 2017 ( Nationality).xlsx\n",
      "D:\\Emaratech\\Work\\Travel Summary - Arrival -Dubai  BC Counter Only - 2017 ( on Terminal  - Profile Availability).xlsx\n",
      "D:\\Emaratech\\Work\\Travel Summary - Arrival -Dubai  BC Counter Only - 2017 ( Person type - Terminal).xlsx\n",
      "D:\\Emaratech\\Work\\Travel Summary - Arrival -Dubai  BC Counter Only - 2017.xlsx\n",
      "D:\\Emaratech\\Work\\Travel Summary - Arrival -Dubai  BC Counter Only - Apr 2017.sql\n",
      "D:\\Emaratech\\Work\\Travel Summary - Arrival -Dubai  BC Counter Only - Aug 2017.sql\n",
      "D:\\Emaratech\\Work\\Travel Summary - Arrival -Dubai  BC Counter Only - Dec 2017.xlsx\n",
      "D:\\Emaratech\\Work\\Travel Summary - Arrival -Dubai  BC Counter Only - Feb 2017.xlsx\n",
      "D:\\Emaratech\\Work\\Travel Summary - Arrival -Dubai  BC Counter Only - Jan 2017.xlsx\n",
      "D:\\Emaratech\\Work\\Travel Summary - Arrival -Dubai  BC Counter Only - Jul 2017.sql\n",
      "D:\\Emaratech\\Work\\Travel Summary - Arrival -Dubai  BC Counter Only - Jun 2017.sql\n",
      "D:\\Emaratech\\Work\\Travel Summary - Arrival -Dubai  BC Counter Only - Mar 2017.sql\n",
      "D:\\Emaratech\\Work\\Travel Summary - Arrival -Dubai  BC Counter Only - March- April 2018( Person type - Terminal).xlsx\n",
      "D:\\Emaratech\\Work\\Travel Summary - Arrival -Dubai  BC Counter Only - May 2017.sql\n",
      "D:\\Emaratech\\Work\\Travel Summary - Arrival -Dubai  BC Counter Only - Nov 2017.xlsx\n",
      "D:\\Emaratech\\Work\\Travel Summary - Arrival -Dubai  BC Counter Only - Oct 2017.xlsx\n",
      "D:\\Emaratech\\Work\\Travel Summary - Arrival -Dubai  BC Counter Only - Sep 2017.sql\n",
      "D:\\Emaratech\\Work\\Travel Summary - DXB all Travels - with Pre-clearance Result (003).sql\n",
      "D:\\Emaratech\\Work\\Travel Summary - DXB all Travels - with Pre-clearance Result.sql\n",
      "D:\\Emaratech\\Work\\Travel Summary - On Arrival - Russia, China and India(Green Card Holders)(v2) - 16Jul2017 - 22Jul2017.xlsx\n",
      "D:\\Emaratech\\Work\\Travel Summary - On Arrival - Russia, China and India(Green Card Holders)(v2).xlsx\n",
      "D:\\Emaratech\\Work\\Travel Summary - On Arrival - Russia, China and India(Green Card Holders).xlsx\n",
      "D:\\Emaratech\\Work\\Travel Summary - Qatari national Travels After 5th July 2017 - ML171,ML1029,ML3836,ML4082,ML4523.xlsx\n",
      "D:\\Emaratech\\Work\\Travel Summary - Qatari national Travels After May 1st 2017 - ML4646,ML3995,ML4916,ML4547,ML5131.xlsx\n",
      "D:\\Emaratech\\Work\\Travel Summary - Stats 11-Sep-2017 till 18-Sep-2017.xlsx\n"
     ]
    },
    {
     "name": "stdout",
     "output_type": "stream",
     "text": [
      "D:\\Emaratech\\Work\\Travel Summary - vision 8th of Sept till 17th of Sept with NGA.xlsx\n",
      "D:\\Emaratech\\Work\\Travel Summary - vision 8th of Sept till 17th of Sept.xlsx\n",
      "D:\\Emaratech\\Work\\Travel Summary 2015.xlsx\n",
      "D:\\Emaratech\\Work\\Travel Summary Entry.xlsx\n",
      "D:\\Emaratech\\Work\\Travel Summary Exit.xlsx\n",
      "D:\\Emaratech\\Work\\Travel Summary On arrival Chinese and Russian for Feb2017.xlsx\n",
      "D:\\Emaratech\\Work\\Travel Summary report.xlsx\n",
      "D:\\Emaratech\\Work\\Travel Summary Vision BC- Terminal - Monthly Split for 2017.xlsx\n",
      "D:\\Emaratech\\Work\\Travel Tourist Visa Stats - Dubai Vs MOI -( Jan - April )- 2017 Vs 2018.xlsx\n",
      "D:\\Emaratech\\Work\\Travel Trans Jan to Jun 2018_v2- normal counter with Vision Comparison.xlsx\n",
      "D:\\Emaratech\\Work\\Travel Transactions - ML2128 - 30 Nov 2018 5am to 2pm _ v(002).xlsx\n",
      "D:\\Emaratech\\Work\\Travel Transactions - ML2128 - 30 Nov 2018 5am to 2pm.xlsx\n",
      "D:\\Emaratech\\Work\\Travel Transactions - ML3970 - 17 Feb 2019_ v(001).xlsx\n",
      "D:\\Emaratech\\Work\\travel validation failure sample messages(v2).txt\n",
      "D:\\Emaratech\\Work\\travel validation failure sample messages.txt\n",
      "D:\\Emaratech\\Work\\Travellers_20170417_at_201704171500 (004).xls\n",
      "D:\\Emaratech\\Work\\Travellers_20170417_at_201704171500 (004).xls.xlsx\n",
      "D:\\Emaratech\\Work\\Travellers_20170417_at_201704171500 (004).xlsx\n",
      "D:\\Emaratech\\Work\\travellers_20170417_at_201704171500.xlsx\n",
      "D:\\Emaratech\\Work\\Travels Stats - T3 Departure - 06th Mar 2018 - 12 Mar 2018 - Hourly.xlsx\n",
      "D:\\Emaratech\\Work\\TRAVELS THROUGH SMARTGATE (GATE)+Vision.xlsx\n",
      "D:\\Emaratech\\Work\\Travels without travel document on nationality.xlsx\n",
      "D:\\Emaratech\\Work\\Travel_10July2016_GCC_UAE_National_T3 - v2.xlsx\n",
      "D:\\Emaratech\\Work\\Travel_10July2016_GCC_UAE_National_T3.xlsx\n",
      "D:\\Emaratech\\Work\\travel_detail snapshot.jpg\n",
      "D:\\Emaratech\\Work\\travel_detail.xlsx\n",
      "D:\\Emaratech\\Work\\travel_document_type_allowed.sql\n",
      "D:\\Emaratech\\Work\\TRAVEL_DOCUMENT_TYPE_ALLOWED.xlsx\n",
      "D:\\Emaratech\\Work\\travel_request.sql\n",
      "D:\\Emaratech\\Work\\travel_summary.csv\n",
      "D:\\Emaratech\\Work\\travl consis.html\n",
      "D:\\Emaratech\\Work\\Trend.jpg\n",
      "D:\\Emaratech\\Work\\TRG_AI_R_APPDOCPOST.sql\n",
      "D:\\Emaratech\\Work\\TRG_AI_R_GCCAPPPOST.sql\n",
      "D:\\Emaratech\\Work\\trigger profile MS.sql\n",
      "D:\\Emaratech\\Work\\trvl_consis_emailContent.html\n",
      "D:\\Emaratech\\Work\\Try 1 - Script - Correct Unknown Profession - Bulk Fix.txt\n",
      "D:\\Emaratech\\Work\\UAE and GCC Local ProfilePull Cases - 27 March 18 to 03 Apr 18.xlsx\n",
      "D:\\Emaratech\\Work\\UAE Local Passport showing as Resident Analysis.xlsx\n",
      "D:\\Emaratech\\Work\\UAE Local with Active Residence and passport validity 5 years.xlsx\n",
      "D:\\Emaratech\\Work\\UAE Locals.xlsx\n",
      "D:\\Emaratech\\Work\\UAE National Valid Legality.jpg\n",
      "D:\\Emaratech\\Work\\UDB Profile Image Mapping.docx\n",
      "D:\\Emaratech\\Work\\UDB209421805-eVISA.pdf\n",
      "D:\\Emaratech\\Work\\UDBs_set1.csv\n",
      "D:\\Emaratech\\Work\\UDB_details_1.xls\n",
      "D:\\Emaratech\\Work\\udb_search_test_result.xls\n",
      "D:\\Emaratech\\Work\\Undo Outpass and Violation Payment when done separatly.sql\n",
      "D:\\Emaratech\\Work\\Undo Outpass payment - Permit.sql\n",
      "D:\\Emaratech\\Work\\Undo Outpass violation and payment.txt\n",
      "D:\\Emaratech\\Work\\Undo Tavel only accompany.txt\n",
      "D:\\Emaratech\\Work\\Undo travel Application Error Log.txt\n",
      "D:\\Emaratech\\Work\\undo travel contact technical support error - 14Jan2018.txt\n",
      "D:\\Emaratech\\Work\\Undo travel procedure errors.xlsx\n",
      "D:\\Emaratech\\Work\\Undo Violation And OutPass - IM205789.sql\n",
      "D:\\Emaratech\\Work\\undo_migrated_date_27Apr2016.sql\n",
      "D:\\Emaratech\\Work\\Unit Test cases - LockDown Violation Exemption - on Files - Staging.xlsx\n",
      "D:\\Emaratech\\Work\\University Case - Permit residence DF cases.xlsx\n",
      "D:\\Emaratech\\Work\\University Case - Permits - v2.xlsx\n",
      "D:\\Emaratech\\Work\\University Case - Permits.xlsx\n",
      "D:\\Emaratech\\Work\\University Case - Residence - v2.xlsx\n",
      "D:\\Emaratech\\Work\\University Case - Residence.xlsx\n",
      "D:\\Emaratech\\Work\\Unknown Profession New Cases - 01 Dec 2016.xlsx\n",
      "D:\\Emaratech\\Work\\Unknown Profession New Cases - 17 Nov 2016.xlsx\n",
      "D:\\Emaratech\\Work\\Unknown Profession New Cases - 20 Nov 2016.xlsx\n",
      "D:\\Emaratech\\Work\\Unknown Profession New Cases - 21 Nov 2016.xlsx\n",
      "D:\\Emaratech\\Work\\Unknown Profession New Cases - 29 Nov 2016.xlsx\n",
      "D:\\Emaratech\\Work\\Unknown Profession New Cases.xlsx\n",
      "D:\\Emaratech\\Work\\Unmerge Case  Script.txt\n",
      "D:\\Emaratech\\Work\\unmerge_generalization.txt\n",
      "D:\\Emaratech\\Work\\Untitled.jpg\n",
      "D:\\Emaratech\\Work\\Untitled.log\n",
      "D:\\Emaratech\\Work\\Untitled.pdf\n",
      "D:\\Emaratech\\Work\\Untitled.synctex(busy)\n",
      "D:\\Emaratech\\Work\\Untitled.tex\n",
      "D:\\Emaratech\\Work\\Update New Estab to residence event.txt\n",
      "D:\\Emaratech\\Work\\Update profile - Stats by officer for Sep 2020.xlsx\n",
      "D:\\Emaratech\\Work\\Updated Scripts.sql\n",
      "D:\\Emaratech\\Work\\UpdateEntryPermitReq - Dubai Files Only.txt\n",
      "D:\\Emaratech\\Work\\UpdateEntryPermitReq - MOI Files Only.txt\n",
      "D:\\Emaratech\\Work\\UpdateEntryPermitReq - Visa Type 17 - MOI Events.txt\n",
      "D:\\Emaratech\\Work\\UpdateEntryPermitReq - Visa Type 17 - MOI Events_19Dec2018.txt\n",
      "D:\\Emaratech\\Work\\UpdateEntryPermitReq-PermitNoChange.xml\n",
      "D:\\Emaratech\\Work\\User interation (ml1508,ml1259,ml2248) - IQC for change status application  - 14 nov 2018 to 09 Feb 2019.xlsx\n",
      "D:\\Emaratech\\Work\\User List.txt\n",
      "D:\\Emaratech\\Work\\user privilege - privilege id 903.sql\n",
      "D:\\Emaratech\\Work\\user privilege.sql\n",
      "D:\\Emaratech\\Work\\User System Info Unknonw cases.xlsx\n",
      "D:\\Emaratech\\Work\\User Terminal Unknown Cases.xlsx\n",
      "D:\\Emaratech\\Work\\User Transactions.xlsx\n",
      "D:\\Emaratech\\Work\\User Transactions_v1.xlsx\n",
      "D:\\Emaratech\\Work\\User Transactions_v2.xlsx\n",
      "D:\\Emaratech\\Work\\user update.sql\n",
      "D:\\Emaratech\\Work\\user.jpg\n",
      "D:\\Emaratech\\Work\\Users having violation exemption request.xlsx\n",
      "D:\\Emaratech\\Work\\Users having violation exemption request_17Mar2019.xlsx\n",
      "D:\\Emaratech\\Work\\user_list.jpg\n",
      "D:\\Emaratech\\Work\\user_list1.jpg\n",
      "D:\\Emaratech\\Work\\user_privilege_bkp.sql\n",
      "D:\\Emaratech\\Work\\User_terminal.sql.xlsx\n",
      "D:\\Emaratech\\Work\\User_terminal.xls\n",
      "D:\\Emaratech\\Work\\user_terminal_bkp.sql\n",
      "D:\\Emaratech\\Work\\Validity Comparison.xlsx\n",
      "D:\\Emaratech\\Work\\Validity Corrected for provided permits.xlsx\n",
      "D:\\Emaratech\\Work\\Validity Correction - Dubai Files - event.txt\n",
      "D:\\Emaratech\\Work\\Validity Corruption - Visa type 14.xlsx\n",
      "D:\\Emaratech\\Work\\Validity Date Corruption - Visa Type 77 - Extract.xlsx\n",
      "D:\\Emaratech\\Work\\Validity Script.sql\n",
      "D:\\Emaratech\\Work\\Validity.txt\n",
      "D:\\Emaratech\\Work\\Validty not extended.xlsx\n",
      "D:\\Emaratech\\Work\\vatican travel.txt\n",
      "D:\\Emaratech\\Work\\verify query.sql\n",
      "D:\\Emaratech\\Work\\View Queries.sql\n",
      "D:\\Emaratech\\Work\\vilation_paid.csv\n",
      "D:\\Emaratech\\Work\\vioaltion request.msg\n",
      "D:\\Emaratech\\Work\\Violation - DevTest Data- Residence Extension Reversion - Cancel Issue.xlsx\n",
      "D:\\Emaratech\\Work\\Violation - StagingTest Data- Residence Extension Reversion.xlsx\n",
      "D:\\Emaratech\\Work\\Violation and Outpass Payment from BC and FIS - Q4 - 2019-2020.xls\n",
      "D:\\Emaratech\\Work\\Violation and Outpass Payment from BC and FIS - Q4 - 2019-2020.xlsx\n",
      "D:\\Emaratech\\Work\\Violation calculation on extended residency - Dev Test Cases - 12 Oct 2020 - TRKSRV-94216.xlsx\n",
      "D:\\Emaratech\\Work\\Violation calculation on extended residency - Staging Test Cases - 12 Oct 2020 - TRKSRV-94216.xlsx\n",
      "D:\\Emaratech\\Work\\violation chnages.sql\n",
      "D:\\Emaratech\\Work\\violation chnages.~sql\n",
      "D:\\Emaratech\\Work\\Violation Exemption - Schengen BrazilOnArrival - Test Cases(Dev) - 31Dec2020.xlsx\n",
      "D:\\Emaratech\\Work\\Violation Exemption - Schengen BrazilOnArrival - Test Cases(Staging) - 31Dec2020.xlsx\n",
      "D:\\Emaratech\\Work\\Violation Exemption - With Payment - Exemption Request between 1st Jan 2018 and 31st Jul 2018.xlsx\n",
      "D:\\Emaratech\\Work\\Violation Exemption - Without Payment - Exemption Request between 1st Jan 2018 and 31st Jul 2018.xlsx\n",
      "D:\\Emaratech\\Work\\Violation Exemption Request - Top 10 Nationalities (002).xlsx\n",
      "D:\\Emaratech\\Work\\Violation Exemption Request - Top 10 Nationalities.xlsx\n",
      "D:\\Emaratech\\Work\\Violation Exemption Request between 1st May 2019 and 7th Sep 2019.xlsx\n",
      "D:\\Emaratech\\Work\\Violation Exemption Request between 1st May 2019 and 9th Sep 2019 (002).xlsx\n",
      "D:\\Emaratech\\Work\\Violation exemption request Jan 2018.xlsx\n",
      "D:\\Emaratech\\Work\\Violation Exemption Request with Due date in Dec 2017 and No violation Payment.xlsx\n",
      "D:\\Emaratech\\Work\\Violation Exemption Request Without Payment Sep-Oct 2017.xlsx\n",
      "D:\\Emaratech\\Work\\Violation Exemption Stats - 2017.xlsx\n",
      "D:\\Emaratech\\Work\\Violation Exemption Stats(v002).xlsx\n",
      "D:\\Emaratech\\Work\\Violation Exemption Stats.xlsx\n",
      "D:\\Emaratech\\Work\\violation exemtpion.csv\n",
      "D:\\Emaratech\\Work\\Violation Payment from Vision -  Details for 2017 - Selected Users.xlsx\n",
      "D:\\Emaratech\\Work\\Violation Payment In Vision During Period 1st Aug 2018 - 31 Dec 2018 for Zero Amount.xlsx\n",
      "D:\\Emaratech\\Work\\Violation payment pooler job failed cases.xlsx\n",
      "D:\\Emaratech\\Work\\Violation Payment Stats - 1st Jan 2018 till 24 Dec 2018.xlsx\n",
      "D:\\Emaratech\\Work\\Violation Payment Stats.xlsx\n",
      "D:\\Emaratech\\Work\\Violation Payment with Exemption comparison.xlsx\n",
      "D:\\Emaratech\\Work\\violation test cases.xlsx\n",
      "D:\\Emaratech\\Work\\Violation TestCases - Dev.xlsx\n",
      "D:\\Emaratech\\Work\\Violation TestCases - Pretest.xlsx\n",
      "D:\\Emaratech\\Work\\Violation TestCases - Staging.xlsx\n",
      "D:\\Emaratech\\Work\\ViolationListOneWeek.xlsx\n",
      "D:\\Emaratech\\Work\\violation_exception.xlsx\n",
      "D:\\Emaratech\\Work\\violation_exemption_newborn_repick.sql\n",
      "D:\\Emaratech\\Work\\VIOLATION_PAID.sql\n",
      "D:\\Emaratech\\Work\\violation_paid_2082715044684.txt\n",
      "D:\\Emaratech\\Work\\violation_paid_replication_eform.sql\n",
      "D:\\Emaratech\\Work\\VIOLATION_PAID_SLAB_DETAIL.sql\n",
      "D:\\Emaratech\\Work\\VIOLATION_PAYMENT.sql\n",
      "D:\\Emaratech\\Work\\violation_payment.xlsx\n",
      "D:\\Emaratech\\Work\\VIOLATION_PAYMENT_DETAIL.SQL\n",
      "D:\\Emaratech\\Work\\VIOLATION_PAYMENT_DISCOUNT.txt\n",
      "D:\\Emaratech\\Work\\violation_payment_id_load1.xlsx\n",
      "D:\\Emaratech\\Work\\violation_payment_id_load2.xlsx\n",
      "D:\\Emaratech\\Work\\violation_receipt.pdf\n",
      "D:\\Emaratech\\Work\\Violator on Dubai Permit_Residence_Outpass for Visa types 2 ,3, 7 Expired Before 1st Aug 2018.xlsx\n",
      "D:\\Emaratech\\Work\\Violator on Dubai Permit_Residence_Outpass for Visa types 2 ,3, 7 Expired Before 1st Aug 2018_v(002).xlsx\n",
      "D:\\Emaratech\\Work\\Violators On Dubai Files as of 24th October 2018 with sponsor type_estab type details.xlsx\n",
      "D:\\Emaratech\\Work\\vio_flat_file.txt\n",
      "D:\\Emaratech\\Work\\Visa 88 closure list.xlsx\n",
      "D:\\Emaratech\\Work\\Visa Cancelation (Before and After entry).jpg\n",
      "D:\\Emaratech\\Work\\Visa Cancelation Applications (Before and After entry)  - Over Counter - Q2 2019.jpg\n",
      "D:\\Emaratech\\Work\\visa seq config year end scripts.sql\n",
      "D:\\Emaratech\\Work\\Visa Sequence Configuration - Year End Activity 2017.xlsx\n",
      "D:\\Emaratech\\Work\\Visa Sequence reset - 2016 Year end Activity (004).xlsx\n",
      "D:\\Emaratech\\Work\\Visa Sequence reset - 2016 Year end Activity.xlsx\n",
      "D:\\Emaratech\\Work\\Visa Sequence Reset Verification 2021.xlsx\n",
      "D:\\Emaratech\\Work\\Visa sequence skip list.txt\n",
      "D:\\Emaratech\\Work\\Visa Trans on DUBAI File from ESB - July 2020 -1st Feb 2021.xlsx\n",
      "D:\\Emaratech\\Work\\Visa Trans on DUBAI File from ESB - July 2020 -1st Feb 2021_v2.xlsx\n",
      "D:\\Emaratech\\Work\\Visa Travel stats.html\n",
      "D:\\Emaratech\\Work\\Visa type 15 - eVisa Print.pdf\n",
      "D:\\Emaratech\\Work\\Visa Type 17 - Corrected Permits - 10 Nov 2019 - analysis (6th Feb 2020).xlsx\n",
      "D:\\Emaratech\\Work\\Visa Type 17 - Corrected Permits - 10 Nov 2019.xlsx\n",
      "D:\\Emaratech\\Work\\Visa Type 17 - Corrupted Validity - Last Entry from MOI.xlsx\n",
      "D:\\Emaratech\\Work\\Visa Type 17 - Ignoring Lift Closure due to other active files_v1.xlsx\n",
      "D:\\Emaratech\\Work\\Visa Type 17 - MOI VDE_EXPIRY_DATE Issue.xlsx\n",
      "D:\\Emaratech\\Work\\Visa Type 17 - MOI Wrong Validity date.xlsx\n",
      "D:\\Emaratech\\Work\\Visa Type 17 - Need Permit Dates Correction.xlsx\n",
      "D:\\Emaratech\\Work\\Visa Type 17 - Permit in ISSUED with Expired Validity Not closed.xlsx\n",
      "D:\\Emaratech\\Work\\Visa Type 17 - Tourist Cabin Crew Entry Permit Validity Correction _ V(002) (003).xlsx\n",
      "D:\\Emaratech\\Work\\Visa Type 17 - Wrong Expiry in MOI Cases - With Travel Detail.msg\n",
      "D:\\Emaratech\\Work\\Visa Type 18 legality Analysis for closure permits.xls\n",
      "D:\\Emaratech\\Work\\Visa Type 18 legality Analysis for closure permits.xlsx\n",
      "D:\\Emaratech\\Work\\Visa Type 2 Permit Seqeunce Issue.xlsx\n",
      "D:\\Emaratech\\Work\\Visa type 20 - eVisa Print.pdf\n",
      "D:\\Emaratech\\Work\\Visa Type 21 - Non Dubai Emirates - Jan 2020 - Jan 2021 (till 14th Jan 2021).xlsx\n",
      "D:\\Emaratech\\Work\\VISA TYPE 22 Consistency Check - MOI Vs Vision - 3rd June 2020.xlsx\n",
      "D:\\Emaratech\\Work\\Visa Type 35 Active in Vision.xlsx\n",
      "D:\\Emaratech\\Work\\Visa type 35 active permits enhanced.xlsx\n",
      "D:\\Emaratech\\Work\\Visa type 35 active permits.xlsx\n",
      "D:\\Emaratech\\Work\\Visa type 35 Base Validity Comparison.xlsx\n",
      "D:\\Emaratech\\Work\\Visa type 35 closed permits.xlsx\n",
      "D:\\Emaratech\\Work\\Visa type 35 consistency - Issued in 6 Months - 20Sep2020.xlsx\n",
      "D:\\Emaratech\\Work\\Visa Type 35 Corrupted cases.xlsx\n",
      "D:\\Emaratech\\Work\\Visa Type 35 Corruptions.xlsx\n",
      "D:\\Emaratech\\Work\\Visa type 35 fix.sql\n",
      "D:\\Emaratech\\Work\\Visa Type 35 Update Expiry as issue_date+179.txt\n",
      "D:\\Emaratech\\Work\\Visa type 35.txt\n",
      "D:\\Emaratech\\Work\\Visa type 35.xlsx\n",
      "D:\\Emaratech\\Work\\Visa type 52 - MOI Permits.txt\n",
      "D:\\Emaratech\\Work\\Visa Type 55 - dubai visa - Validity correction event.txt\n",
      "D:\\Emaratech\\Work\\Visa Type 55 issues.xlsx\n",
      "D:\\Emaratech\\Work\\Visa type 62 lifted closure in vision.txt\n",
      "D:\\Emaratech\\Work\\Visa Type 77 - In correct Validity-BaseValidity visas.xls\n",
      "D:\\Emaratech\\Work\\Visa Type 86 - stay days after entry not in 89 or 90.xlsx\n",
      "D:\\Emaratech\\Work\\Visa type 87 exit without violation.xlsx\n",
      "D:\\Emaratech\\Work\\Visa Type 87 Extented for total 80 stay days.xlsx\n",
      "D:\\Emaratech\\Work\\Visa Type 87 Wrong Validity on Entry(v2).xlsx\n",
      "D:\\Emaratech\\Work\\Visa Type 87 Wrong Validity on Entry.csv\n",
      "D:\\Emaratech\\Work\\Visa Type 87 Wrong Validity on Entry.xlsx\n",
      "D:\\Emaratech\\Work\\Visa type 87- eVisa Print.pdf\n",
      "D:\\Emaratech\\Work\\Visa Type 88 permits closure list.txt\n",
      "D:\\Emaratech\\Work\\visa.xls\n",
      "D:\\Emaratech\\Work\\Visas 87, 86, 85, 76, 77, 78 stats on emirates and nationality.xlsx\n",
      "D:\\Emaratech\\Work\\Visas 87, 86, 85, 76, 77, 78 stats on emirates.xlsx\n",
      "D:\\Emaratech\\Work\\VisaSeqAnalysis.xlsx\n",
      "D:\\Emaratech\\Work\\VisaTp_Seq_length_Analysis.sql\n",
      "D:\\Emaratech\\Work\\VisaTp_Seq_length_Analysis.xls\n",
      "D:\\Emaratech\\Work\\VisaTp_Seq_length_Analysis_8th April 2020.xls\n",
      "D:\\Emaratech\\Work\\visa_ TRANS (2).csv\n",
      "D:\\Emaratech\\Work\\VISA_DETAIL.sql\n",
      "D:\\Emaratech\\Work\\VISA_DETAIL.xls\n",
      "D:\\Emaratech\\Work\\VISA_SEQUENCE_SKIP_LIST.xlsx\n",
      "D:\\Emaratech\\Work\\VISA_SEQ_FIX_Verification_001.xls\n",
      "D:\\Emaratech\\Work\\visa_type_lk.csv\n",
      "D:\\Emaratech\\Work\\visa_type_lk_1.csv\n",
      "D:\\Emaratech\\Work\\Vision + NGE travel Stats on Each Quarter.xlsx\n",
      "D:\\Emaratech\\Work\\Vision and IQC Application User Details.xlsx\n",
      "D:\\Emaratech\\Work\\Vision App Created Count - Nov 2018.xlsx\n",
      "D:\\Emaratech\\Work\\Vision Application - Average Processing time - Visa types 2,87 - Q1 2018 ( v2).xlsx\n",
      "D:\\Emaratech\\Work\\Vision Application - Medical Test results - 2016.xlsx\n",
      "D:\\Emaratech\\Work\\Vision Application - Medical Test results - Sep 2017 Oct 2017.xlsx\n",
      "D:\\Emaratech\\Work\\Vision Application Count NewPermit-Cancel Applications - 2017.xlsx\n",
      "D:\\Emaratech\\Work\\Vision Application status Missmatch with IQC.xlsx\n",
      "D:\\Emaratech\\Work\\Vision Application Users with Null port id.xlsx\n",
      "D:\\Emaratech\\Work\\Vision Approved Applications - having previous rejection status_25Sep2017.xlsx\n",
      "D:\\Emaratech\\Work\\Vision Approved NewPermit Applications Under 18 Age for Visa Types 76, 77, 78, 87.xlsx\n",
      "D:\\Emaratech\\Work\\Vision BC-NGE BackDated Travel Script.sql\n",
      "D:\\Emaratech\\Work\\Vision Border Visa - Nationality Document Type Allowed Configuration - 05 March 2019.xlsx\n",
      "D:\\Emaratech\\Work\\Vision Border Visa - Nationality Document Type Allowed Configuration - 13 March 2019.xlsx\n",
      "D:\\Emaratech\\Work\\Vision Border Visa - Nationality Document Type Allowed Configuration - 15 Nov 2018.xlsx\n",
      "D:\\Emaratech\\Work\\Vision Border Visa - Nationality Document Type Allowed Configuration - 18 Oct 2018.xlsx\n",
      "D:\\Emaratech\\Work\\Vision CLIENT_MAST Duplicates to Delete After Mapping Parent (002).xlsx\n",
      "D:\\Emaratech\\Work\\Vision CLIENT_MAST Duplicates to Delete After Mapping Parent.xlsx\n",
      "D:\\Emaratech\\Work\\Vision Core Auto Processed applications from Echannels - Approved on Q1 & Q2 of 2019.xlsx\n",
      "D:\\Emaratech\\Work\\Vision Core More Document Required Privileged Users.xlsx\n",
      "D:\\Emaratech\\Work\\Vision Core performance Report sep 2016 - oct 2016 - v2.xlsx\n",
      "D:\\Emaratech\\Work\\Vision Core performance Report sep 2016 - oct 2016.xlsx\n",
      "D:\\Emaratech\\Work\\Vision Counter Travel Stats - 01 Jan 2018 - 12th Nov 2018 - On Person Type and Terminal - Monthly Basis.xlsx\n",
      "D:\\Emaratech\\Work\\Vision Counter Travels Vs Profile Pull comparison - 1st Jan 2019 - 22nd April 2019.xlsx\n",
      "D:\\Emaratech\\Work\\Vision Duplicate Profiles With Active file on either one profile - Resident Cases_v001.xlsx\n",
      "D:\\Emaratech\\Work\\Vision Duplicate Profiles With Active file on either one profile - Resident Cases_v001.zip\n",
      "D:\\Emaratech\\Work\\Vision Duplicate Profiles With Active file on either one profile - Visa Cases_v001.xlsx\n",
      "D:\\Emaratech\\Work\\Vision Duplicate Profiles With Active file on either one profile_v001.xls\n",
      "D:\\Emaratech\\Work\\Vision Duplicate Profiles With Active file on either one profile_v001.xlsx\n",
      "D:\\Emaratech\\Work\\Vision Duplicate Profiles With Active file on either one profile_v001.zip\n",
      "D:\\Emaratech\\Work\\Vision Edbara Number Analysis - 12Jan2021.xlsx\n",
      "D:\\Emaratech\\Work\\Vision Edbara Number Analysis -v2- 18Jan2021.xlsx\n",
      "D:\\Emaratech\\Work\\Vision Entry Pre Clearance Stats.xlsx\n",
      "D:\\Emaratech\\Work\\Vision Fee.sql\n",
      "D:\\Emaratech\\Work\\Vision IQCS performance Report sep 2016 - oct 2016 - v2.xlsx\n",
      "D:\\Emaratech\\Work\\Vision IQCS performance Report sep 2016 - oct 2016.xlsx\n",
      "D:\\Emaratech\\Work\\Vision issued On Arival Permit Correction.xlsx\n",
      "D:\\Emaratech\\Work\\vision Lookup Tables with Sample data.csv\n",
      "D:\\Emaratech\\Work\\vision Lookup Tables with Sample data.txt\n",
      "D:\\Emaratech\\Work\\vision Lookup Tables with Sample data.xlsx\n",
      "D:\\Emaratech\\Work\\Vision Outpass Applications With No Violation Payment and No Ban 2017(002).xlsx\n",
      "D:\\Emaratech\\Work\\Vision Outpass Applications With No Violation Payment and No Ban 2017(003).xlsx\n",
      "D:\\Emaratech\\Work\\Vision Outpass Applications With No Violation Payment and No Ban 2017.xlsx\n",
      "D:\\Emaratech\\Work\\Vision Payment Transactions without Emaratech fees.sql\n",
      "D:\\Emaratech\\Work\\Vision Pending Application due to to_be_file_no conflict (2).xlsx\n",
      "D:\\Emaratech\\Work\\Vision Pending Application due to to_be_file_no conflict.xlsx\n",
      "D:\\Emaratech\\Work\\Vision Profession Comparison.xlsx\n",
      "D:\\Emaratech\\Work\\vision profile having name in lower for last 1 week.xlsx\n",
      "D:\\Emaratech\\Work\\Vision Service not updating application status after document upload from eChannel - PM14432.msg\n",
      "D:\\Emaratech\\Work\\Vision Stats - Disaster Residence , Job Seeker , Violator - as of 10-21-2018.xlsx\n",
      "D:\\Emaratech\\Work\\Vision stats for count of counter passengers on 2017 by terminal.xlsx\n",
      "D:\\Emaratech\\Work\\Vision Stats May 2017.xlsx\n",
      "D:\\Emaratech\\Work\\Vision Temporary Closure File Details.xlsx\n",
      "D:\\Emaratech\\Work\\Vision Transactions Stats 2017.xlsx\n",
      "D:\\Emaratech\\Work\\Vision Travel Screenshot.jpg\n",
      "D:\\Emaratech\\Work\\Vision Travel Stats - 19th - 26th March 2017 for all Terminals.xlsx\n",
      "D:\\Emaratech\\Work\\Vision Travel Stats - 2018.xls\n",
      "D:\\Emaratech\\Work\\Vision Travel Stats - Hourly for Feb 2017.xlsx\n",
      "D:\\Emaratech\\Work\\Vision Travel Stats - Oct 2016 - Visa type.xlsx\n",
      "D:\\Emaratech\\Work\\Vision Travel Stats - Person Type - Screenshot.jpg\n",
      "D:\\Emaratech\\Work\\Vision Travel Status - On Counters Only - 2017.xlsx\n",
      "D:\\Emaratech\\Work\\Vision Travel Summary September 2016.xlsx\n",
      "D:\\Emaratech\\Work\\Vision user statistics 2016.xlsx\n",
      "D:\\Emaratech\\Work\\Vision user statistics 2016_v2.xlsx\n",
      "D:\\Emaratech\\Work\\Vision Whole User Roles and Privileges - 19 Sep 2018.xls\n",
      "D:\\Emaratech\\Work\\Vision Whole User Roles and Privileges - 19 Sep 2018.xlsx\n",
      "D:\\Emaratech\\Work\\vision-prod.rar\n",
      "D:\\Emaratech\\Work\\VisionCore Applications - Require More Document.xlsx\n",
      "D:\\Emaratech\\Work\\Visioncore Script - Violation Configuration Extension.sql\n",
      "D:\\Emaratech\\Work\\Visioncore Script1 - Violation Configuration Extension - 3rdSep2020.sql\n",
      "D:\\Emaratech\\Work\\VisionEvents.sh\n",
      "D:\\Emaratech\\Work\\VisionEvents.zip\n",
      "D:\\Emaratech\\Work\\visioniqcs issue.xlsx\n",
      "D:\\Emaratech\\Work\\VISIONIQCS VS LOOKUP_REF - Copy.xlsx\n",
      "D:\\Emaratech\\Work\\VISIONIQCS VS LOOKUP_REF v1.xlsx\n",
      "D:\\Emaratech\\Work\\VISIONIQCS VS LOOKUP_REF v2.xlsx\n",
      "D:\\Emaratech\\Work\\VISIONIQCS VS LOOKUP_REF.xlsx\n",
      "D:\\Emaratech\\Work\\VISIONIQCS.APPLICANT - PRV_NATIONALITY_ID or PRS_NATIONALITY_ID  or PASSPORT_ISSUE_GOV_ID or PASSPORT_COUNTRY_ID or BIRTH_COUNTRY_ID = 272.xls\n",
      "D:\\Emaratech\\Work\\VISIONIQCS.PROFILE_SEARCH_HISTORY - NATIONALITY_ID = 272.xls\n",
      "D:\\Emaratech\\Work\\VISION_APP.APPLICANT - PRS_NATIONALITY_ID or BIRTH_COUNTRY_ID or PASSPORT_ISSUE_GOV_ID or PASSPORT_COUNTRY_ID = 272.xls\n",
      "D:\\Emaratech\\Work\\VISION_APP.BAN_ABSCONDING_HISTORY - PRS_NAT - 272.xls\n",
      "D:\\Emaratech\\Work\\VISION_APP.ILOG_COUNTRY_LK - COUNTRY_ID = 272.xls\n",
      "D:\\Emaratech\\Work\\VISION_APP.INDIVIDUAL_PROFILE - BIRTH_COUNTRY_ID or PRS_NATIONALITY_ID or PRV_NATIONALITY_ID = 272.xls\n",
      "D:\\Emaratech\\Work\\VISION_APP.PASSPORT - ISSUE_COUNTRY_ID  or ISSUE_GOV_COUNTRY_ID or NATIONALITY_ID = 272.xls\n",
      "D:\\Emaratech\\Work\\VISION_APP.PASSPORT_PERSON_INFO - BIRTH_COUNTRY_ID = 272.xls\n",
      "D:\\Emaratech\\Work\\VISION_APP.PERMIT - TRUCK_NATIONALITY_ID = 272.xls\n",
      "D:\\Emaratech\\Work\\VISION_APP.SBFLT\n",
      "D:\\Emaratech\\Work\\VISION_APP.SPONSOR - SPONSOR_NATIONALITY_ID = 272.xls\n",
      "D:\\Emaratech\\Work\\VISION_APP.TRAVEL_DETAIL - TO_FROM_COUNTRY_ID = 272.xls\n",
      "D:\\Emaratech\\Work\\Vision_application_processing_time_last 6 months.xlsx\n",
      "D:\\Emaratech\\Work\\vision_echannel_status_mapping.xlsx\n",
      "D:\\Emaratech\\Work\\vision_eform_fee_type_mapping.xls\n",
      "D:\\Emaratech\\Work\\vision_est.licensing_authority.xlsx\n",
      "D:\\Emaratech\\Work\\VISION_EST.PERSON_RESPONSIBLE_FOR_BAN - 21 March 2019 Deleted Records.xlsx\n",
      "D:\\Emaratech\\Work\\Vision_Events_30_05_2016.txt\n",
      "D:\\Emaratech\\Work\\VISION_FIS.FIS_CASE - PRS_NATIONALITY_ID = 272.xls\n",
      "D:\\Emaratech\\Work\\VISION_FIS.SBFLT\n",
      "D:\\Emaratech\\Work\\VISION_INFO.sql\n",
      "D:\\Emaratech\\Work\\VISION_INTG.VIOLATION_PAYMENT.xls\n",
      "D:\\Emaratech\\Work\\VISION_SEAPORT.VESSEL - VESSEL_FLAG = 272.xls\n",
      "D:\\Emaratech\\Work\\VISION_SEAPORT.VESSEL_PERMIT - MOI_VESSEL_FLAG = 272.xls\n",
      "D:\\Emaratech\\Work\\Vision_violation_payment_group1-less_equal_31Dec2015.csv\n",
      "D:\\Emaratech\\Work\\Vision_violation_payment_group1-less_equal_31Dec2015.xlsx\n",
      "D:\\Emaratech\\Work\\Vision_violation_payment_group2_01Jan16-30Jun16.csv\n",
      "D:\\Emaratech\\Work\\Vision_violation_payment_group2_01Jan16-30Jun16.xlsx\n",
      "D:\\Emaratech\\Work\\Vision_violation_payment_group3_01Jul16-31Dec16.csv\n",
      "D:\\Emaratech\\Work\\Vision_violation_payment_group3_01Jul16-31Dec16.xlsx\n",
      "D:\\Emaratech\\Work\\Vision_violation_payment_group4_01Jan17-31Mar17.csv\n",
      "D:\\Emaratech\\Work\\Vision_violation_payment_group4_01Jan17-31Mar17.xlsx\n",
      "D:\\Emaratech\\Work\\Vision_violation_payment_group5_01Apr17-30Jun17.csv\n",
      "D:\\Emaratech\\Work\\Vision_violation_payment_group5_01Apr17-30Jun17.xlsx\n",
      "D:\\Emaratech\\Work\\Vision_violation_payment_group6-greater_than-01Jul17.csv\n",
      "D:\\Emaratech\\Work\\Vision_violation_payment_group6-greater_than-01Jul17.xlsx\n",
      "D:\\Emaratech\\Work\\voiio_paid.sql\n",
      "D:\\Emaratech\\Work\\voiio_payment.sql\n",
      "D:\\Emaratech\\Work\\Voting in SMS text Stats.xlsx\n",
      "D:\\Emaratech\\Work\\vpn-Screenshot.jpg\n",
      "D:\\Emaratech\\Work\\vpn1.png\n",
      "D:\\Emaratech\\Work\\vpn_27Jan2017.log\n",
      "D:\\Emaratech\\Work\\VST_USER_PRIVILEGE.xlsx\n",
      "D:\\Emaratech\\Work\\VW_CRDT_PAYMENT_COLLECTION_REP.sql\n",
      "D:\\Emaratech\\Work\\vw_dq_entity_metric_stats.csv\n",
      "D:\\Emaratech\\Work\\VW_DQ_ENTITY_METRIC_STATS.sql\n",
      "D:\\Emaratech\\Work\\VW_PAYMENT_COLLECTION_REP.sql\n",
      "D:\\Emaratech\\Work\\VW_TRVL_EMP_PERFORMANCE_DAILY.sql\n",
      "D:\\Emaratech\\Work\\Weekly Datafix Utility Tools status - 02 Jun 2019 - 08 Jun 2019 (001).xlsx\n",
      "D:\\Emaratech\\Work\\Weekly Datafix Utility Tools status - 05 May 2019 - 11 May 2019.xlsx\n",
      "D:\\Emaratech\\Work\\Weekly Datafix Utility Tools status - 12 May 2019 - 18 May 2019 (001).xlsx\n",
      "D:\\Emaratech\\Work\\Weekly Datafix Utility Tools status - 19 May 2019 - 25 May 2019 (001).xlsx\n",
      "D:\\Emaratech\\Work\\Weekly Datafix Utility Tools status - 25 May 2019 - 01 Jun 2019 (001).xlsx\n",
      "D:\\Emaratech\\Work\\Weekly Datafix Utility Tools status - 28 Apr 2019 - 04 May 2019.xlsx\n",
      "D:\\Emaratech\\Work\\Weekly Datafix Utility Tools status - 28 Jul 2019 - 03 Jul 2019 (001).xlsx\n",
      "D:\\Emaratech\\Work\\Weekly Notification DXB Residence Candidate For MOI Auto Closure - Outside 6 Months - Having Travel Missing in MOI - Sunday 16-February 2020.msg\n",
      "D:\\Emaratech\\Work\\Weekly Notification DXB Residence Near Renewal InConsistency Check - Thursday 27-February 2020.msg\n",
      "D:\\Emaratech\\Work\\Weekly report - Datafix Tool User Stats.xlsx\n",
      "D:\\Emaratech\\Work\\weekly stats.html\n",
      "D:\\Emaratech\\Work\\weekly stats.txt\n",
      "D:\\Emaratech\\Work\\WhatsApp Image 2019-05-06 at 2.18.17 PM (10).jpeg\n",
      "D:\\Emaratech\\Work\\WhatsApp Image 2019-05-06 at 2.18.17 PM (5).jpeg\n",
      "D:\\Emaratech\\Work\\WhatsApp Image 2019-05-06 at 2.18.17 PM (6).jpeg\n",
      "D:\\Emaratech\\Work\\WhatsApp Image 2019-05-06 at 2.18.17 PM (7).jpeg\n",
      "D:\\Emaratech\\Work\\WhatsApp Image 2019-05-06 at 2.18.17 PM (8).jpeg\n",
      "D:\\Emaratech\\Work\\WhatsApp Image 2019-05-06 at 2.18.17 PM (9).jpeg\n",
      "D:\\Emaratech\\Work\\With Birth Date match and French National for name combination.xlsx\n",
      "D:\\Emaratech\\Work\\Without Birth Date match and French National for name combination.xlsx\n",
      "D:\\Emaratech\\Work\\work_pemit_dtls_fix (002).xlsx\n",
      "D:\\Emaratech\\Work\\Year Correction files.xlsx\n",
      "D:\\Emaratech\\Work\\Zajel - Approved application 1 Jan- 2 March 2017.csv\n",
      "D:\\Emaratech\\Work\\Zajel - Approved application 1 Jan- 2 March 2017.xlsx\n",
      "D:\\Emaratech\\Work\\Zajel - Approved application 1 Jan- 2 March 2017.zip\n",
      "D:\\Emaratech\\Work\\Zajel - Approved application 1 Jan- 28 Feb 2017 (2).csv\n",
      "D:\\Emaratech\\Work\\Zajel - Approved application 1 Jan- 28 Feb 2017 (2).xlsx\n",
      "D:\\Emaratech\\Work\\Zajel Application Details - 26 Oct 2020.xlsx\n",
      "D:\\Emaratech\\Work\\Zajel Application Details - 26 Oct 2020_v2.xlsx\n"
     ]
    },
    {
     "name": "stdout",
     "output_type": "stream",
     "text": [
      "D:\\Emaratech\\Work\\Zajel Application Details - 26 Oct 2020_v3.xlsx\n",
      "D:\\Emaratech\\Work\\Zajel Application Details - Missing AWB - 4th Nov 2020.xlsx\n",
      "D:\\Emaratech\\Work\\Zajel Applications (Establishment Sponsor)- Approved - Sponsor Details - 08Oct2020-17Oct2020.xlsx\n",
      "D:\\Emaratech\\Work\\Zajel Applications (Establishment Sponsor)- Approved - Sponsor Details - 08Oct2020-17Oct2020_v2.xlsx\n",
      "D:\\Emaratech\\Work\\Zajel Applications (Individual Sponsor)- Approved - Sponsor Details - 08Oct2020-17Oct2020.xlsx\n",
      "D:\\Emaratech\\Work\\Zajel Applications (Individual Sponsor)- Approved - Sponsor Details - 08Oct2020-17Oct2020_v2.xlsx\n",
      "D:\\Emaratech\\Work\\Zajel Applications - Approved - Sponsor Details - 08Oct2020-17Oct2020.xls\n",
      "D:\\Emaratech\\Work\\Zajel Applications Stats -  4th - 10 th Nov 2020.xlsx\n",
      "D:\\Emaratech\\Work\\Zajel Applications Stats - 10 Nov 2020.xls\n",
      "D:\\Emaratech\\Work\\Zajel Applications Stats - 4 Nov 2020.xls\n",
      "D:\\Emaratech\\Work\\Zajel Applications Stats - 5 Nov 2020.xls\n",
      "D:\\Emaratech\\Work\\Zajel Applications Stats - 6 Nov 2020.xls\n",
      "D:\\Emaratech\\Work\\Zajel Applications Stats - 7 Nov 2020.xls\n",
      "D:\\Emaratech\\Work\\Zajel Applications Stats - 8 Nov 2020.xls\n",
      "D:\\Emaratech\\Work\\Zajel Applications Stats - 9 Nov 2020.xls\n",
      "D:\\Emaratech\\Work\\Zajel Applications Stats -sep 01-dec26 2020.xls\n",
      "D:\\Emaratech\\Work\\Zajel Applications Stats -sep 01-dec26 2020.xlsx\n",
      "D:\\Emaratech\\Work\\Zajel AWB Missing Apps - 15 nov 2020.xlsx\n",
      "D:\\Emaratech\\Work\\Zajel Notiification Query-12Nov2020.sql\n",
      "D:\\Emaratech\\Work\\Zajel- RenewRenew residency followed by Update residency before residency printing - Oct 2020 - Jan 2021 v2.xlsx\n",
      "D:\\Emaratech\\Work\\Zajel- RenewRenew residency followed by Update residency before residency printing - Oct 2020 - Jan 2021.xlsx\n",
      "D:\\Emaratech\\Work\\zajel_app_status_emailContent.html\n",
      "D:\\Emaratech\\Work\\zajel_print_status_detail_report_01Sep2020-15Oct2020.csv\n",
      "D:\\Emaratech\\Work\\zajel_print_status_detail_report_01Sep2020-15Oct2020.xlsx\n",
      "D:\\Emaratech\\Work\\zajel_print_status_detail_report_jan2020-Sep2020.csv\n",
      "D:\\Emaratech\\Work\\zajel_print_status_detail_report_jan2020-Sep2020.xlsx\n",
      "D:\\Emaratech\\Work\\zajel_print_status_detail_report_Query.sql\n",
      "D:\\Emaratech\\Work\\~$All Echannel Application - Send to NSD - Monthy - 2017 2018.xlsx\n",
      "D:\\Emaratech\\Work\\~$Amnesty Violation Proc Change - Test Cases.xlsx\n",
      "D:\\Emaratech\\Work\\~$Application Details - Zajel Skip Estabs-1st Sep 20 - 31st Oct 2020_v2.xlsx\n",
      "D:\\Emaratech\\Work\\~$Apps to Migrate to SC in Priority.xlsx\n",
      "D:\\Emaratech\\Work\\~$BL Test Cases- QMG - 26 Mar 2020.xlsx\n",
      "D:\\Emaratech\\Work\\~$BL Test Cases.xlsx\n",
      "D:\\Emaratech\\Work\\~$Blacklist Lost Document Reasons.xlsx\n",
      "D:\\Emaratech\\Work\\~$Blank Image on Profiles (document reference thumb)- From MOI ESB - 6 months Stats.xlsx\n",
      "D:\\Emaratech\\Work\\~$Blank Image on Profiles (document reference thumb)- Vision - Nov 2019.xlsx\n",
      "D:\\Emaratech\\Work\\~$Business Rules Failed- Vision -  2017.xlsx\n",
      "D:\\Emaratech\\Work\\~$Business Rules Fired - Vision - Person type - Nov 5th 2017(002).xlsx\n",
      "D:\\Emaratech\\Work\\~$Closed Permits hadTemporary Closure part of bulkfix 3rd Jan 2019.xlsx\n",
      "D:\\Emaratech\\Work\\~$Committee Violation Exemption Extract(v2).xlsx\n",
      "D:\\Emaratech\\Work\\~$Copy of بيانات دبي.xlsx\n",
      "D:\\Emaratech\\Work\\~$Corrected Mising Travel Document Travels - 23 June Onwards.xlsx\n",
      "D:\\Emaratech\\Work\\~$Data Quality - Profile - Metric Definitions v2.0.xlsx\n",
      "D:\\Emaratech\\Work\\~$Default Passport Issue Date for Valid Pasports Profiles in Vision - After Bulkfix.xlsx\n",
      "D:\\Emaratech\\Work\\~$DQ - Metric Table Design.xlsx\n",
      "D:\\Emaratech\\Work\\~$Dubai Active Residence with EIDA Expired or Not Exists in Vision - On Date 6th Jan 2020_v(002).xlsx\n",
      "D:\\Emaratech\\Work\\~$Dubai Active Residence With Expired or Missing EIDA  - Comparison with MOI - on Date 7th Oct 2019.xlsx\n",
      "D:\\Emaratech\\Work\\~$Dubai Active Residences with Expired EIDA - 10 Sep 2019.xlsx\n",
      "D:\\Emaratech\\Work\\~$Dubai Active Residences with Missing EIDA - 10 Sep 2019.xlsx\n",
      "D:\\Emaratech\\Work\\~$Dubai Estab - Comparison With MOI - Having SEP_OLD_NO as Not Null in MOI - Part2.xlsx\n",
      "D:\\Emaratech\\Work\\~$Dubai EXPO Permits Cancelled by MOI - 17 Mar 2020.xlsx\n",
      "D:\\Emaratech\\Work\\~$Dubai Permit Cancelled from MOI for Iran Nationals - last one month - 12 Mar 2020 _ v2.xlsx\n",
      "D:\\Emaratech\\Work\\~$Dubai Residence Cancelled from MOI for Iran Nationals - last one month - 11 Mar 2020.xlsx\n",
      "D:\\Emaratech\\Work\\~$Dubai Residence Extension Cases - Consistency Check with MOI_v2 - 14May2020.xlsx\n",
      "D:\\Emaratech\\Work\\~$Eform Application ETL processing Time Comparison.xlsx\n",
      "D:\\Emaratech\\Work\\~$Eform Applications Posted with Default Passport Issue Date - from 2017.xlsx\n",
      "D:\\Emaratech\\Work\\~$Eform Applications to Migrate to SC.xlsx\n",
      "D:\\Emaratech\\Work\\~$EIDA Dedup.xlsx\n",
      "D:\\Emaratech\\Work\\~$ESB Inbound Travel Failure on Closed Schengen Permits in Vision.xlsx\n",
      "D:\\Emaratech\\Work\\~$ETL Application Failures(AutoRecovered)(AutoRecovered).xlsx\n",
      "D:\\Emaratech\\Work\\~$ETL Application Failures(AutoRecovered).xlsx\n",
      "D:\\Emaratech\\Work\\~$Extend Cancelled before entry Permits (Pakistan) - 22 Sep 2020.xlsx\n",
      "D:\\Emaratech\\Work\\~$FIS Ban Information - v(2).xlsx\n",
      "D:\\Emaratech\\Work\\~$GDRFA_Critical Triggers_Borders v6.0)(11).xlsx\n",
      "D:\\Emaratech\\Work\\~$Individual Person No - De Duplication Test cases.xlsx\n",
      "D:\\Emaratech\\Work\\~$Licensing Authority Sub Establishments Not Skipped for Zajel.xlsx\n",
      "D:\\Emaratech\\Work\\~$LockDown Calculation.xlsx\n",
      "D:\\Emaratech\\Work\\~$LockDown Violation Exemption - on Files.xlsx\n",
      "D:\\Emaratech\\Work\\~$MIGRATION_PROFILES - Staging Loaded PSS_ID Samples.xlsx\n",
      "D:\\Emaratech\\Work\\~$mohre- NMS - 07Sep2020.xlsx\n",
      "D:\\Emaratech\\Work\\~$mohre- NMS - 9Sep2020.xlsx\n",
      "D:\\Emaratech\\Work\\~$mohre- NMS_v2.xlsx\n",
      "D:\\Emaratech\\Work\\~$Multi Entry Visa - VBC Marking Entry on Grace Period Cases - 05 May 2019.xlsx\n",
      "D:\\Emaratech\\Work\\~$Nationalitiescodes_Verified_v1.xlsx\n",
      "D:\\Emaratech\\Work\\~$Passport Default Issue Date Corrected Cases - 14th May 2020.xlsx\n",
      "D:\\Emaratech\\Work\\~$Privilege Users.xlsx\n",
      "D:\\Emaratech\\Work\\~$PRO Stats.xlsx\n",
      "D:\\Emaratech\\Work\\~$Profile Pull Travel Comparison - 4th December 2019.xlsx\n",
      "D:\\Emaratech\\Work\\~$ProfilePull Comparison - Sep 2018 Vs Apr 2019.xlsx\n",
      "D:\\Emaratech\\Work\\~$Report 3.3b - Multiple files in INDIVIDUAL_PERSON_NO table - With Multiple Active Permits and Multiple Permit in Inside Coutry Status.xlsx\n",
      "D:\\Emaratech\\Work\\~$Residencies Missing EIDA in Vision  - 1st July 2019.xlsx\n",
      "D:\\Emaratech\\Work\\~$SC intake report _Daily (expected)_v2.xlsx\n",
      "D:\\Emaratech\\Work\\~$Script - Violation Payment with Exemption in Vision.xlsx\n",
      "D:\\Emaratech\\Work\\~$Tourist Visa Stats - Dubai Vs MOI -( Jan - April )- 2017 Vs 2018.xlsx\n",
      "D:\\Emaratech\\Work\\~$Travel Details - All Dubai  Entry Travels (port 200-205)- Nov 5 2017 (005).xlsx\n",
      "D:\\Emaratech\\Work\\~$Travel Details - With Missing Documents - Corrected Cases- from 23 June 2019 - 14 July 2019.xlsx\n",
      "D:\\Emaratech\\Work\\~$Travel Details - With Missing Documents - Remaining Cases- from 23 June 2019 - 07 July 2019.xlsx\n",
      "D:\\Emaratech\\Work\\~$Travel Extract- Arrival-Dubai  BC Counter Only -  21 Oct 2018.xlsx\n",
      "D:\\Emaratech\\Work\\~$Travel Stats - Dubai Airport - 2017 and 2018 - Person Type Terminal.xlsx\n",
      "D:\\Emaratech\\Work\\~$Travel Stats - Dubai Airports - 2016 (001).xlsx\n",
      "D:\\Emaratech\\Work\\~$Travel Stats - Dubai Airports - 2018 (003).xlsx\n",
      "D:\\Emaratech\\Work\\~$Travel Transactions - ML2128 - 30 Nov 2018 5am to 2pm _ v(002).xlsx\n",
      "D:\\Emaratech\\Work\\~$Travel Transactions - ML3970 - 17 Feb 2019_ v(001).xlsx\n",
      "D:\\Emaratech\\Work\\~$Violation Payment Stats - 1st Jan 2018 till 24 Dec 2018.xlsx\n",
      "D:\\Emaratech\\Work\\~$Visa Type 17 - Need Permit Dates Correction.xlsx\n",
      "D:\\Emaratech\\Work\\~$VisaSeqAnalysis.xlsx\n",
      "D:\\Emaratech\\Work\\~$Vision Outpass Applications With No Violation Payment and No Ban 2017(003).xlsx\n",
      "D:\\Emaratech\\Work\\~$Weekly Datafix Utility Tools status - 28 Jul 2019 - 03 Jul 2019 (001).xlsx\n",
      "D:\\Emaratech\\Work\\~$Zajel Applications (Individual Sponsor)- Approved - Sponsor Details - 08Oct2020-17Oct2020.xlsx\n",
      "D:\\Emaratech\\Work\\~$Zajel Applications (Individual Sponsor)- Approved - Sponsor Details - 08Oct2020-17Oct2020_v2.xlsx\n",
      "D:\\Emaratech\\Work\\~$zajel_print_status_detail_report_jan2020-Sep2020.xlsx\n",
      "D:\\Emaratech\\Work\\إحصاء الأطراف.xlsx\n",
      "D:\\Emaratech\\Work\\إحصاء الأطراف[jul-sep].xlsx\n",
      "D:\\Emaratech\\Work\\احقيات مبنى 1.xlsx\n",
      "D:\\Emaratech\\Work\\احقيات مبنى 2.PDF\n",
      "D:\\Emaratech\\Work\\اسماء موظفين مبنى2 - المغادرون.xlsx\n",
      "D:\\Emaratech\\Work\\اسماء موظفين مبنى2 - المغادرون_V(002).xlsx\n",
      "D:\\Emaratech\\Work\\اسماء موظفين مبنى2 - المغادرون_V(003).xlsx\n",
      "D:\\Emaratech\\Work\\اسماء موظفين مبنى2 - المغادرون_V(1).xlsx\n",
      "D:\\Emaratech\\Work\\الأحقيات المترجمة.xlsx\n",
      "D:\\Emaratech\\Work\\الكشف 25_updated.xlsx\n",
      "D:\\Emaratech\\Work\\الكشف النهائي لمهلة المخالفين.pdf\n",
      "D:\\Emaratech\\Work\\الكشف.pdf\n",
      "D:\\Emaratech\\Work\\بيانات دبي _v2.xlsx\n",
      "D:\\Emaratech\\Work\\رد معوقات العمل - القوائم السوداء -  NAJU MOHAMMED NAGPOOR - الجنسية  الهند - جواز سفر رقم الجواز  1130991  .msg\n",
      "D:\\Emaratech\\Work\\طلب إحصائيات الدخول لمبنى 3 محدث - new (2).xlsx\n",
      "D:\\Emaratech\\Work\\طلب إحصائيات الدخول لمبنى 3 محدث - new.xlsx\n",
      "D:\\Emaratech\\Work\\طلب احصائية الدخول والخروج لجميع المباني.xlsx\n",
      "D:\\Emaratech\\Work\\كشف  مطار آل مكتوم  مناوبات المطار.xlsx\n",
      "D:\\Emaratech\\Work\\كشف  مطار آل مكتوم  مناوبات المطار_v(002).xlsx\n",
      "D:\\Emaratech\\Work\\كشف  مطار آل مكتوم  مناوبات المطار_v(003).xlsx\n",
      "D:\\Emaratech\\Work\\كشف  مطار آل مكتوم  مناوبات المطار_v(1).xlsx\n",
      "D:\\Emaratech\\Work\\كشف الاسماء.pdf\n",
      "D:\\Emaratech\\Work\\كشف ضبط جوازات و مأموري الجوازات-updated.xlsx\n",
      "D:\\Emaratech\\Work\\كشف ضبط جوازات و مأموري الجوازات.xlsx\n",
      "D:\\Emaratech\\Work\\كشف مرتب مراكز سعادة المتعاملين - بردبي BurDubai.xlsx\n",
      "D:\\Emaratech\\Work\\كشف مرتب مراكز سعادة المتعاملين - ديرة Deira.xlsx\n",
      "D:\\Emaratech\\Work\\مبني1.xlsx\n",
      "D:\\Emaratech\\Work\\مبني1_v(002).xlsx\n",
      "D:\\Emaratech\\Work\\مبني1_v(003).xlsx\n",
      "D:\\Emaratech\\Work\\مبني1_v(1).xlsx\n",
      "D:\\Emaratech\\Work\\معاملات فاست أكشن حسب التاريخ.xlsx\n"
     ]
    }
   ],
   "source": [
    "import glob,os\n",
    "for file in glob.glob(\"D:\\Emaratech\\Work\\*\"):\n",
    "    if os.path.isfile(file):\n",
    "         print(file)"
   ]
  },
  {
   "cell_type": "raw",
   "metadata": {},
   "source": [
    "137. Write a Python program to extract single key-value pair of a dictionary in variables. "
   ]
  },
  {
   "cell_type": "code",
   "execution_count": 240,
   "metadata": {},
   "outputs": [
    {
     "name": "stdout",
     "output_type": "stream",
     "text": [
      "['k1', 'k2']\n",
      "[1, 2]\n"
     ]
    }
   ],
   "source": [
    "d = {'k1':1,'k2':2}\n",
    "keys = [x[0] for x in d.items()]\n",
    "print(keys)\n",
    "values = [x[1] for x in d.items()]\n",
    "print(values)"
   ]
  },
  {
   "cell_type": "raw",
   "metadata": {},
   "source": [
    "138. Write a Python program to convert true to 1 and false to 0. "
   ]
  },
  {
   "cell_type": "code",
   "execution_count": 242,
   "metadata": {},
   "outputs": [
    {
     "name": "stdout",
     "output_type": "stream",
     "text": [
      "1\n"
     ]
    }
   ],
   "source": [
    "def convet_boolean(booli):\n",
    "    if booli:\n",
    "        return 1\n",
    "    else:\n",
    "        return 0\n",
    "    \n",
    "print(convet_boolean(True))"
   ]
  },
  {
   "cell_type": "code",
   "execution_count": 243,
   "metadata": {},
   "outputs": [
    {
     "name": "stdout",
     "output_type": "stream",
     "text": [
      "1\n"
     ]
    }
   ],
   "source": [
    "x = 'true'\n",
    "x = int(x == 'true')\n",
    "print(x)"
   ]
  },
  {
   "cell_type": "raw",
   "metadata": {},
   "source": [
    "139. Write a Python program to valid a IP address"
   ]
  },
  {
   "cell_type": "code",
   "execution_count": 252,
   "metadata": {},
   "outputs": [
    {
     "name": "stdout",
     "output_type": "stream",
     "text": [
      "Valid IP\n",
      "<class 'bytes'>\n",
      "Valid IP\n"
     ]
    }
   ],
   "source": [
    "import socket\n",
    "addr = '127.0.0.1'\n",
    "try:\n",
    "    socket.inet_aton(addr)\n",
    "    print(\"Valid IP\")\n",
    "except socket.error:\n",
    "    print(\"Invalid IP\")\n",
    "    \n",
    "addr = '10.168.100.100'\n",
    "try:\n",
    "    ip = socket.inet_aton(addr)\n",
    "    print(type(ip))\n",
    "    print(\"Valid IP\")\n",
    "except socket.error:\n",
    "    print(\"Invalid IP\")"
   ]
  },
  {
   "cell_type": "raw",
   "metadata": {},
   "source": [
    "140. Write a Python program to convert an integer to binary keep leading zeros. Go to the editor\n",
    "Sample data : x=12\n",
    "Expected output : 00001100\n",
    "0000001100"
   ]
  },
  {
   "cell_type": "code",
   "execution_count": 255,
   "metadata": {},
   "outputs": [
    {
     "name": "stdout",
     "output_type": "stream",
     "text": [
      "00001100\n",
      "0000001100\n"
     ]
    }
   ],
   "source": [
    "x = 12\n",
    "print(format(x, '08b'))\n",
    "print(format(x, '010b'))"
   ]
  },
  {
   "cell_type": "code",
   "execution_count": 258,
   "metadata": {},
   "outputs": [
    {
     "name": "stdout",
     "output_type": "stream",
     "text": [
      "00000012\n",
      "0000000012\n"
     ]
    }
   ],
   "source": [
    "x = 12\n",
    "print(format(x, '08d'))\n",
    "print(format(x, '010d'))"
   ]
  },
  {
   "cell_type": "code",
   "execution_count": 259,
   "metadata": {},
   "outputs": [
    {
     "name": "stdout",
     "output_type": "stream",
     "text": [
      "0000000c\n",
      "000000000c\n"
     ]
    }
   ],
   "source": [
    "x = 12\n",
    "print(format(x, '08x'))\n",
    "print(format(x, '010x'))"
   ]
  },
  {
   "cell_type": "raw",
   "metadata": {},
   "source": [
    "141. Write a python program to convert decimal to hexadecimal.\n",
    "Sample decimal number: 30, 4\n",
    "Expected output: 1e, 04"
   ]
  },
  {
   "cell_type": "code",
   "execution_count": 262,
   "metadata": {},
   "outputs": [
    {
     "name": "stdout",
     "output_type": "stream",
     "text": [
      "1e\n",
      "04\n"
     ]
    }
   ],
   "source": [
    "x= 30\n",
    "print(format(x,'02x'))\n",
    "x= 4\n",
    "print(format(x,'02x'))"
   ]
  },
  {
   "cell_type": "markdown",
   "metadata": {},
   "source": [
    "<img src=\"files/python-basic-image-exercise-141.png\">,"
   ]
  },
  {
   "cell_type": "raw",
   "metadata": {},
   "source": [
    "142. Write a Python program to find the operating system name, platform and platform release date.\n",
    "Operating system name:\n",
    "posix\n",
    "Platform name:\n",
    "Linux\n",
    "Platform release:\n",
    "4.4.0-47-generic"
   ]
  },
  {
   "cell_type": "code",
   "execution_count": 270,
   "metadata": {},
   "outputs": [
    {
     "name": "stdout",
     "output_type": "stream",
     "text": [
      "Operating system name:\n",
      "nt\n",
      "Platform name:\n",
      "Windows\n",
      "Platform release:\n",
      "10\n"
     ]
    }
   ],
   "source": [
    "import os, platform\n",
    "print(\"Operating system name:\")\n",
    "print(os.name)\n",
    "print(\"Platform name:\")\n",
    "print(platform.system())\n",
    "print(\"Platform release:\")\n",
    "print(platform.release())"
   ]
  },
  {
   "cell_type": "raw",
   "metadata": {},
   "source": [
    "143. Write a Python program to determine if the python shell is executing in 32bit or 64bit mode on operating system"
   ]
  },
  {
   "cell_type": "code",
   "execution_count": 273,
   "metadata": {},
   "outputs": [
    {
     "data": {
      "text/plain": [
       "64"
      ]
     },
     "execution_count": 273,
     "metadata": {},
     "output_type": "execute_result"
    }
   ],
   "source": [
    "import struct\n",
    "struct.calcsize('P') * 8"
   ]
  },
  {
   "cell_type": "raw",
   "metadata": {},
   "source": [
    "144. Write a Python program to check whether variable is of integer or string. "
   ]
  },
  {
   "cell_type": "code",
   "execution_count": 281,
   "metadata": {},
   "outputs": [
    {
     "name": "stdout",
     "output_type": "stream",
     "text": [
      "<class 'str'>\n",
      "<class 'int'>\n"
     ]
    }
   ],
   "source": [
    "x = '12312'\n",
    "print(type(x))\n",
    "x = 1234\n",
    "print(type(x))"
   ]
  },
  {
   "cell_type": "code",
   "execution_count": 282,
   "metadata": {},
   "outputs": [
    {
     "name": "stdout",
     "output_type": "stream",
     "text": [
      "Help on built-in function isinstance in module builtins:\n",
      "\n",
      "isinstance(obj, class_or_tuple, /)\n",
      "    Return whether an object is an instance of a class or of a subclass thereof.\n",
      "    \n",
      "    A tuple, as in ``isinstance(x, (A, B, ...))``, may be given as the target to\n",
      "    check against. This is equivalent to ``isinstance(x, A) or isinstance(x, B)\n",
      "    or ...`` etc.\n",
      "\n"
     ]
    }
   ],
   "source": [
    "help(isinstance)"
   ]
  },
  {
   "cell_type": "code",
   "execution_count": 300,
   "metadata": {},
   "outputs": [
    {
     "name": "stdout",
     "output_type": "stream",
     "text": [
      "[1, 2, 3] instance of list? True\n",
      "[1, 2, 3] instance of dict? False\n",
      "[1, 2, 3] instance of dict or list? True\n",
      "5 instance of list? False\n",
      "5 instance of int? True\n"
     ]
    }
   ],
   "source": [
    "numbers = [1, 2, 3]\n",
    "\n",
    "result = isinstance(numbers, list)\n",
    "print(numbers,'instance of list?', result)\n",
    "\n",
    "result = isinstance(numbers, dict)\n",
    "print(numbers,'instance of dict?', result)\n",
    "\n",
    "result = isinstance(numbers, (dict, list))\n",
    "print(numbers,'instance of dict or list?', result)\n",
    "\n",
    "number = 5\n",
    "\n",
    "result = isinstance(number, list)\n",
    "print(number,'instance of list?', result)\n",
    "\n",
    "result = isinstance(number, int)\n",
    "print(number,'instance of int?', result)"
   ]
  },
  {
   "cell_type": "raw",
   "metadata": {},
   "source": [
    "145. Write a Python program to test if a variable is a list or tuple or a set."
   ]
  },
  {
   "cell_type": "code",
   "execution_count": 305,
   "metadata": {},
   "outputs": [
    {
     "name": "stdout",
     "output_type": "stream",
     "text": [
      "x is a tuple\n"
     ]
    }
   ],
   "source": [
    "#x = ['a', 'b', 'c', 'd']\n",
    "#x = {'a', 'b', 'c', 'd'}\n",
    "x = ('tuple', False, 3.2, 1)\n",
    "if type(x) is list:\n",
    "    print('x is a list')\n",
    "elif type(x) is set:\n",
    "    print('x is a set')\n",
    "elif type(x) is tuple:\n",
    "    print('x is a tuple')    \n",
    "else:\n",
    "    print('Neither a list or a set or a tuple.')"
   ]
  },
  {
   "cell_type": "raw",
   "metadata": {},
   "source": [
    "146. Write a Python program to find the location of Python module sources."
   ]
  },
  {
   "cell_type": "code",
   "execution_count": 306,
   "metadata": {},
   "outputs": [
    {
     "name": "stdout",
     "output_type": "stream",
     "text": [
      "\n",
      "List of directories in sys module:\n",
      "['E:\\\\Data Science\\\\Python Learning\\\\MyPython2021\\\\DataStructuresPython\\\\main\\\\Exercises', 'C:\\\\ProgramData\\\\Anaconda3\\\\python38.zip', 'C:\\\\ProgramData\\\\Anaconda3\\\\DLLs', 'C:\\\\ProgramData\\\\Anaconda3\\\\lib', 'C:\\\\ProgramData\\\\Anaconda3', '', 'C:\\\\ProgramData\\\\Anaconda3\\\\lib\\\\site-packages', 'C:\\\\ProgramData\\\\Anaconda3\\\\lib\\\\site-packages\\\\win32', 'C:\\\\ProgramData\\\\Anaconda3\\\\lib\\\\site-packages\\\\win32\\\\lib', 'C:\\\\ProgramData\\\\Anaconda3\\\\lib\\\\site-packages\\\\Pythonwin', 'C:\\\\ProgramData\\\\Anaconda3\\\\lib\\\\site-packages\\\\IPython\\\\extensions', 'C:\\\\Users\\\\ameen.nazar\\\\.ipython']\n",
      "\n",
      "List of directories in os module:\n",
      "<module 'ntpath' from 'C:\\\\ProgramData\\\\Anaconda3\\\\lib\\\\ntpath.py'>\n"
     ]
    }
   ],
   "source": [
    "import sys\n",
    "print(\"\\nList of directories in sys module:\")\n",
    "print(sys.path)\n",
    "print(\"\\nList of directories in os module:\")\n",
    "import os\n",
    "print(os.path)"
   ]
  },
  {
   "cell_type": "raw",
   "metadata": {},
   "source": [
    "147. Write a Python function to check whether a number is divisible by another number. Accept two integers values form the user. "
   ]
  },
  {
   "cell_type": "code",
   "execution_count": 307,
   "metadata": {},
   "outputs": [
    {
     "data": {
      "text/plain": [
       "False"
      ]
     },
     "execution_count": 307,
     "metadata": {},
     "output_type": "execute_result"
    }
   ],
   "source": [
    "a = 110\n",
    "b = 20\n",
    "a%b==0"
   ]
  },
  {
   "cell_type": "raw",
   "metadata": {},
   "source": [
    "148. Write a Python function to find the maximum and minimum numbers from a sequence of numbers.\n",
    "Note: Do not use built-in functions."
   ]
  },
  {
   "cell_type": "code",
   "execution_count": 308,
   "metadata": {},
   "outputs": [
    {
     "name": "stdout",
     "output_type": "stream",
     "text": [
      "(75, -5)\n"
     ]
    }
   ],
   "source": [
    "def max_min(data):\n",
    "  l = data[0]\n",
    "  s = data[0]\n",
    "  for num in data:\n",
    "    if num> l:\n",
    "      l = num\n",
    "    elif num< s:\n",
    "        s = num\n",
    "  return l, s\n",
    "\n",
    "print(max_min([0, 10, 15, 40, -5, 42, 17, 28, 75]))"
   ]
  },
  {
   "cell_type": "raw",
   "metadata": {},
   "source": [
    "149. Write a Python function that takes a positive integer and returns the sum of the cube of all the positive integers smaller than the specified number."
   ]
  },
  {
   "cell_type": "code",
   "execution_count": 309,
   "metadata": {},
   "outputs": [
    {
     "name": "stdout",
     "output_type": "stream",
     "text": [
      "9\n"
     ]
    }
   ],
   "source": [
    "def sumcubes(n):\n",
    "    s = 0\n",
    "    for i in range(n):\n",
    "        s+= i ** 3\n",
    "    return s\n",
    "\n",
    "print(sumcubes(3))"
   ]
  },
  {
   "cell_type": "raw",
   "metadata": {},
   "source": [
    "150. Write a Python function to find a distinct pair of numbers whose product is odd from a sequence of integer values. "
   ]
  },
  {
   "cell_type": "code",
   "execution_count": 311,
   "metadata": {},
   "outputs": [
    {
     "data": {
      "text/plain": [
       "{(1, 3), (1, 5), (1, 7), (3, 5), (3, 7), (5, 7)}"
      ]
     },
     "execution_count": 311,
     "metadata": {},
     "output_type": "execute_result"
    }
   ],
   "source": [
    "l = [1,2,3,4,5,56,7,8]\n",
    "s=set()\n",
    "for i in range(len(l)):\n",
    "    for j in range(i+1,len(l)):\n",
    "        if l[i]*l[j]%2!=0:\n",
    "            s.add((l[i],l[j]))\n",
    "s"
   ]
  },
  {
   "cell_type": "code",
   "execution_count": null,
   "metadata": {},
   "outputs": [],
   "source": []
  },
  {
   "cell_type": "code",
   "execution_count": null,
   "metadata": {},
   "outputs": [],
   "source": []
  },
  {
   "cell_type": "code",
   "execution_count": null,
   "metadata": {},
   "outputs": [],
   "source": []
  },
  {
   "cell_type": "code",
   "execution_count": null,
   "metadata": {},
   "outputs": [],
   "source": []
  },
  {
   "cell_type": "code",
   "execution_count": null,
   "metadata": {},
   "outputs": [],
   "source": []
  },
  {
   "cell_type": "code",
   "execution_count": null,
   "metadata": {},
   "outputs": [],
   "source": []
  },
  {
   "cell_type": "code",
   "execution_count": null,
   "metadata": {},
   "outputs": [],
   "source": []
  },
  {
   "cell_type": "code",
   "execution_count": null,
   "metadata": {},
   "outputs": [],
   "source": []
  },
  {
   "cell_type": "code",
   "execution_count": null,
   "metadata": {},
   "outputs": [],
   "source": []
  },
  {
   "cell_type": "code",
   "execution_count": null,
   "metadata": {},
   "outputs": [],
   "source": []
  },
  {
   "cell_type": "code",
   "execution_count": null,
   "metadata": {},
   "outputs": [],
   "source": []
  },
  {
   "cell_type": "code",
   "execution_count": null,
   "metadata": {},
   "outputs": [],
   "source": []
  },
  {
   "cell_type": "code",
   "execution_count": null,
   "metadata": {},
   "outputs": [],
   "source": []
  },
  {
   "cell_type": "code",
   "execution_count": null,
   "metadata": {},
   "outputs": [],
   "source": []
  },
  {
   "cell_type": "code",
   "execution_count": null,
   "metadata": {},
   "outputs": [],
   "source": []
  },
  {
   "cell_type": "code",
   "execution_count": null,
   "metadata": {},
   "outputs": [],
   "source": []
  },
  {
   "cell_type": "code",
   "execution_count": null,
   "metadata": {},
   "outputs": [],
   "source": []
  },
  {
   "cell_type": "code",
   "execution_count": null,
   "metadata": {},
   "outputs": [],
   "source": []
  },
  {
   "cell_type": "code",
   "execution_count": null,
   "metadata": {},
   "outputs": [],
   "source": []
  },
  {
   "cell_type": "code",
   "execution_count": null,
   "metadata": {},
   "outputs": [],
   "source": []
  },
  {
   "cell_type": "code",
   "execution_count": null,
   "metadata": {},
   "outputs": [],
   "source": []
  },
  {
   "cell_type": "code",
   "execution_count": null,
   "metadata": {},
   "outputs": [],
   "source": []
  },
  {
   "cell_type": "code",
   "execution_count": null,
   "metadata": {},
   "outputs": [],
   "source": []
  },
  {
   "cell_type": "code",
   "execution_count": null,
   "metadata": {},
   "outputs": [],
   "source": []
  },
  {
   "cell_type": "code",
   "execution_count": null,
   "metadata": {},
   "outputs": [],
   "source": []
  },
  {
   "cell_type": "code",
   "execution_count": null,
   "metadata": {},
   "outputs": [],
   "source": []
  },
  {
   "cell_type": "code",
   "execution_count": null,
   "metadata": {},
   "outputs": [],
   "source": []
  },
  {
   "cell_type": "code",
   "execution_count": null,
   "metadata": {},
   "outputs": [],
   "source": []
  },
  {
   "cell_type": "code",
   "execution_count": null,
   "metadata": {},
   "outputs": [],
   "source": []
  },
  {
   "cell_type": "code",
   "execution_count": null,
   "metadata": {},
   "outputs": [],
   "source": []
  },
  {
   "cell_type": "code",
   "execution_count": null,
   "metadata": {},
   "outputs": [],
   "source": []
  },
  {
   "cell_type": "code",
   "execution_count": null,
   "metadata": {},
   "outputs": [],
   "source": []
  },
  {
   "cell_type": "code",
   "execution_count": null,
   "metadata": {},
   "outputs": [],
   "source": []
  },
  {
   "cell_type": "code",
   "execution_count": null,
   "metadata": {},
   "outputs": [],
   "source": []
  },
  {
   "cell_type": "code",
   "execution_count": null,
   "metadata": {},
   "outputs": [],
   "source": []
  },
  {
   "cell_type": "code",
   "execution_count": null,
   "metadata": {},
   "outputs": [],
   "source": []
  },
  {
   "cell_type": "code",
   "execution_count": null,
   "metadata": {},
   "outputs": [],
   "source": []
  },
  {
   "cell_type": "code",
   "execution_count": null,
   "metadata": {},
   "outputs": [],
   "source": []
  },
  {
   "cell_type": "code",
   "execution_count": null,
   "metadata": {},
   "outputs": [],
   "source": []
  },
  {
   "cell_type": "code",
   "execution_count": null,
   "metadata": {},
   "outputs": [],
   "source": []
  },
  {
   "cell_type": "code",
   "execution_count": null,
   "metadata": {},
   "outputs": [],
   "source": []
  },
  {
   "cell_type": "code",
   "execution_count": null,
   "metadata": {},
   "outputs": [],
   "source": []
  },
  {
   "cell_type": "code",
   "execution_count": null,
   "metadata": {},
   "outputs": [],
   "source": []
  },
  {
   "cell_type": "code",
   "execution_count": null,
   "metadata": {},
   "outputs": [],
   "source": []
  },
  {
   "cell_type": "code",
   "execution_count": null,
   "metadata": {},
   "outputs": [],
   "source": []
  },
  {
   "cell_type": "code",
   "execution_count": null,
   "metadata": {},
   "outputs": [],
   "source": []
  },
  {
   "cell_type": "code",
   "execution_count": null,
   "metadata": {},
   "outputs": [],
   "source": []
  },
  {
   "cell_type": "code",
   "execution_count": null,
   "metadata": {},
   "outputs": [],
   "source": []
  },
  {
   "cell_type": "code",
   "execution_count": null,
   "metadata": {},
   "outputs": [],
   "source": []
  },
  {
   "cell_type": "code",
   "execution_count": null,
   "metadata": {},
   "outputs": [],
   "source": []
  },
  {
   "cell_type": "code",
   "execution_count": null,
   "metadata": {},
   "outputs": [],
   "source": []
  },
  {
   "cell_type": "code",
   "execution_count": null,
   "metadata": {},
   "outputs": [],
   "source": []
  },
  {
   "cell_type": "code",
   "execution_count": null,
   "metadata": {},
   "outputs": [],
   "source": []
  },
  {
   "cell_type": "code",
   "execution_count": null,
   "metadata": {},
   "outputs": [],
   "source": []
  },
  {
   "cell_type": "code",
   "execution_count": null,
   "metadata": {},
   "outputs": [],
   "source": []
  },
  {
   "cell_type": "code",
   "execution_count": null,
   "metadata": {},
   "outputs": [],
   "source": []
  },
  {
   "cell_type": "code",
   "execution_count": null,
   "metadata": {},
   "outputs": [],
   "source": []
  },
  {
   "cell_type": "code",
   "execution_count": null,
   "metadata": {},
   "outputs": [],
   "source": []
  },
  {
   "cell_type": "code",
   "execution_count": null,
   "metadata": {},
   "outputs": [],
   "source": []
  },
  {
   "cell_type": "code",
   "execution_count": null,
   "metadata": {},
   "outputs": [],
   "source": []
  },
  {
   "cell_type": "code",
   "execution_count": null,
   "metadata": {},
   "outputs": [],
   "source": []
  },
  {
   "cell_type": "code",
   "execution_count": null,
   "metadata": {},
   "outputs": [],
   "source": []
  },
  {
   "cell_type": "code",
   "execution_count": null,
   "metadata": {},
   "outputs": [],
   "source": []
  },
  {
   "cell_type": "code",
   "execution_count": null,
   "metadata": {},
   "outputs": [],
   "source": []
  },
  {
   "cell_type": "code",
   "execution_count": null,
   "metadata": {},
   "outputs": [],
   "source": []
  },
  {
   "cell_type": "code",
   "execution_count": null,
   "metadata": {},
   "outputs": [],
   "source": []
  },
  {
   "cell_type": "code",
   "execution_count": null,
   "metadata": {},
   "outputs": [],
   "source": []
  },
  {
   "cell_type": "code",
   "execution_count": null,
   "metadata": {},
   "outputs": [],
   "source": []
  }
 ],
 "metadata": {
  "kernelspec": {
   "display_name": "Python 3",
   "language": "python",
   "name": "python3"
  },
  "language_info": {
   "codemirror_mode": {
    "name": "ipython",
    "version": 3
   },
   "file_extension": ".py",
   "mimetype": "text/x-python",
   "name": "python",
   "nbconvert_exporter": "python",
   "pygments_lexer": "ipython3",
   "version": "3.8.5"
  }
 },
 "nbformat": 4,
 "nbformat_minor": 4
}
