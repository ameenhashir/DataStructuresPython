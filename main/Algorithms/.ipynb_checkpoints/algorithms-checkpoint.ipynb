{
 "cells": [
  {
   "cell_type": "code",
   "execution_count": 32,
   "metadata": {},
   "outputs": [
    {
     "name": "stdout",
     "output_type": "stream",
     "text": [
      "'linear_search'  23.66 ms\n",
      "Linear Search : Element 999998 found at index 499999\n",
      "'binary_search'  0.01 ms\n",
      "Binary Search : Element 999998 found at index 499999\n"
     ]
    }
   ],
   "source": [
    "import time\n",
    "\n",
    "def linear_search(elements,search_elem):\n",
    "    for idx,elem in enumerate(elements):\n",
    "        if elem == search_elem:\n",
    "            return idx\n",
    "    return -1\n",
    "\n",
    "def binary_search(element_list,find_element,start =0,end = None):\n",
    "    left_index= start\n",
    "    right_index = len(element_list)-1 if not end else end\n",
    "    mid_index = (left_index + right_index)//2\n",
    "    if left_index <= right_index:\n",
    "        if element_list[mid_index] == find_element:\n",
    "            return mid_index\n",
    "        elif element_list[mid_index] > find_element:\n",
    "            return binary_search(element_list,find_element,left_index,mid_index-1)\n",
    "        else:\n",
    "            return binary_search(element_list,find_element,mid_index+1,right_index)\n",
    "    return -1\n",
    "\n",
    "if __name__==\"__main__\":\n",
    "    elements = [i for i in range(0,1000000,2)]\n",
    "    find_element = 999998\n",
    "    ts = time.time()\n",
    "    ls = linear_search(elements, find_element)\n",
    "    print('%r  %2.2f ms' %(linear_search.__name__, (time.time() - ts) * 1000))\n",
    "    print(\"Linear Search : Element {} found at index {}\".format(find_element,ls))\n",
    "\n",
    "    ts = time.time()\n",
    "    bs = binary_search(elements, find_element)\n",
    "    print('%r  %2.2f ms' % (binary_search.__name__, (time.time() - ts) * 1000))\n",
    "    print(\"Binary Search : Element {} found at index {}\".format(find_element,bs))"
   ]
  },
  {
   "cell_type": "code",
   "execution_count": 39,
   "metadata": {},
   "outputs": [
    {
     "name": "stdout",
     "output_type": "stream",
     "text": [
      "'binary_search'  0.00 ms\n",
      "Binary Search : Element 15 found at index 6\n",
      "Binary Search All Accurances: Element 15 found at indexes [5, 6, 7]\n"
     ]
    }
   ],
   "source": [
    "import time\n",
    "\n",
    "def binary_search(element_list, find_element, start=0, end=None):\n",
    "    left_index = start\n",
    "    right_index = len(element_list) - 1 if not end else end\n",
    "    mid_index = (left_index + right_index) // 2\n",
    "    found_indx_list = []\n",
    "    if left_index <= right_index:\n",
    "        if element_list[mid_index] == find_element:\n",
    "            return mid_index\n",
    "        elif element_list[mid_index] > find_element:\n",
    "            return binary_search(element_list, find_element, left_index, mid_index - 1)\n",
    "        else:\n",
    "            return binary_search(element_list, find_element, mid_index + 1, right_index)\n",
    "    return -1\n",
    "\n",
    "\n",
    "def find_all_occurances(elements, find_element):\n",
    "    index = binary_search(elements, find_element)\n",
    "    found_index_list = []\n",
    "    if index == -1:\n",
    "        return []\n",
    "    else:\n",
    "        found_index_list.append(index)\n",
    "        right_index = index + 1\n",
    "        left_index = index - 1\n",
    "        while elements[right_index] == find_element and right_index < len(elements):\n",
    "            found_index_list.append(right_index)\n",
    "            right_index += 1\n",
    "        while elements[left_index] == find_element and left_index > 0:\n",
    "            found_index_list.append(left_index)\n",
    "            left_index -= 1\n",
    "        return sorted(found_index_list)\n",
    "\n",
    "\n",
    "if __name__ == \"__main__\":\n",
    "    elements = [1, 4, 6, 9, 11, 15, 15, 15, 17, 21, 34, 34, 56]\n",
    "    find_element = 15\n",
    "\n",
    "    ts = time.time()\n",
    "    bs = binary_search(elements, find_element)\n",
    "    print('%r  %2.2f ms' % (binary_search.__name__, (time.time() - ts) * 1000))\n",
    "    print(\"Binary Search : Element {} found at index {}\".format(find_element, bs))\n",
    "\n",
    "    print(\"Binary Search All Accurances: Element {} found at indexes {}\".format(find_element,find_all_occurances(elements,find_element)))"
   ]
  },
  {
   "cell_type": "code",
   "execution_count": 13,
   "metadata": {},
   "outputs": [
    {
     "name": "stdout",
     "output_type": "stream",
     "text": [
      "[98, 62, 72, 10, 84, 31, 99, 96, 55, 24, 11, 76, 40, 57, 70, 93, 65, 90, 94, 87, 67, 48, 78, 60, 95, 38, 12, 49, 20, 82]\n",
      "[10, 11, 12, 20, 24, 31, 38, 40, 48, 49, 55, 57, 60, 62, 65, 67, 70, 72, 76, 78, 82, 84, 87, 90, 93, 94, 95, 96, 98, 99]\n"
     ]
    }
   ],
   "source": [
    "import random\n",
    "def bubbleSort(elements):\n",
    "    size = len(elements)\n",
    "    for i in range(size-1):\n",
    "        swapped = False\n",
    "        for j in range(size-1-i):\n",
    "            if elements[j] > elements[j+1]:\n",
    "                elements[j],elements[j+1] = elements[j+1],elements[j]\n",
    "                swapped = True\n",
    "        if not swapped:\n",
    "            break;\n",
    "\n",
    "if __name__=='__main__':\n",
    "    elements = random.sample(range(10,100),30)\n",
    "    print(elements)\n",
    "    bubbleSort(elements)\n",
    "    print(elements)"
   ]
  },
  {
   "cell_type": "code",
   "execution_count": 15,
   "metadata": {},
   "outputs": [
    {
     "data": {
      "text/plain": [
       "[100, 2, 3]"
      ]
     },
     "execution_count": 15,
     "metadata": {},
     "output_type": "execute_result"
    }
   ],
   "source": [
    "a= [1,2,3]\n",
    "b= a\n",
    "b[0]=100\n",
    "a"
   ]
  },
  {
   "cell_type": "code",
   "execution_count": 17,
   "metadata": {},
   "outputs": [
    {
     "data": {
      "text/plain": [
       "[1, 2, 3]"
      ]
     },
     "execution_count": 17,
     "metadata": {},
     "output_type": "execute_result"
    }
   ],
   "source": [
    "a= [1,2,3]\n",
    "b= a.copy()\n",
    "b[0]=100\n",
    "a"
   ]
  },
  {
   "cell_type": "code",
   "execution_count": 1,
   "metadata": {},
   "outputs": [
    {
     "name": "stdout",
     "output_type": "stream",
     "text": [
      "{'name': 'aamir', 'transaction_amount': 800, 'device': 'iphone-8'}\n",
      "{'name': 'dhaval', 'transaction_amount': 400, 'device': 'google pixel'}\n",
      "{'name': 'kathy', 'transaction_amount': 200, 'device': 'vivo'}\n",
      "{'name': 'mona', 'transaction_amount': 1000, 'device': 'iphone-10'}\n",
      "\n",
      "{'name': 'kathy', 'transaction_amount': 200, 'device': 'vivo'}\n",
      "{'name': 'dhaval', 'transaction_amount': 400, 'device': 'google pixel'}\n",
      "{'name': 'aamir', 'transaction_amount': 800, 'device': 'iphone-8'}\n",
      "{'name': 'mona', 'transaction_amount': 1000, 'device': 'iphone-10'}\n",
      "\n",
      "{'name': 'dhaval', 'transaction_amount': 400, 'device': 'google pixel'}\n",
      "{'name': 'mona', 'transaction_amount': 1000, 'device': 'iphone-10'}\n",
      "{'name': 'aamir', 'transaction_amount': 800, 'device': 'iphone-8'}\n",
      "{'name': 'kathy', 'transaction_amount': 200, 'device': 'vivo'}\n"
     ]
    }
   ],
   "source": [
    "def bubbleSort(elements,key='name'):\n",
    "    size = len(elements)\n",
    "    for i in range(size-1):\n",
    "        swapped = False\n",
    "        for j in range(size-1-i):\n",
    "            if elements[j][key] > elements[j+1][key]:\n",
    "                elements[j],elements[j+1] = elements[j+1],elements[j]\n",
    "                swapped = True\n",
    "        if not swapped:\n",
    "            break;\n",
    "\n",
    "if __name__=='__main__':\n",
    "    elements = [\n",
    "        { 'name': 'mona',   'transaction_amount': 1000, 'device': 'iphone-10'},\n",
    "        { 'name': 'dhaval', 'transaction_amount': 400,  'device': 'google pixel'},\n",
    "        { 'name': 'kathy',  'transaction_amount': 200,  'device': 'vivo'},\n",
    "        { 'name': 'aamir',  'transaction_amount': 800,  'device': 'iphone-8'},\n",
    "    ]\n",
    "    bubbleSort(elements,key='name')\n",
    "    for elem in elements:\n",
    "        print(elem)\n",
    "    print(\"\")\n",
    "    bubbleSort(elements,key='transaction_amount')\n",
    "    for elem in elements:\n",
    "        print(elem)\n",
    "    print(\"\")\n",
    "    bubbleSort(elements,key='device')\n",
    "    for elem in elements:\n",
    "        print(elem)"
   ]
  },
  {
   "cell_type": "code",
   "execution_count": 2,
   "metadata": {},
   "outputs": [
    {
     "name": "stdout",
     "output_type": "stream",
     "text": [
      "[1, 3, 4, 10, 20, 50, 89]\n",
      "[10]\n",
      "[1, 50]\n",
      "[1, 2, 3, 5, 4]\n"
     ]
    }
   ],
   "source": [
    "def swap(elements,pos1,pos2):\n",
    "    elements[pos1],elements[pos2] = elements[pos2],elements[pos1]\n",
    "\n",
    "\n",
    "def partition(elements,start,end):\n",
    "    pivot = start\n",
    "    start_index = start + 1\n",
    "    end_index=end\n",
    "\n",
    "    while start_index < end_index:\n",
    "        while elements[pivot] > elements[start_index] and start_index < len(elements):\n",
    "            start_index += 1\n",
    "        while elements[pivot] < elements[end_index] and end_index > 0:\n",
    "            end_index -= 1\n",
    "        if start_index < end_index:\n",
    "            swap(elements,start_index,end_index)\n",
    "    swap(elements, pivot, end_index)\n",
    "    return end_index\n",
    "\n",
    "\n",
    "def quick_sort(elements,start,end):\n",
    "    if start < end:\n",
    "        pivot_index = partition(elements,start,end)\n",
    "        quick_sort(elements,start,pivot_index-1)\n",
    "        quick_sort(elements, pivot_index + 1,end)\n",
    "\n",
    "\n",
    "if __name__ == '__main__':\n",
    "    elements = [[10,20,1,3,4,89,50],[10],[50,1],[1,2,3,4,5]]\n",
    "    for elem in elements:\n",
    "        quick_sort(elem,0,len(elem)-1)\n",
    "        print(elem)"
   ]
  },
  {
   "cell_type": "code",
   "execution_count": 1,
   "metadata": {},
   "outputs": [
    {
     "name": "stdout",
     "output_type": "stream",
     "text": [
      "[1, 3, 4, 10, 20, 50, 89]\n",
      "[10]\n",
      "[1, 50]\n",
      "[1, 2, 3, 4, 5]\n",
      "[]\n"
     ]
    }
   ],
   "source": [
    "def insertion_sort(elements):\n",
    "    for i in range(1,len(elements)):\n",
    "        anchor = elements[i]\n",
    "        j = i - 1\n",
    "        while j>=0 and anchor < elements[j]:\n",
    "            elements[j+1] = elements[j]\n",
    "            j -=1\n",
    "        elements[j+1] = anchor\n",
    "\n",
    "\n",
    "if __name__ == '__main__':\n",
    "    elements = [[10,20,1,3,4,89,50],[10],[50,1],[1,2,3,4,5],[]]\n",
    "    for elem in elements:\n",
    "        insertion_sort(elem)\n",
    "        print(elem)"
   ]
  },
  {
   "cell_type": "code",
   "execution_count": null,
   "metadata": {},
   "outputs": [],
   "source": [
    "def index_to_insert(array,num):\n",
    "    j = len(array)-1\n",
    "    while j >= 0 and num < array[j]:\n",
    "        j -= 1\n",
    "    return j + 1\n",
    "\n",
    "def input_to_stream(array,num):\n",
    "    idx = index_to_insert(array,num)\n",
    "    array.insert(idx,num)\n",
    "    return array\n",
    "\n",
    "\n",
    "if __name__=='__main__':\n",
    "    stream = []\n",
    "    count = 0\n",
    "    while True:\n",
    "        num = int(input(\"Enter Number (-1 to terminate) : \"))\n",
    "        if num == -1:\n",
    "            break\n",
    "        count +=1\n",
    "        stream = input_to_stream(stream,num)\n",
    "        print(stream)\n",
    "        l = len(stream)\n",
    "        if l % 2 != 0:\n",
    "            print(f\"Median is {stream[l//2]}\")\n",
    "        else:\n",
    "            print(f\"Median is {(stream[(l//2) - 1] + stream[(l//2)])/2}\")"
   ]
  }
 ],
 "metadata": {
  "kernelspec": {
   "display_name": "Python 3",
   "language": "python",
   "name": "python3"
  },
  "language_info": {
   "codemirror_mode": {
    "name": "ipython",
    "version": 3
   },
   "file_extension": ".py",
   "mimetype": "text/x-python",
   "name": "python",
   "nbconvert_exporter": "python",
   "pygments_lexer": "ipython3",
   "version": "3.8.5"
  }
 },
 "nbformat": 4,
 "nbformat_minor": 4
}
