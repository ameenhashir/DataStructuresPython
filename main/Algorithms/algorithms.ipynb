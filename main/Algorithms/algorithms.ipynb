{
 "cells": [
  {
   "cell_type": "code",
   "execution_count": 32,
   "metadata": {},
   "outputs": [
    {
     "name": "stdout",
     "output_type": "stream",
     "text": [
      "'linear_search'  23.66 ms\n",
      "Linear Search : Element 999998 found at index 499999\n",
      "'binary_search'  0.01 ms\n",
      "Binary Search : Element 999998 found at index 499999\n"
     ]
    }
   ],
   "source": [
    "import time\n",
    "\n",
    "def linear_search(elements,search_elem):\n",
    "    for idx,elem in enumerate(elements):\n",
    "        if elem == search_elem:\n",
    "            return idx\n",
    "    return -1\n",
    "\n",
    "def binary_search(element_list,find_element,start =0,end = None):\n",
    "    left_index= start\n",
    "    right_index = len(element_list)-1 if not end else end\n",
    "    mid_index = (left_index + right_index)//2\n",
    "    if left_index <= right_index:\n",
    "        if element_list[mid_index] == find_element:\n",
    "            return mid_index\n",
    "        elif element_list[mid_index] > find_element:\n",
    "            return binary_search(element_list,find_element,left_index,mid_index-1)\n",
    "        else:\n",
    "            return binary_search(element_list,find_element,mid_index+1,right_index)\n",
    "    return -1\n",
    "\n",
    "if __name__==\"__main__\":\n",
    "    elements = [i for i in range(0,1000000,2)]\n",
    "    find_element = 999998\n",
    "    ts = time.time()\n",
    "    ls = linear_search(elements, find_element)\n",
    "    print('%r  %2.2f ms' %(linear_search.__name__, (time.time() - ts) * 1000))\n",
    "    print(\"Linear Search : Element {} found at index {}\".format(find_element,ls))\n",
    "\n",
    "    ts = time.time()\n",
    "    bs = binary_search(elements, find_element)\n",
    "    print('%r  %2.2f ms' % (binary_search.__name__, (time.time() - ts) * 1000))\n",
    "    print(\"Binary Search : Element {} found at index {}\".format(find_element,bs))"
   ]
  },
  {
   "cell_type": "code",
   "execution_count": 39,
   "metadata": {},
   "outputs": [
    {
     "name": "stdout",
     "output_type": "stream",
     "text": [
      "'binary_search'  0.00 ms\n",
      "Binary Search : Element 15 found at index 6\n",
      "Binary Search All Accurances: Element 15 found at indexes [5, 6, 7]\n"
     ]
    }
   ],
   "source": [
    "import time\n",
    "\n",
    "def binary_search(element_list, find_element, start=0, end=None):\n",
    "    left_index = start\n",
    "    right_index = len(element_list) - 1 if not end else end\n",
    "    mid_index = (left_index + right_index) // 2\n",
    "    found_indx_list = []\n",
    "    if left_index <= right_index:\n",
    "        if element_list[mid_index] == find_element:\n",
    "            return mid_index\n",
    "        elif element_list[mid_index] > find_element:\n",
    "            return binary_search(element_list, find_element, left_index, mid_index - 1)\n",
    "        else:\n",
    "            return binary_search(element_list, find_element, mid_index + 1, right_index)\n",
    "    return -1\n",
    "\n",
    "\n",
    "def find_all_occurances(elements, find_element):\n",
    "    index = binary_search(elements, find_element)\n",
    "    found_index_list = []\n",
    "    if index == -1:\n",
    "        return []\n",
    "    else:\n",
    "        found_index_list.append(index)\n",
    "        right_index = index + 1\n",
    "        left_index = index - 1\n",
    "        while elements[right_index] == find_element and right_index < len(elements):\n",
    "            found_index_list.append(right_index)\n",
    "            right_index += 1\n",
    "        while elements[left_index] == find_element and left_index > 0:\n",
    "            found_index_list.append(left_index)\n",
    "            left_index -= 1\n",
    "        return sorted(found_index_list)\n",
    "\n",
    "\n",
    "if __name__ == \"__main__\":\n",
    "    elements = [1, 4, 6, 9, 11, 15, 15, 15, 17, 21, 34, 34, 56]\n",
    "    find_element = 15\n",
    "\n",
    "    ts = time.time()\n",
    "    bs = binary_search(elements, find_element)\n",
    "    print('%r  %2.2f ms' % (binary_search.__name__, (time.time() - ts) * 1000))\n",
    "    print(\"Binary Search : Element {} found at index {}\".format(find_element, bs))\n",
    "\n",
    "    print(\"Binary Search All Accurances: Element {} found at indexes {}\".format(find_element,find_all_occurances(elements,find_element)))"
   ]
  },
  {
   "cell_type": "code",
   "execution_count": 13,
   "metadata": {},
   "outputs": [
    {
     "name": "stdout",
     "output_type": "stream",
     "text": [
      "[98, 62, 72, 10, 84, 31, 99, 96, 55, 24, 11, 76, 40, 57, 70, 93, 65, 90, 94, 87, 67, 48, 78, 60, 95, 38, 12, 49, 20, 82]\n",
      "[10, 11, 12, 20, 24, 31, 38, 40, 48, 49, 55, 57, 60, 62, 65, 67, 70, 72, 76, 78, 82, 84, 87, 90, 93, 94, 95, 96, 98, 99]\n"
     ]
    }
   ],
   "source": [
    "import random\n",
    "def bubbleSort(elements):\n",
    "    size = len(elements)\n",
    "    for i in range(size-1):\n",
    "        swapped = False\n",
    "        for j in range(size-1-i):\n",
    "            if elements[j] > elements[j+1]:\n",
    "                elements[j],elements[j+1] = elements[j+1],elements[j]\n",
    "                swapped = True\n",
    "        if not swapped:\n",
    "            break;\n",
    "\n",
    "if __name__=='__main__':\n",
    "    elements = random.sample(range(10,100),30)\n",
    "    print(elements)\n",
    "    bubbleSort(elements)\n",
    "    print(elements)"
   ]
  },
  {
   "cell_type": "code",
   "execution_count": 15,
   "metadata": {},
   "outputs": [
    {
     "data": {
      "text/plain": [
       "[100, 2, 3]"
      ]
     },
     "execution_count": 15,
     "metadata": {},
     "output_type": "execute_result"
    }
   ],
   "source": [
    "a= [1,2,3]\n",
    "b= a\n",
    "b[0]=100\n",
    "a"
   ]
  },
  {
   "cell_type": "code",
   "execution_count": 17,
   "metadata": {},
   "outputs": [
    {
     "data": {
      "text/plain": [
       "[1, 2, 3]"
      ]
     },
     "execution_count": 17,
     "metadata": {},
     "output_type": "execute_result"
    }
   ],
   "source": [
    "a= [1,2,3]\n",
    "b= a.copy()\n",
    "b[0]=100\n",
    "a"
   ]
  },
  {
   "cell_type": "code",
   "execution_count": 23,
   "metadata": {},
   "outputs": [
    {
     "name": "stdout",
     "output_type": "stream",
     "text": [
      "{'name': 'aamir', 'transaction_amount': 800, 'device': 'iphone-8'}\n",
      "{'name': 'dhaval', 'transaction_amount': 400, 'device': 'google pixel'}\n",
      "{'name': 'kathy', 'transaction_amount': 200, 'device': 'vivo'}\n",
      "{'name': 'mona', 'transaction_amount': 1000, 'device': 'iphone-10'}\n",
      "\n",
      "{'name': 'kathy', 'transaction_amount': 200, 'device': 'vivo'}\n",
      "{'name': 'dhaval', 'transaction_amount': 400, 'device': 'google pixel'}\n",
      "{'name': 'aamir', 'transaction_amount': 800, 'device': 'iphone-8'}\n",
      "{'name': 'mona', 'transaction_amount': 1000, 'device': 'iphone-10'}\n",
      "\n",
      "{'name': 'dhaval', 'transaction_amount': 400, 'device': 'google pixel'}\n",
      "{'name': 'mona', 'transaction_amount': 1000, 'device': 'iphone-10'}\n",
      "{'name': 'aamir', 'transaction_amount': 800, 'device': 'iphone-8'}\n",
      "{'name': 'kathy', 'transaction_amount': 200, 'device': 'vivo'}\n"
     ]
    }
   ],
   "source": [
    "def bubbleSort(elements,key='name'):\n",
    "    size = len(elements)\n",
    "    for i in range(size-1):\n",
    "        swapped = False\n",
    "        for j in range(size-1-i):\n",
    "            if elements[j][key] > elements[j+1][key]:\n",
    "                elements[j],elements[j+1] = elements[j+1],elements[j]\n",
    "                swapped = True\n",
    "        if not swapped:\n",
    "            break;\n",
    "\n",
    "if __name__=='__main__':\n",
    "    elements = [\n",
    "        { 'name': 'mona',   'transaction_amount': 1000, 'device': 'iphone-10'},\n",
    "        { 'name': 'dhaval', 'transaction_amount': 400,  'device': 'google pixel'},\n",
    "        { 'name': 'kathy',  'transaction_amount': 200,  'device': 'vivo'},\n",
    "        { 'name': 'aamir',  'transaction_amount': 800,  'device': 'iphone-8'},\n",
    "    ]\n",
    "    bubbleSort(elements,key='name')\n",
    "    for elem in elements:\n",
    "        print(elem)\n",
    "    print(\"\")\n",
    "    bubbleSort(elements,key='transaction_amount')\n",
    "    for elem in elements:\n",
    "        print(elem)\n",
    "    print(\"\")\n",
    "    bubbleSort(elements,key='device')\n",
    "    for elem in elements:\n",
    "        print(elem)"
   ]
  }
 ],
 "metadata": {
  "kernelspec": {
   "display_name": "Python 3",
   "language": "python",
   "name": "python3"
  },
  "language_info": {
   "codemirror_mode": {
    "name": "ipython",
    "version": 3
   },
   "file_extension": ".py",
   "mimetype": "text/x-python",
   "name": "python",
   "nbconvert_exporter": "python",
   "pygments_lexer": "ipython3",
   "version": "3.8.5"
  }
 },
 "nbformat": 4,
 "nbformat_minor": 4
}
