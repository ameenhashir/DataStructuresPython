{
 "cells": [
  {
   "cell_type": "markdown",
   "metadata": {},
   "source": [
    "nyc_weather.csv contains new york city weather for first few days in the month of January. Write a program that can answer following, \n",
    "\n",
    "What was the average temperature in first week of Jan \n",
    "\n",
    "What was the maximum temperature in first 10 days of Jan \n",
    "\n",
    "Figure out data structure that is best for this problem "
   ]
  },
  {
   "cell_type": "code",
   "execution_count": 23,
   "metadata": {},
   "outputs": [
    {
     "name": "stdout",
     "output_type": "stream",
     "text": [
      "Average Temperature 1st week :  31.285714285714285\n",
      "maximum temperature in first 10 days of Jan :  38\n"
     ]
    }
   ],
   "source": [
    "nyc_weather = []\n",
    "with open(\"nyc_weather.csv\",'r') as f:\n",
    "    f.readline()\n",
    "    for line in f:\n",
    "        token = line.split(\",\")\n",
    "        mon = token[0]\n",
    "        temp = int(token[1][:2])\n",
    "        nyc_weather.append([mon,temp])\n",
    "avg_temp_1st_week =  sum([y for x,y in nyc_weather[:7]])/7\n",
    "print('Average Temperature 1st week : ',avg_temp_1st_week)\n",
    "max_temp = max([y for x,y in nyc_weather[:10]])\n",
    "print('maximum temperature in first 10 days of Jan : ',max_temp)"
   ]
  },
  {
   "cell_type": "markdown",
   "metadata": {},
   "source": [
    "nyc_weather.csv contains new york city weather for first few days in the month of January. Write a program that can answer following, \n",
    "\n",
    "What was the temperature on Jan 9? \n",
    "\n",
    "What was the temperature on Jan 4? \n",
    "\n",
    "Figure out data structure that is best for this problem "
   ]
  },
  {
   "cell_type": "code",
   "execution_count": 28,
   "metadata": {},
   "outputs": [
    {
     "name": "stdout",
     "output_type": "stream",
     "text": [
      "What was the temperature on Jan 9 : 35\n",
      "What was the temperature on Jan 4 : 34\n"
     ]
    }
   ],
   "source": [
    "nyc_weather = {}\n",
    "with open(\"nyc_weather.csv\",'r') as f:\n",
    "    f.readline()\n",
    "    for line in f:\n",
    "        token = line.split(\",\")\n",
    "        mon = token[0]\n",
    "        temp = int(token[1][:2])\n",
    "        nyc_weather[mon] = temp\n",
    "print(\"What was the temperature on Jan 9 :\",nyc_weather['Jan 9'])\n",
    "print(\"What was the temperature on Jan 4 :\",nyc_weather['Jan 4'])"
   ]
  },
  {
   "cell_type": "markdown",
   "metadata": {},
   "source": [
    "poem.txt Contains famous poem \"Road not taken\" by poet Robert Frost. You have to read this file in python and print every word and its count as show below. Think about the best data structure that you can use to solve this problem and figure out why you selected that specific data structure. \n",
    "\n",
    "'diverged': 2, 'in': 3, 'I': 8 "
   ]
  },
  {
   "cell_type": "code",
   "execution_count": 38,
   "metadata": {},
   "outputs": [
    {
     "data": {
      "text/plain": [
       "{'And': 6,\n",
       " 'sorry': 1,\n",
       " 'I': 8,\n",
       " 'could': 2,\n",
       " 'not': 1,\n",
       " 'travel': 1,\n",
       " 'both': 2,\n",
       " 'be': 2,\n",
       " 'one': 3,\n",
       " 'traveler,': 1,\n",
       " 'long': 1,\n",
       " 'stood': 1,\n",
       " 'looked': 1,\n",
       " 'down': 1,\n",
       " 'as': 5,\n",
       " 'far': 1,\n",
       " 'To': 1,\n",
       " 'where': 1,\n",
       " 'it': 2,\n",
       " 'bent': 1,\n",
       " 'in': 2,\n",
       " 'the': 8,\n",
       " 'undergrowth;': 1,\n",
       " 'Then': 1,\n",
       " 'took': 2,\n",
       " 'other,': 1,\n",
       " 'just': 1,\n",
       " 'fair,': 1,\n",
       " 'having': 1,\n",
       " 'perhaps': 1,\n",
       " 'better': 1,\n",
       " 'claim,': 1,\n",
       " 'Because': 1,\n",
       " 'was': 1,\n",
       " 'grassy': 1,\n",
       " 'and': 3,\n",
       " 'wanted': 1,\n",
       " 'wear;': 1,\n",
       " 'Though': 1,\n",
       " 'for': 2,\n",
       " 'that': 3,\n",
       " 'passing': 1,\n",
       " 'there': 1,\n",
       " 'Had': 1,\n",
       " 'worn': 1,\n",
       " 'them': 1,\n",
       " 'really': 1,\n",
       " 'about': 1,\n",
       " 'same,': 1,\n",
       " 'morning': 1,\n",
       " 'equally': 1,\n",
       " 'lay': 1,\n",
       " 'In': 1,\n",
       " 'leaves': 1,\n",
       " 'no': 1,\n",
       " 'step': 1,\n",
       " 'had': 1,\n",
       " 'trodden': 1,\n",
       " 'black.': 1,\n",
       " 'Oh,': 1,\n",
       " 'kept': 1,\n",
       " 'first': 1,\n",
       " 'another': 1,\n",
       " 'day!': 1,\n",
       " 'Yet': 1,\n",
       " 'knowing': 1,\n",
       " 'how': 1,\n",
       " 'way': 1,\n",
       " 'leads': 1,\n",
       " 'on': 1,\n",
       " 'to': 1,\n",
       " 'way,': 1,\n",
       " 'doubted': 1,\n",
       " 'if': 1,\n",
       " 'should': 1,\n",
       " 'ever': 1,\n",
       " 'come': 1,\n",
       " 'back.': 1,\n",
       " 'shall': 1,\n",
       " 'telling': 1,\n",
       " 'this': 1,\n",
       " 'with': 1,\n",
       " 'a': 2,\n",
       " 'sigh': 1,\n",
       " 'Somewhere': 1,\n",
       " 'ages': 2,\n",
       " 'hence:': 1,\n",
       " 'Two': 1,\n",
       " 'roads': 1,\n",
       " 'diverged': 1,\n",
       " 'wood,': 1,\n",
       " 'I—': 1,\n",
       " 'less': 1,\n",
       " 'traveled': 1,\n",
       " 'by,': 1,\n",
       " 'has': 1,\n",
       " 'made': 1,\n",
       " 'all': 1,\n",
       " 'difference.': 1}"
      ]
     },
     "execution_count": 38,
     "metadata": {},
     "output_type": "execute_result"
    }
   ],
   "source": [
    "poem = {}\n",
    "with open(\"poem.txt\",'r') as f:\n",
    "    f.readline()\n",
    "    for line in f:\n",
    "        for word in line.split():\n",
    "            try:\n",
    "                poem[word] += 1\n",
    "            except KeyError:\n",
    "                poem[word] = 1\n",
    "poem"
   ]
  },
  {
   "cell_type": "code",
   "execution_count": 39,
   "metadata": {},
   "outputs": [],
   "source": [
    " class HashTable:\n",
    "    def __init__(self):\n",
    "        self.MAX = 10\n",
    "        self.arr = [None for x in range(self.MAX)]\n",
    "\n",
    "    def get_hash(self,key):\n",
    "        h = 0\n",
    "        for l in key:\n",
    "            h += ord(l)\n",
    "        return h % self.MAX\n",
    "\n",
    "    def __setitem__(self, key, value):\n",
    "        h = self.get_hash(key)\n",
    "        if self.arr[h] is None or self.arr[h][0] == key:\n",
    "            self.arr[h] = (key,value)\n",
    "            return\n",
    "        else:\n",
    "            i = self.MAX\n",
    "            while i > 0:\n",
    "                h = (h + 1)%self.MAX\n",
    "                if self.arr[h] is None:\n",
    "                    self.arr[h] = (key, value)\n",
    "                    return\n",
    "                i -= 1\n",
    "            if i == 0:\n",
    "                raise Exception(\"Hash Table is Full!!!\")\n",
    "\n",
    "    def __getitem__(self, item):\n",
    "        h = self.get_hash(item)\n",
    "        if self.arr[h][0] == item:\n",
    "            return self.arr[h][1]\n",
    "        else:\n",
    "            i = self.MAX\n",
    "            while i > 0:\n",
    "                h = (h + 1) % self.MAX\n",
    "                if self.arr[h][0] == item:\n",
    "                    return self.arr[h][1]\n",
    "                i -= 1\n",
    "            if i == 0:\n",
    "                raise Exception(\"Key Not Found\")\n",
    "\n",
    "    def __delitem__(self, item):\n",
    "        h = self.get_hash(item)\n",
    "        if self.arr[h][0] == item:\n",
    "            self.arr[h] = None\n",
    "            return\n",
    "        else:\n",
    "            i = self.MAX\n",
    "            while i > 0:\n",
    "                h = (h + 1) % self.MAX\n",
    "                if self.arr[h][0] == item:\n",
    "                    self.arr[h]=None\n",
    "                    return \n",
    "                i -= 1\n",
    "            if i == 0:\n",
    "                raise Exception(\"Key Not Found\")"
   ]
  },
  {
   "cell_type": "code",
   "execution_count": 40,
   "metadata": {},
   "outputs": [
    {
     "name": "stdout",
     "output_type": "stream",
     "text": [
      "[('march 7', 400), ('march 8', 500), ('march 9', 600), ('march 10', 700), ('march 11', 800), ('march 12', 900), ('march 13', 1000), ('march 14', 2000), ('march 15', 5000), ('march 6', 300)]\n",
      "600\n",
      "[('march 7', 400), ('march 8', 500), ('march 9', 600), ('march 10', 700), None, ('march 12', 900), ('march 13', 1000), ('march 14', 2000), ('march 15', 5000), ('march 6', 300)]\n"
     ]
    }
   ],
   "source": [
    "if __name__=='__main__':\n",
    "    h= HashTable()\n",
    "    h['march 6'] = 290\n",
    "    h['march 6'] = 300\n",
    "    h['march 7'] = 400\n",
    "    h['march 8'] = 500\n",
    "    h['march 9'] = 600\n",
    "    h['march 10'] = 700\n",
    "    h['march 11'] = 800\n",
    "    h['march 12'] = 900\n",
    "    h['march 13'] = 1000\n",
    "    h['march 14'] = 2000\n",
    "    h['march 15'] = 5000\n",
    " #  h['march 16'] = 50000\n",
    "    print(h.arr)\n",
    "    print(h['march 9'])\n",
    " #  print(h['march 19'])\n",
    "    del h['march 11']\n",
    "    print(h.arr)"
   ]
  }
 ],
 "metadata": {
  "kernelspec": {
   "display_name": "Python 3",
   "language": "python",
   "name": "python3"
  },
  "language_info": {
   "codemirror_mode": {
    "name": "ipython",
    "version": 3
   },
   "file_extension": ".py",
   "mimetype": "text/x-python",
   "name": "python",
   "nbconvert_exporter": "python",
   "pygments_lexer": "ipython3",
   "version": "3.8.5"
  }
 },
 "nbformat": 4,
 "nbformat_minor": 4
}
