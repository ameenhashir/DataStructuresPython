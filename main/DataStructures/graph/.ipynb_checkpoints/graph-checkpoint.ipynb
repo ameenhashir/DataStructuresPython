{
 "cells": [
  {
   "cell_type": "code",
   "execution_count": 2,
   "metadata": {},
   "outputs": [],
   "source": [
    "class Graph:\n",
    "    def __init__(self,edges):\n",
    "        self.edges = edges\n",
    "        self.graph_dict = {}\n",
    "        for start,end in self.edges:\n",
    "            if start in self.graph_dict:\n",
    "                self.graph_dict[start].append(end)\n",
    "            else:\n",
    "                self.graph_dict[start] = [end]\n",
    "\n",
    "    def get_path(self,start,end,path=[]):\n",
    "        path = path + [start]\n",
    "        if start == end:\n",
    "            return [path]\n",
    "        if start not in self.graph_dict:\n",
    "            return []\n",
    "        paths=[]\n",
    "        for node in self.graph_dict[start]:\n",
    "            if node not in path:\n",
    "                new_paths = self.get_path(node, end, path)\n",
    "                for p in new_paths:\n",
    "                    paths.append(p)\n",
    "        return paths\n",
    "\n",
    "    def shortest_path(self,start,end,path=[]):\n",
    "        path = path + [start]\n",
    "        if start == end:\n",
    "            return [path]\n",
    "        if start not in self.graph_dict:\n",
    "            return []\n",
    "        shortest_paths = []\n",
    "        for node in self.graph_dict[start]:\n",
    "            if node not in path:\n",
    "                new_path = self.shortest_path(node,end,path)\n",
    "                for p in new_path:\n",
    "                    if len(shortest_paths)==0 or len(p) < len(shortest_paths[0]):\n",
    "                        shortest_paths = [p]\n",
    "                    elif len(p) == len(shortest_paths[0]):\n",
    "                        shortest_paths.append(p)\n",
    "        return shortest_paths"
   ]
  },
  {
   "cell_type": "code",
   "execution_count": 3,
   "metadata": {},
   "outputs": [
    {
     "name": "stdout",
     "output_type": "stream",
     "text": [
      "{'Mumbai': ['Paris', 'Dubai'], 'Paris': ['Dubai', 'NewYork'], 'Dubai': ['NewYork', 'Qatar'], 'NewYork': ['Toronto']}\n",
      "Routes between Mumbai and Toronto :-\n",
      " 1.Mumbai -> Paris -> Dubai -> NewYork -> Toronto\n",
      " 2.Mumbai -> Paris -> NewYork -> Toronto\n",
      " 3.Mumbai -> Dubai -> NewYork -> Toronto\n",
      "Shortest Routes between Mumbai and Toronto : -\n",
      " 1.Mumbai -> Paris -> NewYork -> Toronto\n",
      " 2.Mumbai -> Dubai -> NewYork -> Toronto\n"
     ]
    }
   ],
   "source": [
    "if __name__==\"__main__\":\n",
    "    routes = [('Mumbai','Paris'),('Mumbai','Dubai'),('Paris','Dubai'),('Paris','NewYork'),('Dubai','NewYork'),('Dubai','Qatar'),('NewYork','Toronto')]\n",
    "    flight_route = Graph(routes)\n",
    "    print(flight_route.graph_dict)\n",
    "    start = 'Mumbai'\n",
    "    end = 'Toronto'\n",
    "    print(f'Routes between {start} and {end} :-')\n",
    "    for sl,paths in enumerate(flight_route.get_path(start,end)):\n",
    "        print(f' {sl+1}.{\" -> \".join(paths)}')\n",
    "    print(f'Shortest Routes between {start} and {end} : -')\n",
    "    for sl,paths in enumerate(flight_route.shortest_path(start,end)):\n",
    "        print(f' {sl+1}.{\" -> \".join(paths)}')"
   ]
  }
 ],
 "metadata": {
  "kernelspec": {
   "display_name": "Python 3",
   "language": "python",
   "name": "python3"
  },
  "language_info": {
   "codemirror_mode": {
    "name": "ipython",
    "version": 3
   },
   "file_extension": ".py",
   "mimetype": "text/x-python",
   "name": "python",
   "nbconvert_exporter": "python",
   "pygments_lexer": "ipython3",
   "version": "3.8.5"
  }
 },
 "nbformat": 4,
 "nbformat_minor": 4
}
