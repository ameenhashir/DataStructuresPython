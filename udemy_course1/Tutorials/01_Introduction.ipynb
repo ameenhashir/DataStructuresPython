{
 "cells": [
  {
   "cell_type": "markdown",
   "metadata": {},
   "source": [
    "### Data Structures\n",
    "DataStructures are different ways of storing data on computer , that can be used efficiently.\n",
    "<br>\n",
    "<img src=\"Type_of_DataStructures.jpg\" />"
   ]
  },
  {
   "cell_type": "markdown",
   "metadata": {},
   "source": [
    "### Algorithms\n",
    "\n",
    "Set of instructions to perform a task\n",
    "\n",
    "#### Types of Algorithms\n",
    "- Simple Recursive Algorithms\n",
    "- Divide and Conquer : Quick Sort,Merge Sort\n",
    "- Dynamic Programing Algorithms - Remembers the past result and use them to find new result : Optimization Problems\n",
    "- Greedy Algorithm - Choosing a local optimum solution to reach global optimum : Optimization Problems\n",
    "- Brute Force Algorithm - Finding a best path between 2 locations\n",
    "- Randomize Algorithms - Uses a Random number to make a decision"
   ]
  },
  {
   "cell_type": "code",
   "execution_count": null,
   "metadata": {},
   "outputs": [],
   "source": []
  },
  {
   "cell_type": "code",
   "execution_count": null,
   "metadata": {},
   "outputs": [],
   "source": []
  },
  {
   "cell_type": "code",
   "execution_count": null,
   "metadata": {},
   "outputs": [],
   "source": []
  }
 ],
 "metadata": {
  "kernelspec": {
   "display_name": "Python 3",
   "language": "python",
   "name": "python3"
  },
  "language_info": {
   "codemirror_mode": {
    "name": "ipython",
    "version": 3
   },
   "file_extension": ".py",
   "mimetype": "text/x-python",
   "name": "python",
   "nbconvert_exporter": "python",
   "pygments_lexer": "ipython3",
   "version": "3.8.5"
  }
 },
 "nbformat": 4,
 "nbformat_minor": 4
}
